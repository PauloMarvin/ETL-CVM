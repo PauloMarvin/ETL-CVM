{
  "nbformat": 4,
  "nbformat_minor": 0,
  "metadata": {
    "colab": {
      "provenance": [],
      "authorship_tag": "ABX9TyOOPH+Vic2lxnVGUglOw/Fd",
      "include_colab_link": true
    },
    "kernelspec": {
      "name": "python3",
      "display_name": "Python 3"
    },
    "language_info": {
      "name": "python"
    }
  },
  "cells": [
    {
      "cell_type": "markdown",
      "metadata": {
        "id": "view-in-github",
        "colab_type": "text"
      },
      "source": [
        "<a href=\"https://colab.research.google.com/github/PauloMarvin/ETL-CVM/blob/feature%2Fdata-scrapping-link/CVM_Scraping.ipynb\" target=\"_parent\"><img src=\"https://colab.research.google.com/assets/colab-badge.svg\" alt=\"Open In Colab\"/></a>"
      ]
    },
    {
      "cell_type": "markdown",
      "source": [
        "Importando as bibliotecas"
      ],
      "metadata": {
        "id": "s6iziZj1ZCP8"
      }
    },
    {
      "cell_type": "code",
      "execution_count": 1,
      "metadata": {
        "id": "jS4UJ483YaEK"
      },
      "outputs": [],
      "source": [
        "import pandas as pd\n",
        "import numpy as np\n",
        "from urllib.request import urlopen\n",
        "from bs4 import BeautifulSoup"
      ]
    },
    {
      "cell_type": "markdown",
      "source": [
        "# Rotina de scraping"
      ],
      "metadata": {
        "id": "Pkv2gDUCZd0K"
      }
    },
    {
      "cell_type": "markdown",
      "source": [
        "## Rotina para os dados anteriores ao ano de 2021"
      ],
      "metadata": {
        "id": "_m982UVzt5jP"
      }
    },
    {
      "cell_type": "code",
      "source": [
        "class Soup:\n",
        "  def __init__(self, url):\n",
        "    self.url = url\n",
        "  \n",
        "  def soup_object(self): # obtenção do objeto BeautifulSoup.\n",
        "    response = urlopen(self.url) # requisição.\n",
        "    html = response.read().decode('utf-8')\n",
        "    soup = BeautifulSoup(html, 'html.parser') # objeto BeautifulSoup.\n",
        "\n",
        "    return soup\n",
        "\n",
        "class Scrape:\n",
        "  def __init__(self, soup):\n",
        "    self.soup = soup\n",
        "  \n",
        "  def get_element(self, tag, tag_class= None): # busca um único elemento por tag ou tag mais classe.\n",
        "    return self.soup.find(tag, {'class': tag_class})\n",
        "  \n",
        "  def get_elements(self, tag, another_soup= None, tag_class= None): # busca elementos do objeto BeautifulSoup por tag ou tag mais classe.\n",
        "    if another_soup == None:\n",
        "      return self.soup.find_all(tag, {'class': tag_class}) \n",
        "    else: # caso o objeto BeautifulSoup tenha sido obtido por outro objeto BeautifulSoup.\n",
        "      return another_soup.find_all(tag, {'class': tag_class})\n",
        "  \n",
        "  def get_file_link(self, file, attribute):\n",
        "    return file[attribute] # \n"
      ],
      "metadata": {
        "id": "tjJRQ1GQuBPu"
      },
      "execution_count": 2,
      "outputs": []
    },
    {
      "cell_type": "markdown",
      "source": [
        "A obtenção do objeto BeautifulSoup da página com os dados anteriores a 2021 é feita:"
      ],
      "metadata": {
        "id": "88Rb8_LuvlIV"
      }
    },
    {
      "cell_type": "code",
      "source": [
        "get_soup = Soup('https://dados.cvm.gov.br/dados/FI/DOC/INF_DIARIO/DADOS/HIST/')\n",
        "soup = get_soup.soup_object()"
      ],
      "metadata": {
        "id": "xF5JO9qavO2G"
      },
      "execution_count": 3,
      "outputs": []
    },
    {
      "cell_type": "markdown",
      "source": [
        "Os arquivos estão dentro da ***tag*** *pre*, como pode ser visto na imagem.\n",
        "\n",
        "![image.png](data:image/png;base64,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)\n",
        "\n",
        "Portanto, é necessário obter o objeto *BeautifulSoup* contendo-a:"
      ],
      "metadata": {
        "id": "sX0ifER-7nZK"
      }
    },
    {
      "cell_type": "code",
      "source": [
        "scrape = Scrape(soup)\n",
        "element = scrape.get_element('pre')"
      ],
      "metadata": {
        "id": "Q6KaToL8xNJf"
      },
      "execution_count": 4,
      "outputs": []
    },
    {
      "cell_type": "markdown",
      "source": [
        "E para obter cada um dos arquivos procura-se as ***tags*** *a* com o parâmetro *href*:"
      ],
      "metadata": {
        "id": "yl3F4eFd7-NF"
      }
    },
    {
      "cell_type": "code",
      "source": [
        "elements = scrape.get_elements('a', element)"
      ],
      "metadata": {
        "id": "5ZIqLNAKz-Sp"
      },
      "execution_count": 5,
      "outputs": []
    },
    {
      "cell_type": "markdown",
      "source": [
        "Os *links* para o *download* dos arquivos *zip* são armazenados em uma lista:"
      ],
      "metadata": {
        "id": "GoshkAEQ9uXk"
      }
    },
    {
      "cell_type": "code",
      "source": [
        "links_files = list()"
      ],
      "metadata": {
        "id": "XIjq6OTf840B"
      },
      "execution_count": 28,
      "outputs": []
    },
    {
      "cell_type": "code",
      "source": [
        "for link_file in elements[1:]: # o primeito elemento da lista é um link que direciona pra outro repositório, portanto é feito o slice na lista.\n",
        "  links_files.append(scrape.get_file_link(link_file, 'href'))"
      ],
      "metadata": {
        "id": "zOWAuHlU1UJW"
      },
      "execution_count": 29,
      "outputs": []
    },
    {
      "cell_type": "code",
      "source": [
        "links_files"
      ],
      "metadata": {
        "colab": {
          "base_uri": "https://localhost:8080/"
        },
        "id": "72z7CPJr9SJM",
        "outputId": "d36445a8-ff62-4c04-aed5-96f94b242eb4"
      },
      "execution_count": 30,
      "outputs": [
        {
          "output_type": "execute_result",
          "data": {
            "text/plain": [
              "['HIST/',\n",
              " 'inf_diario_fi_202101.zip',\n",
              " 'inf_diario_fi_202102.zip',\n",
              " 'inf_diario_fi_202103.zip',\n",
              " 'inf_diario_fi_202104.zip',\n",
              " 'inf_diario_fi_202105.zip',\n",
              " 'inf_diario_fi_202106.zip',\n",
              " 'inf_diario_fi_202107.zip',\n",
              " 'inf_diario_fi_202108.zip',\n",
              " 'inf_diario_fi_202109.zip',\n",
              " 'inf_diario_fi_202110.zip',\n",
              " 'inf_diario_fi_202111.zip',\n",
              " 'inf_diario_fi_202112.zip',\n",
              " 'inf_diario_fi_202201.zip',\n",
              " 'inf_diario_fi_202202.zip',\n",
              " 'inf_diario_fi_202203.zip',\n",
              " 'inf_diario_fi_202204.zip',\n",
              " 'inf_diario_fi_202205.zip',\n",
              " 'inf_diario_fi_202206.zip',\n",
              " 'inf_diario_fi_202207.zip',\n",
              " 'inf_diario_fi_202208.zip',\n",
              " 'inf_diario_fi_202209.zip',\n",
              " 'inf_diario_fi_202210.zip',\n",
              " 'inf_diario_fi_202211.zip',\n",
              " 'inf_diario_fi_202212.zip',\n",
              " 'inf_diario_fi_202301.zip']"
            ]
          },
          "metadata": {},
          "execution_count": 30
        }
      ]
    },
    {
      "cell_type": "markdown",
      "source": [
        "### Trabalhando com os arquivos *zip*"
      ],
      "metadata": {
        "id": "uR4XXoX498d_"
      }
    },
    {
      "cell_type": "markdown",
      "source": [
        "Cada arquivo *zip* contém arquivos *.csv* com dados mensais. O que torna necessário descompactá-los para posterior concatenação em um único dataframe."
      ],
      "metadata": {
        "id": "BEyYdT23-A35"
      }
    },
    {
      "cell_type": "markdown",
      "source": [
        "**TRABALHO EM ANDAMENTO!**"
      ],
      "metadata": {
        "id": "wOsm2NKGhv0P"
      }
    },
    {
      "cell_type": "markdown",
      "source": [
        "## Rotina de scraping do ano de 2021 em diante"
      ],
      "metadata": {
        "id": "B29tnp3filHD"
      }
    },
    {
      "cell_type": "markdown",
      "source": [
        "O objeto *BeautifulSoup* é instanciado: "
      ],
      "metadata": {
        "id": "cnUhAwYnjrod"
      }
    },
    {
      "cell_type": "code",
      "source": [
        "get_soup = Soup('https://dados.cvm.gov.br/dados/FI/DOC/INF_DIARIO/DADOS/')"
      ],
      "metadata": {
        "id": "0-Baui3xZwCR"
      },
      "execution_count": 17,
      "outputs": []
    },
    {
      "cell_type": "code",
      "source": [
        "soup = get_soup.soup_object()"
      ],
      "metadata": {
        "id": "MbccvxfZjhQQ"
      },
      "execution_count": 18,
      "outputs": []
    },
    {
      "cell_type": "markdown",
      "source": [
        "Assim como para os anos anteriores a 2021, os links para download dos dados, estão contidos na ***tag*** *pre*, mais especificamente com a ***tag*** *a*.\n",
        "\n",
        "![image.png](data:image/png;base64,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)"
      ],
      "metadata": {
        "id": "r5hYaVfFlWcQ"
      }
    },
    {
      "cell_type": "code",
      "source": [
        "scrape = Scrape(soup)"
      ],
      "metadata": {
        "id": "V65M06V_jknn"
      },
      "execution_count": 19,
      "outputs": []
    },
    {
      "cell_type": "code",
      "source": [
        "element = scrape.get_element('pre')"
      ],
      "metadata": {
        "id": "Yj4ppqbknRp_"
      },
      "execution_count": 20,
      "outputs": []
    },
    {
      "cell_type": "code",
      "source": [
        "elements = scrape.get_elements('a', element)"
      ],
      "metadata": {
        "id": "dW5QMsDZnVAB"
      },
      "execution_count": 23,
      "outputs": []
    },
    {
      "cell_type": "markdown",
      "source": [
        "Os *links* são armazenados em uma lista:"
      ],
      "metadata": {
        "id": "KSWTteb1q7aV"
      }
    },
    {
      "cell_type": "code",
      "source": [
        "links_files = list()"
      ],
      "metadata": {
        "id": "m8BR-0rrplXA"
      },
      "execution_count": 31,
      "outputs": []
    },
    {
      "cell_type": "code",
      "source": [
        "for link_file in elements[2:]: # os dois primeiros links redirecionam para outras páginas, não sendo o objetivo obtê-los.\n",
        "  links_files.append(scrape.get_file_link(link_file, 'href'))"
      ],
      "metadata": {
        "id": "d13EBF0Apog5"
      },
      "execution_count": 33,
      "outputs": []
    },
    {
      "cell_type": "markdown",
      "source": [
        "# Concatenação dos *dataframes*"
      ],
      "metadata": {
        "id": "FfQC57AzQnoF"
      }
    },
    {
      "cell_type": "code",
      "source": [
        "class Data:\n",
        "  def __init__(self, data_list):\n",
        "    self.dl = data_list # lista com os dados mensais do CVM.\n",
        "\n",
        "  def concat_dataframes(self):\n",
        "    dataframes = list() # lista que conterá todos os dataframes gerados pelos arquivos.\n",
        "\n",
        "    for link in self.dl[1:]: # o primeiro arquivo é o dicionário dos dados, então o slice pega apenas os dados necessários.\n",
        "      data = 'https://dados.cvm.gov.br/dados/FI/DOC/INF_DIARIO/DADOS/' + link # link completo para o arquivo.\n",
        "      dataframe = pd.read_csv(data, sep= ';', compression= 'zip')\n",
        "      dataframes.append(dataframe)\n",
        "\n",
        "    concated_dataframe = pd.concat(dataframes)\n",
        "\n",
        "    return concated_dataframe"
      ],
      "metadata": {
        "id": "25j8UvdNQyWs"
      },
      "execution_count": 37,
      "outputs": []
    },
    {
      "cell_type": "markdown",
      "source": [
        "Instacia-se a classe Data passando os *links* dos arquivos."
      ],
      "metadata": {
        "id": "igwS-N6dx_gs"
      }
    },
    {
      "cell_type": "code",
      "source": [
        "data = Data(links_files)"
      ],
      "metadata": {
        "id": "6GZQO3QIPc0n"
      },
      "execution_count": 38,
      "outputs": []
    },
    {
      "cell_type": "markdown",
      "source": [
        "E é feita a concatenação dos dados de 2021 em diante:"
      ],
      "metadata": {
        "id": "--k87jjGyG2x"
      }
    },
    {
      "cell_type": "code",
      "source": [
        "df = data.concat_dataframes()"
      ],
      "metadata": {
        "id": "H8igz222TQmV"
      },
      "execution_count": 40,
      "outputs": []
    },
    {
      "cell_type": "code",
      "source": [
        "df"
      ],
      "metadata": {
        "id": "75UdPLRBs5nk",
        "colab": {
          "base_uri": "https://localhost:8080/",
          "height": 424
        },
        "outputId": "dd68879a-91a5-4db6-f423-5385a88f7570"
      },
      "execution_count": 41,
      "outputs": [
        {
          "output_type": "execute_result",
          "data": {
            "text/plain": [
              "       TP_FUNDO          CNPJ_FUNDO   DT_COMPTC     VL_TOTAL   VL_QUOTA  \\\n",
              "0            FI  00.017.024/0001-53  2021-02-01   1093459.20  27.504503   \n",
              "1            FI  00.017.024/0001-53  2021-02-02   1093541.56  27.504054   \n",
              "2            FI  00.017.024/0001-53  2021-02-03   1093599.37  27.503804   \n",
              "3            FI  00.017.024/0001-53  2021-02-04   1093652.55  27.502934   \n",
              "4            FI  00.017.024/0001-53  2021-02-05   1093433.76  27.501947   \n",
              "...         ...                 ...         ...          ...        ...   \n",
              "171151       FI  97.929.213/0001-34  2023-01-04  67419133.33  10.124107   \n",
              "171152       FI  97.929.213/0001-34  2023-01-05  76932242.05  10.137062   \n",
              "171153       FI  97.929.213/0001-34  2023-01-06  77014439.99  10.148012   \n",
              "171154       FI  97.929.213/0001-34  2023-01-09  77099535.97  10.159148   \n",
              "171155       FI  97.929.213/0001-34  2023-01-10  77099535.97  10.159148   \n",
              "\n",
              "        VL_PATRIM_LIQ  CAPTC_DIA  RESG_DIA  NR_COTST  \n",
              "0          1091740.78        0.0       0.0         1  \n",
              "1          1091722.98        0.0       0.0         1  \n",
              "2          1091713.02        0.0       0.0         1  \n",
              "3          1091678.50        0.0       0.0         1  \n",
              "4          1091639.34        0.0       0.0         1  \n",
              "...               ...        ...       ...       ...  \n",
              "171151    76936345.51        0.0       0.0         2  \n",
              "171152    77034792.52        0.0       0.0         2  \n",
              "171153    77118005.35        0.0       0.0         2  \n",
              "171154    77202629.80        0.0       0.0         2  \n",
              "171155    77202629.80        0.0       0.0         2  \n",
              "\n",
              "[11044043 rows x 9 columns]"
            ],
            "text/html": [
              "\n",
              "  <div id=\"df-52d77548-75e3-4b5c-9548-7d11481cecac\">\n",
              "    <div class=\"colab-df-container\">\n",
              "      <div>\n",
              "<style scoped>\n",
              "    .dataframe tbody tr th:only-of-type {\n",
              "        vertical-align: middle;\n",
              "    }\n",
              "\n",
              "    .dataframe tbody tr th {\n",
              "        vertical-align: top;\n",
              "    }\n",
              "\n",
              "    .dataframe thead th {\n",
              "        text-align: right;\n",
              "    }\n",
              "</style>\n",
              "<table border=\"1\" class=\"dataframe\">\n",
              "  <thead>\n",
              "    <tr style=\"text-align: right;\">\n",
              "      <th></th>\n",
              "      <th>TP_FUNDO</th>\n",
              "      <th>CNPJ_FUNDO</th>\n",
              "      <th>DT_COMPTC</th>\n",
              "      <th>VL_TOTAL</th>\n",
              "      <th>VL_QUOTA</th>\n",
              "      <th>VL_PATRIM_LIQ</th>\n",
              "      <th>CAPTC_DIA</th>\n",
              "      <th>RESG_DIA</th>\n",
              "      <th>NR_COTST</th>\n",
              "    </tr>\n",
              "  </thead>\n",
              "  <tbody>\n",
              "    <tr>\n",
              "      <th>0</th>\n",
              "      <td>FI</td>\n",
              "      <td>00.017.024/0001-53</td>\n",
              "      <td>2021-02-01</td>\n",
              "      <td>1093459.20</td>\n",
              "      <td>27.504503</td>\n",
              "      <td>1091740.78</td>\n",
              "      <td>0.0</td>\n",
              "      <td>0.0</td>\n",
              "      <td>1</td>\n",
              "    </tr>\n",
              "    <tr>\n",
              "      <th>1</th>\n",
              "      <td>FI</td>\n",
              "      <td>00.017.024/0001-53</td>\n",
              "      <td>2021-02-02</td>\n",
              "      <td>1093541.56</td>\n",
              "      <td>27.504054</td>\n",
              "      <td>1091722.98</td>\n",
              "      <td>0.0</td>\n",
              "      <td>0.0</td>\n",
              "      <td>1</td>\n",
              "    </tr>\n",
              "    <tr>\n",
              "      <th>2</th>\n",
              "      <td>FI</td>\n",
              "      <td>00.017.024/0001-53</td>\n",
              "      <td>2021-02-03</td>\n",
              "      <td>1093599.37</td>\n",
              "      <td>27.503804</td>\n",
              "      <td>1091713.02</td>\n",
              "      <td>0.0</td>\n",
              "      <td>0.0</td>\n",
              "      <td>1</td>\n",
              "    </tr>\n",
              "    <tr>\n",
              "      <th>3</th>\n",
              "      <td>FI</td>\n",
              "      <td>00.017.024/0001-53</td>\n",
              "      <td>2021-02-04</td>\n",
              "      <td>1093652.55</td>\n",
              "      <td>27.502934</td>\n",
              "      <td>1091678.50</td>\n",
              "      <td>0.0</td>\n",
              "      <td>0.0</td>\n",
              "      <td>1</td>\n",
              "    </tr>\n",
              "    <tr>\n",
              "      <th>4</th>\n",
              "      <td>FI</td>\n",
              "      <td>00.017.024/0001-53</td>\n",
              "      <td>2021-02-05</td>\n",
              "      <td>1093433.76</td>\n",
              "      <td>27.501947</td>\n",
              "      <td>1091639.34</td>\n",
              "      <td>0.0</td>\n",
              "      <td>0.0</td>\n",
              "      <td>1</td>\n",
              "    </tr>\n",
              "    <tr>\n",
              "      <th>...</th>\n",
              "      <td>...</td>\n",
              "      <td>...</td>\n",
              "      <td>...</td>\n",
              "      <td>...</td>\n",
              "      <td>...</td>\n",
              "      <td>...</td>\n",
              "      <td>...</td>\n",
              "      <td>...</td>\n",
              "      <td>...</td>\n",
              "    </tr>\n",
              "    <tr>\n",
              "      <th>171151</th>\n",
              "      <td>FI</td>\n",
              "      <td>97.929.213/0001-34</td>\n",
              "      <td>2023-01-04</td>\n",
              "      <td>67419133.33</td>\n",
              "      <td>10.124107</td>\n",
              "      <td>76936345.51</td>\n",
              "      <td>0.0</td>\n",
              "      <td>0.0</td>\n",
              "      <td>2</td>\n",
              "    </tr>\n",
              "    <tr>\n",
              "      <th>171152</th>\n",
              "      <td>FI</td>\n",
              "      <td>97.929.213/0001-34</td>\n",
              "      <td>2023-01-05</td>\n",
              "      <td>76932242.05</td>\n",
              "      <td>10.137062</td>\n",
              "      <td>77034792.52</td>\n",
              "      <td>0.0</td>\n",
              "      <td>0.0</td>\n",
              "      <td>2</td>\n",
              "    </tr>\n",
              "    <tr>\n",
              "      <th>171153</th>\n",
              "      <td>FI</td>\n",
              "      <td>97.929.213/0001-34</td>\n",
              "      <td>2023-01-06</td>\n",
              "      <td>77014439.99</td>\n",
              "      <td>10.148012</td>\n",
              "      <td>77118005.35</td>\n",
              "      <td>0.0</td>\n",
              "      <td>0.0</td>\n",
              "      <td>2</td>\n",
              "    </tr>\n",
              "    <tr>\n",
              "      <th>171154</th>\n",
              "      <td>FI</td>\n",
              "      <td>97.929.213/0001-34</td>\n",
              "      <td>2023-01-09</td>\n",
              "      <td>77099535.97</td>\n",
              "      <td>10.159148</td>\n",
              "      <td>77202629.80</td>\n",
              "      <td>0.0</td>\n",
              "      <td>0.0</td>\n",
              "      <td>2</td>\n",
              "    </tr>\n",
              "    <tr>\n",
              "      <th>171155</th>\n",
              "      <td>FI</td>\n",
              "      <td>97.929.213/0001-34</td>\n",
              "      <td>2023-01-10</td>\n",
              "      <td>77099535.97</td>\n",
              "      <td>10.159148</td>\n",
              "      <td>77202629.80</td>\n",
              "      <td>0.0</td>\n",
              "      <td>0.0</td>\n",
              "      <td>2</td>\n",
              "    </tr>\n",
              "  </tbody>\n",
              "</table>\n",
              "<p>11044043 rows × 9 columns</p>\n",
              "</div>\n",
              "      <button class=\"colab-df-convert\" onclick=\"convertToInteractive('df-52d77548-75e3-4b5c-9548-7d11481cecac')\"\n",
              "              title=\"Convert this dataframe to an interactive table.\"\n",
              "              style=\"display:none;\">\n",
              "        \n",
              "  <svg xmlns=\"http://www.w3.org/2000/svg\" height=\"24px\"viewBox=\"0 0 24 24\"\n",
              "       width=\"24px\">\n",
              "    <path d=\"M0 0h24v24H0V0z\" fill=\"none\"/>\n",
              "    <path d=\"M18.56 5.44l.94 2.06.94-2.06 2.06-.94-2.06-.94-.94-2.06-.94 2.06-2.06.94zm-11 1L8.5 8.5l.94-2.06 2.06-.94-2.06-.94L8.5 2.5l-.94 2.06-2.06.94zm10 10l.94 2.06.94-2.06 2.06-.94-2.06-.94-.94-2.06-.94 2.06-2.06.94z\"/><path d=\"M17.41 7.96l-1.37-1.37c-.4-.4-.92-.59-1.43-.59-.52 0-1.04.2-1.43.59L10.3 9.45l-7.72 7.72c-.78.78-.78 2.05 0 2.83L4 21.41c.39.39.9.59 1.41.59.51 0 1.02-.2 1.41-.59l7.78-7.78 2.81-2.81c.8-.78.8-2.07 0-2.86zM5.41 20L4 18.59l7.72-7.72 1.47 1.35L5.41 20z\"/>\n",
              "  </svg>\n",
              "      </button>\n",
              "      \n",
              "  <style>\n",
              "    .colab-df-container {\n",
              "      display:flex;\n",
              "      flex-wrap:wrap;\n",
              "      gap: 12px;\n",
              "    }\n",
              "\n",
              "    .colab-df-convert {\n",
              "      background-color: #E8F0FE;\n",
              "      border: none;\n",
              "      border-radius: 50%;\n",
              "      cursor: pointer;\n",
              "      display: none;\n",
              "      fill: #1967D2;\n",
              "      height: 32px;\n",
              "      padding: 0 0 0 0;\n",
              "      width: 32px;\n",
              "    }\n",
              "\n",
              "    .colab-df-convert:hover {\n",
              "      background-color: #E2EBFA;\n",
              "      box-shadow: 0px 1px 2px rgba(60, 64, 67, 0.3), 0px 1px 3px 1px rgba(60, 64, 67, 0.15);\n",
              "      fill: #174EA6;\n",
              "    }\n",
              "\n",
              "    [theme=dark] .colab-df-convert {\n",
              "      background-color: #3B4455;\n",
              "      fill: #D2E3FC;\n",
              "    }\n",
              "\n",
              "    [theme=dark] .colab-df-convert:hover {\n",
              "      background-color: #434B5C;\n",
              "      box-shadow: 0px 1px 3px 1px rgba(0, 0, 0, 0.15);\n",
              "      filter: drop-shadow(0px 1px 2px rgba(0, 0, 0, 0.3));\n",
              "      fill: #FFFFFF;\n",
              "    }\n",
              "  </style>\n",
              "\n",
              "      <script>\n",
              "        const buttonEl =\n",
              "          document.querySelector('#df-52d77548-75e3-4b5c-9548-7d11481cecac button.colab-df-convert');\n",
              "        buttonEl.style.display =\n",
              "          google.colab.kernel.accessAllowed ? 'block' : 'none';\n",
              "\n",
              "        async function convertToInteractive(key) {\n",
              "          const element = document.querySelector('#df-52d77548-75e3-4b5c-9548-7d11481cecac');\n",
              "          const dataTable =\n",
              "            await google.colab.kernel.invokeFunction('convertToInteractive',\n",
              "                                                     [key], {});\n",
              "          if (!dataTable) return;\n",
              "\n",
              "          const docLinkHtml = 'Like what you see? Visit the ' +\n",
              "            '<a target=\"_blank\" href=https://colab.research.google.com/notebooks/data_table.ipynb>data table notebook</a>'\n",
              "            + ' to learn more about interactive tables.';\n",
              "          element.innerHTML = '';\n",
              "          dataTable['output_type'] = 'display_data';\n",
              "          await google.colab.output.renderOutput(dataTable, element);\n",
              "          const docLink = document.createElement('div');\n",
              "          docLink.innerHTML = docLinkHtml;\n",
              "          element.appendChild(docLink);\n",
              "        }\n",
              "      </script>\n",
              "    </div>\n",
              "  </div>\n",
              "  "
            ]
          },
          "metadata": {},
          "execution_count": 41
        }
      ]
    },
    {
      "cell_type": "markdown",
      "source": [
        "# Exportação dos dados"
      ],
      "metadata": {
        "id": "6VH1F_eHyRsg"
      }
    },
    {
      "cell_type": "code",
      "source": [
        "df.to_csv('dados_FI_2021_atual.csv', index= False)"
      ],
      "metadata": {
        "id": "3UWTkv-ZyQhT"
      },
      "execution_count": 43,
      "outputs": []
    }
  ]
}