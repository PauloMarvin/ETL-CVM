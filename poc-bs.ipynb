{
 "cells": [
  {
   "cell_type": "code",
   "execution_count": 8,
   "metadata": {},
   "outputs": [],
   "source": [
    "import requests\n",
    "from bs4 import BeautifulSoup\n",
    "import zipfile"
   ]
  },
  {
   "cell_type": "code",
   "execution_count": 9,
   "metadata": {},
   "outputs": [
    {
     "data": {
      "text/plain": [
       "<Response [200]>"
      ]
     },
     "execution_count": 9,
     "metadata": {},
     "output_type": "execute_result"
    }
   ],
   "source": [
    "response = requests.get(\"https://dados.cvm.gov.br/dados/FI/DOC/INF_DIARIO/DADOS/inf_diario_fi_202201.zip\")\n",
    "response"
   ]
  },
  {
   "cell_type": "code",
   "execution_count": 10,
   "metadata": {},
   "outputs": [],
   "source": [
    "soup = BeautifulSoup(response.text, \"html.parser\")"
   ]
  },
  {
   "cell_type": "code",
   "execution_count": 17,
   "metadata": {},
   "outputs": [
    {
     "data": {
      "text/plain": [
       "[]"
      ]
     },
     "execution_count": 17,
     "metadata": {},
     "output_type": "execute_result"
    }
   ],
   "source": [
    "link = soup.find_all('a', {'class': 'resource-url-analytics'})\n",
    "link"
   ]
  },
  {
   "cell_type": "code",
   "execution_count": 20,
   "metadata": {},
   "outputs": [],
   "source": [
    "import pandas as pd \n",
    "df = pd.read_csv(\"https://dados.cvm.gov.br/dados/FI/DOC/INF_DIARIO/DADOS/inf_diario_fi_202201.zip\",compression=\"zip\",sep=\";\")"
   ]
  },
  {
   "cell_type": "code",
   "execution_count": 21,
   "metadata": {},
   "outputs": [
    {
     "data": {
      "text/html": [
       "<div>\n",
       "<style scoped>\n",
       "    .dataframe tbody tr th:only-of-type {\n",
       "        vertical-align: middle;\n",
       "    }\n",
       "\n",
       "    .dataframe tbody tr th {\n",
       "        vertical-align: top;\n",
       "    }\n",
       "\n",
       "    .dataframe thead th {\n",
       "        text-align: right;\n",
       "    }\n",
       "</style>\n",
       "<table border=\"1\" class=\"dataframe\">\n",
       "  <thead>\n",
       "    <tr style=\"text-align: right;\">\n",
       "      <th></th>\n",
       "      <th>TP_FUNDO</th>\n",
       "      <th>CNPJ_FUNDO</th>\n",
       "      <th>DT_COMPTC</th>\n",
       "      <th>VL_TOTAL</th>\n",
       "      <th>VL_QUOTA</th>\n",
       "      <th>VL_PATRIM_LIQ</th>\n",
       "      <th>CAPTC_DIA</th>\n",
       "      <th>RESG_DIA</th>\n",
       "      <th>NR_COTST</th>\n",
       "    </tr>\n",
       "  </thead>\n",
       "  <tbody>\n",
       "    <tr>\n",
       "      <th>0</th>\n",
       "      <td>FI</td>\n",
       "      <td>00.017.024/0001-53</td>\n",
       "      <td>2022-01-03</td>\n",
       "      <td>1075476.00</td>\n",
       "      <td>28.110273</td>\n",
       "      <td>1078462.74</td>\n",
       "      <td>0.0</td>\n",
       "      <td>0.00</td>\n",
       "      <td>1</td>\n",
       "    </tr>\n",
       "    <tr>\n",
       "      <th>1</th>\n",
       "      <td>FI</td>\n",
       "      <td>00.017.024/0001-53</td>\n",
       "      <td>2022-01-04</td>\n",
       "      <td>1075873.10</td>\n",
       "      <td>28.118682</td>\n",
       "      <td>1078785.36</td>\n",
       "      <td>0.0</td>\n",
       "      <td>0.00</td>\n",
       "      <td>1</td>\n",
       "    </tr>\n",
       "    <tr>\n",
       "      <th>2</th>\n",
       "      <td>FI</td>\n",
       "      <td>00.017.024/0001-53</td>\n",
       "      <td>2022-01-05</td>\n",
       "      <td>1076280.19</td>\n",
       "      <td>28.127768</td>\n",
       "      <td>1079133.95</td>\n",
       "      <td>0.0</td>\n",
       "      <td>0.00</td>\n",
       "      <td>1</td>\n",
       "    </tr>\n",
       "    <tr>\n",
       "      <th>3</th>\n",
       "      <td>FI</td>\n",
       "      <td>00.017.024/0001-53</td>\n",
       "      <td>2022-01-06</td>\n",
       "      <td>1076680.92</td>\n",
       "      <td>28.137115</td>\n",
       "      <td>1079492.53</td>\n",
       "      <td>0.0</td>\n",
       "      <td>0.00</td>\n",
       "      <td>1</td>\n",
       "    </tr>\n",
       "    <tr>\n",
       "      <th>4</th>\n",
       "      <td>FI</td>\n",
       "      <td>00.017.024/0001-53</td>\n",
       "      <td>2022-01-07</td>\n",
       "      <td>1073899.79</td>\n",
       "      <td>28.146295</td>\n",
       "      <td>1076721.79</td>\n",
       "      <td>0.0</td>\n",
       "      <td>3122.94</td>\n",
       "      <td>1</td>\n",
       "    </tr>\n",
       "    <tr>\n",
       "      <th>...</th>\n",
       "      <td>...</td>\n",
       "      <td>...</td>\n",
       "      <td>...</td>\n",
       "      <td>...</td>\n",
       "      <td>...</td>\n",
       "      <td>...</td>\n",
       "      <td>...</td>\n",
       "      <td>...</td>\n",
       "      <td>...</td>\n",
       "    </tr>\n",
       "    <tr>\n",
       "      <th>480904</th>\n",
       "      <td>FI</td>\n",
       "      <td>97.929.213/0001-34</td>\n",
       "      <td>2022-01-25</td>\n",
       "      <td>70251207.06</td>\n",
       "      <td>9.243232</td>\n",
       "      <td>70242294.13</td>\n",
       "      <td>0.0</td>\n",
       "      <td>0.00</td>\n",
       "      <td>2</td>\n",
       "    </tr>\n",
       "    <tr>\n",
       "      <th>480905</th>\n",
       "      <td>FI</td>\n",
       "      <td>97.929.213/0001-34</td>\n",
       "      <td>2022-01-26</td>\n",
       "      <td>70440726.48</td>\n",
       "      <td>9.268123</td>\n",
       "      <td>70431443.46</td>\n",
       "      <td>0.0</td>\n",
       "      <td>0.00</td>\n",
       "      <td>2</td>\n",
       "    </tr>\n",
       "    <tr>\n",
       "      <th>480906</th>\n",
       "      <td>FI</td>\n",
       "      <td>97.929.213/0001-34</td>\n",
       "      <td>2022-01-27</td>\n",
       "      <td>70470638.00</td>\n",
       "      <td>9.272010</td>\n",
       "      <td>70460984.80</td>\n",
       "      <td>0.0</td>\n",
       "      <td>0.00</td>\n",
       "      <td>2</td>\n",
       "    </tr>\n",
       "    <tr>\n",
       "      <th>480907</th>\n",
       "      <td>FI</td>\n",
       "      <td>97.929.213/0001-34</td>\n",
       "      <td>2022-01-28</td>\n",
       "      <td>62973456.72</td>\n",
       "      <td>9.273704</td>\n",
       "      <td>70473854.31</td>\n",
       "      <td>0.0</td>\n",
       "      <td>0.00</td>\n",
       "      <td>2</td>\n",
       "    </tr>\n",
       "    <tr>\n",
       "      <th>480908</th>\n",
       "      <td>FI</td>\n",
       "      <td>97.929.213/0001-34</td>\n",
       "      <td>2022-01-31</td>\n",
       "      <td>69880455.18</td>\n",
       "      <td>9.307868</td>\n",
       "      <td>70733482.70</td>\n",
       "      <td>0.0</td>\n",
       "      <td>0.00</td>\n",
       "      <td>2</td>\n",
       "    </tr>\n",
       "  </tbody>\n",
       "</table>\n",
       "<p>480909 rows × 9 columns</p>\n",
       "</div>"
      ],
      "text/plain": [
       "       TP_FUNDO          CNPJ_FUNDO   DT_COMPTC     VL_TOTAL   VL_QUOTA  \\\n",
       "0            FI  00.017.024/0001-53  2022-01-03   1075476.00  28.110273   \n",
       "1            FI  00.017.024/0001-53  2022-01-04   1075873.10  28.118682   \n",
       "2            FI  00.017.024/0001-53  2022-01-05   1076280.19  28.127768   \n",
       "3            FI  00.017.024/0001-53  2022-01-06   1076680.92  28.137115   \n",
       "4            FI  00.017.024/0001-53  2022-01-07   1073899.79  28.146295   \n",
       "...         ...                 ...         ...          ...        ...   \n",
       "480904       FI  97.929.213/0001-34  2022-01-25  70251207.06   9.243232   \n",
       "480905       FI  97.929.213/0001-34  2022-01-26  70440726.48   9.268123   \n",
       "480906       FI  97.929.213/0001-34  2022-01-27  70470638.00   9.272010   \n",
       "480907       FI  97.929.213/0001-34  2022-01-28  62973456.72   9.273704   \n",
       "480908       FI  97.929.213/0001-34  2022-01-31  69880455.18   9.307868   \n",
       "\n",
       "        VL_PATRIM_LIQ  CAPTC_DIA  RESG_DIA  NR_COTST  \n",
       "0          1078462.74        0.0      0.00         1  \n",
       "1          1078785.36        0.0      0.00         1  \n",
       "2          1079133.95        0.0      0.00         1  \n",
       "3          1079492.53        0.0      0.00         1  \n",
       "4          1076721.79        0.0   3122.94         1  \n",
       "...               ...        ...       ...       ...  \n",
       "480904    70242294.13        0.0      0.00         2  \n",
       "480905    70431443.46        0.0      0.00         2  \n",
       "480906    70460984.80        0.0      0.00         2  \n",
       "480907    70473854.31        0.0      0.00         2  \n",
       "480908    70733482.70        0.0      0.00         2  \n",
       "\n",
       "[480909 rows x 9 columns]"
      ]
     },
     "execution_count": 21,
     "metadata": {},
     "output_type": "execute_result"
    }
   ],
   "source": [
    "df"
   ]
  }
 ],
 "metadata": {
  "kernelspec": {
   "display_name": "Python 3",
   "language": "python",
   "name": "python3"
  },
  "language_info": {
   "codemirror_mode": {
    "name": "ipython",
    "version": 3
   },
   "file_extension": ".py",
   "mimetype": "text/x-python",
   "name": "python",
   "nbconvert_exporter": "python",
   "pygments_lexer": "ipython3",
   "version": "3.10.4"
  },
  "orig_nbformat": 4,
  "vscode": {
   "interpreter": {
    "hash": "03abb77cd8ea3955e46e950c67e8f53909da97870bfa14c5b9cae3cb0c9e580b"
   }
  }
 },
 "nbformat": 4,
 "nbformat_minor": 2
}
