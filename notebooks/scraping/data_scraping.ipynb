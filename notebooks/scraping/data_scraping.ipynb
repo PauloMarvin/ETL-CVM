{
 "cells": [
  {
   "cell_type": "markdown",
   "source": [
    "### Adiciona aqui o seu diretorio base do projeto"
   ],
   "metadata": {
    "collapsed": false
   }
  },
  {
   "cell_type": "code",
   "execution_count": 1,
   "outputs": [],
   "source": [
    "import sys\n",
    "project_root_dir = r'C:\\Users\\paulo\\PycharmProjects\\ETL-CVM'\n",
    "sys.path.append(project_root_dir)"
   ],
   "metadata": {
    "collapsed": false
   }
  },
  {
   "cell_type": "markdown",
   "source": [
    "### Importando as bibliotecas do projeto"
   ],
   "metadata": {
    "collapsed": false
   }
  },
  {
   "cell_type": "code",
   "execution_count": 2,
   "metadata": {
    "collapsed": true
   },
   "outputs": [],
   "source": [
    "import pandas as pd\n",
    "from src.scrapers.cvm_scrapper import CvmScrapper\n",
    "from src.soups.soup_generator import Soup"
   ]
  },
  {
   "cell_type": "markdown",
   "source": [
    "# Rotina de scraping"
   ],
   "metadata": {
    "collapsed": false
   }
  },
  {
   "cell_type": "markdown",
   "source": [
    "### Rotina para os dados anteriores ao ano de 2021"
   ],
   "metadata": {
    "collapsed": false
   }
  },
  {
   "cell_type": "markdown",
   "source": [
    "Os links para os arquivos estão nas tags ***a*** contendo a refêcial final para o arquivo zip, como pode ser observado na imagem.\n",
    "\n",
    "![image.png](data:image/png;base64,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)\n",
    "\n",
    "Portanto, é necessário obter o objeto *Soup* previamente configurado para ser mais facil trabalhar com esse html:"
   ],
   "metadata": {
    "collapsed": false
   }
  },
  {
   "cell_type": "code",
   "execution_count": 3,
   "outputs": [],
   "source": [
    "configured_soup = Soup('https://dados.cvm.gov.br/dados/FI/DOC/INF_DIARIO/DADOS/')\n",
    "cvm_scraper = CvmScrapper(configured_soup)"
   ],
   "metadata": {
    "collapsed": false
   }
  },
  {
   "cell_type": "markdown",
   "source": [
    "Dentro da pagína *https://dados.cvm.gov.br/dados/FI/DOC/INF_DIARIO/DADOS/* pode-se encontrar o link direto para arquivos de 2021 e 2022 e o link para outro diretorio, chamado HIST que contém os dados de 2000 até 2020"
   ],
   "metadata": {
    "collapsed": false
   }
  },
  {
   "cell_type": "markdown",
   "source": [
    "Utilizando o objeto scaper, configurado com o Soup desta página é removido todos os links e em seguida filtrado apenas o link para o diretorio com os dados de 2000 até 2020."
   ],
   "metadata": {
    "collapsed": false
   }
  },
  {
   "cell_type": "code",
   "execution_count": 4,
   "outputs": [],
   "source": [
    "links_from_cvm_page = cvm_scraper.get_all_links()"
   ],
   "metadata": {
    "collapsed": false
   }
  },
  {
   "cell_type": "code",
   "execution_count": 5,
   "outputs": [],
   "source": [
    "hist_link = cvm_scraper.filter_links([\"HIST\"])"
   ],
   "metadata": {
    "collapsed": false
   }
  },
  {
   "cell_type": "code",
   "execution_count": 6,
   "outputs": [],
   "source": [
    "configured_soup_hist = Soup(hist_link)"
   ],
   "metadata": {
    "collapsed": false
   }
  },
  {
   "cell_type": "code",
   "execution_count": 7,
   "outputs": [],
   "source": [
    "cvm_scraper_hist = CvmScrapper(configured_soup_hist)"
   ],
   "metadata": {
    "collapsed": false
   }
  },
  {
   "cell_type": "code",
   "execution_count": 8,
   "outputs": [],
   "source": [
    "links_from_cvm_page_hist = cvm_scraper.get_all_links()"
   ],
   "metadata": {
    "collapsed": false
   }
  },
  {
   "cell_type": "markdown",
   "source": [
    "Os links para o download dos arquivos zip são armazenados em uma lista:"
   ],
   "metadata": {
    "collapsed": false
   }
  },
  {
   "cell_type": "code",
   "execution_count": 9,
   "outputs": [],
   "source": [
    "zip_file_links_hist = cvm_scraper_hist.filter_links([\"inf_diario_fi_\"])"
   ],
   "metadata": {
    "collapsed": false
   }
  },
  {
   "cell_type": "markdown",
   "source": [
    "### Trabalhando com os arquivos *zip*"
   ],
   "metadata": {
    "collapsed": false
   }
  },
  {
   "cell_type": "markdown",
   "source": [
    "Cada arquivo *zip* contém arquivos *.csv* com dados mensais. O que torna necessário descompactá-los para posterior concatenação em um único dataframe."
   ],
   "metadata": {
    "collapsed": false
   }
  },
  {
   "cell_type": "markdown",
   "source": [
    "Feito isso, utilizando duas funções, primeiramente o arquivo zip é carregado a partir do site e após isso todos os seus csv são transformado e agregados em apenas um dataframe."
   ],
   "metadata": {
    "collapsed": false
   }
  },
  {
   "cell_type": "markdown",
   "source": [
    "Esse procedimento é feito para todos os links dessa página, gerando no final um dataframe com os dados de 2000 até 2020 de todos os messes desses anos agregados em um só."
   ],
   "metadata": {
    "collapsed": false
   }
  },
  {
   "cell_type": "code",
   "execution_count": 10,
   "outputs": [
    {
     "name": "stdout",
     "output_type": "stream",
     "text": [
      "Downloading zip file from https://dados.cvm.gov.br/dados/FI/DOC/INF_DIARIO/DADOS/HIST/inf_diario_fi_2000.zip\n",
      "Processing zip with this files:\n",
      "['inf_diario_fi_2000.csv']\n",
      "Downloading zip file from https://dados.cvm.gov.br/dados/FI/DOC/INF_DIARIO/DADOS/HIST/inf_diario_fi_2001.zip\n",
      "Processing zip with this files:\n",
      "['inf_diario_fi_2001.csv']\n",
      "Downloading zip file from https://dados.cvm.gov.br/dados/FI/DOC/INF_DIARIO/DADOS/HIST/inf_diario_fi_2002.zip\n",
      "Processing zip with this files:\n",
      "['inf_diario_fi_2002.csv']\n",
      "Downloading zip file from https://dados.cvm.gov.br/dados/FI/DOC/INF_DIARIO/DADOS/HIST/inf_diario_fi_2003.zip\n",
      "Processing zip with this files:\n",
      "['inf_diario_fi_2003.csv']\n",
      "Downloading zip file from https://dados.cvm.gov.br/dados/FI/DOC/INF_DIARIO/DADOS/HIST/inf_diario_fi_2004.zip\n",
      "Processing zip with this files:\n",
      "['inf_diario_fi_2004.csv']\n",
      "Downloading zip file from https://dados.cvm.gov.br/dados/FI/DOC/INF_DIARIO/DADOS/HIST/inf_diario_fi_2005.zip\n",
      "Processing zip with this files:\n",
      "['inf_diario_fi_200501.csv', 'inf_diario_fi_200502.csv', 'inf_diario_fi_200503.csv', 'inf_diario_fi_200504.csv', 'inf_diario_fi_200505.csv', 'inf_diario_fi_200506.csv', 'inf_diario_fi_200507.csv', 'inf_diario_fi_200508.csv', 'inf_diario_fi_200509.csv', 'inf_diario_fi_200510.csv', 'inf_diario_fi_200511.csv', 'inf_diario_fi_200512.csv']\n",
      "Downloading zip file from https://dados.cvm.gov.br/dados/FI/DOC/INF_DIARIO/DADOS/HIST/inf_diario_fi_2006.zip\n",
      "Processing zip with this files:\n",
      "['inf_diario_fi_200601.csv', 'inf_diario_fi_200602.csv', 'inf_diario_fi_200603.csv', 'inf_diario_fi_200604.csv', 'inf_diario_fi_200605.csv', 'inf_diario_fi_200606.csv', 'inf_diario_fi_200607.csv', 'inf_diario_fi_200608.csv', 'inf_diario_fi_200609.csv', 'inf_diario_fi_200610.csv', 'inf_diario_fi_200611.csv', 'inf_diario_fi_200612.csv']\n",
      "Downloading zip file from https://dados.cvm.gov.br/dados/FI/DOC/INF_DIARIO/DADOS/HIST/inf_diario_fi_2007.zip\n",
      "Processing zip with this files:\n",
      "['inf_diario_fi_200701.csv', 'inf_diario_fi_200702.csv', 'inf_diario_fi_200703.csv', 'inf_diario_fi_200704.csv', 'inf_diario_fi_200705.csv', 'inf_diario_fi_200706.csv', 'inf_diario_fi_200707.csv', 'inf_diario_fi_200708.csv', 'inf_diario_fi_200709.csv', 'inf_diario_fi_200710.csv', 'inf_diario_fi_200711.csv', 'inf_diario_fi_200712.csv']\n",
      "Downloading zip file from https://dados.cvm.gov.br/dados/FI/DOC/INF_DIARIO/DADOS/HIST/inf_diario_fi_2008.zip\n",
      "Processing zip with this files:\n",
      "['inf_diario_fi_200801.csv', 'inf_diario_fi_200802.csv', 'inf_diario_fi_200803.csv', 'inf_diario_fi_200804.csv', 'inf_diario_fi_200805.csv', 'inf_diario_fi_200806.csv', 'inf_diario_fi_200807.csv', 'inf_diario_fi_200808.csv', 'inf_diario_fi_200809.csv', 'inf_diario_fi_200810.csv', 'inf_diario_fi_200811.csv', 'inf_diario_fi_200812.csv']\n",
      "Downloading zip file from https://dados.cvm.gov.br/dados/FI/DOC/INF_DIARIO/DADOS/HIST/inf_diario_fi_2009.zip\n",
      "Processing zip with this files:\n",
      "['inf_diario_fi_200901.csv', 'inf_diario_fi_200902.csv', 'inf_diario_fi_200903.csv', 'inf_diario_fi_200904.csv', 'inf_diario_fi_200905.csv', 'inf_diario_fi_200906.csv', 'inf_diario_fi_200907.csv', 'inf_diario_fi_200908.csv', 'inf_diario_fi_200909.csv', 'inf_diario_fi_200910.csv', 'inf_diario_fi_200911.csv', 'inf_diario_fi_200912.csv']\n",
      "Downloading zip file from https://dados.cvm.gov.br/dados/FI/DOC/INF_DIARIO/DADOS/HIST/inf_diario_fi_2010.zip\n",
      "Processing zip with this files:\n",
      "['inf_diario_fi_201001.csv', 'inf_diario_fi_201002.csv', 'inf_diario_fi_201003.csv', 'inf_diario_fi_201004.csv', 'inf_diario_fi_201005.csv', 'inf_diario_fi_201006.csv', 'inf_diario_fi_201007.csv', 'inf_diario_fi_201008.csv', 'inf_diario_fi_201009.csv', 'inf_diario_fi_201010.csv', 'inf_diario_fi_201011.csv', 'inf_diario_fi_201012.csv']\n",
      "Downloading zip file from https://dados.cvm.gov.br/dados/FI/DOC/INF_DIARIO/DADOS/HIST/inf_diario_fi_2011.zip\n",
      "Processing zip with this files:\n",
      "['inf_diario_fi_201101.csv', 'inf_diario_fi_201102.csv', 'inf_diario_fi_201103.csv', 'inf_diario_fi_201104.csv', 'inf_diario_fi_201105.csv', 'inf_diario_fi_201106.csv', 'inf_diario_fi_201107.csv', 'inf_diario_fi_201108.csv', 'inf_diario_fi_201109.csv', 'inf_diario_fi_201110.csv', 'inf_diario_fi_201111.csv', 'inf_diario_fi_201112.csv']\n",
      "Downloading zip file from https://dados.cvm.gov.br/dados/FI/DOC/INF_DIARIO/DADOS/HIST/inf_diario_fi_2012.zip\n",
      "Processing zip with this files:\n",
      "['inf_diario_fi_201201.csv', 'inf_diario_fi_201202.csv', 'inf_diario_fi_201203.csv', 'inf_diario_fi_201204.csv', 'inf_diario_fi_201205.csv', 'inf_diario_fi_201206.csv', 'inf_diario_fi_201207.csv', 'inf_diario_fi_201208.csv', 'inf_diario_fi_201209.csv', 'inf_diario_fi_201210.csv', 'inf_diario_fi_201211.csv', 'inf_diario_fi_201212.csv']\n",
      "Downloading zip file from https://dados.cvm.gov.br/dados/FI/DOC/INF_DIARIO/DADOS/HIST/inf_diario_fi_2013.zip\n",
      "Processing zip with this files:\n",
      "['inf_diario_fi_201301.csv', 'inf_diario_fi_201302.csv', 'inf_diario_fi_201303.csv', 'inf_diario_fi_201304.csv', 'inf_diario_fi_201305.csv', 'inf_diario_fi_201306.csv', 'inf_diario_fi_201307.csv', 'inf_diario_fi_201308.csv', 'inf_diario_fi_201309.csv', 'inf_diario_fi_201310.csv', 'inf_diario_fi_201311.csv', 'inf_diario_fi_201312.csv']\n",
      "Downloading zip file from https://dados.cvm.gov.br/dados/FI/DOC/INF_DIARIO/DADOS/HIST/inf_diario_fi_2014.zip\n",
      "Processing zip with this files:\n",
      "['inf_diario_fi_201401.csv', 'inf_diario_fi_201402.csv', 'inf_diario_fi_201403.csv', 'inf_diario_fi_201404.csv', 'inf_diario_fi_201405.csv', 'inf_diario_fi_201406.csv', 'inf_diario_fi_201407.csv', 'inf_diario_fi_201408.csv', 'inf_diario_fi_201409.csv', 'inf_diario_fi_201410.csv', 'inf_diario_fi_201411.csv', 'inf_diario_fi_201412.csv']\n",
      "Downloading zip file from https://dados.cvm.gov.br/dados/FI/DOC/INF_DIARIO/DADOS/HIST/inf_diario_fi_2015.zip\n",
      "Processing zip with this files:\n",
      "['inf_diario_fi_201501.csv', 'inf_diario_fi_201502.csv', 'inf_diario_fi_201503.csv', 'inf_diario_fi_201504.csv', 'inf_diario_fi_201505.csv', 'inf_diario_fi_201506.csv', 'inf_diario_fi_201507.csv', 'inf_diario_fi_201508.csv', 'inf_diario_fi_201509.csv', 'inf_diario_fi_201510.csv', 'inf_diario_fi_201511.csv', 'inf_diario_fi_201512.csv']\n",
      "Downloading zip file from https://dados.cvm.gov.br/dados/FI/DOC/INF_DIARIO/DADOS/HIST/inf_diario_fi_2016.zip\n",
      "Processing zip with this files:\n",
      "['inf_diario_fi_201601.csv', 'inf_diario_fi_201602.csv', 'inf_diario_fi_201603.csv', 'inf_diario_fi_201604.csv', 'inf_diario_fi_201605.csv', 'inf_diario_fi_201606.csv', 'inf_diario_fi_201607.csv', 'inf_diario_fi_201608.csv', 'inf_diario_fi_201609.csv', 'inf_diario_fi_201610.csv', 'inf_diario_fi_201611.csv', 'inf_diario_fi_201612.csv']\n",
      "Downloading zip file from https://dados.cvm.gov.br/dados/FI/DOC/INF_DIARIO/DADOS/HIST/inf_diario_fi_2017.zip\n",
      "Processing zip with this files:\n",
      "['inf_diario_fi_201701.csv', 'inf_diario_fi_201702.csv', 'inf_diario_fi_201703.csv', 'inf_diario_fi_201704.csv', 'inf_diario_fi_201705.csv', 'inf_diario_fi_201706.csv', 'inf_diario_fi_201707.csv', 'inf_diario_fi_201708.csv', 'inf_diario_fi_201709.csv', 'inf_diario_fi_201710.csv', 'inf_diario_fi_201711.csv', 'inf_diario_fi_201712.csv']\n",
      "Downloading zip file from https://dados.cvm.gov.br/dados/FI/DOC/INF_DIARIO/DADOS/HIST/inf_diario_fi_2018.zip\n",
      "Processing zip with this files:\n",
      "['inf_diario_fi_201801.csv', 'inf_diario_fi_201802.csv', 'inf_diario_fi_201803.csv', 'inf_diario_fi_201804.csv', 'inf_diario_fi_201805.csv', 'inf_diario_fi_201806.csv', 'inf_diario_fi_201807.csv', 'inf_diario_fi_201808.csv', 'inf_diario_fi_201809.csv', 'inf_diario_fi_201810.csv', 'inf_diario_fi_201811.csv', 'inf_diario_fi_201812.csv']\n",
      "Downloading zip file from https://dados.cvm.gov.br/dados/FI/DOC/INF_DIARIO/DADOS/HIST/inf_diario_fi_2019.zip\n",
      "Processing zip with this files:\n",
      "['inf_diario_fi_201901.csv', 'inf_diario_fi_201902.csv', 'inf_diario_fi_201903.csv', 'inf_diario_fi_201904.csv', 'inf_diario_fi_201905.csv', 'inf_diario_fi_201906.csv', 'inf_diario_fi_201907.csv', 'inf_diario_fi_201908.csv', 'inf_diario_fi_201909.csv', 'inf_diario_fi_201910.csv', 'inf_diario_fi_201911.csv', 'inf_diario_fi_201912.csv']\n",
      "Downloading zip file from https://dados.cvm.gov.br/dados/FI/DOC/INF_DIARIO/DADOS/HIST/inf_diario_fi_2020.zip\n",
      "Processing zip with this files:\n",
      "['inf_diario_fi_202001.csv', 'inf_diario_fi_202002.csv', 'inf_diario_fi_202003.csv', 'inf_diario_fi_202004.csv', 'inf_diario_fi_202005.csv', 'inf_diario_fi_202006.csv', 'inf_diario_fi_202007.csv', 'inf_diario_fi_202008.csv', 'inf_diario_fi_202009.csv', 'inf_diario_fi_202010.csv', 'inf_diario_fi_202011.csv', 'inf_diario_fi_202012.csv']\n"
     ]
    }
   ],
   "source": [
    "df_2000_2020 = pd.DataFrame()\n",
    "\n",
    "for zip_file_link in zip_file_links_hist:\n",
    "    temp_zip_file = cvm_scraper_hist.load_zip_file_from_url(zip_file_link)\n",
    "    temp_df = cvm_scraper_hist.generate_data_frame_from_zip_file(temp_zip_file)\n",
    "    df_2000_2020 = pd.concat([df_2000_2020, temp_df], ignore_index=True)"
   ],
   "metadata": {
    "collapsed": false
   }
  },
  {
   "cell_type": "markdown",
   "source": [
    "O mesmo processo é feito para a página anterior, que contem os links para os dados de 2021 e 2022"
   ],
   "metadata": {
    "collapsed": false
   }
  },
  {
   "cell_type": "code",
   "execution_count": 11,
   "outputs": [],
   "source": [
    "zip_file_links_home = cvm_scraper.filter_links([\"inf_diario_fi_\"])\n"
   ],
   "metadata": {
    "collapsed": false
   }
  },
  {
   "cell_type": "code",
   "execution_count": 12,
   "outputs": [
    {
     "name": "stdout",
     "output_type": "stream",
     "text": [
      "Downloading zip file from https://dados.cvm.gov.br/dados/FI/DOC/INF_DIARIO/DADOS/inf_diario_fi_202101.zip\n",
      "Processing zip with this files:\n",
      "['inf_diario_fi_202101.csv']\n",
      "Downloading zip file from https://dados.cvm.gov.br/dados/FI/DOC/INF_DIARIO/DADOS/inf_diario_fi_202102.zip\n",
      "Processing zip with this files:\n",
      "['inf_diario_fi_202102.csv']\n",
      "Downloading zip file from https://dados.cvm.gov.br/dados/FI/DOC/INF_DIARIO/DADOS/inf_diario_fi_202103.zip\n",
      "Processing zip with this files:\n",
      "['inf_diario_fi_202103.csv']\n",
      "Downloading zip file from https://dados.cvm.gov.br/dados/FI/DOC/INF_DIARIO/DADOS/inf_diario_fi_202104.zip\n",
      "Processing zip with this files:\n",
      "['inf_diario_fi_202104.csv']\n",
      "Downloading zip file from https://dados.cvm.gov.br/dados/FI/DOC/INF_DIARIO/DADOS/inf_diario_fi_202105.zip\n",
      "Processing zip with this files:\n",
      "['inf_diario_fi_202105.csv']\n",
      "Downloading zip file from https://dados.cvm.gov.br/dados/FI/DOC/INF_DIARIO/DADOS/inf_diario_fi_202106.zip\n",
      "Processing zip with this files:\n",
      "['inf_diario_fi_202106.csv']\n",
      "Downloading zip file from https://dados.cvm.gov.br/dados/FI/DOC/INF_DIARIO/DADOS/inf_diario_fi_202107.zip\n",
      "Processing zip with this files:\n",
      "['inf_diario_fi_202107.csv']\n",
      "Downloading zip file from https://dados.cvm.gov.br/dados/FI/DOC/INF_DIARIO/DADOS/inf_diario_fi_202108.zip\n",
      "Processing zip with this files:\n",
      "['inf_diario_fi_202108.csv']\n",
      "Downloading zip file from https://dados.cvm.gov.br/dados/FI/DOC/INF_DIARIO/DADOS/inf_diario_fi_202109.zip\n",
      "Processing zip with this files:\n",
      "['inf_diario_fi_202109.csv']\n",
      "Downloading zip file from https://dados.cvm.gov.br/dados/FI/DOC/INF_DIARIO/DADOS/inf_diario_fi_202110.zip\n",
      "Processing zip with this files:\n",
      "['inf_diario_fi_202110.csv']\n",
      "Downloading zip file from https://dados.cvm.gov.br/dados/FI/DOC/INF_DIARIO/DADOS/inf_diario_fi_202111.zip\n",
      "Processing zip with this files:\n",
      "['inf_diario_fi_202111.csv']\n",
      "Downloading zip file from https://dados.cvm.gov.br/dados/FI/DOC/INF_DIARIO/DADOS/inf_diario_fi_202112.zip\n",
      "Processing zip with this files:\n",
      "['inf_diario_fi_202112.csv']\n",
      "Downloading zip file from https://dados.cvm.gov.br/dados/FI/DOC/INF_DIARIO/DADOS/inf_diario_fi_202201.zip\n",
      "Processing zip with this files:\n",
      "['inf_diario_fi_202201.csv']\n",
      "Downloading zip file from https://dados.cvm.gov.br/dados/FI/DOC/INF_DIARIO/DADOS/inf_diario_fi_202202.zip\n",
      "Processing zip with this files:\n",
      "['inf_diario_fi_202202.csv']\n",
      "Downloading zip file from https://dados.cvm.gov.br/dados/FI/DOC/INF_DIARIO/DADOS/inf_diario_fi_202203.zip\n",
      "Processing zip with this files:\n",
      "['inf_diario_fi_202203.csv']\n",
      "Downloading zip file from https://dados.cvm.gov.br/dados/FI/DOC/INF_DIARIO/DADOS/inf_diario_fi_202204.zip\n",
      "Processing zip with this files:\n",
      "['inf_diario_fi_202204.csv']\n",
      "Downloading zip file from https://dados.cvm.gov.br/dados/FI/DOC/INF_DIARIO/DADOS/inf_diario_fi_202205.zip\n",
      "Processing zip with this files:\n",
      "['inf_diario_fi_202205.csv']\n",
      "Downloading zip file from https://dados.cvm.gov.br/dados/FI/DOC/INF_DIARIO/DADOS/inf_diario_fi_202206.zip\n",
      "Processing zip with this files:\n",
      "['inf_diario_fi_202206.csv']\n",
      "Downloading zip file from https://dados.cvm.gov.br/dados/FI/DOC/INF_DIARIO/DADOS/inf_diario_fi_202207.zip\n",
      "Processing zip with this files:\n",
      "['inf_diario_fi_202207.csv']\n",
      "Downloading zip file from https://dados.cvm.gov.br/dados/FI/DOC/INF_DIARIO/DADOS/inf_diario_fi_202208.zip\n",
      "Processing zip with this files:\n",
      "['inf_diario_fi_202208.csv']\n",
      "Downloading zip file from https://dados.cvm.gov.br/dados/FI/DOC/INF_DIARIO/DADOS/inf_diario_fi_202209.zip\n",
      "Processing zip with this files:\n",
      "['inf_diario_fi_202209.csv']\n",
      "Downloading zip file from https://dados.cvm.gov.br/dados/FI/DOC/INF_DIARIO/DADOS/inf_diario_fi_202210.zip\n",
      "Processing zip with this files:\n",
      "['inf_diario_fi_202210.csv']\n",
      "Downloading zip file from https://dados.cvm.gov.br/dados/FI/DOC/INF_DIARIO/DADOS/inf_diario_fi_202211.zip\n",
      "Processing zip with this files:\n",
      "['inf_diario_fi_202211.csv']\n",
      "Downloading zip file from https://dados.cvm.gov.br/dados/FI/DOC/INF_DIARIO/DADOS/inf_diario_fi_202212.zip\n",
      "Processing zip with this files:\n",
      "['inf_diario_fi_202212.csv']\n",
      "Downloading zip file from https://dados.cvm.gov.br/dados/FI/DOC/INF_DIARIO/DADOS/inf_diario_fi_202301.zip\n",
      "Processing zip with this files:\n",
      "['inf_diario_fi_202301.csv']\n"
     ]
    }
   ],
   "source": [
    "df_2021_2022 = pd.DataFrame()\n",
    "\n",
    "for zip_file_link in zip_file_links_home:\n",
    "    temp_zip_file = cvm_scraper_hist.load_zip_file_from_url(zip_file_link)\n",
    "    temp_df = cvm_scraper_hist.generate_data_frame_from_zip_file(temp_zip_file)\n",
    "    df_2021_2022 = pd.concat([df_2021_2022, temp_df], ignore_index=True)"
   ],
   "metadata": {
    "collapsed": false
   }
  },
  {
   "cell_type": "markdown",
   "source": [
    "Por fim, os dados de todos os anos são agregados, gerando uma base consolidade pora analise posterior"
   ],
   "metadata": {
    "collapsed": false
   }
  },
  {
   "cell_type": "code",
   "execution_count": 13,
   "outputs": [],
   "source": [
    "final_cvm_df = pd.concat([df_2000_2020, df_2021_2022], ignore_index=True)"
   ],
   "metadata": {
    "collapsed": false
   }
  },
  {
   "cell_type": "code",
   "execution_count": null,
   "outputs": [],
   "source": [
    "final_cvm_df.to_csv(r\"C:\\Users\\paulo\\PycharmProjects\\ETL-CVM\\data\\cvm_fi_2000_2022.csv\")"
   ],
   "metadata": {
    "collapsed": false,
    "pycharm": {
     "is_executing": true
    }
   }
  },
  {
   "cell_type": "code",
   "execution_count": null,
   "outputs": [],
   "source": [
    "final_cvm_df.to_excel(r\"C:\\Users\\paulo\\PycharmProjects\\ETL-CVM\\data\\cvm_fi_2000_2022.csv\")"
   ],
   "metadata": {
    "collapsed": false,
    "pycharm": {
     "is_executing": true
    }
   }
  }
 ],
 "metadata": {
  "kernelspec": {
   "display_name": "Python 3",
   "language": "python",
   "name": "python3"
  },
  "language_info": {
   "codemirror_mode": {
    "name": "ipython",
    "version": 2
   },
   "file_extension": ".py",
   "mimetype": "text/x-python",
   "name": "python",
   "nbconvert_exporter": "python",
   "pygments_lexer": "ipython2",
   "version": "2.7.6"
  }
 },
 "nbformat": 4,
 "nbformat_minor": 0
}
