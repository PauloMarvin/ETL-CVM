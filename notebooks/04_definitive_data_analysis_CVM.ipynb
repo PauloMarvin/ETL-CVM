{
  "cells": [
    {
      "cell_type": "markdown",
      "metadata": {
        "id": "view-in-github",
        "colab_type": "text"
      },
      "source": [
        "<a href=\"https://colab.research.google.com/github/PauloMarvin/ETL-CVM/blob/data-analysis/03_definitive_data_analysis_CVM.ipynb\" target=\"_parent\"><img src=\"https://colab.research.google.com/assets/colab-badge.svg\" alt=\"Open In Colab\"/></a>"
      ]
    },
    {
      "cell_type": "markdown",
      "metadata": {
        "id": "GADrVdEzo3yf"
      },
      "source": [
        "Instalando dependências do *Spark*"
      ]
    },
    {
      "cell_type": "code",
      "execution_count": 1,
      "metadata": {
        "id": "BJFDSVWlout7"
      },
      "outputs": [],
      "source": [
        "!apt-get update -qq\n",
        "!apt-get install openjdk-8-jdk-headless -qq > /dev/null\n",
        "!wget -q https://archive.apache.org/dist/spark/spark-3.1.2/spark-3.1.2-bin-hadoop2.7.tgz\n",
        "!tar xf spark-3.1.2-bin-hadoop2.7.tgz\n",
        "!pip install -q findspark"
      ]
    },
    {
      "cell_type": "markdown",
      "metadata": {
        "id": "_vfQOLOIzA_a"
      },
      "source": [
        "Importando OS"
      ]
    },
    {
      "cell_type": "code",
      "execution_count": 2,
      "metadata": {
        "id": "gefrsdu8o168"
      },
      "outputs": [],
      "source": [
        "import os\n",
        "os.environ[\"JAVA_HOME\"] = \"/usr/lib/jvm/java-8-openjdk-amd64\"\n",
        "os.environ[\"SPARK_HOME\"] = \"/content/spark-3.1.2-bin-hadoop2.7\""
      ]
    },
    {
      "cell_type": "code",
      "execution_count": 3,
      "metadata": {
        "id": "a_Xf_lA3zFXf"
      },
      "outputs": [],
      "source": [
        "import findspark\n",
        "findspark.init()"
      ]
    },
    {
      "cell_type": "markdown",
      "metadata": {
        "id": "Ps8JjY5CzHa5"
      },
      "source": [
        "Importando *SparkSession*"
      ]
    },
    {
      "cell_type": "code",
      "execution_count": 4,
      "metadata": {
        "id": "v4SbbHBizJOg"
      },
      "outputs": [],
      "source": [
        "from pyspark.sql import SparkSession\n",
        "\n",
        "spark = SparkSession.builder \\\n",
        ".appName('app_name') \\\n",
        ".master('local[*]') \\\n",
        ".config('spark.sql.execution.arrow.pyspark.enabled', True) \\\n",
        ".config('spark.sql.session.timeZone', 'UTC') \\\n",
        ".config('spark.driver.memory','32G') \\\n",
        ".config('spark.ui.showConsoleProgress', True) \\\n",
        ".config('spark.sql.repl.eagerEval.enabled', True) \\\n",
        ".getOrCreate()"
      ]
    },
    {
      "cell_type": "code",
      "execution_count": 5,
      "metadata": {
        "id": "gXIs6qoMzUU7",
        "colab": {
          "base_uri": "https://localhost:8080/",
          "height": 219
        },
        "outputId": "e908b9e9-df6b-41e2-d2c1-67d798dd1733"
      },
      "outputs": [
        {
          "output_type": "execute_result",
          "data": {
            "text/plain": [
              "<pyspark.sql.session.SparkSession at 0x7f9b3dfba5b0>"
            ],
            "text/html": [
              "\n",
              "            <div>\n",
              "                <p><b>SparkSession - in-memory</b></p>\n",
              "                \n",
              "        <div>\n",
              "            <p><b>SparkContext</b></p>\n",
              "\n",
              "            <p><a href=\"http://b449257bacca:4040\">Spark UI</a></p>\n",
              "\n",
              "            <dl>\n",
              "              <dt>Version</dt>\n",
              "                <dd><code>v3.1.2</code></dd>\n",
              "              <dt>Master</dt>\n",
              "                <dd><code>local[*]</code></dd>\n",
              "              <dt>AppName</dt>\n",
              "                <dd><code>app_name</code></dd>\n",
              "            </dl>\n",
              "        </div>\n",
              "        \n",
              "            </div>\n",
              "        "
            ]
          },
          "metadata": {},
          "execution_count": 5
        }
      ],
      "source": [
        "spark"
      ]
    },
    {
      "cell_type": "markdown",
      "metadata": {
        "id": "wYoQxYauzbKL"
      },
      "source": [
        "Outras bibliotecas"
      ]
    },
    {
      "cell_type": "code",
      "execution_count": 6,
      "metadata": {
        "id": "nThnWeCPzdpC"
      },
      "outputs": [],
      "source": [
        "import plotly.express as px\n",
        "import plotly.graph_objects as go\n",
        "import matplotlib.pyplot as plt\n",
        "import seaborn as sns"
      ]
    },
    {
      "cell_type": "code",
      "execution_count": 7,
      "metadata": {
        "id": "HITtKylKAjcz"
      },
      "outputs": [],
      "source": [
        "sns.set()"
      ]
    },
    {
      "cell_type": "markdown",
      "metadata": {
        "id": "IaCRUfTSpqEl"
      },
      "source": [
        "# Carregando os dados em um *dataframe*"
      ]
    },
    {
      "cell_type": "code",
      "execution_count": 8,
      "metadata": {
        "id": "SKH5SPOJpuHI"
      },
      "outputs": [],
      "source": [
        "df = spark.read.parquet(\n",
        "    '/content/drive/MyDrive/cvm_fi_2000_2022_(ECOD_1%)_without_outliers_all_columns.parquet',\n",
        "    header= True, inferSchema= True\n",
        ")"
      ]
    },
    {
      "cell_type": "code",
      "execution_count": 9,
      "metadata": {
        "id": "XqK_W3Zop4D1",
        "colab": {
          "base_uri": "https://localhost:8080/"
        },
        "outputId": "f61f8d9a-babc-47bf-eb78-addc9dbc51ee"
      },
      "outputs": [
        {
          "output_type": "stream",
          "name": "stdout",
          "text": [
            "+--------+------------------+----------+----------+-----------+-------------+---------+--------+--------+-----------------+\n",
            "|TP_FUNDO|        CNPJ_FUNDO| DT_COMPTC|  VL_TOTAL|   VL_QUOTA|VL_PATRIM_LIQ|CAPTC_DIA|RESG_DIA|NR_COTST|__index_level_0__|\n",
            "+--------+------------------+----------+----------+-----------+-------------+---------+--------+--------+-----------------+\n",
            "|   FITVM|01.327.100/0001-90|2001-02-01|4996961.25|20.67480514|   4918122.13|      0.0| 3272.39|    90.0|              257|\n",
            "|   FITVM|01.327.100/0001-90|2002-01-02|4880231.54|19.48480768|   4125452.72|      0.0|     0.0|    60.0|             9543|\n",
            "|   FITVM|01.327.100/0001-90|2002-01-03|4669234.46|18.48098376|   4258997.37|346080.91|     0.0|    66.0|             9544|\n",
            "|   FITVM|01.327.100/0001-90|2002-01-04|4669128.05|18.47629894|   4571682.82|313765.08|     0.0|    66.0|             9545|\n",
            "|   FITVM|01.327.100/0001-90|2002-01-07|4678730.81|18.51121761|   4595322.92|  15000.0|     0.0|    66.0|             9546|\n",
            "+--------+------------------+----------+----------+-----------+-------------+---------+--------+--------+-----------------+\n",
            "only showing top 5 rows\n",
            "\n"
          ]
        }
      ],
      "source": [
        "df.show(5)"
      ]
    },
    {
      "cell_type": "markdown",
      "metadata": {
        "id": "2J6BbUWHqIjb"
      },
      "source": [
        "## Dimensões do *dataframe*"
      ]
    },
    {
      "cell_type": "code",
      "execution_count": 10,
      "metadata": {
        "id": "M2Xwhr1kqLkj",
        "colab": {
          "base_uri": "https://localhost:8080/"
        },
        "outputId": "559ea3e1-a169-4aec-b931-a5c285e305b3"
      },
      "outputs": [
        {
          "output_type": "stream",
          "name": "stdout",
          "text": [
            "Número de colunas: 10.\n",
            "Número de linhas: 53533044.\n"
          ]
        }
      ],
      "source": [
        "print(f'Número de colunas: {len(df.columns)}.')\n",
        "print(f'Número de linhas: {df.count()}.')"
      ]
    },
    {
      "cell_type": "markdown",
      "metadata": {
        "id": "mtDgOqIoqdpJ"
      },
      "source": [
        "### *Schema*"
      ]
    },
    {
      "cell_type": "code",
      "execution_count": 11,
      "metadata": {
        "id": "gXTTfH96qbwF",
        "colab": {
          "base_uri": "https://localhost:8080/"
        },
        "outputId": "f149d9e9-0e8f-4936-f0ea-fa93e4e403c7"
      },
      "outputs": [
        {
          "output_type": "stream",
          "name": "stdout",
          "text": [
            "root\n",
            " |-- TP_FUNDO: string (nullable = true)\n",
            " |-- CNPJ_FUNDO: string (nullable = true)\n",
            " |-- DT_COMPTC: string (nullable = true)\n",
            " |-- VL_TOTAL: double (nullable = true)\n",
            " |-- VL_QUOTA: double (nullable = true)\n",
            " |-- VL_PATRIM_LIQ: double (nullable = true)\n",
            " |-- CAPTC_DIA: double (nullable = true)\n",
            " |-- RESG_DIA: double (nullable = true)\n",
            " |-- NR_COTST: double (nullable = true)\n",
            " |-- __index_level_0__: long (nullable = true)\n",
            "\n"
          ]
        }
      ],
      "source": [
        "df.printSchema()"
      ]
    },
    {
      "cell_type": "markdown",
      "metadata": {
        "id": "qTQYw1yo2Jmk"
      },
      "source": [
        "## Renomeação da coluna `__index_level_0__`"
      ]
    },
    {
      "cell_type": "code",
      "execution_count": 12,
      "metadata": {
        "id": "veoj9-WB2PvB"
      },
      "outputs": [],
      "source": [
        "df = df.withColumnRenamed('__index_level_0__', 'index')"
      ]
    },
    {
      "cell_type": "markdown",
      "metadata": {
        "id": "5wDiU4WpMFwL"
      },
      "source": [
        "# Derivação de dados da coluna `DT_COMPTC`"
      ]
    },
    {
      "cell_type": "code",
      "execution_count": 13,
      "metadata": {
        "id": "HH8_g84Y0x72"
      },
      "outputs": [],
      "source": [
        "import pyspark.sql.functions as f"
      ]
    },
    {
      "cell_type": "markdown",
      "metadata": {
        "id": "3HLYuP0mO2UI"
      },
      "source": [
        "A partir da coluna `DT_COMPTC` novos dados são derivados, são eles as informações de mês do ano (`MONTH_OF_YEAR`), trimestre do ano (`QUARTER_OF_YEAR`) e ano (`YEAR`):"
      ]
    },
    {
      "cell_type": "code",
      "execution_count": 14,
      "metadata": {
        "id": "DifvV68wNSLJ"
      },
      "outputs": [],
      "source": [
        "df = df.withColumn('MONTH_OF_YEAR', f.date_format(df['DT_COMPTC'], 'yyyy-MM'))\\\n",
        "       .withColumn('QUARTER_OF_YEAR', f.concat(f.year(df['DT_COMPTC']), f.lit('Q'), f.quarter(df['DT_COMPTC'])))\\\n",
        "       .withColumn('YEAR', f.year(df['DT_COMPTC']))"
      ]
    },
    {
      "cell_type": "code",
      "execution_count": 15,
      "metadata": {
        "id": "PbJ2INLh1T4l",
        "colab": {
          "base_uri": "https://localhost:8080/"
        },
        "outputId": "c5b5527f-6744-4a08-e97c-041ecedd15c4"
      },
      "outputs": [
        {
          "output_type": "stream",
          "name": "stdout",
          "text": [
            "+--------+------------------+----------+----------+-----------+-------------+---------+--------+--------+-----+-------------+---------------+----+\n",
            "|TP_FUNDO|        CNPJ_FUNDO| DT_COMPTC|  VL_TOTAL|   VL_QUOTA|VL_PATRIM_LIQ|CAPTC_DIA|RESG_DIA|NR_COTST|index|MONTH_OF_YEAR|QUARTER_OF_YEAR|YEAR|\n",
            "+--------+------------------+----------+----------+-----------+-------------+---------+--------+--------+-----+-------------+---------------+----+\n",
            "|   FITVM|01.327.100/0001-90|2001-02-01|4996961.25|20.67480514|   4918122.13|      0.0| 3272.39|    90.0|  257|      2001-02|         2001Q1|2001|\n",
            "|   FITVM|01.327.100/0001-90|2002-01-02|4880231.54|19.48480768|   4125452.72|      0.0|     0.0|    60.0| 9543|      2002-01|         2002Q1|2002|\n",
            "|   FITVM|01.327.100/0001-90|2002-01-03|4669234.46|18.48098376|   4258997.37|346080.91|     0.0|    66.0| 9544|      2002-01|         2002Q1|2002|\n",
            "|   FITVM|01.327.100/0001-90|2002-01-04|4669128.05|18.47629894|   4571682.82|313765.08|     0.0|    66.0| 9545|      2002-01|         2002Q1|2002|\n",
            "|   FITVM|01.327.100/0001-90|2002-01-07|4678730.81|18.51121761|   4595322.92|  15000.0|     0.0|    66.0| 9546|      2002-01|         2002Q1|2002|\n",
            "+--------+------------------+----------+----------+-----------+-------------+---------+--------+--------+-----+-------------+---------------+----+\n",
            "only showing top 5 rows\n",
            "\n"
          ]
        }
      ],
      "source": [
        "df.show(5)"
      ]
    },
    {
      "cell_type": "markdown",
      "metadata": {
        "id": "KL676j2msQsh"
      },
      "source": [
        "# Análise exploratória dos dados"
      ]
    },
    {
      "cell_type": "markdown",
      "metadata": {
        "id": "xjFy8i3FsraT"
      },
      "source": [
        "Essa análise é uma análise definitiva dos dados. Outra análise já foi feita previamente para entender os dados brutos, ou seja, aqueles que foram extraídos dos arquivos do CVM. Quais os tratamentos realizados nos dados posteriormente à análise preliminar?\n",
        "\n",
        "* Remoção dos dados faltantes das colunas `VL_TOTAL` e `NR_COTST`, em ambas as colunas os dados faltantes correspondiam à apenas 0,6% dos dados totais;\n",
        "![missing_values.png](data:image/png;base64,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)\n",
        "* Remoção dos *outliers* utilizando o algoritmo ECOD. A estratégia utilizada foir remover 1% dos \"piores\" dados de cada coluna, o que totalizou uma remoção de 6% do total dos dados brutos."
      ]
    },
    {
      "cell_type": "markdown",
      "metadata": {
        "id": "kWKVPGjQsTDr"
      },
      "source": [
        "## Número de dados faltantantes para cada coluna"
      ]
    },
    {
      "cell_type": "code",
      "execution_count": 16,
      "metadata": {
        "id": "bsEhkrJTsSjW",
        "colab": {
          "base_uri": "https://localhost:8080/"
        },
        "outputId": "2c1dbf76-ee32-479c-e780-52793e2e9055"
      },
      "outputs": [
        {
          "output_type": "stream",
          "name": "stdout",
          "text": [
            "+--------+----------+---------+--------+--------+-------------+---------+--------+--------+-----+-------------+---------------+----+\n",
            "|TP_FUNDO|CNPJ_FUNDO|DT_COMPTC|VL_TOTAL|VL_QUOTA|VL_PATRIM_LIQ|CAPTC_DIA|RESG_DIA|NR_COTST|index|MONTH_OF_YEAR|QUARTER_OF_YEAR|YEAR|\n",
            "+--------+----------+---------+--------+--------+-------------+---------+--------+--------+-----+-------------+---------------+----+\n",
            "|38226889|         0|        0|       0|       0|            0|        0|       0|       0|    0|            0|              0|   0|\n",
            "+--------+----------+---------+--------+--------+-------------+---------+--------+--------+-----+-------------+---------------+----+\n",
            "\n"
          ]
        }
      ],
      "source": [
        "df.select([f.count(f.when(f.isnull(c), c)).alias(c) for c in df.columns]).show()"
      ]
    },
    {
      "cell_type": "markdown",
      "metadata": {
        "id": "9ANNWGJxumxV"
      },
      "source": [
        "## Coluna `TP_FUNDO`"
      ]
    },
    {
      "cell_type": "markdown",
      "metadata": {
        "id": "ORBOrEpluzlG"
      },
      "source": [
        "### Quantidade de tipos de fundo diferentes"
      ]
    },
    {
      "cell_type": "code",
      "execution_count": 17,
      "metadata": {
        "id": "rMEF8BAkuomH",
        "colab": {
          "base_uri": "https://localhost:8080/",
          "height": 35
        },
        "outputId": "c91be79d-2024-465d-ffd2-406febc15e5a"
      },
      "outputs": [
        {
          "output_type": "execute_result",
          "data": {
            "text/plain": [
              "'São ao todo 12 diferentes de fundos na base de dados.'"
            ],
            "application/vnd.google.colaboratory.intrinsic+json": {
              "type": "string"
            }
          },
          "metadata": {},
          "execution_count": 17
        }
      ],
      "source": [
        "f'São ao todo {df.select(\"TP_FUNDO\").distinct().count()} diferentes de fundos na base de dados.'"
      ]
    },
    {
      "cell_type": "markdown",
      "metadata": {
        "id": "XKuxM6givcfg"
      },
      "source": [
        "Sendo eles:"
      ]
    },
    {
      "cell_type": "code",
      "execution_count": 18,
      "metadata": {
        "id": "dWk3brKevAQc",
        "colab": {
          "base_uri": "https://localhost:8080/",
          "height": 426
        },
        "outputId": "e7193ef7-b0f2-45d9-fe65-8389232f7a7d"
      },
      "outputs": [
        {
          "output_type": "execute_result",
          "data": {
            "text/plain": [
              "       TP_FUNDO\n",
              "0            FI\n",
              "1          FAPI\n",
              "2          None\n",
              "3          FIIM\n",
              "4      FMP-FGTS\n",
              "5           FIF\n",
              "6        FIFDIV\n",
              "7     FIC-FITVM\n",
              "8          FIEX\n",
              "9         FITVM\n",
              "10       FACFIF\n",
              "11  FMP-FGTS CL"
            ],
            "text/html": [
              "\n",
              "  <div id=\"df-c83f19a5-0691-4cf1-b19c-aacc4bbb69d0\">\n",
              "    <div class=\"colab-df-container\">\n",
              "      <div>\n",
              "<style scoped>\n",
              "    .dataframe tbody tr th:only-of-type {\n",
              "        vertical-align: middle;\n",
              "    }\n",
              "\n",
              "    .dataframe tbody tr th {\n",
              "        vertical-align: top;\n",
              "    }\n",
              "\n",
              "    .dataframe thead th {\n",
              "        text-align: right;\n",
              "    }\n",
              "</style>\n",
              "<table border=\"1\" class=\"dataframe\">\n",
              "  <thead>\n",
              "    <tr style=\"text-align: right;\">\n",
              "      <th></th>\n",
              "      <th>TP_FUNDO</th>\n",
              "    </tr>\n",
              "  </thead>\n",
              "  <tbody>\n",
              "    <tr>\n",
              "      <th>0</th>\n",
              "      <td>FI</td>\n",
              "    </tr>\n",
              "    <tr>\n",
              "      <th>1</th>\n",
              "      <td>FAPI</td>\n",
              "    </tr>\n",
              "    <tr>\n",
              "      <th>2</th>\n",
              "      <td>None</td>\n",
              "    </tr>\n",
              "    <tr>\n",
              "      <th>3</th>\n",
              "      <td>FIIM</td>\n",
              "    </tr>\n",
              "    <tr>\n",
              "      <th>4</th>\n",
              "      <td>FMP-FGTS</td>\n",
              "    </tr>\n",
              "    <tr>\n",
              "      <th>5</th>\n",
              "      <td>FIF</td>\n",
              "    </tr>\n",
              "    <tr>\n",
              "      <th>6</th>\n",
              "      <td>FIFDIV</td>\n",
              "    </tr>\n",
              "    <tr>\n",
              "      <th>7</th>\n",
              "      <td>FIC-FITVM</td>\n",
              "    </tr>\n",
              "    <tr>\n",
              "      <th>8</th>\n",
              "      <td>FIEX</td>\n",
              "    </tr>\n",
              "    <tr>\n",
              "      <th>9</th>\n",
              "      <td>FITVM</td>\n",
              "    </tr>\n",
              "    <tr>\n",
              "      <th>10</th>\n",
              "      <td>FACFIF</td>\n",
              "    </tr>\n",
              "    <tr>\n",
              "      <th>11</th>\n",
              "      <td>FMP-FGTS CL</td>\n",
              "    </tr>\n",
              "  </tbody>\n",
              "</table>\n",
              "</div>\n",
              "      <button class=\"colab-df-convert\" onclick=\"convertToInteractive('df-c83f19a5-0691-4cf1-b19c-aacc4bbb69d0')\"\n",
              "              title=\"Convert this dataframe to an interactive table.\"\n",
              "              style=\"display:none;\">\n",
              "        \n",
              "  <svg xmlns=\"http://www.w3.org/2000/svg\" height=\"24px\"viewBox=\"0 0 24 24\"\n",
              "       width=\"24px\">\n",
              "    <path d=\"M0 0h24v24H0V0z\" fill=\"none\"/>\n",
              "    <path d=\"M18.56 5.44l.94 2.06.94-2.06 2.06-.94-2.06-.94-.94-2.06-.94 2.06-2.06.94zm-11 1L8.5 8.5l.94-2.06 2.06-.94-2.06-.94L8.5 2.5l-.94 2.06-2.06.94zm10 10l.94 2.06.94-2.06 2.06-.94-2.06-.94-.94-2.06-.94 2.06-2.06.94z\"/><path d=\"M17.41 7.96l-1.37-1.37c-.4-.4-.92-.59-1.43-.59-.52 0-1.04.2-1.43.59L10.3 9.45l-7.72 7.72c-.78.78-.78 2.05 0 2.83L4 21.41c.39.39.9.59 1.41.59.51 0 1.02-.2 1.41-.59l7.78-7.78 2.81-2.81c.8-.78.8-2.07 0-2.86zM5.41 20L4 18.59l7.72-7.72 1.47 1.35L5.41 20z\"/>\n",
              "  </svg>\n",
              "      </button>\n",
              "      \n",
              "  <style>\n",
              "    .colab-df-container {\n",
              "      display:flex;\n",
              "      flex-wrap:wrap;\n",
              "      gap: 12px;\n",
              "    }\n",
              "\n",
              "    .colab-df-convert {\n",
              "      background-color: #E8F0FE;\n",
              "      border: none;\n",
              "      border-radius: 50%;\n",
              "      cursor: pointer;\n",
              "      display: none;\n",
              "      fill: #1967D2;\n",
              "      height: 32px;\n",
              "      padding: 0 0 0 0;\n",
              "      width: 32px;\n",
              "    }\n",
              "\n",
              "    .colab-df-convert:hover {\n",
              "      background-color: #E2EBFA;\n",
              "      box-shadow: 0px 1px 2px rgba(60, 64, 67, 0.3), 0px 1px 3px 1px rgba(60, 64, 67, 0.15);\n",
              "      fill: #174EA6;\n",
              "    }\n",
              "\n",
              "    [theme=dark] .colab-df-convert {\n",
              "      background-color: #3B4455;\n",
              "      fill: #D2E3FC;\n",
              "    }\n",
              "\n",
              "    [theme=dark] .colab-df-convert:hover {\n",
              "      background-color: #434B5C;\n",
              "      box-shadow: 0px 1px 3px 1px rgba(0, 0, 0, 0.15);\n",
              "      filter: drop-shadow(0px 1px 2px rgba(0, 0, 0, 0.3));\n",
              "      fill: #FFFFFF;\n",
              "    }\n",
              "  </style>\n",
              "\n",
              "      <script>\n",
              "        const buttonEl =\n",
              "          document.querySelector('#df-c83f19a5-0691-4cf1-b19c-aacc4bbb69d0 button.colab-df-convert');\n",
              "        buttonEl.style.display =\n",
              "          google.colab.kernel.accessAllowed ? 'block' : 'none';\n",
              "\n",
              "        async function convertToInteractive(key) {\n",
              "          const element = document.querySelector('#df-c83f19a5-0691-4cf1-b19c-aacc4bbb69d0');\n",
              "          const dataTable =\n",
              "            await google.colab.kernel.invokeFunction('convertToInteractive',\n",
              "                                                     [key], {});\n",
              "          if (!dataTable) return;\n",
              "\n",
              "          const docLinkHtml = 'Like what you see? Visit the ' +\n",
              "            '<a target=\"_blank\" href=https://colab.research.google.com/notebooks/data_table.ipynb>data table notebook</a>'\n",
              "            + ' to learn more about interactive tables.';\n",
              "          element.innerHTML = '';\n",
              "          dataTable['output_type'] = 'display_data';\n",
              "          await google.colab.output.renderOutput(dataTable, element);\n",
              "          const docLink = document.createElement('div');\n",
              "          docLink.innerHTML = docLinkHtml;\n",
              "          element.appendChild(docLink);\n",
              "        }\n",
              "      </script>\n",
              "    </div>\n",
              "  </div>\n",
              "  "
            ]
          },
          "metadata": {},
          "execution_count": 18
        }
      ],
      "source": [
        "df.select('TP_FUNDO').distinct().toPandas()"
      ]
    },
    {
      "cell_type": "markdown",
      "metadata": {
        "id": "LIBB7N2rx5h9"
      },
      "source": [
        "### Contagem de dados para cada tipo de fundo"
      ]
    },
    {
      "cell_type": "code",
      "execution_count": 19,
      "metadata": {
        "id": "wHdeG2C_x8Zs"
      },
      "outputs": [],
      "source": [
        "count_fundo = df.groupBy('TP_FUNDO').count().sort('count').toPandas()\n",
        "count_fundo.at[11, 'TP_FUNDO'] = 'Não definido' # modifica-se o valor None em TP_FUNDO para que seja possível plotar o gráfico de barras horizontais"
      ]
    },
    {
      "cell_type": "code",
      "execution_count": 20,
      "metadata": {
        "id": "Dh9lPaPy5EzH",
        "colab": {
          "base_uri": "https://localhost:8080/",
          "height": 426
        },
        "outputId": "330dd7a7-cc08-4eff-d734-fe856a51b0f0"
      },
      "outputs": [
        {
          "output_type": "execute_result",
          "data": {
            "text/plain": [
              "        TP_FUNDO     count\n",
              "0           FIIM       110\n",
              "1         FIFDIV       201\n",
              "2    FMP-FGTS CL      3995\n",
              "3           FAPI      5763\n",
              "4           FIEX      7435\n",
              "5      FIC-FITVM     14460\n",
              "6       FMP-FGTS     48784\n",
              "7          FITVM     81414\n",
              "8            FIF    448774\n",
              "9         FACFIF    449456\n",
              "10            FI  14245763\n",
              "11  Não definido  38226889"
            ],
            "text/html": [
              "\n",
              "  <div id=\"df-ab235552-fe4c-490e-a02d-a4baf26b30d0\">\n",
              "    <div class=\"colab-df-container\">\n",
              "      <div>\n",
              "<style scoped>\n",
              "    .dataframe tbody tr th:only-of-type {\n",
              "        vertical-align: middle;\n",
              "    }\n",
              "\n",
              "    .dataframe tbody tr th {\n",
              "        vertical-align: top;\n",
              "    }\n",
              "\n",
              "    .dataframe thead th {\n",
              "        text-align: right;\n",
              "    }\n",
              "</style>\n",
              "<table border=\"1\" class=\"dataframe\">\n",
              "  <thead>\n",
              "    <tr style=\"text-align: right;\">\n",
              "      <th></th>\n",
              "      <th>TP_FUNDO</th>\n",
              "      <th>count</th>\n",
              "    </tr>\n",
              "  </thead>\n",
              "  <tbody>\n",
              "    <tr>\n",
              "      <th>0</th>\n",
              "      <td>FIIM</td>\n",
              "      <td>110</td>\n",
              "    </tr>\n",
              "    <tr>\n",
              "      <th>1</th>\n",
              "      <td>FIFDIV</td>\n",
              "      <td>201</td>\n",
              "    </tr>\n",
              "    <tr>\n",
              "      <th>2</th>\n",
              "      <td>FMP-FGTS CL</td>\n",
              "      <td>3995</td>\n",
              "    </tr>\n",
              "    <tr>\n",
              "      <th>3</th>\n",
              "      <td>FAPI</td>\n",
              "      <td>5763</td>\n",
              "    </tr>\n",
              "    <tr>\n",
              "      <th>4</th>\n",
              "      <td>FIEX</td>\n",
              "      <td>7435</td>\n",
              "    </tr>\n",
              "    <tr>\n",
              "      <th>5</th>\n",
              "      <td>FIC-FITVM</td>\n",
              "      <td>14460</td>\n",
              "    </tr>\n",
              "    <tr>\n",
              "      <th>6</th>\n",
              "      <td>FMP-FGTS</td>\n",
              "      <td>48784</td>\n",
              "    </tr>\n",
              "    <tr>\n",
              "      <th>7</th>\n",
              "      <td>FITVM</td>\n",
              "      <td>81414</td>\n",
              "    </tr>\n",
              "    <tr>\n",
              "      <th>8</th>\n",
              "      <td>FIF</td>\n",
              "      <td>448774</td>\n",
              "    </tr>\n",
              "    <tr>\n",
              "      <th>9</th>\n",
              "      <td>FACFIF</td>\n",
              "      <td>449456</td>\n",
              "    </tr>\n",
              "    <tr>\n",
              "      <th>10</th>\n",
              "      <td>FI</td>\n",
              "      <td>14245763</td>\n",
              "    </tr>\n",
              "    <tr>\n",
              "      <th>11</th>\n",
              "      <td>Não definido</td>\n",
              "      <td>38226889</td>\n",
              "    </tr>\n",
              "  </tbody>\n",
              "</table>\n",
              "</div>\n",
              "      <button class=\"colab-df-convert\" onclick=\"convertToInteractive('df-ab235552-fe4c-490e-a02d-a4baf26b30d0')\"\n",
              "              title=\"Convert this dataframe to an interactive table.\"\n",
              "              style=\"display:none;\">\n",
              "        \n",
              "  <svg xmlns=\"http://www.w3.org/2000/svg\" height=\"24px\"viewBox=\"0 0 24 24\"\n",
              "       width=\"24px\">\n",
              "    <path d=\"M0 0h24v24H0V0z\" fill=\"none\"/>\n",
              "    <path d=\"M18.56 5.44l.94 2.06.94-2.06 2.06-.94-2.06-.94-.94-2.06-.94 2.06-2.06.94zm-11 1L8.5 8.5l.94-2.06 2.06-.94-2.06-.94L8.5 2.5l-.94 2.06-2.06.94zm10 10l.94 2.06.94-2.06 2.06-.94-2.06-.94-.94-2.06-.94 2.06-2.06.94z\"/><path d=\"M17.41 7.96l-1.37-1.37c-.4-.4-.92-.59-1.43-.59-.52 0-1.04.2-1.43.59L10.3 9.45l-7.72 7.72c-.78.78-.78 2.05 0 2.83L4 21.41c.39.39.9.59 1.41.59.51 0 1.02-.2 1.41-.59l7.78-7.78 2.81-2.81c.8-.78.8-2.07 0-2.86zM5.41 20L4 18.59l7.72-7.72 1.47 1.35L5.41 20z\"/>\n",
              "  </svg>\n",
              "      </button>\n",
              "      \n",
              "  <style>\n",
              "    .colab-df-container {\n",
              "      display:flex;\n",
              "      flex-wrap:wrap;\n",
              "      gap: 12px;\n",
              "    }\n",
              "\n",
              "    .colab-df-convert {\n",
              "      background-color: #E8F0FE;\n",
              "      border: none;\n",
              "      border-radius: 50%;\n",
              "      cursor: pointer;\n",
              "      display: none;\n",
              "      fill: #1967D2;\n",
              "      height: 32px;\n",
              "      padding: 0 0 0 0;\n",
              "      width: 32px;\n",
              "    }\n",
              "\n",
              "    .colab-df-convert:hover {\n",
              "      background-color: #E2EBFA;\n",
              "      box-shadow: 0px 1px 2px rgba(60, 64, 67, 0.3), 0px 1px 3px 1px rgba(60, 64, 67, 0.15);\n",
              "      fill: #174EA6;\n",
              "    }\n",
              "\n",
              "    [theme=dark] .colab-df-convert {\n",
              "      background-color: #3B4455;\n",
              "      fill: #D2E3FC;\n",
              "    }\n",
              "\n",
              "    [theme=dark] .colab-df-convert:hover {\n",
              "      background-color: #434B5C;\n",
              "      box-shadow: 0px 1px 3px 1px rgba(0, 0, 0, 0.15);\n",
              "      filter: drop-shadow(0px 1px 2px rgba(0, 0, 0, 0.3));\n",
              "      fill: #FFFFFF;\n",
              "    }\n",
              "  </style>\n",
              "\n",
              "      <script>\n",
              "        const buttonEl =\n",
              "          document.querySelector('#df-ab235552-fe4c-490e-a02d-a4baf26b30d0 button.colab-df-convert');\n",
              "        buttonEl.style.display =\n",
              "          google.colab.kernel.accessAllowed ? 'block' : 'none';\n",
              "\n",
              "        async function convertToInteractive(key) {\n",
              "          const element = document.querySelector('#df-ab235552-fe4c-490e-a02d-a4baf26b30d0');\n",
              "          const dataTable =\n",
              "            await google.colab.kernel.invokeFunction('convertToInteractive',\n",
              "                                                     [key], {});\n",
              "          if (!dataTable) return;\n",
              "\n",
              "          const docLinkHtml = 'Like what you see? Visit the ' +\n",
              "            '<a target=\"_blank\" href=https://colab.research.google.com/notebooks/data_table.ipynb>data table notebook</a>'\n",
              "            + ' to learn more about interactive tables.';\n",
              "          element.innerHTML = '';\n",
              "          dataTable['output_type'] = 'display_data';\n",
              "          await google.colab.output.renderOutput(dataTable, element);\n",
              "          const docLink = document.createElement('div');\n",
              "          docLink.innerHTML = docLinkHtml;\n",
              "          element.appendChild(docLink);\n",
              "        }\n",
              "      </script>\n",
              "    </div>\n",
              "  </div>\n",
              "  "
            ]
          },
          "metadata": {},
          "execution_count": 20
        }
      ],
      "source": [
        "count_fundo"
      ]
    },
    {
      "cell_type": "code",
      "execution_count": 21,
      "metadata": {
        "id": "dHNTIRMz0Ggw",
        "colab": {
          "base_uri": "https://localhost:8080/",
          "height": 613
        },
        "outputId": "1d0cc450-b19e-43d7-bb0a-fbf90aa84a44"
      },
      "outputs": [
        {
          "output_type": "display_data",
          "data": {
            "text/plain": [
              "<Figure size 864x720 with 1 Axes>"
            ],
            "image/png": "[encoded data removed]"
          },
          "metadata": {}
        }
      ],
      "source": [
        "plt.figure(figsize= (12, 10))\n",
        "plt.ticklabel_format(style= 'plain')\n",
        "bars = plt.barh(y= count_fundo['TP_FUNDO'], width= count_fundo['count'])\n",
        "\n",
        "for index, bar in enumerate(bars):\n",
        "  plt.text(bar.get_width() + 100000, index - 0.1, bar.get_width(), fontsize= 12)\n",
        "\n",
        "plt.title('Número de fundos por tipo de fundo', fontsize= 16)\n",
        "plt.xlim([0, 45000000])\n",
        "plt.show()"
      ]
    },
    {
      "cell_type": "markdown",
      "metadata": {
        "id": "ZrQtyaec73sE"
      },
      "source": [
        "Há uma quantidade absurda de dados faltantes na coluna `TP_FUNDO`. Esses dados estão concentrados nos anos:"
      ]
    },
    {
      "cell_type": "code",
      "execution_count": 22,
      "metadata": {
        "id": "VM4P4UqY8WJy",
        "colab": {
          "base_uri": "https://localhost:8080/"
        },
        "outputId": "d1ae079d-4311-4d14-a348-20f84a5fdd08"
      },
      "outputs": [
        {
          "output_type": "stream",
          "name": "stdout",
          "text": [
            "+----+-----------+-------+\n",
            "|YEAR|   TP_FUNDO|  count|\n",
            "+----+-----------+-------+\n",
            "|2001|      FITVM|      1|\n",
            "|2002|  FIC-FITVM|      4|\n",
            "|2002|   FMP-FGTS|      9|\n",
            "|2002|      FITVM|    156|\n",
            "|2003|      FITVM|    175|\n",
            "|2003|  FIC-FITVM|     16|\n",
            "|2003|   FMP-FGTS|     11|\n",
            "|2003|        FIF|      4|\n",
            "|2004|  FIC-FITVM|  14440|\n",
            "|2004|FMP-FGTS CL|   1268|\n",
            "|2004|     FIFDIV|    201|\n",
            "|2004|       FIEX|   7435|\n",
            "|2004|         FI|   1350|\n",
            "|2004|   FMP-FGTS|  15714|\n",
            "|2004|        FIF| 448770|\n",
            "|2004|      FITVM|  81082|\n",
            "|2004|       FIIM|    110|\n",
            "|2004|     FACFIF| 449456|\n",
            "|2005|       null|1329280|\n",
            "|2006|       null|1375844|\n",
            "|2007|       null|1621264|\n",
            "|2008|       null|1912990|\n",
            "|2009|       null|1907235|\n",
            "|2010|       null|2155226|\n",
            "|2011|       null|2415862|\n",
            "|2012|       null|2600325|\n",
            "|2013|       null|2890042|\n",
            "|2014|       null|3059532|\n",
            "|2015|       null|3043170|\n",
            "|2016|       null|3060074|\n",
            "|2017|       null|3166730|\n",
            "|2018|       null|3355353|\n",
            "|2019|FMP-FGTS CL|    105|\n",
            "|2019|         FI| 321016|\n",
            "|2019|       null|3356055|\n",
            "|2019|   FMP-FGTS|   1365|\n",
            "|2019|       FAPI|    168|\n",
            "|2020|   FMP-FGTS|  11791|\n",
            "|2020|         FI|3205982|\n",
            "|2020|       null| 977907|\n",
            "|2020|FMP-FGTS CL|    903|\n",
            "|2020|       FAPI|   1510|\n",
            "|2021|FMP-FGTS CL|   1255|\n",
            "|2021|   FMP-FGTS|  15680|\n",
            "|2021|       FAPI|   2005|\n",
            "|2021|         FI|4957285|\n",
            "|2022|FMP-FGTS CL|    464|\n",
            "|2022|   FMP-FGTS|   4214|\n",
            "|2022|         FI|5555188|\n",
            "|2022|       FAPI|   2008|\n",
            "|2023|         FI| 204942|\n",
            "|2023|       FAPI|     72|\n",
            "+----+-----------+-------+\n",
            "\n"
          ]
        }
      ],
      "source": [
        "df.groupBy('YEAR', 'TP_FUNDO').count().sort('YEAR').show(n= 200)"
      ]
    },
    {
      "cell_type": "markdown",
      "metadata": {
        "id": "W53HKz3MB-V4"
      },
      "source": [
        "Entre 2005 e 2018 todos os dados não possuem especificação quanto ao tipo de fundo. "
      ]
    },
    {
      "cell_type": "markdown",
      "metadata": {
        "id": "r3aUxOKAwRE4"
      },
      "source": [
        "## Coluna `VL_TOTAL`"
      ]
    },
    {
      "cell_type": "markdown",
      "metadata": {
        "id": "1fCws3qY6rO-"
      },
      "source": [
        "### Estatísticas descritivas"
      ]
    },
    {
      "cell_type": "code",
      "execution_count": 23,
      "metadata": {
        "id": "ni1rNcfO6uVB",
        "colab": {
          "base_uri": "https://localhost:8080/"
        },
        "outputId": "889d8aff-6ded-4069-87de-725004733e1b"
      },
      "outputs": [
        {
          "output_type": "stream",
          "name": "stdout",
          "text": [
            "+-------+--------------------+\n",
            "|summary|VL_TOTAL            |\n",
            "+-------+--------------------+\n",
            "|count  |53533044            |\n",
            "|mean   |1.5141681747704542E8|\n",
            "|stddev |3.617127322129501E8 |\n",
            "|min    |277316.79           |\n",
            "|max    |1.014072060706E10   |\n",
            "+-------+--------------------+\n",
            "\n"
          ]
        }
      ],
      "source": [
        "df.describe('VL_TOTAL').show(truncate= False)"
      ]
    },
    {
      "cell_type": "markdown",
      "metadata": {
        "id": "VM3halJOxqig"
      },
      "source": [
        "### Análise por trimestre (`QUARTER_OF_YEAR`)"
      ]
    },
    {
      "cell_type": "code",
      "execution_count": 24,
      "metadata": {
        "id": "6T_s8xK7weYm"
      },
      "outputs": [],
      "source": [
        "avg_total_per_quarter = df.groupBy('QUARTER_OF_YEAR').agg(f.avg('VL_TOTAL')).orderBy('QUARTER_OF_YEAR').toPandas()"
      ]
    },
    {
      "cell_type": "code",
      "execution_count": 25,
      "metadata": {
        "id": "MfV9y6RwwWsM",
        "colab": {
          "base_uri": "https://localhost:8080/",
          "height": 542
        },
        "outputId": "e4f9ba24-faaa-418e-8b9e-6e7dd78e7a16"
      },
      "outputs": [
        {
          "output_type": "display_data",
          "data": {
            "text/html": [
              "<html>\n",
              "<head><meta charset=\"utf-8\" /></head>\n",
              "<body>\n",
              "    <div>            <script src=\"https://cdnjs.cloudflare.com/ajax/libs/mathjax/2.7.5/MathJax.js?config=TeX-AMS-MML_SVG\"></script><script type=\"text/javascript\">if (window.MathJax) {MathJax.Hub.Config({SVG: {font: \"STIX-Web\"}});}</script>                <script type=\"text/javascript\">window.PlotlyConfig = {MathJaxConfig: 'local'};</script>\n",
              "        <script src=\"https://cdn.plot.ly/plotly-2.8.3.min.js\"></script>                <div id=\"4cdb4450-a185-49f3-bcc9-5abe9317617d\" class=\"plotly-graph-div\" style=\"height:525px; width:100%;\"></div>            <script type=\"text/javascript\">                                    window.PLOTLYENV=window.PLOTLYENV || {};                                    if (document.getElementById(\"4cdb4450-a185-49f3-bcc9-5abe9317617d\")) {                    Plotly.newPlot(                        \"4cdb4450-a185-49f3-bcc9-5abe9317617d\",                        [{\"hovertemplate\":\"QUARTER_OF_YEAR=%{x}<br>avg(VL_TOTAL)=%{y}<extra></extra>\",\"legendgroup\":\"\",\"line\":{\"color\":\"#636efa\",\"dash\":\"solid\"},\"marker\":{\"symbol\":\"circle\"},\"mode\":\"lines+markers\",\"name\":\"\",\"orientation\":\"v\",\"showlegend\":false,\"x\":[\"2001Q1\",\"2002Q1\",\"2002Q2\",\"2002Q3\",\"2002Q4\",\"2003Q1\",\"2003Q2\",\"2003Q3\",\"2003Q4\",\"2004Q1\",\"2004Q2\",\"2004Q3\",\"2004Q4\",\"2005Q1\",\"2005Q2\",\"2005Q3\",\"2005Q4\",\"2006Q1\",\"2006Q2\",\"2006Q3\",\"2006Q4\",\"2007Q1\",\"2007Q2\",\"2007Q3\",\"2007Q4\",\"2008Q1\",\"2008Q2\",\"2008Q3\",\"2008Q4\",\"2009Q1\",\"2009Q2\",\"2009Q3\",\"2009Q4\",\"2010Q1\",\"2010Q2\",\"2010Q3\",\"2010Q4\",\"2011Q1\",\"2011Q2\",\"2011Q3\",\"2011Q4\",\"2012Q1\",\"2012Q2\",\"2012Q3\",\"2012Q4\",\"2013Q1\",\"2013Q2\",\"2013Q3\",\"2013Q4\",\"2014Q1\",\"2014Q2\",\"2014Q3\",\"2014Q4\",\"2015Q1\",\"2015Q2\",\"2015Q3\",\"2015Q4\",\"2016Q1\",\"2016Q2\",\"2016Q3\",\"2016Q4\",\"2017Q1\",\"2017Q2\",\"2017Q3\",\"2017Q4\",\"2018Q1\",\"2018Q2\",\"2018Q3\",\"2018Q4\",\"2019Q1\",\"2019Q2\",\"2019Q3\",\"2019Q4\",\"2020Q1\",\"2020Q2\",\"2020Q3\",\"2020Q4\",\"2021Q1\",\"2021Q2\",\"2021Q3\",\"2021Q4\",\"2022Q1\",\"2022Q2\",\"2022Q3\",\"2022Q4\",\"2023Q1\"],\"xaxis\":\"x\",\"y\":[4996961.25,6762960.011063831,87382270.32736112,20150066.299722217,13014745.242142856,7737951.007049181,31721908.431739133,328665714.83171713,15629799.520434782,43444721.30808449,93545286.31392868,95674217.14837518,97272902.46191472,101849567.79677303,105939402.62518454,111061884.42091514,117161018.17206249,123325892.95955601,128649814.49490075,132177954.01326784,132385156.94422944,136445018.1086005,135028622.5814089,131149357.13582192,127850127.38822825,124582874.12204768,119890945.98719518,114471551.21355785,106640332.70817724,112475373.77966613,116266528.3370253,122253713.27477488,125436622.80156891,125868282.4181006,125345136.70791882,125743280.37928006,127405983.50344793,130351022.52959462,128817255.23780955,127537757.05141574,129330421.57553017,132533009.19379857,131530193.76686645,134750555.59619498,135193511.6398961,137786394.25855303,138883726.6592024,137245581.16094983,134274893.3388821,132334445.3400478,133039516.87210692,133949960.77859357,132536524.78162576,133662561.86940993,135930637.42699343,136958822.3916063,137394317.4318148,138375169.26050484,143015156.83424786,146053705.39881638,147424223.52211604,153946068.4707203,158173985.11144832,162691966.5840997,166619648.26594555,173213781.16695485,174225276.06665075,174715449.8069334,176645475.73530245,178812044.5345508,180192739.05287948,185189789.52586088,185676855.47054246,184237582.51784933,180421344.39341694,188123165.966538,188539190.78136945,189734425.58231735,188717479.54082248,185221178.25693226,176297612.290068,171130173.48265517,167982838.58195475,166097005.54141667,168067691.52925804,165893339.59652668],\"yaxis\":\"y\",\"type\":\"scatter\"}],                        {\"template\":{\"data\":{\"bar\":[{\"error_x\":{\"color\":\"#2a3f5f\"},\"error_y\":{\"color\":\"#2a3f5f\"},\"marker\":{\"line\":{\"color\":\"#E5ECF6\",\"width\":0.5},\"pattern\":{\"fillmode\":\"overlay\",\"size\":10,\"solidity\":0.2}},\"type\":\"bar\"}],\"barpolar\":[{\"marker\":{\"line\":{\"color\":\"#E5ECF6\",\"width\":0.5},\"pattern\":{\"fillmode\":\"overlay\",\"size\":10,\"solidity\":0.2}},\"type\":\"barpolar\"}],\"carpet\":[{\"aaxis\":{\"endlinecolor\":\"#2a3f5f\",\"gridcolor\":\"white\",\"linecolor\":\"white\",\"minorgridcolor\":\"white\",\"startlinecolor\":\"#2a3f5f\"},\"baxis\":{\"endlinecolor\":\"#2a3f5f\",\"gridcolor\":\"white\",\"linecolor\":\"white\",\"minorgridcolor\":\"white\",\"startlinecolor\":\"#2a3f5f\"},\"type\":\"carpet\"}],\"choropleth\":[{\"colorbar\":{\"outlinewidth\":0,\"ticks\":\"\"},\"type\":\"choropleth\"}],\"contour\":[{\"colorbar\":{\"outlinewidth\":0,\"ticks\":\"\"},\"colorscale\":[[0.0,\"#0d0887\"],[0.1111111111111111,\"#46039f\"],[0.2222222222222222,\"#7201a8\"],[0.3333333333333333,\"#9c179e\"],[0.4444444444444444,\"#bd3786\"],[0.5555555555555556,\"#d8576b\"],[0.6666666666666666,\"#ed7953\"],[0.7777777777777778,\"#fb9f3a\"],[0.8888888888888888,\"#fdca26\"],[1.0,\"#f0f921\"]],\"type\":\"contour\"}],\"contourcarpet\":[{\"colorbar\":{\"outlinewidth\":0,\"ticks\":\"\"},\"type\":\"contourcarpet\"}],\"heatmap\":[{\"colorbar\":{\"outlinewidth\":0,\"ticks\":\"\"},\"colorscale\":[[0.0,\"#0d0887\"],[0.1111111111111111,\"#46039f\"],[0.2222222222222222,\"#7201a8\"],[0.3333333333333333,\"#9c179e\"],[0.4444444444444444,\"#bd3786\"],[0.5555555555555556,\"#d8576b\"],[0.6666666666666666,\"#ed7953\"],[0.7777777777777778,\"#fb9f3a\"],[0.8888888888888888,\"#fdca26\"],[1.0,\"#f0f921\"]],\"type\":\"heatmap\"}],\"heatmapgl\":[{\"colorbar\":{\"outlinewidth\":0,\"ticks\":\"\"},\"colorscale\":[[0.0,\"#0d0887\"],[0.1111111111111111,\"#46039f\"],[0.2222222222222222,\"#7201a8\"],[0.3333333333333333,\"#9c179e\"],[0.4444444444444444,\"#bd3786\"],[0.5555555555555556,\"#d8576b\"],[0.6666666666666666,\"#ed7953\"],[0.7777777777777778,\"#fb9f3a\"],[0.8888888888888888,\"#fdca26\"],[1.0,\"#f0f921\"]],\"type\":\"heatmapgl\"}],\"histogram\":[{\"marker\":{\"pattern\":{\"fillmode\":\"overlay\",\"size\":10,\"solidity\":0.2}},\"type\":\"histogram\"}],\"histogram2d\":[{\"colorbar\":{\"outlinewidth\":0,\"ticks\":\"\"},\"colorscale\":[[0.0,\"#0d0887\"],[0.1111111111111111,\"#46039f\"],[0.2222222222222222,\"#7201a8\"],[0.3333333333333333,\"#9c179e\"],[0.4444444444444444,\"#bd3786\"],[0.5555555555555556,\"#d8576b\"],[0.6666666666666666,\"#ed7953\"],[0.7777777777777778,\"#fb9f3a\"],[0.8888888888888888,\"#fdca26\"],[1.0,\"#f0f921\"]],\"type\":\"histogram2d\"}],\"histogram2dcontour\":[{\"colorbar\":{\"outlinewidth\":0,\"ticks\":\"\"},\"colorscale\":[[0.0,\"#0d0887\"],[0.1111111111111111,\"#46039f\"],[0.2222222222222222,\"#7201a8\"],[0.3333333333333333,\"#9c179e\"],[0.4444444444444444,\"#bd3786\"],[0.5555555555555556,\"#d8576b\"],[0.6666666666666666,\"#ed7953\"],[0.7777777777777778,\"#fb9f3a\"],[0.8888888888888888,\"#fdca26\"],[1.0,\"#f0f921\"]],\"type\":\"histogram2dcontour\"}],\"mesh3d\":[{\"colorbar\":{\"outlinewidth\":0,\"ticks\":\"\"},\"type\":\"mesh3d\"}],\"parcoords\":[{\"line\":{\"colorbar\":{\"outlinewidth\":0,\"ticks\":\"\"}},\"type\":\"parcoords\"}],\"pie\":[{\"automargin\":true,\"type\":\"pie\"}],\"scatter\":[{\"marker\":{\"colorbar\":{\"outlinewidth\":0,\"ticks\":\"\"}},\"type\":\"scatter\"}],\"scatter3d\":[{\"line\":{\"colorbar\":{\"outlinewidth\":0,\"ticks\":\"\"}},\"marker\":{\"colorbar\":{\"outlinewidth\":0,\"ticks\":\"\"}},\"type\":\"scatter3d\"}],\"scattercarpet\":[{\"marker\":{\"colorbar\":{\"outlinewidth\":0,\"ticks\":\"\"}},\"type\":\"scattercarpet\"}],\"scattergeo\":[{\"marker\":{\"colorbar\":{\"outlinewidth\":0,\"ticks\":\"\"}},\"type\":\"scattergeo\"}],\"scattergl\":[{\"marker\":{\"colorbar\":{\"outlinewidth\":0,\"ticks\":\"\"}},\"type\":\"scattergl\"}],\"scattermapbox\":[{\"marker\":{\"colorbar\":{\"outlinewidth\":0,\"ticks\":\"\"}},\"type\":\"scattermapbox\"}],\"scatterpolar\":[{\"marker\":{\"colorbar\":{\"outlinewidth\":0,\"ticks\":\"\"}},\"type\":\"scatterpolar\"}],\"scatterpolargl\":[{\"marker\":{\"colorbar\":{\"outlinewidth\":0,\"ticks\":\"\"}},\"type\":\"scatterpolargl\"}],\"scatterternary\":[{\"marker\":{\"colorbar\":{\"outlinewidth\":0,\"ticks\":\"\"}},\"type\":\"scatterternary\"}],\"surface\":[{\"colorbar\":{\"outlinewidth\":0,\"ticks\":\"\"},\"colorscale\":[[0.0,\"#0d0887\"],[0.1111111111111111,\"#46039f\"],[0.2222222222222222,\"#7201a8\"],[0.3333333333333333,\"#9c179e\"],[0.4444444444444444,\"#bd3786\"],[0.5555555555555556,\"#d8576b\"],[0.6666666666666666,\"#ed7953\"],[0.7777777777777778,\"#fb9f3a\"],[0.8888888888888888,\"#fdca26\"],[1.0,\"#f0f921\"]],\"type\":\"surface\"}],\"table\":[{\"cells\":{\"fill\":{\"color\":\"#EBF0F8\"},\"line\":{\"color\":\"white\"}},\"header\":{\"fill\":{\"color\":\"#C8D4E3\"},\"line\":{\"color\":\"white\"}},\"type\":\"table\"}]},\"layout\":{\"annotationdefaults\":{\"arrowcolor\":\"#2a3f5f\",\"arrowhead\":0,\"arrowwidth\":1},\"autotypenumbers\":\"strict\",\"coloraxis\":{\"colorbar\":{\"outlinewidth\":0,\"ticks\":\"\"}},\"colorscale\":{\"diverging\":[[0,\"#8e0152\"],[0.1,\"#c51b7d\"],[0.2,\"#de77ae\"],[0.3,\"#f1b6da\"],[0.4,\"#fde0ef\"],[0.5,\"#f7f7f7\"],[0.6,\"#e6f5d0\"],[0.7,\"#b8e186\"],[0.8,\"#7fbc41\"],[0.9,\"#4d9221\"],[1,\"#276419\"]],\"sequential\":[[0.0,\"#0d0887\"],[0.1111111111111111,\"#46039f\"],[0.2222222222222222,\"#7201a8\"],[0.3333333333333333,\"#9c179e\"],[0.4444444444444444,\"#bd3786\"],[0.5555555555555556,\"#d8576b\"],[0.6666666666666666,\"#ed7953\"],[0.7777777777777778,\"#fb9f3a\"],[0.8888888888888888,\"#fdca26\"],[1.0,\"#f0f921\"]],\"sequentialminus\":[[0.0,\"#0d0887\"],[0.1111111111111111,\"#46039f\"],[0.2222222222222222,\"#7201a8\"],[0.3333333333333333,\"#9c179e\"],[0.4444444444444444,\"#bd3786\"],[0.5555555555555556,\"#d8576b\"],[0.6666666666666666,\"#ed7953\"],[0.7777777777777778,\"#fb9f3a\"],[0.8888888888888888,\"#fdca26\"],[1.0,\"#f0f921\"]]},\"colorway\":[\"#636efa\",\"#EF553B\",\"#00cc96\",\"#ab63fa\",\"#FFA15A\",\"#19d3f3\",\"#FF6692\",\"#B6E880\",\"#FF97FF\",\"#FECB52\"],\"font\":{\"color\":\"#2a3f5f\"},\"geo\":{\"bgcolor\":\"white\",\"lakecolor\":\"white\",\"landcolor\":\"#E5ECF6\",\"showlakes\":true,\"showland\":true,\"subunitcolor\":\"white\"},\"hoverlabel\":{\"align\":\"left\"},\"hovermode\":\"closest\",\"mapbox\":{\"style\":\"light\"},\"paper_bgcolor\":\"white\",\"plot_bgcolor\":\"#E5ECF6\",\"polar\":{\"angularaxis\":{\"gridcolor\":\"white\",\"linecolor\":\"white\",\"ticks\":\"\"},\"bgcolor\":\"#E5ECF6\",\"radialaxis\":{\"gridcolor\":\"white\",\"linecolor\":\"white\",\"ticks\":\"\"}},\"scene\":{\"xaxis\":{\"backgroundcolor\":\"#E5ECF6\",\"gridcolor\":\"white\",\"gridwidth\":2,\"linecolor\":\"white\",\"showbackground\":true,\"ticks\":\"\",\"zerolinecolor\":\"white\"},\"yaxis\":{\"backgroundcolor\":\"#E5ECF6\",\"gridcolor\":\"white\",\"gridwidth\":2,\"linecolor\":\"white\",\"showbackground\":true,\"ticks\":\"\",\"zerolinecolor\":\"white\"},\"zaxis\":{\"backgroundcolor\":\"#E5ECF6\",\"gridcolor\":\"white\",\"gridwidth\":2,\"linecolor\":\"white\",\"showbackground\":true,\"ticks\":\"\",\"zerolinecolor\":\"white\"}},\"shapedefaults\":{\"line\":{\"color\":\"#2a3f5f\"}},\"ternary\":{\"aaxis\":{\"gridcolor\":\"white\",\"linecolor\":\"white\",\"ticks\":\"\"},\"baxis\":{\"gridcolor\":\"white\",\"linecolor\":\"white\",\"ticks\":\"\"},\"bgcolor\":\"#E5ECF6\",\"caxis\":{\"gridcolor\":\"white\",\"linecolor\":\"white\",\"ticks\":\"\"}},\"title\":{\"x\":0.05},\"xaxis\":{\"automargin\":true,\"gridcolor\":\"white\",\"linecolor\":\"white\",\"ticks\":\"\",\"title\":{\"standoff\":15},\"zerolinecolor\":\"white\",\"zerolinewidth\":2},\"yaxis\":{\"automargin\":true,\"gridcolor\":\"white\",\"linecolor\":\"white\",\"ticks\":\"\",\"title\":{\"standoff\":15},\"zerolinecolor\":\"white\",\"zerolinewidth\":2}}},\"xaxis\":{\"anchor\":\"y\",\"domain\":[0.0,1.0],\"title\":{\"text\":\"Trimestres\"}},\"yaxis\":{\"anchor\":\"x\",\"domain\":[0.0,1.0],\"title\":{\"text\":\"M\\u00e9dia do VL_TOTAL\"}},\"legend\":{\"tracegroupgap\":0},\"title\":{\"text\":\"M\\u00e9dia trimestral do VL_TOTAL entre 2000 e 2023\",\"x\":0.5}},                        {\"responsive\": true}                    ).then(function(){\n",
              "                            \n",
              "var gd = document.getElementById('4cdb4450-a185-49f3-bcc9-5abe9317617d');\n",
              "var x = new MutationObserver(function (mutations, observer) {{\n",
              "        var display = window.getComputedStyle(gd).display;\n",
              "        if (!display || display === 'none') {{\n",
              "            console.log([gd, 'removed!']);\n",
              "            Plotly.purge(gd);\n",
              "            observer.disconnect();\n",
              "        }}\n",
              "}});\n",
              "\n",
              "// Listen for the removal of the full notebook cells\n",
              "var notebookContainer = gd.closest('#notebook-container');\n",
              "if (notebookContainer) {{\n",
              "    x.observe(notebookContainer, {childList: true});\n",
              "}}\n",
              "\n",
              "// Listen for the clearing of the current output cell\n",
              "var outputEl = gd.closest('.output');\n",
              "if (outputEl) {{\n",
              "    x.observe(outputEl, {childList: true});\n",
              "}}\n",
              "\n",
              "                        })                };                            </script>        </div>\n",
              "</body>\n",
              "</html>"
            ]
          },
          "metadata": {}
        }
      ],
      "source": [
        "fig = px.line(\n",
        "    data_frame= avg_total_per_quarter,\n",
        "    x= 'QUARTER_OF_YEAR',\n",
        "    y= 'avg(VL_TOTAL)',\n",
        "    markers= True,\n",
        "    title= 'Média trimestral do VL_TOTAL entre 2000 e 2023'\n",
        ")\n",
        "fig.update_layout(title= {'x': 0.5}, xaxis_title= 'Trimestres', yaxis_title= 'Média do VL_TOTAL')\n",
        "fig.show()"
      ]
    },
    {
      "cell_type": "markdown",
      "metadata": {
        "id": "BTaAmgXrEGSo"
      },
      "source": [
        "### Análise por ano (`YEAR`)"
      ]
    },
    {
      "cell_type": "code",
      "execution_count": 26,
      "metadata": {
        "id": "-rMm930yEIiW"
      },
      "outputs": [],
      "source": [
        "avg_total_per_year = df.groupBy('YEAR').agg(f.avg('VL_TOTAL')).orderBy('YEAR').toPandas()"
      ]
    },
    {
      "cell_type": "code",
      "execution_count": 27,
      "metadata": {
        "id": "6kviZBWrEQSP",
        "colab": {
          "base_uri": "https://localhost:8080/",
          "height": 542
        },
        "outputId": "92360487-7f7a-404e-ec77-5b144633f2bd"
      },
      "outputs": [
        {
          "output_type": "display_data",
          "data": {
            "text/html": [
              "<html>\n",
              "<head><meta charset=\"utf-8\" /></head>\n",
              "<body>\n",
              "    <div>            <script src=\"https://cdnjs.cloudflare.com/ajax/libs/mathjax/2.7.5/MathJax.js?config=TeX-AMS-MML_SVG\"></script><script type=\"text/javascript\">if (window.MathJax) {MathJax.Hub.Config({SVG: {font: \"STIX-Web\"}});}</script>                <script type=\"text/javascript\">window.PlotlyConfig = {MathJaxConfig: 'local'};</script>\n",
              "        <script src=\"https://cdn.plot.ly/plotly-2.8.3.min.js\"></script>                <div id=\"313e7e7b-3332-4291-9807-16ce601a928b\" class=\"plotly-graph-div\" style=\"height:525px; width:100%;\"></div>            <script type=\"text/javascript\">                                    window.PLOTLYENV=window.PLOTLYENV || {};                                    if (document.getElementById(\"313e7e7b-3332-4291-9807-16ce601a928b\")) {                    Plotly.newPlot(                        \"313e7e7b-3332-4291-9807-16ce601a928b\",                        [{\"hovertemplate\":\"YEAR=%{x}<br>avg(VL_TOTAL)=%{y}<extra></extra>\",\"legendgroup\":\"\",\"line\":{\"color\":\"red\",\"dash\":\"solid\"},\"marker\":{\"symbol\":\"circle\"},\"mode\":\"lines+markers\",\"name\":\"\",\"orientation\":\"v\",\"showlegend\":false,\"x\":[2001,2002,2003,2004,2005,2006,2007,2008,2009,2010,2011,2012,2013,2014,2015,2016,2017,2018,2019,2020,2021,2022,2023],\"xaxis\":\"x\",\"y\":[4996961.25,44479239.07852071,165529175.06150484,95507297.25109097,109051696.07534435,129182927.33880785,132355503.43204178,116199428.40173522,119319068.49052498,126113223.48705581,128978186.33513941,133538997.02256379,136994018.18616703,132980078.97198887,136014942.2664747,143774098.23720598,160422437.06104267,174724249.2148644,182634080.90322232,185496012.07163835,184713912.82266372,168267052.3792382,165893339.59652668],\"yaxis\":\"y\",\"type\":\"scatter\"}],                        {\"template\":{\"data\":{\"bar\":[{\"error_x\":{\"color\":\"#2a3f5f\"},\"error_y\":{\"color\":\"#2a3f5f\"},\"marker\":{\"line\":{\"color\":\"#E5ECF6\",\"width\":0.5},\"pattern\":{\"fillmode\":\"overlay\",\"size\":10,\"solidity\":0.2}},\"type\":\"bar\"}],\"barpolar\":[{\"marker\":{\"line\":{\"color\":\"#E5ECF6\",\"width\":0.5},\"pattern\":{\"fillmode\":\"overlay\",\"size\":10,\"solidity\":0.2}},\"type\":\"barpolar\"}],\"carpet\":[{\"aaxis\":{\"endlinecolor\":\"#2a3f5f\",\"gridcolor\":\"white\",\"linecolor\":\"white\",\"minorgridcolor\":\"white\",\"startlinecolor\":\"#2a3f5f\"},\"baxis\":{\"endlinecolor\":\"#2a3f5f\",\"gridcolor\":\"white\",\"linecolor\":\"white\",\"minorgridcolor\":\"white\",\"startlinecolor\":\"#2a3f5f\"},\"type\":\"carpet\"}],\"choropleth\":[{\"colorbar\":{\"outlinewidth\":0,\"ticks\":\"\"},\"type\":\"choropleth\"}],\"contour\":[{\"colorbar\":{\"outlinewidth\":0,\"ticks\":\"\"},\"colorscale\":[[0.0,\"#0d0887\"],[0.1111111111111111,\"#46039f\"],[0.2222222222222222,\"#7201a8\"],[0.3333333333333333,\"#9c179e\"],[0.4444444444444444,\"#bd3786\"],[0.5555555555555556,\"#d8576b\"],[0.6666666666666666,\"#ed7953\"],[0.7777777777777778,\"#fb9f3a\"],[0.8888888888888888,\"#fdca26\"],[1.0,\"#f0f921\"]],\"type\":\"contour\"}],\"contourcarpet\":[{\"colorbar\":{\"outlinewidth\":0,\"ticks\":\"\"},\"type\":\"contourcarpet\"}],\"heatmap\":[{\"colorbar\":{\"outlinewidth\":0,\"ticks\":\"\"},\"colorscale\":[[0.0,\"#0d0887\"],[0.1111111111111111,\"#46039f\"],[0.2222222222222222,\"#7201a8\"],[0.3333333333333333,\"#9c179e\"],[0.4444444444444444,\"#bd3786\"],[0.5555555555555556,\"#d8576b\"],[0.6666666666666666,\"#ed7953\"],[0.7777777777777778,\"#fb9f3a\"],[0.8888888888888888,\"#fdca26\"],[1.0,\"#f0f921\"]],\"type\":\"heatmap\"}],\"heatmapgl\":[{\"colorbar\":{\"outlinewidth\":0,\"ticks\":\"\"},\"colorscale\":[[0.0,\"#0d0887\"],[0.1111111111111111,\"#46039f\"],[0.2222222222222222,\"#7201a8\"],[0.3333333333333333,\"#9c179e\"],[0.4444444444444444,\"#bd3786\"],[0.5555555555555556,\"#d8576b\"],[0.6666666666666666,\"#ed7953\"],[0.7777777777777778,\"#fb9f3a\"],[0.8888888888888888,\"#fdca26\"],[1.0,\"#f0f921\"]],\"type\":\"heatmapgl\"}],\"histogram\":[{\"marker\":{\"pattern\":{\"fillmode\":\"overlay\",\"size\":10,\"solidity\":0.2}},\"type\":\"histogram\"}],\"histogram2d\":[{\"colorbar\":{\"outlinewidth\":0,\"ticks\":\"\"},\"colorscale\":[[0.0,\"#0d0887\"],[0.1111111111111111,\"#46039f\"],[0.2222222222222222,\"#7201a8\"],[0.3333333333333333,\"#9c179e\"],[0.4444444444444444,\"#bd3786\"],[0.5555555555555556,\"#d8576b\"],[0.6666666666666666,\"#ed7953\"],[0.7777777777777778,\"#fb9f3a\"],[0.8888888888888888,\"#fdca26\"],[1.0,\"#f0f921\"]],\"type\":\"histogram2d\"}],\"histogram2dcontour\":[{\"colorbar\":{\"outlinewidth\":0,\"ticks\":\"\"},\"colorscale\":[[0.0,\"#0d0887\"],[0.1111111111111111,\"#46039f\"],[0.2222222222222222,\"#7201a8\"],[0.3333333333333333,\"#9c179e\"],[0.4444444444444444,\"#bd3786\"],[0.5555555555555556,\"#d8576b\"],[0.6666666666666666,\"#ed7953\"],[0.7777777777777778,\"#fb9f3a\"],[0.8888888888888888,\"#fdca26\"],[1.0,\"#f0f921\"]],\"type\":\"histogram2dcontour\"}],\"mesh3d\":[{\"colorbar\":{\"outlinewidth\":0,\"ticks\":\"\"},\"type\":\"mesh3d\"}],\"parcoords\":[{\"line\":{\"colorbar\":{\"outlinewidth\":0,\"ticks\":\"\"}},\"type\":\"parcoords\"}],\"pie\":[{\"automargin\":true,\"type\":\"pie\"}],\"scatter\":[{\"marker\":{\"colorbar\":{\"outlinewidth\":0,\"ticks\":\"\"}},\"type\":\"scatter\"}],\"scatter3d\":[{\"line\":{\"colorbar\":{\"outlinewidth\":0,\"ticks\":\"\"}},\"marker\":{\"colorbar\":{\"outlinewidth\":0,\"ticks\":\"\"}},\"type\":\"scatter3d\"}],\"scattercarpet\":[{\"marker\":{\"colorbar\":{\"outlinewidth\":0,\"ticks\":\"\"}},\"type\":\"scattercarpet\"}],\"scattergeo\":[{\"marker\":{\"colorbar\":{\"outlinewidth\":0,\"ticks\":\"\"}},\"type\":\"scattergeo\"}],\"scattergl\":[{\"marker\":{\"colorbar\":{\"outlinewidth\":0,\"ticks\":\"\"}},\"type\":\"scattergl\"}],\"scattermapbox\":[{\"marker\":{\"colorbar\":{\"outlinewidth\":0,\"ticks\":\"\"}},\"type\":\"scattermapbox\"}],\"scatterpolar\":[{\"marker\":{\"colorbar\":{\"outlinewidth\":0,\"ticks\":\"\"}},\"type\":\"scatterpolar\"}],\"scatterpolargl\":[{\"marker\":{\"colorbar\":{\"outlinewidth\":0,\"ticks\":\"\"}},\"type\":\"scatterpolargl\"}],\"scatterternary\":[{\"marker\":{\"colorbar\":{\"outlinewidth\":0,\"ticks\":\"\"}},\"type\":\"scatterternary\"}],\"surface\":[{\"colorbar\":{\"outlinewidth\":0,\"ticks\":\"\"},\"colorscale\":[[0.0,\"#0d0887\"],[0.1111111111111111,\"#46039f\"],[0.2222222222222222,\"#7201a8\"],[0.3333333333333333,\"#9c179e\"],[0.4444444444444444,\"#bd3786\"],[0.5555555555555556,\"#d8576b\"],[0.6666666666666666,\"#ed7953\"],[0.7777777777777778,\"#fb9f3a\"],[0.8888888888888888,\"#fdca26\"],[1.0,\"#f0f921\"]],\"type\":\"surface\"}],\"table\":[{\"cells\":{\"fill\":{\"color\":\"#EBF0F8\"},\"line\":{\"color\":\"white\"}},\"header\":{\"fill\":{\"color\":\"#C8D4E3\"},\"line\":{\"color\":\"white\"}},\"type\":\"table\"}]},\"layout\":{\"annotationdefaults\":{\"arrowcolor\":\"#2a3f5f\",\"arrowhead\":0,\"arrowwidth\":1},\"autotypenumbers\":\"strict\",\"coloraxis\":{\"colorbar\":{\"outlinewidth\":0,\"ticks\":\"\"}},\"colorscale\":{\"diverging\":[[0,\"#8e0152\"],[0.1,\"#c51b7d\"],[0.2,\"#de77ae\"],[0.3,\"#f1b6da\"],[0.4,\"#fde0ef\"],[0.5,\"#f7f7f7\"],[0.6,\"#e6f5d0\"],[0.7,\"#b8e186\"],[0.8,\"#7fbc41\"],[0.9,\"#4d9221\"],[1,\"#276419\"]],\"sequential\":[[0.0,\"#0d0887\"],[0.1111111111111111,\"#46039f\"],[0.2222222222222222,\"#7201a8\"],[0.3333333333333333,\"#9c179e\"],[0.4444444444444444,\"#bd3786\"],[0.5555555555555556,\"#d8576b\"],[0.6666666666666666,\"#ed7953\"],[0.7777777777777778,\"#fb9f3a\"],[0.8888888888888888,\"#fdca26\"],[1.0,\"#f0f921\"]],\"sequentialminus\":[[0.0,\"#0d0887\"],[0.1111111111111111,\"#46039f\"],[0.2222222222222222,\"#7201a8\"],[0.3333333333333333,\"#9c179e\"],[0.4444444444444444,\"#bd3786\"],[0.5555555555555556,\"#d8576b\"],[0.6666666666666666,\"#ed7953\"],[0.7777777777777778,\"#fb9f3a\"],[0.8888888888888888,\"#fdca26\"],[1.0,\"#f0f921\"]]},\"colorway\":[\"#636efa\",\"#EF553B\",\"#00cc96\",\"#ab63fa\",\"#FFA15A\",\"#19d3f3\",\"#FF6692\",\"#B6E880\",\"#FF97FF\",\"#FECB52\"],\"font\":{\"color\":\"#2a3f5f\"},\"geo\":{\"bgcolor\":\"white\",\"lakecolor\":\"white\",\"landcolor\":\"#E5ECF6\",\"showlakes\":true,\"showland\":true,\"subunitcolor\":\"white\"},\"hoverlabel\":{\"align\":\"left\"},\"hovermode\":\"closest\",\"mapbox\":{\"style\":\"light\"},\"paper_bgcolor\":\"white\",\"plot_bgcolor\":\"#E5ECF6\",\"polar\":{\"angularaxis\":{\"gridcolor\":\"white\",\"linecolor\":\"white\",\"ticks\":\"\"},\"bgcolor\":\"#E5ECF6\",\"radialaxis\":{\"gridcolor\":\"white\",\"linecolor\":\"white\",\"ticks\":\"\"}},\"scene\":{\"xaxis\":{\"backgroundcolor\":\"#E5ECF6\",\"gridcolor\":\"white\",\"gridwidth\":2,\"linecolor\":\"white\",\"showbackground\":true,\"ticks\":\"\",\"zerolinecolor\":\"white\"},\"yaxis\":{\"backgroundcolor\":\"#E5ECF6\",\"gridcolor\":\"white\",\"gridwidth\":2,\"linecolor\":\"white\",\"showbackground\":true,\"ticks\":\"\",\"zerolinecolor\":\"white\"},\"zaxis\":{\"backgroundcolor\":\"#E5ECF6\",\"gridcolor\":\"white\",\"gridwidth\":2,\"linecolor\":\"white\",\"showbackground\":true,\"ticks\":\"\",\"zerolinecolor\":\"white\"}},\"shapedefaults\":{\"line\":{\"color\":\"#2a3f5f\"}},\"ternary\":{\"aaxis\":{\"gridcolor\":\"white\",\"linecolor\":\"white\",\"ticks\":\"\"},\"baxis\":{\"gridcolor\":\"white\",\"linecolor\":\"white\",\"ticks\":\"\"},\"bgcolor\":\"#E5ECF6\",\"caxis\":{\"gridcolor\":\"white\",\"linecolor\":\"white\",\"ticks\":\"\"}},\"title\":{\"x\":0.05},\"xaxis\":{\"automargin\":true,\"gridcolor\":\"white\",\"linecolor\":\"white\",\"ticks\":\"\",\"title\":{\"standoff\":15},\"zerolinecolor\":\"white\",\"zerolinewidth\":2},\"yaxis\":{\"automargin\":true,\"gridcolor\":\"white\",\"linecolor\":\"white\",\"ticks\":\"\",\"title\":{\"standoff\":15},\"zerolinecolor\":\"white\",\"zerolinewidth\":2}}},\"xaxis\":{\"anchor\":\"y\",\"domain\":[0.0,1.0],\"title\":{\"text\":\"Anos\"}},\"yaxis\":{\"anchor\":\"x\",\"domain\":[0.0,1.0],\"title\":{\"text\":\"M\\u00e9dia do VL_TOTAL\"}},\"legend\":{\"tracegroupgap\":0},\"title\":{\"text\":\"M\\u00e9dia anual do VL_TOTAL entre 2000 e 2023\",\"x\":0.5}},                        {\"responsive\": true}                    ).then(function(){\n",
              "                            \n",
              "var gd = document.getElementById('313e7e7b-3332-4291-9807-16ce601a928b');\n",
              "var x = new MutationObserver(function (mutations, observer) {{\n",
              "        var display = window.getComputedStyle(gd).display;\n",
              "        if (!display || display === 'none') {{\n",
              "            console.log([gd, 'removed!']);\n",
              "            Plotly.purge(gd);\n",
              "            observer.disconnect();\n",
              "        }}\n",
              "}});\n",
              "\n",
              "// Listen for the removal of the full notebook cells\n",
              "var notebookContainer = gd.closest('#notebook-container');\n",
              "if (notebookContainer) {{\n",
              "    x.observe(notebookContainer, {childList: true});\n",
              "}}\n",
              "\n",
              "// Listen for the clearing of the current output cell\n",
              "var outputEl = gd.closest('.output');\n",
              "if (outputEl) {{\n",
              "    x.observe(outputEl, {childList: true});\n",
              "}}\n",
              "\n",
              "                        })                };                            </script>        </div>\n",
              "</body>\n",
              "</html>"
            ]
          },
          "metadata": {}
        }
      ],
      "source": [
        "fig = px.line(\n",
        "    data_frame= avg_total_per_year,\n",
        "    x= 'YEAR',\n",
        "    y= 'avg(VL_TOTAL)',\n",
        "    markers= True,\n",
        "    title= 'Média anual do VL_TOTAL entre 2000 e 2023'\n",
        ")\n",
        "fig.update_traces(line_color= 'red')\n",
        "fig.update_layout(title= {'x': 0.5}, xaxis_title= 'Anos', yaxis_title= 'Média do VL_TOTAL')\n",
        "fig.show()"
      ]
    },
    {
      "cell_type": "markdown",
      "metadata": {
        "id": "vBKBVxHEE6TP"
      },
      "source": [
        "## Coluna `VL_QUOTA`"
      ]
    },
    {
      "cell_type": "markdown",
      "metadata": {
        "id": "y50Z092JGb-k"
      },
      "source": [
        "### Análise da média trimestral (`QUARTER_OF_YEAR`)"
      ]
    },
    {
      "cell_type": "code",
      "execution_count": 28,
      "metadata": {
        "id": "iWuP4wgDE9kf"
      },
      "outputs": [],
      "source": [
        "avg_quota_per_quarter = df.groupBy('QUARTER_OF_YEAR').agg(f.avg('VL_QUOTA')).orderBy('QUARTER_OF_YEAR').toPandas()"
      ]
    },
    {
      "cell_type": "code",
      "execution_count": 29,
      "metadata": {
        "id": "MnQSxGAkFj37",
        "colab": {
          "base_uri": "https://localhost:8080/",
          "height": 542
        },
        "outputId": "df8bc09c-9880-4d67-9cee-90edb0570af8"
      },
      "outputs": [
        {
          "output_type": "display_data",
          "data": {
            "text/html": [
              "<html>\n",
              "<head><meta charset=\"utf-8\" /></head>\n",
              "<body>\n",
              "    <div>            <script src=\"https://cdnjs.cloudflare.com/ajax/libs/mathjax/2.7.5/MathJax.js?config=TeX-AMS-MML_SVG\"></script><script type=\"text/javascript\">if (window.MathJax) {MathJax.Hub.Config({SVG: {font: \"STIX-Web\"}});}</script>                <script type=\"text/javascript\">window.PlotlyConfig = {MathJaxConfig: 'local'};</script>\n",
              "        <script src=\"https://cdn.plot.ly/plotly-2.8.3.min.js\"></script>                <div id=\"61482a7a-fdd1-483f-ae5c-8af7293e137e\" class=\"plotly-graph-div\" style=\"height:525px; width:100%;\"></div>            <script type=\"text/javascript\">                                    window.PLOTLYENV=window.PLOTLYENV || {};                                    if (document.getElementById(\"61482a7a-fdd1-483f-ae5c-8af7293e137e\")) {                    Plotly.newPlot(                        \"61482a7a-fdd1-483f-ae5c-8af7293e137e\",                        [{\"hovertemplate\":\"QUARTER_OF_YEAR=%{x}<br>avg(VL_QUOTA)=%{y}<extra></extra>\",\"legendgroup\":\"\",\"line\":{\"color\":\"#636efa\",\"dash\":\"solid\"},\"marker\":{\"symbol\":\"circle\"},\"mode\":\"lines+markers\",\"name\":\"\",\"orientation\":\"v\",\"showlegend\":false,\"x\":[\"2001Q1\",\"2002Q1\",\"2002Q2\",\"2002Q3\",\"2002Q4\",\"2003Q1\",\"2003Q2\",\"2003Q3\",\"2003Q4\",\"2004Q1\",\"2004Q2\",\"2004Q3\",\"2004Q4\",\"2005Q1\",\"2005Q2\",\"2005Q3\",\"2005Q4\",\"2006Q1\",\"2006Q2\",\"2006Q3\",\"2006Q4\",\"2007Q1\",\"2007Q2\",\"2007Q3\",\"2007Q4\",\"2008Q1\",\"2008Q2\",\"2008Q3\",\"2008Q4\",\"2009Q1\",\"2009Q2\",\"2009Q3\",\"2009Q4\",\"2010Q1\",\"2010Q2\",\"2010Q3\",\"2010Q4\",\"2011Q1\",\"2011Q2\",\"2011Q3\",\"2011Q4\",\"2012Q1\",\"2012Q2\",\"2012Q3\",\"2012Q4\",\"2013Q1\",\"2013Q2\",\"2013Q3\",\"2013Q4\",\"2014Q1\",\"2014Q2\",\"2014Q3\",\"2014Q4\",\"2015Q1\",\"2015Q2\",\"2015Q3\",\"2015Q4\",\"2016Q1\",\"2016Q2\",\"2016Q3\",\"2016Q4\",\"2017Q1\",\"2017Q2\",\"2017Q3\",\"2017Q4\",\"2018Q1\",\"2018Q2\",\"2018Q3\",\"2018Q4\",\"2019Q1\",\"2019Q2\",\"2019Q3\",\"2019Q4\",\"2020Q1\",\"2020Q2\",\"2020Q3\",\"2020Q4\",\"2021Q1\",\"2021Q2\",\"2021Q3\",\"2021Q4\",\"2022Q1\",\"2022Q2\",\"2022Q3\",\"2022Q4\",\"2023Q1\"],\"xaxis\":\"x\",\"y\":[20.67480514,18.895415968085103,80.85720813925003,20.597406715694447,230.36304665357147,48.590664440409824,194.35577128230437,154.72544741423724,1083.0804559738258,599.6716346759215,16345.690862015932,3461.4272908181806,938.1119657996909,713.1934851249804,531.189976540612,559.8078658120901,595.2894569970692,638.3130804520174,716.8553290465571,633.7601692317248,643.2728877617733,670.8546262446183,700.2084031731027,681.5062049319151,661.9087809515316,853.2261313202781,881.6099355657462,818.298565602764,14460.767019464969,1019.4771568777579,1106.1110237674825,1362.7961329909813,6724.451810882986,15550.283640639234,4961.702529069536,1462.0202274430828,1481.4642271452906,1517.7772134351183,1572.874971757591,1594.5080262169586,1703.521262159081,1860.164038221942,1804.1189174226427,1829.2804023909143,1950.8053253014407,2165.1596775233706,2426.0653372178663,2573.3890371453845,2695.1518280387513,2677.3468138031844,2741.1710942902655,3730.377149217566,4136.527474771531,4512.781585165157,4525.242958678868,5510.5017191490215,4391.73302174368,4097.719648187455,4478.262855548086,4955.290527579284,5247.766054447025,5606.020944317565,6534.534731548685,6706.841547268667,7241.805915653909,6627.333682018797,4916.762631031495,4812.813620919649,4483.174927557742,10444.189105147905,11800.726976868085,11174.753017380395,10964.921955287768,10803.398798479162,11826.41733118249,11413.536462369839,11286.230646977423,11662.997748407157,14624.909513655204,14663.141772798639,14480.261212292342,14261.25057839978,14175.113014187502,13825.290519785502,14172.933628163166,11831.360983982735],\"yaxis\":\"y\",\"type\":\"scatter\"}],                        {\"template\":{\"data\":{\"bar\":[{\"error_x\":{\"color\":\"#2a3f5f\"},\"error_y\":{\"color\":\"#2a3f5f\"},\"marker\":{\"line\":{\"color\":\"#E5ECF6\",\"width\":0.5},\"pattern\":{\"fillmode\":\"overlay\",\"size\":10,\"solidity\":0.2}},\"type\":\"bar\"}],\"barpolar\":[{\"marker\":{\"line\":{\"color\":\"#E5ECF6\",\"width\":0.5},\"pattern\":{\"fillmode\":\"overlay\",\"size\":10,\"solidity\":0.2}},\"type\":\"barpolar\"}],\"carpet\":[{\"aaxis\":{\"endlinecolor\":\"#2a3f5f\",\"gridcolor\":\"white\",\"linecolor\":\"white\",\"minorgridcolor\":\"white\",\"startlinecolor\":\"#2a3f5f\"},\"baxis\":{\"endlinecolor\":\"#2a3f5f\",\"gridcolor\":\"white\",\"linecolor\":\"white\",\"minorgridcolor\":\"white\",\"startlinecolor\":\"#2a3f5f\"},\"type\":\"carpet\"}],\"choropleth\":[{\"colorbar\":{\"outlinewidth\":0,\"ticks\":\"\"},\"type\":\"choropleth\"}],\"contour\":[{\"colorbar\":{\"outlinewidth\":0,\"ticks\":\"\"},\"colorscale\":[[0.0,\"#0d0887\"],[0.1111111111111111,\"#46039f\"],[0.2222222222222222,\"#7201a8\"],[0.3333333333333333,\"#9c179e\"],[0.4444444444444444,\"#bd3786\"],[0.5555555555555556,\"#d8576b\"],[0.6666666666666666,\"#ed7953\"],[0.7777777777777778,\"#fb9f3a\"],[0.8888888888888888,\"#fdca26\"],[1.0,\"#f0f921\"]],\"type\":\"contour\"}],\"contourcarpet\":[{\"colorbar\":{\"outlinewidth\":0,\"ticks\":\"\"},\"type\":\"contourcarpet\"}],\"heatmap\":[{\"colorbar\":{\"outlinewidth\":0,\"ticks\":\"\"},\"colorscale\":[[0.0,\"#0d0887\"],[0.1111111111111111,\"#46039f\"],[0.2222222222222222,\"#7201a8\"],[0.3333333333333333,\"#9c179e\"],[0.4444444444444444,\"#bd3786\"],[0.5555555555555556,\"#d8576b\"],[0.6666666666666666,\"#ed7953\"],[0.7777777777777778,\"#fb9f3a\"],[0.8888888888888888,\"#fdca26\"],[1.0,\"#f0f921\"]],\"type\":\"heatmap\"}],\"heatmapgl\":[{\"colorbar\":{\"outlinewidth\":0,\"ticks\":\"\"},\"colorscale\":[[0.0,\"#0d0887\"],[0.1111111111111111,\"#46039f\"],[0.2222222222222222,\"#7201a8\"],[0.3333333333333333,\"#9c179e\"],[0.4444444444444444,\"#bd3786\"],[0.5555555555555556,\"#d8576b\"],[0.6666666666666666,\"#ed7953\"],[0.7777777777777778,\"#fb9f3a\"],[0.8888888888888888,\"#fdca26\"],[1.0,\"#f0f921\"]],\"type\":\"heatmapgl\"}],\"histogram\":[{\"marker\":{\"pattern\":{\"fillmode\":\"overlay\",\"size\":10,\"solidity\":0.2}},\"type\":\"histogram\"}],\"histogram2d\":[{\"colorbar\":{\"outlinewidth\":0,\"ticks\":\"\"},\"colorscale\":[[0.0,\"#0d0887\"],[0.1111111111111111,\"#46039f\"],[0.2222222222222222,\"#7201a8\"],[0.3333333333333333,\"#9c179e\"],[0.4444444444444444,\"#bd3786\"],[0.5555555555555556,\"#d8576b\"],[0.6666666666666666,\"#ed7953\"],[0.7777777777777778,\"#fb9f3a\"],[0.8888888888888888,\"#fdca26\"],[1.0,\"#f0f921\"]],\"type\":\"histogram2d\"}],\"histogram2dcontour\":[{\"colorbar\":{\"outlinewidth\":0,\"ticks\":\"\"},\"colorscale\":[[0.0,\"#0d0887\"],[0.1111111111111111,\"#46039f\"],[0.2222222222222222,\"#7201a8\"],[0.3333333333333333,\"#9c179e\"],[0.4444444444444444,\"#bd3786\"],[0.5555555555555556,\"#d8576b\"],[0.6666666666666666,\"#ed7953\"],[0.7777777777777778,\"#fb9f3a\"],[0.8888888888888888,\"#fdca26\"],[1.0,\"#f0f921\"]],\"type\":\"histogram2dcontour\"}],\"mesh3d\":[{\"colorbar\":{\"outlinewidth\":0,\"ticks\":\"\"},\"type\":\"mesh3d\"}],\"parcoords\":[{\"line\":{\"colorbar\":{\"outlinewidth\":0,\"ticks\":\"\"}},\"type\":\"parcoords\"}],\"pie\":[{\"automargin\":true,\"type\":\"pie\"}],\"scatter\":[{\"marker\":{\"colorbar\":{\"outlinewidth\":0,\"ticks\":\"\"}},\"type\":\"scatter\"}],\"scatter3d\":[{\"line\":{\"colorbar\":{\"outlinewidth\":0,\"ticks\":\"\"}},\"marker\":{\"colorbar\":{\"outlinewidth\":0,\"ticks\":\"\"}},\"type\":\"scatter3d\"}],\"scattercarpet\":[{\"marker\":{\"colorbar\":{\"outlinewidth\":0,\"ticks\":\"\"}},\"type\":\"scattercarpet\"}],\"scattergeo\":[{\"marker\":{\"colorbar\":{\"outlinewidth\":0,\"ticks\":\"\"}},\"type\":\"scattergeo\"}],\"scattergl\":[{\"marker\":{\"colorbar\":{\"outlinewidth\":0,\"ticks\":\"\"}},\"type\":\"scattergl\"}],\"scattermapbox\":[{\"marker\":{\"colorbar\":{\"outlinewidth\":0,\"ticks\":\"\"}},\"type\":\"scattermapbox\"}],\"scatterpolar\":[{\"marker\":{\"colorbar\":{\"outlinewidth\":0,\"ticks\":\"\"}},\"type\":\"scatterpolar\"}],\"scatterpolargl\":[{\"marker\":{\"colorbar\":{\"outlinewidth\":0,\"ticks\":\"\"}},\"type\":\"scatterpolargl\"}],\"scatterternary\":[{\"marker\":{\"colorbar\":{\"outlinewidth\":0,\"ticks\":\"\"}},\"type\":\"scatterternary\"}],\"surface\":[{\"colorbar\":{\"outlinewidth\":0,\"ticks\":\"\"},\"colorscale\":[[0.0,\"#0d0887\"],[0.1111111111111111,\"#46039f\"],[0.2222222222222222,\"#7201a8\"],[0.3333333333333333,\"#9c179e\"],[0.4444444444444444,\"#bd3786\"],[0.5555555555555556,\"#d8576b\"],[0.6666666666666666,\"#ed7953\"],[0.7777777777777778,\"#fb9f3a\"],[0.8888888888888888,\"#fdca26\"],[1.0,\"#f0f921\"]],\"type\":\"surface\"}],\"table\":[{\"cells\":{\"fill\":{\"color\":\"#EBF0F8\"},\"line\":{\"color\":\"white\"}},\"header\":{\"fill\":{\"color\":\"#C8D4E3\"},\"line\":{\"color\":\"white\"}},\"type\":\"table\"}]},\"layout\":{\"annotationdefaults\":{\"arrowcolor\":\"#2a3f5f\",\"arrowhead\":0,\"arrowwidth\":1},\"autotypenumbers\":\"strict\",\"coloraxis\":{\"colorbar\":{\"outlinewidth\":0,\"ticks\":\"\"}},\"colorscale\":{\"diverging\":[[0,\"#8e0152\"],[0.1,\"#c51b7d\"],[0.2,\"#de77ae\"],[0.3,\"#f1b6da\"],[0.4,\"#fde0ef\"],[0.5,\"#f7f7f7\"],[0.6,\"#e6f5d0\"],[0.7,\"#b8e186\"],[0.8,\"#7fbc41\"],[0.9,\"#4d9221\"],[1,\"#276419\"]],\"sequential\":[[0.0,\"#0d0887\"],[0.1111111111111111,\"#46039f\"],[0.2222222222222222,\"#7201a8\"],[0.3333333333333333,\"#9c179e\"],[0.4444444444444444,\"#bd3786\"],[0.5555555555555556,\"#d8576b\"],[0.6666666666666666,\"#ed7953\"],[0.7777777777777778,\"#fb9f3a\"],[0.8888888888888888,\"#fdca26\"],[1.0,\"#f0f921\"]],\"sequentialminus\":[[0.0,\"#0d0887\"],[0.1111111111111111,\"#46039f\"],[0.2222222222222222,\"#7201a8\"],[0.3333333333333333,\"#9c179e\"],[0.4444444444444444,\"#bd3786\"],[0.5555555555555556,\"#d8576b\"],[0.6666666666666666,\"#ed7953\"],[0.7777777777777778,\"#fb9f3a\"],[0.8888888888888888,\"#fdca26\"],[1.0,\"#f0f921\"]]},\"colorway\":[\"#636efa\",\"#EF553B\",\"#00cc96\",\"#ab63fa\",\"#FFA15A\",\"#19d3f3\",\"#FF6692\",\"#B6E880\",\"#FF97FF\",\"#FECB52\"],\"font\":{\"color\":\"#2a3f5f\"},\"geo\":{\"bgcolor\":\"white\",\"lakecolor\":\"white\",\"landcolor\":\"#E5ECF6\",\"showlakes\":true,\"showland\":true,\"subunitcolor\":\"white\"},\"hoverlabel\":{\"align\":\"left\"},\"hovermode\":\"closest\",\"mapbox\":{\"style\":\"light\"},\"paper_bgcolor\":\"white\",\"plot_bgcolor\":\"#E5ECF6\",\"polar\":{\"angularaxis\":{\"gridcolor\":\"white\",\"linecolor\":\"white\",\"ticks\":\"\"},\"bgcolor\":\"#E5ECF6\",\"radialaxis\":{\"gridcolor\":\"white\",\"linecolor\":\"white\",\"ticks\":\"\"}},\"scene\":{\"xaxis\":{\"backgroundcolor\":\"#E5ECF6\",\"gridcolor\":\"white\",\"gridwidth\":2,\"linecolor\":\"white\",\"showbackground\":true,\"ticks\":\"\",\"zerolinecolor\":\"white\"},\"yaxis\":{\"backgroundcolor\":\"#E5ECF6\",\"gridcolor\":\"white\",\"gridwidth\":2,\"linecolor\":\"white\",\"showbackground\":true,\"ticks\":\"\",\"zerolinecolor\":\"white\"},\"zaxis\":{\"backgroundcolor\":\"#E5ECF6\",\"gridcolor\":\"white\",\"gridwidth\":2,\"linecolor\":\"white\",\"showbackground\":true,\"ticks\":\"\",\"zerolinecolor\":\"white\"}},\"shapedefaults\":{\"line\":{\"color\":\"#2a3f5f\"}},\"ternary\":{\"aaxis\":{\"gridcolor\":\"white\",\"linecolor\":\"white\",\"ticks\":\"\"},\"baxis\":{\"gridcolor\":\"white\",\"linecolor\":\"white\",\"ticks\":\"\"},\"bgcolor\":\"#E5ECF6\",\"caxis\":{\"gridcolor\":\"white\",\"linecolor\":\"white\",\"ticks\":\"\"}},\"title\":{\"x\":0.05},\"xaxis\":{\"automargin\":true,\"gridcolor\":\"white\",\"linecolor\":\"white\",\"ticks\":\"\",\"title\":{\"standoff\":15},\"zerolinecolor\":\"white\",\"zerolinewidth\":2},\"yaxis\":{\"automargin\":true,\"gridcolor\":\"white\",\"linecolor\":\"white\",\"ticks\":\"\",\"title\":{\"standoff\":15},\"zerolinecolor\":\"white\",\"zerolinewidth\":2}}},\"xaxis\":{\"anchor\":\"y\",\"domain\":[0.0,1.0],\"title\":{\"text\":\"Trimestres\"}},\"yaxis\":{\"anchor\":\"x\",\"domain\":[0.0,1.0],\"title\":{\"text\":\"M\\u00e9dia do VL_QUOTA\"}},\"legend\":{\"tracegroupgap\":0},\"title\":{\"text\":\"M\\u00e9dia trimestral do VL_QUOTA entre 2000 e 2023\",\"x\":0.5}},                        {\"responsive\": true}                    ).then(function(){\n",
              "                            \n",
              "var gd = document.getElementById('61482a7a-fdd1-483f-ae5c-8af7293e137e');\n",
              "var x = new MutationObserver(function (mutations, observer) {{\n",
              "        var display = window.getComputedStyle(gd).display;\n",
              "        if (!display || display === 'none') {{\n",
              "            console.log([gd, 'removed!']);\n",
              "            Plotly.purge(gd);\n",
              "            observer.disconnect();\n",
              "        }}\n",
              "}});\n",
              "\n",
              "// Listen for the removal of the full notebook cells\n",
              "var notebookContainer = gd.closest('#notebook-container');\n",
              "if (notebookContainer) {{\n",
              "    x.observe(notebookContainer, {childList: true});\n",
              "}}\n",
              "\n",
              "// Listen for the clearing of the current output cell\n",
              "var outputEl = gd.closest('.output');\n",
              "if (outputEl) {{\n",
              "    x.observe(outputEl, {childList: true});\n",
              "}}\n",
              "\n",
              "                        })                };                            </script>        </div>\n",
              "</body>\n",
              "</html>"
            ]
          },
          "metadata": {}
        }
      ],
      "source": [
        "fig = px.line(\n",
        "    data_frame= avg_quota_per_quarter,\n",
        "    x= 'QUARTER_OF_YEAR',\n",
        "    y= 'avg(VL_QUOTA)',\n",
        "    markers= True,\n",
        "    title= 'Média trimestral do VL_QUOTA entre 2000 e 2023'\n",
        ")\n",
        "fig.update_layout(title= {'x': 0.5}, xaxis_title= 'Trimestres', yaxis_title= 'Média do VL_QUOTA')\n",
        "fig.show()"
      ]
    },
    {
      "cell_type": "markdown",
      "metadata": {
        "id": "UaN0-PI2Ghut"
      },
      "source": [
        "### Análise da média anual (`YEAR`)"
      ]
    },
    {
      "cell_type": "code",
      "execution_count": 30,
      "metadata": {
        "id": "VIMgeUn3GlgL"
      },
      "outputs": [],
      "source": [
        "avg_quota_per_year = df.groupBy('YEAR').agg(f.avg('VL_QUOTA')).orderBy('YEAR').toPandas()"
      ]
    },
    {
      "cell_type": "code",
      "execution_count": 31,
      "metadata": {
        "id": "UKlwaZrtGtXK",
        "colab": {
          "base_uri": "https://localhost:8080/",
          "height": 542
        },
        "outputId": "bd3c3374-79f8-4973-bbd1-e856452dc0ae"
      },
      "outputs": [
        {
          "output_type": "display_data",
          "data": {
            "text/html": [
              "<html>\n",
              "<head><meta charset=\"utf-8\" /></head>\n",
              "<body>\n",
              "    <div>            <script src=\"https://cdnjs.cloudflare.com/ajax/libs/mathjax/2.7.5/MathJax.js?config=TeX-AMS-MML_SVG\"></script><script type=\"text/javascript\">if (window.MathJax) {MathJax.Hub.Config({SVG: {font: \"STIX-Web\"}});}</script>                <script type=\"text/javascript\">window.PlotlyConfig = {MathJaxConfig: 'local'};</script>\n",
              "        <script src=\"https://cdn.plot.ly/plotly-2.8.3.min.js\"></script>                <div id=\"d4d67c5e-196e-479f-bbd7-49055e7addec\" class=\"plotly-graph-div\" style=\"height:525px; width:100%;\"></div>            <script type=\"text/javascript\">                                    window.PLOTLYENV=window.PLOTLYENV || {};                                    if (document.getElementById(\"d4d67c5e-196e-479f-bbd7-49055e7addec\")) {                    Plotly.newPlot(                        \"d4d67c5e-196e-479f-bbd7-49055e7addec\",                        [{\"hovertemplate\":\"YEAR=%{x}<br>avg(VL_QUOTA)=%{y}<extra></extra>\",\"legendgroup\":\"\",\"line\":{\"color\":\"red\",\"dash\":\"solid\"},\"marker\":{\"symbol\":\"circle\"},\"mode\":\"lines+markers\",\"name\":\"\",\"orientation\":\"v\",\"showlegend\":false,\"x\":[2001,2002,2003,2004,2005,2006,2007,2008,2009,2010,2011,2012,2013,2014,2015,2016,2017,2018,2019,2020,2021,2022,2023],\"xaxis\":\"x\",\"y\":[20.67480514,63.173922079532545,231.37321869789088,6752.126504623971,599.006557654641,657.5118238043165,678.2198042826726,4289.788163682528,2615.618941116383,5569.813740243972,1598.6955901070826,1861.718718115589,2475.8412468397996,3345.809161021858,4744.72864903533,4700.906196341829,6527.555555801291,5187.882235956815,11101.016499001322,11335.813980829927,13923.510151062777,14103.705826957863,11831.360983982735],\"yaxis\":\"y\",\"type\":\"scatter\"}],                        {\"template\":{\"data\":{\"bar\":[{\"error_x\":{\"color\":\"#2a3f5f\"},\"error_y\":{\"color\":\"#2a3f5f\"},\"marker\":{\"line\":{\"color\":\"#E5ECF6\",\"width\":0.5},\"pattern\":{\"fillmode\":\"overlay\",\"size\":10,\"solidity\":0.2}},\"type\":\"bar\"}],\"barpolar\":[{\"marker\":{\"line\":{\"color\":\"#E5ECF6\",\"width\":0.5},\"pattern\":{\"fillmode\":\"overlay\",\"size\":10,\"solidity\":0.2}},\"type\":\"barpolar\"}],\"carpet\":[{\"aaxis\":{\"endlinecolor\":\"#2a3f5f\",\"gridcolor\":\"white\",\"linecolor\":\"white\",\"minorgridcolor\":\"white\",\"startlinecolor\":\"#2a3f5f\"},\"baxis\":{\"endlinecolor\":\"#2a3f5f\",\"gridcolor\":\"white\",\"linecolor\":\"white\",\"minorgridcolor\":\"white\",\"startlinecolor\":\"#2a3f5f\"},\"type\":\"carpet\"}],\"choropleth\":[{\"colorbar\":{\"outlinewidth\":0,\"ticks\":\"\"},\"type\":\"choropleth\"}],\"contour\":[{\"colorbar\":{\"outlinewidth\":0,\"ticks\":\"\"},\"colorscale\":[[0.0,\"#0d0887\"],[0.1111111111111111,\"#46039f\"],[0.2222222222222222,\"#7201a8\"],[0.3333333333333333,\"#9c179e\"],[0.4444444444444444,\"#bd3786\"],[0.5555555555555556,\"#d8576b\"],[0.6666666666666666,\"#ed7953\"],[0.7777777777777778,\"#fb9f3a\"],[0.8888888888888888,\"#fdca26\"],[1.0,\"#f0f921\"]],\"type\":\"contour\"}],\"contourcarpet\":[{\"colorbar\":{\"outlinewidth\":0,\"ticks\":\"\"},\"type\":\"contourcarpet\"}],\"heatmap\":[{\"colorbar\":{\"outlinewidth\":0,\"ticks\":\"\"},\"colorscale\":[[0.0,\"#0d0887\"],[0.1111111111111111,\"#46039f\"],[0.2222222222222222,\"#7201a8\"],[0.3333333333333333,\"#9c179e\"],[0.4444444444444444,\"#bd3786\"],[0.5555555555555556,\"#d8576b\"],[0.6666666666666666,\"#ed7953\"],[0.7777777777777778,\"#fb9f3a\"],[0.8888888888888888,\"#fdca26\"],[1.0,\"#f0f921\"]],\"type\":\"heatmap\"}],\"heatmapgl\":[{\"colorbar\":{\"outlinewidth\":0,\"ticks\":\"\"},\"colorscale\":[[0.0,\"#0d0887\"],[0.1111111111111111,\"#46039f\"],[0.2222222222222222,\"#7201a8\"],[0.3333333333333333,\"#9c179e\"],[0.4444444444444444,\"#bd3786\"],[0.5555555555555556,\"#d8576b\"],[0.6666666666666666,\"#ed7953\"],[0.7777777777777778,\"#fb9f3a\"],[0.8888888888888888,\"#fdca26\"],[1.0,\"#f0f921\"]],\"type\":\"heatmapgl\"}],\"histogram\":[{\"marker\":{\"pattern\":{\"fillmode\":\"overlay\",\"size\":10,\"solidity\":0.2}},\"type\":\"histogram\"}],\"histogram2d\":[{\"colorbar\":{\"outlinewidth\":0,\"ticks\":\"\"},\"colorscale\":[[0.0,\"#0d0887\"],[0.1111111111111111,\"#46039f\"],[0.2222222222222222,\"#7201a8\"],[0.3333333333333333,\"#9c179e\"],[0.4444444444444444,\"#bd3786\"],[0.5555555555555556,\"#d8576b\"],[0.6666666666666666,\"#ed7953\"],[0.7777777777777778,\"#fb9f3a\"],[0.8888888888888888,\"#fdca26\"],[1.0,\"#f0f921\"]],\"type\":\"histogram2d\"}],\"histogram2dcontour\":[{\"colorbar\":{\"outlinewidth\":0,\"ticks\":\"\"},\"colorscale\":[[0.0,\"#0d0887\"],[0.1111111111111111,\"#46039f\"],[0.2222222222222222,\"#7201a8\"],[0.3333333333333333,\"#9c179e\"],[0.4444444444444444,\"#bd3786\"],[0.5555555555555556,\"#d8576b\"],[0.6666666666666666,\"#ed7953\"],[0.7777777777777778,\"#fb9f3a\"],[0.8888888888888888,\"#fdca26\"],[1.0,\"#f0f921\"]],\"type\":\"histogram2dcontour\"}],\"mesh3d\":[{\"colorbar\":{\"outlinewidth\":0,\"ticks\":\"\"},\"type\":\"mesh3d\"}],\"parcoords\":[{\"line\":{\"colorbar\":{\"outlinewidth\":0,\"ticks\":\"\"}},\"type\":\"parcoords\"}],\"pie\":[{\"automargin\":true,\"type\":\"pie\"}],\"scatter\":[{\"marker\":{\"colorbar\":{\"outlinewidth\":0,\"ticks\":\"\"}},\"type\":\"scatter\"}],\"scatter3d\":[{\"line\":{\"colorbar\":{\"outlinewidth\":0,\"ticks\":\"\"}},\"marker\":{\"colorbar\":{\"outlinewidth\":0,\"ticks\":\"\"}},\"type\":\"scatter3d\"}],\"scattercarpet\":[{\"marker\":{\"colorbar\":{\"outlinewidth\":0,\"ticks\":\"\"}},\"type\":\"scattercarpet\"}],\"scattergeo\":[{\"marker\":{\"colorbar\":{\"outlinewidth\":0,\"ticks\":\"\"}},\"type\":\"scattergeo\"}],\"scattergl\":[{\"marker\":{\"colorbar\":{\"outlinewidth\":0,\"ticks\":\"\"}},\"type\":\"scattergl\"}],\"scattermapbox\":[{\"marker\":{\"colorbar\":{\"outlinewidth\":0,\"ticks\":\"\"}},\"type\":\"scattermapbox\"}],\"scatterpolar\":[{\"marker\":{\"colorbar\":{\"outlinewidth\":0,\"ticks\":\"\"}},\"type\":\"scatterpolar\"}],\"scatterpolargl\":[{\"marker\":{\"colorbar\":{\"outlinewidth\":0,\"ticks\":\"\"}},\"type\":\"scatterpolargl\"}],\"scatterternary\":[{\"marker\":{\"colorbar\":{\"outlinewidth\":0,\"ticks\":\"\"}},\"type\":\"scatterternary\"}],\"surface\":[{\"colorbar\":{\"outlinewidth\":0,\"ticks\":\"\"},\"colorscale\":[[0.0,\"#0d0887\"],[0.1111111111111111,\"#46039f\"],[0.2222222222222222,\"#7201a8\"],[0.3333333333333333,\"#9c179e\"],[0.4444444444444444,\"#bd3786\"],[0.5555555555555556,\"#d8576b\"],[0.6666666666666666,\"#ed7953\"],[0.7777777777777778,\"#fb9f3a\"],[0.8888888888888888,\"#fdca26\"],[1.0,\"#f0f921\"]],\"type\":\"surface\"}],\"table\":[{\"cells\":{\"fill\":{\"color\":\"#EBF0F8\"},\"line\":{\"color\":\"white\"}},\"header\":{\"fill\":{\"color\":\"#C8D4E3\"},\"line\":{\"color\":\"white\"}},\"type\":\"table\"}]},\"layout\":{\"annotationdefaults\":{\"arrowcolor\":\"#2a3f5f\",\"arrowhead\":0,\"arrowwidth\":1},\"autotypenumbers\":\"strict\",\"coloraxis\":{\"colorbar\":{\"outlinewidth\":0,\"ticks\":\"\"}},\"colorscale\":{\"diverging\":[[0,\"#8e0152\"],[0.1,\"#c51b7d\"],[0.2,\"#de77ae\"],[0.3,\"#f1b6da\"],[0.4,\"#fde0ef\"],[0.5,\"#f7f7f7\"],[0.6,\"#e6f5d0\"],[0.7,\"#b8e186\"],[0.8,\"#7fbc41\"],[0.9,\"#4d9221\"],[1,\"#276419\"]],\"sequential\":[[0.0,\"#0d0887\"],[0.1111111111111111,\"#46039f\"],[0.2222222222222222,\"#7201a8\"],[0.3333333333333333,\"#9c179e\"],[0.4444444444444444,\"#bd3786\"],[0.5555555555555556,\"#d8576b\"],[0.6666666666666666,\"#ed7953\"],[0.7777777777777778,\"#fb9f3a\"],[0.8888888888888888,\"#fdca26\"],[1.0,\"#f0f921\"]],\"sequentialminus\":[[0.0,\"#0d0887\"],[0.1111111111111111,\"#46039f\"],[0.2222222222222222,\"#7201a8\"],[0.3333333333333333,\"#9c179e\"],[0.4444444444444444,\"#bd3786\"],[0.5555555555555556,\"#d8576b\"],[0.6666666666666666,\"#ed7953\"],[0.7777777777777778,\"#fb9f3a\"],[0.8888888888888888,\"#fdca26\"],[1.0,\"#f0f921\"]]},\"colorway\":[\"#636efa\",\"#EF553B\",\"#00cc96\",\"#ab63fa\",\"#FFA15A\",\"#19d3f3\",\"#FF6692\",\"#B6E880\",\"#FF97FF\",\"#FECB52\"],\"font\":{\"color\":\"#2a3f5f\"},\"geo\":{\"bgcolor\":\"white\",\"lakecolor\":\"white\",\"landcolor\":\"#E5ECF6\",\"showlakes\":true,\"showland\":true,\"subunitcolor\":\"white\"},\"hoverlabel\":{\"align\":\"left\"},\"hovermode\":\"closest\",\"mapbox\":{\"style\":\"light\"},\"paper_bgcolor\":\"white\",\"plot_bgcolor\":\"#E5ECF6\",\"polar\":{\"angularaxis\":{\"gridcolor\":\"white\",\"linecolor\":\"white\",\"ticks\":\"\"},\"bgcolor\":\"#E5ECF6\",\"radialaxis\":{\"gridcolor\":\"white\",\"linecolor\":\"white\",\"ticks\":\"\"}},\"scene\":{\"xaxis\":{\"backgroundcolor\":\"#E5ECF6\",\"gridcolor\":\"white\",\"gridwidth\":2,\"linecolor\":\"white\",\"showbackground\":true,\"ticks\":\"\",\"zerolinecolor\":\"white\"},\"yaxis\":{\"backgroundcolor\":\"#E5ECF6\",\"gridcolor\":\"white\",\"gridwidth\":2,\"linecolor\":\"white\",\"showbackground\":true,\"ticks\":\"\",\"zerolinecolor\":\"white\"},\"zaxis\":{\"backgroundcolor\":\"#E5ECF6\",\"gridcolor\":\"white\",\"gridwidth\":2,\"linecolor\":\"white\",\"showbackground\":true,\"ticks\":\"\",\"zerolinecolor\":\"white\"}},\"shapedefaults\":{\"line\":{\"color\":\"#2a3f5f\"}},\"ternary\":{\"aaxis\":{\"gridcolor\":\"white\",\"linecolor\":\"white\",\"ticks\":\"\"},\"baxis\":{\"gridcolor\":\"white\",\"linecolor\":\"white\",\"ticks\":\"\"},\"bgcolor\":\"#E5ECF6\",\"caxis\":{\"gridcolor\":\"white\",\"linecolor\":\"white\",\"ticks\":\"\"}},\"title\":{\"x\":0.05},\"xaxis\":{\"automargin\":true,\"gridcolor\":\"white\",\"linecolor\":\"white\",\"ticks\":\"\",\"title\":{\"standoff\":15},\"zerolinecolor\":\"white\",\"zerolinewidth\":2},\"yaxis\":{\"automargin\":true,\"gridcolor\":\"white\",\"linecolor\":\"white\",\"ticks\":\"\",\"title\":{\"standoff\":15},\"zerolinecolor\":\"white\",\"zerolinewidth\":2}}},\"xaxis\":{\"anchor\":\"y\",\"domain\":[0.0,1.0],\"title\":{\"text\":\"Anos\"}},\"yaxis\":{\"anchor\":\"x\",\"domain\":[0.0,1.0],\"title\":{\"text\":\"M\\u00e9dia do VL_QUOTA\"}},\"legend\":{\"tracegroupgap\":0},\"title\":{\"text\":\"M\\u00e9dia anual do VL_QUOTA entre 2000 e 2023\",\"x\":0.5}},                        {\"responsive\": true}                    ).then(function(){\n",
              "                            \n",
              "var gd = document.getElementById('d4d67c5e-196e-479f-bbd7-49055e7addec');\n",
              "var x = new MutationObserver(function (mutations, observer) {{\n",
              "        var display = window.getComputedStyle(gd).display;\n",
              "        if (!display || display === 'none') {{\n",
              "            console.log([gd, 'removed!']);\n",
              "            Plotly.purge(gd);\n",
              "            observer.disconnect();\n",
              "        }}\n",
              "}});\n",
              "\n",
              "// Listen for the removal of the full notebook cells\n",
              "var notebookContainer = gd.closest('#notebook-container');\n",
              "if (notebookContainer) {{\n",
              "    x.observe(notebookContainer, {childList: true});\n",
              "}}\n",
              "\n",
              "// Listen for the clearing of the current output cell\n",
              "var outputEl = gd.closest('.output');\n",
              "if (outputEl) {{\n",
              "    x.observe(outputEl, {childList: true});\n",
              "}}\n",
              "\n",
              "                        })                };                            </script>        </div>\n",
              "</body>\n",
              "</html>"
            ]
          },
          "metadata": {}
        }
      ],
      "source": [
        "fig = px.line(\n",
        "    data_frame= avg_quota_per_year,\n",
        "    x= 'YEAR',\n",
        "    y= 'avg(VL_QUOTA)',\n",
        "    markers= True,\n",
        "    title= 'Média anual do VL_QUOTA entre 2000 e 2023'\n",
        ")\n",
        "fig.update_traces(line_color= 'red')\n",
        "fig.update_layout(title= {'x': 0.5}, xaxis_title= 'Anos', yaxis_title= 'Média do VL_QUOTA')\n",
        "fig.show()"
      ]
    },
    {
      "cell_type": "markdown",
      "metadata": {
        "id": "XfCjopfvIYTC"
      },
      "source": [
        "## Coluna `VL_PATRIM_LIQ`"
      ]
    },
    {
      "cell_type": "markdown",
      "metadata": {
        "id": "CLzeg8i5Ib8H"
      },
      "source": [
        "### Análise da média trimestral (`QUARTER_OF_YEAR`)"
      ]
    },
    {
      "cell_type": "code",
      "execution_count": 32,
      "metadata": {
        "id": "2G5k1a4wIaUj"
      },
      "outputs": [],
      "source": [
        "avg_patrim_per_quarter = df.groupBy('QUARTER_OF_YEAR').agg(f.avg('VL_PATRIM_LIQ')).orderBy('QUARTER_OF_YEAR').toPandas()"
      ]
    },
    {
      "cell_type": "code",
      "execution_count": 33,
      "metadata": {
        "id": "V2X6tqdJItla",
        "colab": {
          "base_uri": "https://localhost:8080/",
          "height": 542
        },
        "outputId": "301fbc39-c380-4716-e303-de7d6885d263"
      },
      "outputs": [
        {
          "output_type": "display_data",
          "data": {
            "text/html": [
              "<html>\n",
              "<head><meta charset=\"utf-8\" /></head>\n",
              "<body>\n",
              "    <div>            <script src=\"https://cdnjs.cloudflare.com/ajax/libs/mathjax/2.7.5/MathJax.js?config=TeX-AMS-MML_SVG\"></script><script type=\"text/javascript\">if (window.MathJax) {MathJax.Hub.Config({SVG: {font: \"STIX-Web\"}});}</script>                <script type=\"text/javascript\">window.PlotlyConfig = {MathJaxConfig: 'local'};</script>\n",
              "        <script src=\"https://cdn.plot.ly/plotly-2.8.3.min.js\"></script>                <div id=\"fa3d864c-f725-40d9-8d68-5efb1861fca6\" class=\"plotly-graph-div\" style=\"height:525px; width:100%;\"></div>            <script type=\"text/javascript\">                                    window.PLOTLYENV=window.PLOTLYENV || {};                                    if (document.getElementById(\"fa3d864c-f725-40d9-8d68-5efb1861fca6\")) {                    Plotly.newPlot(                        \"fa3d864c-f725-40d9-8d68-5efb1861fca6\",                        [{\"hovertemplate\":\"QUARTER_OF_YEAR=%{x}<br>avg(VL_PATRIM_LIQ)=%{y}<extra></extra>\",\"legendgroup\":\"\",\"line\":{\"color\":\"#636efa\",\"dash\":\"solid\"},\"marker\":{\"symbol\":\"circle\"},\"mode\":\"lines+markers\",\"name\":\"\",\"orientation\":\"v\",\"showlegend\":false,\"x\":[\"2001Q1\",\"2002Q1\",\"2002Q2\",\"2002Q3\",\"2002Q4\",\"2003Q1\",\"2003Q2\",\"2003Q3\",\"2003Q4\",\"2004Q1\",\"2004Q2\",\"2004Q3\",\"2004Q4\",\"2005Q1\",\"2005Q2\",\"2005Q3\",\"2005Q4\",\"2006Q1\",\"2006Q2\",\"2006Q3\",\"2006Q4\",\"2007Q1\",\"2007Q2\",\"2007Q3\",\"2007Q4\",\"2008Q1\",\"2008Q2\",\"2008Q3\",\"2008Q4\",\"2009Q1\",\"2009Q2\",\"2009Q3\",\"2009Q4\",\"2010Q1\",\"2010Q2\",\"2010Q3\",\"2010Q4\",\"2011Q1\",\"2011Q2\",\"2011Q3\",\"2011Q4\",\"2012Q1\",\"2012Q2\",\"2012Q3\",\"2012Q4\",\"2013Q1\",\"2013Q2\",\"2013Q3\",\"2013Q4\",\"2014Q1\",\"2014Q2\",\"2014Q3\",\"2014Q4\",\"2015Q1\",\"2015Q2\",\"2015Q3\",\"2015Q4\",\"2016Q1\",\"2016Q2\",\"2016Q3\",\"2016Q4\",\"2017Q1\",\"2017Q2\",\"2017Q3\",\"2017Q4\",\"2018Q1\",\"2018Q2\",\"2018Q3\",\"2018Q4\",\"2019Q1\",\"2019Q2\",\"2019Q3\",\"2019Q4\",\"2020Q1\",\"2020Q2\",\"2020Q3\",\"2020Q4\",\"2021Q1\",\"2021Q2\",\"2021Q3\",\"2021Q4\",\"2022Q1\",\"2022Q2\",\"2022Q3\",\"2022Q4\",\"2023Q1\"],\"xaxis\":\"x\",\"y\":[4918122.13,6739520.627021277,87761170.8506944,20223341.798055552,13109070.922857145,7706107.731639344,32429673.44086957,328697185.19343424,15689669.316956526,41893654.17011263,93534953.1319491,95690814.56082097,97084252.20679963,102071541.44766183,105581809.7567495,110766381.267658,116634300.95704424,122907153.80859163,128096686.29470764,131876222.43503399,132035402.91789939,136131188.55343583,133996714.8823532,130678510.66026019,128007898.68296361,124662738.48220672,119893584.35276927,114458696.5242532,106601684.15489264,112222948.58887322,115766796.87629664,121778310.02278161,124777514.98646045,124633646.69317925,124740934.25422539,125712754.02666202,127249863.19899824,129679852.11341664,128199093.6734898,126965322.51814269,128361599.47223237,131473678.69645694,130903439.4434541,133100222.80769579,133954939.32413194,136649962.38170114,137398655.0009424,135965474.82614872,133758719.47485156,132046671.9616348,132777054.45538905,133682557.09373707,132360294.90996951,133578209.59526092,135639616.3400324,136699539.4400559,137172314.99026144,138193674.74705198,142793309.2364038,145845976.52804548,147202289.35534978,153748113.45647788,157849446.90092957,162216507.04909074,166015542.871187,172647297.9231998,173795556.0242374,174470581.87907138,176265609.17483833,178497008.58735391,179855347.5620433,184781554.57054788,185166941.40751934,183802924.74044296,180152220.80348697,187537262.14818758,187977796.36770913,189257780.14402938,188317518.74990195,184955215.29434574,176124685.17177045,171044041.7764055,167866788.70731646,165975438.60050586,167975314.34024674,165986420.21640506],\"yaxis\":\"y\",\"type\":\"scatter\"}],                        {\"template\":{\"data\":{\"bar\":[{\"error_x\":{\"color\":\"#2a3f5f\"},\"error_y\":{\"color\":\"#2a3f5f\"},\"marker\":{\"line\":{\"color\":\"#E5ECF6\",\"width\":0.5},\"pattern\":{\"fillmode\":\"overlay\",\"size\":10,\"solidity\":0.2}},\"type\":\"bar\"}],\"barpolar\":[{\"marker\":{\"line\":{\"color\":\"#E5ECF6\",\"width\":0.5},\"pattern\":{\"fillmode\":\"overlay\",\"size\":10,\"solidity\":0.2}},\"type\":\"barpolar\"}],\"carpet\":[{\"aaxis\":{\"endlinecolor\":\"#2a3f5f\",\"gridcolor\":\"white\",\"linecolor\":\"white\",\"minorgridcolor\":\"white\",\"startlinecolor\":\"#2a3f5f\"},\"baxis\":{\"endlinecolor\":\"#2a3f5f\",\"gridcolor\":\"white\",\"linecolor\":\"white\",\"minorgridcolor\":\"white\",\"startlinecolor\":\"#2a3f5f\"},\"type\":\"carpet\"}],\"choropleth\":[{\"colorbar\":{\"outlinewidth\":0,\"ticks\":\"\"},\"type\":\"choropleth\"}],\"contour\":[{\"colorbar\":{\"outlinewidth\":0,\"ticks\":\"\"},\"colorscale\":[[0.0,\"#0d0887\"],[0.1111111111111111,\"#46039f\"],[0.2222222222222222,\"#7201a8\"],[0.3333333333333333,\"#9c179e\"],[0.4444444444444444,\"#bd3786\"],[0.5555555555555556,\"#d8576b\"],[0.6666666666666666,\"#ed7953\"],[0.7777777777777778,\"#fb9f3a\"],[0.8888888888888888,\"#fdca26\"],[1.0,\"#f0f921\"]],\"type\":\"contour\"}],\"contourcarpet\":[{\"colorbar\":{\"outlinewidth\":0,\"ticks\":\"\"},\"type\":\"contourcarpet\"}],\"heatmap\":[{\"colorbar\":{\"outlinewidth\":0,\"ticks\":\"\"},\"colorscale\":[[0.0,\"#0d0887\"],[0.1111111111111111,\"#46039f\"],[0.2222222222222222,\"#7201a8\"],[0.3333333333333333,\"#9c179e\"],[0.4444444444444444,\"#bd3786\"],[0.5555555555555556,\"#d8576b\"],[0.6666666666666666,\"#ed7953\"],[0.7777777777777778,\"#fb9f3a\"],[0.8888888888888888,\"#fdca26\"],[1.0,\"#f0f921\"]],\"type\":\"heatmap\"}],\"heatmapgl\":[{\"colorbar\":{\"outlinewidth\":0,\"ticks\":\"\"},\"colorscale\":[[0.0,\"#0d0887\"],[0.1111111111111111,\"#46039f\"],[0.2222222222222222,\"#7201a8\"],[0.3333333333333333,\"#9c179e\"],[0.4444444444444444,\"#bd3786\"],[0.5555555555555556,\"#d8576b\"],[0.6666666666666666,\"#ed7953\"],[0.7777777777777778,\"#fb9f3a\"],[0.8888888888888888,\"#fdca26\"],[1.0,\"#f0f921\"]],\"type\":\"heatmapgl\"}],\"histogram\":[{\"marker\":{\"pattern\":{\"fillmode\":\"overlay\",\"size\":10,\"solidity\":0.2}},\"type\":\"histogram\"}],\"histogram2d\":[{\"colorbar\":{\"outlinewidth\":0,\"ticks\":\"\"},\"colorscale\":[[0.0,\"#0d0887\"],[0.1111111111111111,\"#46039f\"],[0.2222222222222222,\"#7201a8\"],[0.3333333333333333,\"#9c179e\"],[0.4444444444444444,\"#bd3786\"],[0.5555555555555556,\"#d8576b\"],[0.6666666666666666,\"#ed7953\"],[0.7777777777777778,\"#fb9f3a\"],[0.8888888888888888,\"#fdca26\"],[1.0,\"#f0f921\"]],\"type\":\"histogram2d\"}],\"histogram2dcontour\":[{\"colorbar\":{\"outlinewidth\":0,\"ticks\":\"\"},\"colorscale\":[[0.0,\"#0d0887\"],[0.1111111111111111,\"#46039f\"],[0.2222222222222222,\"#7201a8\"],[0.3333333333333333,\"#9c179e\"],[0.4444444444444444,\"#bd3786\"],[0.5555555555555556,\"#d8576b\"],[0.6666666666666666,\"#ed7953\"],[0.7777777777777778,\"#fb9f3a\"],[0.8888888888888888,\"#fdca26\"],[1.0,\"#f0f921\"]],\"type\":\"histogram2dcontour\"}],\"mesh3d\":[{\"colorbar\":{\"outlinewidth\":0,\"ticks\":\"\"},\"type\":\"mesh3d\"}],\"parcoords\":[{\"line\":{\"colorbar\":{\"outlinewidth\":0,\"ticks\":\"\"}},\"type\":\"parcoords\"}],\"pie\":[{\"automargin\":true,\"type\":\"pie\"}],\"scatter\":[{\"marker\":{\"colorbar\":{\"outlinewidth\":0,\"ticks\":\"\"}},\"type\":\"scatter\"}],\"scatter3d\":[{\"line\":{\"colorbar\":{\"outlinewidth\":0,\"ticks\":\"\"}},\"marker\":{\"colorbar\":{\"outlinewidth\":0,\"ticks\":\"\"}},\"type\":\"scatter3d\"}],\"scattercarpet\":[{\"marker\":{\"colorbar\":{\"outlinewidth\":0,\"ticks\":\"\"}},\"type\":\"scattercarpet\"}],\"scattergeo\":[{\"marker\":{\"colorbar\":{\"outlinewidth\":0,\"ticks\":\"\"}},\"type\":\"scattergeo\"}],\"scattergl\":[{\"marker\":{\"colorbar\":{\"outlinewidth\":0,\"ticks\":\"\"}},\"type\":\"scattergl\"}],\"scattermapbox\":[{\"marker\":{\"colorbar\":{\"outlinewidth\":0,\"ticks\":\"\"}},\"type\":\"scattermapbox\"}],\"scatterpolar\":[{\"marker\":{\"colorbar\":{\"outlinewidth\":0,\"ticks\":\"\"}},\"type\":\"scatterpolar\"}],\"scatterpolargl\":[{\"marker\":{\"colorbar\":{\"outlinewidth\":0,\"ticks\":\"\"}},\"type\":\"scatterpolargl\"}],\"scatterternary\":[{\"marker\":{\"colorbar\":{\"outlinewidth\":0,\"ticks\":\"\"}},\"type\":\"scatterternary\"}],\"surface\":[{\"colorbar\":{\"outlinewidth\":0,\"ticks\":\"\"},\"colorscale\":[[0.0,\"#0d0887\"],[0.1111111111111111,\"#46039f\"],[0.2222222222222222,\"#7201a8\"],[0.3333333333333333,\"#9c179e\"],[0.4444444444444444,\"#bd3786\"],[0.5555555555555556,\"#d8576b\"],[0.6666666666666666,\"#ed7953\"],[0.7777777777777778,\"#fb9f3a\"],[0.8888888888888888,\"#fdca26\"],[1.0,\"#f0f921\"]],\"type\":\"surface\"}],\"table\":[{\"cells\":{\"fill\":{\"color\":\"#EBF0F8\"},\"line\":{\"color\":\"white\"}},\"header\":{\"fill\":{\"color\":\"#C8D4E3\"},\"line\":{\"color\":\"white\"}},\"type\":\"table\"}]},\"layout\":{\"annotationdefaults\":{\"arrowcolor\":\"#2a3f5f\",\"arrowhead\":0,\"arrowwidth\":1},\"autotypenumbers\":\"strict\",\"coloraxis\":{\"colorbar\":{\"outlinewidth\":0,\"ticks\":\"\"}},\"colorscale\":{\"diverging\":[[0,\"#8e0152\"],[0.1,\"#c51b7d\"],[0.2,\"#de77ae\"],[0.3,\"#f1b6da\"],[0.4,\"#fde0ef\"],[0.5,\"#f7f7f7\"],[0.6,\"#e6f5d0\"],[0.7,\"#b8e186\"],[0.8,\"#7fbc41\"],[0.9,\"#4d9221\"],[1,\"#276419\"]],\"sequential\":[[0.0,\"#0d0887\"],[0.1111111111111111,\"#46039f\"],[0.2222222222222222,\"#7201a8\"],[0.3333333333333333,\"#9c179e\"],[0.4444444444444444,\"#bd3786\"],[0.5555555555555556,\"#d8576b\"],[0.6666666666666666,\"#ed7953\"],[0.7777777777777778,\"#fb9f3a\"],[0.8888888888888888,\"#fdca26\"],[1.0,\"#f0f921\"]],\"sequentialminus\":[[0.0,\"#0d0887\"],[0.1111111111111111,\"#46039f\"],[0.2222222222222222,\"#7201a8\"],[0.3333333333333333,\"#9c179e\"],[0.4444444444444444,\"#bd3786\"],[0.5555555555555556,\"#d8576b\"],[0.6666666666666666,\"#ed7953\"],[0.7777777777777778,\"#fb9f3a\"],[0.8888888888888888,\"#fdca26\"],[1.0,\"#f0f921\"]]},\"colorway\":[\"#636efa\",\"#EF553B\",\"#00cc96\",\"#ab63fa\",\"#FFA15A\",\"#19d3f3\",\"#FF6692\",\"#B6E880\",\"#FF97FF\",\"#FECB52\"],\"font\":{\"color\":\"#2a3f5f\"},\"geo\":{\"bgcolor\":\"white\",\"lakecolor\":\"white\",\"landcolor\":\"#E5ECF6\",\"showlakes\":true,\"showland\":true,\"subunitcolor\":\"white\"},\"hoverlabel\":{\"align\":\"left\"},\"hovermode\":\"closest\",\"mapbox\":{\"style\":\"light\"},\"paper_bgcolor\":\"white\",\"plot_bgcolor\":\"#E5ECF6\",\"polar\":{\"angularaxis\":{\"gridcolor\":\"white\",\"linecolor\":\"white\",\"ticks\":\"\"},\"bgcolor\":\"#E5ECF6\",\"radialaxis\":{\"gridcolor\":\"white\",\"linecolor\":\"white\",\"ticks\":\"\"}},\"scene\":{\"xaxis\":{\"backgroundcolor\":\"#E5ECF6\",\"gridcolor\":\"white\",\"gridwidth\":2,\"linecolor\":\"white\",\"showbackground\":true,\"ticks\":\"\",\"zerolinecolor\":\"white\"},\"yaxis\":{\"backgroundcolor\":\"#E5ECF6\",\"gridcolor\":\"white\",\"gridwidth\":2,\"linecolor\":\"white\",\"showbackground\":true,\"ticks\":\"\",\"zerolinecolor\":\"white\"},\"zaxis\":{\"backgroundcolor\":\"#E5ECF6\",\"gridcolor\":\"white\",\"gridwidth\":2,\"linecolor\":\"white\",\"showbackground\":true,\"ticks\":\"\",\"zerolinecolor\":\"white\"}},\"shapedefaults\":{\"line\":{\"color\":\"#2a3f5f\"}},\"ternary\":{\"aaxis\":{\"gridcolor\":\"white\",\"linecolor\":\"white\",\"ticks\":\"\"},\"baxis\":{\"gridcolor\":\"white\",\"linecolor\":\"white\",\"ticks\":\"\"},\"bgcolor\":\"#E5ECF6\",\"caxis\":{\"gridcolor\":\"white\",\"linecolor\":\"white\",\"ticks\":\"\"}},\"title\":{\"x\":0.05},\"xaxis\":{\"automargin\":true,\"gridcolor\":\"white\",\"linecolor\":\"white\",\"ticks\":\"\",\"title\":{\"standoff\":15},\"zerolinecolor\":\"white\",\"zerolinewidth\":2},\"yaxis\":{\"automargin\":true,\"gridcolor\":\"white\",\"linecolor\":\"white\",\"ticks\":\"\",\"title\":{\"standoff\":15},\"zerolinecolor\":\"white\",\"zerolinewidth\":2}}},\"xaxis\":{\"anchor\":\"y\",\"domain\":[0.0,1.0],\"title\":{\"text\":\"Trimestres\"}},\"yaxis\":{\"anchor\":\"x\",\"domain\":[0.0,1.0],\"title\":{\"text\":\"M\\u00e9dia do VL_PATRIM_LIQ\"}},\"legend\":{\"tracegroupgap\":0},\"title\":{\"text\":\"M\\u00e9dia trimestral do VL_PATRIM_LIQ entre 2000 e 2023\",\"x\":0.5}},                        {\"responsive\": true}                    ).then(function(){\n",
              "                            \n",
              "var gd = document.getElementById('fa3d864c-f725-40d9-8d68-5efb1861fca6');\n",
              "var x = new MutationObserver(function (mutations, observer) {{\n",
              "        var display = window.getComputedStyle(gd).display;\n",
              "        if (!display || display === 'none') {{\n",
              "            console.log([gd, 'removed!']);\n",
              "            Plotly.purge(gd);\n",
              "            observer.disconnect();\n",
              "        }}\n",
              "}});\n",
              "\n",
              "// Listen for the removal of the full notebook cells\n",
              "var notebookContainer = gd.closest('#notebook-container');\n",
              "if (notebookContainer) {{\n",
              "    x.observe(notebookContainer, {childList: true});\n",
              "}}\n",
              "\n",
              "// Listen for the clearing of the current output cell\n",
              "var outputEl = gd.closest('.output');\n",
              "if (outputEl) {{\n",
              "    x.observe(outputEl, {childList: true});\n",
              "}}\n",
              "\n",
              "                        })                };                            </script>        </div>\n",
              "</body>\n",
              "</html>"
            ]
          },
          "metadata": {}
        }
      ],
      "source": [
        "fig = px.line(\n",
        "    data_frame= avg_patrim_per_quarter,\n",
        "    x= 'QUARTER_OF_YEAR',\n",
        "    y= 'avg(VL_PATRIM_LIQ)',\n",
        "    markers= True,\n",
        "    title= 'Média trimestral do VL_PATRIM_LIQ entre 2000 e 2023'\n",
        ")\n",
        "fig.update_layout(title= {'x': 0.5}, xaxis_title= 'Trimestres', yaxis_title= 'Média do VL_PATRIM_LIQ')\n",
        "fig.show()"
      ]
    },
    {
      "cell_type": "code",
      "execution_count": 34,
      "metadata": {
        "id": "HfQEneaOLlzZ"
      },
      "outputs": [],
      "source": [
        "avg_patrim_per_year = df.groupBy('YEAR').agg(f.avg('VL_PATRIM_LIQ')).orderBy('YEAR').toPandas()"
      ]
    },
    {
      "cell_type": "code",
      "execution_count": 35,
      "metadata": {
        "id": "9YJ59oLbLTfI",
        "colab": {
          "base_uri": "https://localhost:8080/",
          "height": 542
        },
        "outputId": "b51732df-4f2e-44a3-9834-565303b5ac83"
      },
      "outputs": [
        {
          "output_type": "display_data",
          "data": {
            "text/html": [
              "<html>\n",
              "<head><meta charset=\"utf-8\" /></head>\n",
              "<body>\n",
              "    <div>            <script src=\"https://cdnjs.cloudflare.com/ajax/libs/mathjax/2.7.5/MathJax.js?config=TeX-AMS-MML_SVG\"></script><script type=\"text/javascript\">if (window.MathJax) {MathJax.Hub.Config({SVG: {font: \"STIX-Web\"}});}</script>                <script type=\"text/javascript\">window.PlotlyConfig = {MathJaxConfig: 'local'};</script>\n",
              "        <script src=\"https://cdn.plot.ly/plotly-2.8.3.min.js\"></script>                <div id=\"7b5283d7-dd0c-48c5-85c8-2a74aca0c90d\" class=\"plotly-graph-div\" style=\"height:525px; width:100%;\"></div>            <script type=\"text/javascript\">                                    window.PLOTLYENV=window.PLOTLYENV || {};                                    if (document.getElementById(\"7b5283d7-dd0c-48c5-85c8-2a74aca0c90d\")) {                    Plotly.newPlot(                        \"7b5283d7-dd0c-48c5-85c8-2a74aca0c90d\",                        [{\"hovertemplate\":\"YEAR=%{x}<br>avg(VL_PATRIM_LIQ)=%{y}<extra></extra>\",\"legendgroup\":\"\",\"line\":{\"color\":\"red\",\"dash\":\"solid\"},\"marker\":{\"symbol\":\"circle\"},\"mode\":\"lines+markers\",\"name\":\"\",\"orientation\":\"v\",\"showlegend\":false,\"x\":[2001,2002,2003,2004,2005,2006,2007,2008,2009,2010,2011,2012,2013,2014,2015,2016,2017,2018,2019,2020,2021,2022,2023],\"xaxis\":\"x\",\"y\":[4918122.13,44657568.45189348,165620576.6466504,95446072.19215214,108809765.54874319,128779019.60579218,131957996.03873746,116205713.57448347,118842798.00950764,125632292.09942657,128270023.02178803,132387074.1668715,135896331.11384204,132732552.00416718,135799911.83042637,143565654.19161135,160019816.59572282,174322244.90538338,182237724.15025827,185027231.91120714,184392521.01965913,168162762.20939624,165986420.21640506],\"yaxis\":\"y\",\"type\":\"scatter\"}],                        {\"template\":{\"data\":{\"bar\":[{\"error_x\":{\"color\":\"#2a3f5f\"},\"error_y\":{\"color\":\"#2a3f5f\"},\"marker\":{\"line\":{\"color\":\"#E5ECF6\",\"width\":0.5},\"pattern\":{\"fillmode\":\"overlay\",\"size\":10,\"solidity\":0.2}},\"type\":\"bar\"}],\"barpolar\":[{\"marker\":{\"line\":{\"color\":\"#E5ECF6\",\"width\":0.5},\"pattern\":{\"fillmode\":\"overlay\",\"size\":10,\"solidity\":0.2}},\"type\":\"barpolar\"}],\"carpet\":[{\"aaxis\":{\"endlinecolor\":\"#2a3f5f\",\"gridcolor\":\"white\",\"linecolor\":\"white\",\"minorgridcolor\":\"white\",\"startlinecolor\":\"#2a3f5f\"},\"baxis\":{\"endlinecolor\":\"#2a3f5f\",\"gridcolor\":\"white\",\"linecolor\":\"white\",\"minorgridcolor\":\"white\",\"startlinecolor\":\"#2a3f5f\"},\"type\":\"carpet\"}],\"choropleth\":[{\"colorbar\":{\"outlinewidth\":0,\"ticks\":\"\"},\"type\":\"choropleth\"}],\"contour\":[{\"colorbar\":{\"outlinewidth\":0,\"ticks\":\"\"},\"colorscale\":[[0.0,\"#0d0887\"],[0.1111111111111111,\"#46039f\"],[0.2222222222222222,\"#7201a8\"],[0.3333333333333333,\"#9c179e\"],[0.4444444444444444,\"#bd3786\"],[0.5555555555555556,\"#d8576b\"],[0.6666666666666666,\"#ed7953\"],[0.7777777777777778,\"#fb9f3a\"],[0.8888888888888888,\"#fdca26\"],[1.0,\"#f0f921\"]],\"type\":\"contour\"}],\"contourcarpet\":[{\"colorbar\":{\"outlinewidth\":0,\"ticks\":\"\"},\"type\":\"contourcarpet\"}],\"heatmap\":[{\"colorbar\":{\"outlinewidth\":0,\"ticks\":\"\"},\"colorscale\":[[0.0,\"#0d0887\"],[0.1111111111111111,\"#46039f\"],[0.2222222222222222,\"#7201a8\"],[0.3333333333333333,\"#9c179e\"],[0.4444444444444444,\"#bd3786\"],[0.5555555555555556,\"#d8576b\"],[0.6666666666666666,\"#ed7953\"],[0.7777777777777778,\"#fb9f3a\"],[0.8888888888888888,\"#fdca26\"],[1.0,\"#f0f921\"]],\"type\":\"heatmap\"}],\"heatmapgl\":[{\"colorbar\":{\"outlinewidth\":0,\"ticks\":\"\"},\"colorscale\":[[0.0,\"#0d0887\"],[0.1111111111111111,\"#46039f\"],[0.2222222222222222,\"#7201a8\"],[0.3333333333333333,\"#9c179e\"],[0.4444444444444444,\"#bd3786\"],[0.5555555555555556,\"#d8576b\"],[0.6666666666666666,\"#ed7953\"],[0.7777777777777778,\"#fb9f3a\"],[0.8888888888888888,\"#fdca26\"],[1.0,\"#f0f921\"]],\"type\":\"heatmapgl\"}],\"histogram\":[{\"marker\":{\"pattern\":{\"fillmode\":\"overlay\",\"size\":10,\"solidity\":0.2}},\"type\":\"histogram\"}],\"histogram2d\":[{\"colorbar\":{\"outlinewidth\":0,\"ticks\":\"\"},\"colorscale\":[[0.0,\"#0d0887\"],[0.1111111111111111,\"#46039f\"],[0.2222222222222222,\"#7201a8\"],[0.3333333333333333,\"#9c179e\"],[0.4444444444444444,\"#bd3786\"],[0.5555555555555556,\"#d8576b\"],[0.6666666666666666,\"#ed7953\"],[0.7777777777777778,\"#fb9f3a\"],[0.8888888888888888,\"#fdca26\"],[1.0,\"#f0f921\"]],\"type\":\"histogram2d\"}],\"histogram2dcontour\":[{\"colorbar\":{\"outlinewidth\":0,\"ticks\":\"\"},\"colorscale\":[[0.0,\"#0d0887\"],[0.1111111111111111,\"#46039f\"],[0.2222222222222222,\"#7201a8\"],[0.3333333333333333,\"#9c179e\"],[0.4444444444444444,\"#bd3786\"],[0.5555555555555556,\"#d8576b\"],[0.6666666666666666,\"#ed7953\"],[0.7777777777777778,\"#fb9f3a\"],[0.8888888888888888,\"#fdca26\"],[1.0,\"#f0f921\"]],\"type\":\"histogram2dcontour\"}],\"mesh3d\":[{\"colorbar\":{\"outlinewidth\":0,\"ticks\":\"\"},\"type\":\"mesh3d\"}],\"parcoords\":[{\"line\":{\"colorbar\":{\"outlinewidth\":0,\"ticks\":\"\"}},\"type\":\"parcoords\"}],\"pie\":[{\"automargin\":true,\"type\":\"pie\"}],\"scatter\":[{\"marker\":{\"colorbar\":{\"outlinewidth\":0,\"ticks\":\"\"}},\"type\":\"scatter\"}],\"scatter3d\":[{\"line\":{\"colorbar\":{\"outlinewidth\":0,\"ticks\":\"\"}},\"marker\":{\"colorbar\":{\"outlinewidth\":0,\"ticks\":\"\"}},\"type\":\"scatter3d\"}],\"scattercarpet\":[{\"marker\":{\"colorbar\":{\"outlinewidth\":0,\"ticks\":\"\"}},\"type\":\"scattercarpet\"}],\"scattergeo\":[{\"marker\":{\"colorbar\":{\"outlinewidth\":0,\"ticks\":\"\"}},\"type\":\"scattergeo\"}],\"scattergl\":[{\"marker\":{\"colorbar\":{\"outlinewidth\":0,\"ticks\":\"\"}},\"type\":\"scattergl\"}],\"scattermapbox\":[{\"marker\":{\"colorbar\":{\"outlinewidth\":0,\"ticks\":\"\"}},\"type\":\"scattermapbox\"}],\"scatterpolar\":[{\"marker\":{\"colorbar\":{\"outlinewidth\":0,\"ticks\":\"\"}},\"type\":\"scatterpolar\"}],\"scatterpolargl\":[{\"marker\":{\"colorbar\":{\"outlinewidth\":0,\"ticks\":\"\"}},\"type\":\"scatterpolargl\"}],\"scatterternary\":[{\"marker\":{\"colorbar\":{\"outlinewidth\":0,\"ticks\":\"\"}},\"type\":\"scatterternary\"}],\"surface\":[{\"colorbar\":{\"outlinewidth\":0,\"ticks\":\"\"},\"colorscale\":[[0.0,\"#0d0887\"],[0.1111111111111111,\"#46039f\"],[0.2222222222222222,\"#7201a8\"],[0.3333333333333333,\"#9c179e\"],[0.4444444444444444,\"#bd3786\"],[0.5555555555555556,\"#d8576b\"],[0.6666666666666666,\"#ed7953\"],[0.7777777777777778,\"#fb9f3a\"],[0.8888888888888888,\"#fdca26\"],[1.0,\"#f0f921\"]],\"type\":\"surface\"}],\"table\":[{\"cells\":{\"fill\":{\"color\":\"#EBF0F8\"},\"line\":{\"color\":\"white\"}},\"header\":{\"fill\":{\"color\":\"#C8D4E3\"},\"line\":{\"color\":\"white\"}},\"type\":\"table\"}]},\"layout\":{\"annotationdefaults\":{\"arrowcolor\":\"#2a3f5f\",\"arrowhead\":0,\"arrowwidth\":1},\"autotypenumbers\":\"strict\",\"coloraxis\":{\"colorbar\":{\"outlinewidth\":0,\"ticks\":\"\"}},\"colorscale\":{\"diverging\":[[0,\"#8e0152\"],[0.1,\"#c51b7d\"],[0.2,\"#de77ae\"],[0.3,\"#f1b6da\"],[0.4,\"#fde0ef\"],[0.5,\"#f7f7f7\"],[0.6,\"#e6f5d0\"],[0.7,\"#b8e186\"],[0.8,\"#7fbc41\"],[0.9,\"#4d9221\"],[1,\"#276419\"]],\"sequential\":[[0.0,\"#0d0887\"],[0.1111111111111111,\"#46039f\"],[0.2222222222222222,\"#7201a8\"],[0.3333333333333333,\"#9c179e\"],[0.4444444444444444,\"#bd3786\"],[0.5555555555555556,\"#d8576b\"],[0.6666666666666666,\"#ed7953\"],[0.7777777777777778,\"#fb9f3a\"],[0.8888888888888888,\"#fdca26\"],[1.0,\"#f0f921\"]],\"sequentialminus\":[[0.0,\"#0d0887\"],[0.1111111111111111,\"#46039f\"],[0.2222222222222222,\"#7201a8\"],[0.3333333333333333,\"#9c179e\"],[0.4444444444444444,\"#bd3786\"],[0.5555555555555556,\"#d8576b\"],[0.6666666666666666,\"#ed7953\"],[0.7777777777777778,\"#fb9f3a\"],[0.8888888888888888,\"#fdca26\"],[1.0,\"#f0f921\"]]},\"colorway\":[\"#636efa\",\"#EF553B\",\"#00cc96\",\"#ab63fa\",\"#FFA15A\",\"#19d3f3\",\"#FF6692\",\"#B6E880\",\"#FF97FF\",\"#FECB52\"],\"font\":{\"color\":\"#2a3f5f\"},\"geo\":{\"bgcolor\":\"white\",\"lakecolor\":\"white\",\"landcolor\":\"#E5ECF6\",\"showlakes\":true,\"showland\":true,\"subunitcolor\":\"white\"},\"hoverlabel\":{\"align\":\"left\"},\"hovermode\":\"closest\",\"mapbox\":{\"style\":\"light\"},\"paper_bgcolor\":\"white\",\"plot_bgcolor\":\"#E5ECF6\",\"polar\":{\"angularaxis\":{\"gridcolor\":\"white\",\"linecolor\":\"white\",\"ticks\":\"\"},\"bgcolor\":\"#E5ECF6\",\"radialaxis\":{\"gridcolor\":\"white\",\"linecolor\":\"white\",\"ticks\":\"\"}},\"scene\":{\"xaxis\":{\"backgroundcolor\":\"#E5ECF6\",\"gridcolor\":\"white\",\"gridwidth\":2,\"linecolor\":\"white\",\"showbackground\":true,\"ticks\":\"\",\"zerolinecolor\":\"white\"},\"yaxis\":{\"backgroundcolor\":\"#E5ECF6\",\"gridcolor\":\"white\",\"gridwidth\":2,\"linecolor\":\"white\",\"showbackground\":true,\"ticks\":\"\",\"zerolinecolor\":\"white\"},\"zaxis\":{\"backgroundcolor\":\"#E5ECF6\",\"gridcolor\":\"white\",\"gridwidth\":2,\"linecolor\":\"white\",\"showbackground\":true,\"ticks\":\"\",\"zerolinecolor\":\"white\"}},\"shapedefaults\":{\"line\":{\"color\":\"#2a3f5f\"}},\"ternary\":{\"aaxis\":{\"gridcolor\":\"white\",\"linecolor\":\"white\",\"ticks\":\"\"},\"baxis\":{\"gridcolor\":\"white\",\"linecolor\":\"white\",\"ticks\":\"\"},\"bgcolor\":\"#E5ECF6\",\"caxis\":{\"gridcolor\":\"white\",\"linecolor\":\"white\",\"ticks\":\"\"}},\"title\":{\"x\":0.05},\"xaxis\":{\"automargin\":true,\"gridcolor\":\"white\",\"linecolor\":\"white\",\"ticks\":\"\",\"title\":{\"standoff\":15},\"zerolinecolor\":\"white\",\"zerolinewidth\":2},\"yaxis\":{\"automargin\":true,\"gridcolor\":\"white\",\"linecolor\":\"white\",\"ticks\":\"\",\"title\":{\"standoff\":15},\"zerolinecolor\":\"white\",\"zerolinewidth\":2}}},\"xaxis\":{\"anchor\":\"y\",\"domain\":[0.0,1.0],\"title\":{\"text\":\"Anos\"}},\"yaxis\":{\"anchor\":\"x\",\"domain\":[0.0,1.0],\"title\":{\"text\":\"M\\u00e9dia do VL_PATRIM_LIQ\"}},\"legend\":{\"tracegroupgap\":0},\"title\":{\"text\":\"M\\u00e9dia anual do VL_PATRIM_LIQ entre 2000 e 2023\",\"x\":0.5}},                        {\"responsive\": true}                    ).then(function(){\n",
              "                            \n",
              "var gd = document.getElementById('7b5283d7-dd0c-48c5-85c8-2a74aca0c90d');\n",
              "var x = new MutationObserver(function (mutations, observer) {{\n",
              "        var display = window.getComputedStyle(gd).display;\n",
              "        if (!display || display === 'none') {{\n",
              "            console.log([gd, 'removed!']);\n",
              "            Plotly.purge(gd);\n",
              "            observer.disconnect();\n",
              "        }}\n",
              "}});\n",
              "\n",
              "// Listen for the removal of the full notebook cells\n",
              "var notebookContainer = gd.closest('#notebook-container');\n",
              "if (notebookContainer) {{\n",
              "    x.observe(notebookContainer, {childList: true});\n",
              "}}\n",
              "\n",
              "// Listen for the clearing of the current output cell\n",
              "var outputEl = gd.closest('.output');\n",
              "if (outputEl) {{\n",
              "    x.observe(outputEl, {childList: true});\n",
              "}}\n",
              "\n",
              "                        })                };                            </script>        </div>\n",
              "</body>\n",
              "</html>"
            ]
          },
          "metadata": {}
        }
      ],
      "source": [
        "fig = px.line(\n",
        "    data_frame= avg_patrim_per_year,\n",
        "    x= 'YEAR',\n",
        "    y= 'avg(VL_PATRIM_LIQ)',\n",
        "    markers= True,\n",
        "    title= 'Média anual do VL_PATRIM_LIQ entre 2000 e 2023'\n",
        ")\n",
        "fig.update_traces(line_color= 'red')\n",
        "fig.update_layout(title= {'x': 0.5}, xaxis_title= 'Anos', yaxis_title= 'Média do VL_PATRIM_LIQ')\n",
        "fig.show()"
      ]
    },
    {
      "cell_type": "markdown",
      "metadata": {
        "id": "9-c2Bmhh6ijP"
      },
      "source": [
        "## Coluna `CAPTC_DIA`"
      ]
    },
    {
      "cell_type": "markdown",
      "metadata": {
        "id": "5hhvHXjx60V5"
      },
      "source": [
        "### Estatísticas descritivas"
      ]
    },
    {
      "cell_type": "code",
      "execution_count": 36,
      "metadata": {
        "id": "tukTgI-B6l2y",
        "colab": {
          "base_uri": "https://localhost:8080/"
        },
        "outputId": "ed4ac8bb-d930-436c-ece4-ddfdacb05019"
      },
      "outputs": [
        {
          "output_type": "stream",
          "name": "stdout",
          "text": [
            "+-------+------------------+\n",
            "|summary|CAPTC_DIA         |\n",
            "+-------+------------------+\n",
            "|count  |53533044          |\n",
            "|mean   |188487.71169928904|\n",
            "|stddev |1029021.3923677284|\n",
            "|min    |0.0               |\n",
            "|max    |1.57E7            |\n",
            "+-------+------------------+\n",
            "\n"
          ]
        }
      ],
      "source": [
        "df.describe('CAPTC_DIA').show(truncate= False)"
      ]
    },
    {
      "cell_type": "markdown",
      "metadata": {
        "id": "JFZJ0D9268SD"
      },
      "source": [
        "### Análise das médias trimestrais (`QUARTER_OF_YEAR`)"
      ]
    },
    {
      "cell_type": "code",
      "execution_count": 37,
      "metadata": {
        "id": "nOk_mbrA65De"
      },
      "outputs": [],
      "source": [
        "avg_captc_per_quarter = df.groupBy('QUARTER_OF_YEAR').agg(f.avg('CAPTC_DIA')).orderBy('QUARTER_OF_YEAR').toPandas()"
      ]
    },
    {
      "cell_type": "code",
      "execution_count": 38,
      "metadata": {
        "id": "SinekiIc7Q_Y",
        "colab": {
          "base_uri": "https://localhost:8080/",
          "height": 542
        },
        "outputId": "6b27a30b-bfb1-4730-c1c1-6d61b1ed9934"
      },
      "outputs": [
        {
          "output_type": "display_data",
          "data": {
            "text/html": [
              "<html>\n",
              "<head><meta charset=\"utf-8\" /></head>\n",
              "<body>\n",
              "    <div>            <script src=\"https://cdnjs.cloudflare.com/ajax/libs/mathjax/2.7.5/MathJax.js?config=TeX-AMS-MML_SVG\"></script><script type=\"text/javascript\">if (window.MathJax) {MathJax.Hub.Config({SVG: {font: \"STIX-Web\"}});}</script>                <script type=\"text/javascript\">window.PlotlyConfig = {MathJaxConfig: 'local'};</script>\n",
              "        <script src=\"https://cdn.plot.ly/plotly-2.8.3.min.js\"></script>                <div id=\"abe38d41-abd2-4480-a246-c180b611423c\" class=\"plotly-graph-div\" style=\"height:525px; width:100%;\"></div>            <script type=\"text/javascript\">                                    window.PLOTLYENV=window.PLOTLYENV || {};                                    if (document.getElementById(\"abe38d41-abd2-4480-a246-c180b611423c\")) {                    Plotly.newPlot(                        \"abe38d41-abd2-4480-a246-c180b611423c\",                        [{\"hovertemplate\":\"QUARTER_OF_YEAR=%{x}<br>avg(CAPTC_DIA)=%{y}<extra></extra>\",\"legendgroup\":\"\",\"line\":{\"color\":\"#636efa\",\"dash\":\"solid\"},\"marker\":{\"symbol\":\"circle\"},\"mode\":\"lines+markers\",\"name\":\"\",\"orientation\":\"v\",\"showlegend\":false,\"x\":[\"2001Q1\",\"2002Q1\",\"2002Q2\",\"2002Q3\",\"2002Q4\",\"2003Q1\",\"2003Q2\",\"2003Q3\",\"2003Q4\",\"2004Q1\",\"2004Q2\",\"2004Q3\",\"2004Q4\",\"2005Q1\",\"2005Q2\",\"2005Q3\",\"2005Q4\",\"2006Q1\",\"2006Q2\",\"2006Q3\",\"2006Q4\",\"2007Q1\",\"2007Q2\",\"2007Q3\",\"2007Q4\",\"2008Q1\",\"2008Q2\",\"2008Q3\",\"2008Q4\",\"2009Q1\",\"2009Q2\",\"2009Q3\",\"2009Q4\",\"2010Q1\",\"2010Q2\",\"2010Q3\",\"2010Q4\",\"2011Q1\",\"2011Q2\",\"2011Q3\",\"2011Q4\",\"2012Q1\",\"2012Q2\",\"2012Q3\",\"2012Q4\",\"2013Q1\",\"2013Q2\",\"2013Q3\",\"2013Q4\",\"2014Q1\",\"2014Q2\",\"2014Q3\",\"2014Q4\",\"2015Q1\",\"2015Q2\",\"2015Q3\",\"2015Q4\",\"2016Q1\",\"2016Q2\",\"2016Q3\",\"2016Q4\",\"2017Q1\",\"2017Q2\",\"2017Q3\",\"2017Q4\",\"2018Q1\",\"2018Q2\",\"2018Q3\",\"2018Q4\",\"2019Q1\",\"2019Q2\",\"2019Q3\",\"2019Q4\",\"2020Q1\",\"2020Q2\",\"2020Q3\",\"2020Q4\",\"2021Q1\",\"2021Q2\",\"2021Q3\",\"2021Q4\",\"2022Q1\",\"2022Q2\",\"2022Q3\",\"2022Q4\",\"2023Q1\"],\"xaxis\":\"x\",\"y\":[0.0,16496.72319148936,0.0,3390.1019444444446,2139.8571428571427,10762.178196721312,168545.5452173913,99623.4798989899,146322.23,104470.48126760563,187864.88714844774,174625.05846828877,189313.9804898255,201493.65101147303,181965.57273313566,182888.47540065995,193638.0995594377,225607.83454879964,204157.79865378403,191869.23698971985,249430.35981861595,246467.43800920073,261304.59150404364,220330.8120166477,197524.22167256376,189891.4844120471,182222.3482790384,158391.41091341048,158219.6696557957,167243.13064126743,196332.24637835732,212304.67157693673,212139.09491073125,212205.46872591157,190084.2117613028,182991.75693458336,193240.26122492875,178815.31587539843,177237.65791993754,174287.14302409044,169966.71586391967,179421.64414913533,189632.78065099014,187458.32443467045,190211.9414203387,204990.24139001957,180020.08967331593,158559.90510369852,145650.17986600666,152941.2155360662,152212.92961735016,152371.6544204762,143538.30300582768,150929.79656340275,160255.82528512768,156627.5478746111,151597.20827942865,162231.92395089808,170129.32630519968,179160.5517977255,176223.05364098083,208435.61169321224,184827.11455947452,193484.7457098278,198515.88578395144,224491.57120108907,200145.09894653733,170754.86886006146,194401.1748677565,223472.17850419844,223389.2864150813,251639.3270973958,265841.2038867255,256347.1649457724,176242.8622558283,237153.93488684995,205956.19410262452,229694.8315463584,238230.68308667073,198834.59543071743,166361.57246824677,151414.770986957,160044.6605946451,155291.10898904107,142373.34119017748,136936.66185206862],\"yaxis\":\"y\",\"type\":\"scatter\"}],                        {\"template\":{\"data\":{\"bar\":[{\"error_x\":{\"color\":\"#2a3f5f\"},\"error_y\":{\"color\":\"#2a3f5f\"},\"marker\":{\"line\":{\"color\":\"#E5ECF6\",\"width\":0.5},\"pattern\":{\"fillmode\":\"overlay\",\"size\":10,\"solidity\":0.2}},\"type\":\"bar\"}],\"barpolar\":[{\"marker\":{\"line\":{\"color\":\"#E5ECF6\",\"width\":0.5},\"pattern\":{\"fillmode\":\"overlay\",\"size\":10,\"solidity\":0.2}},\"type\":\"barpolar\"}],\"carpet\":[{\"aaxis\":{\"endlinecolor\":\"#2a3f5f\",\"gridcolor\":\"white\",\"linecolor\":\"white\",\"minorgridcolor\":\"white\",\"startlinecolor\":\"#2a3f5f\"},\"baxis\":{\"endlinecolor\":\"#2a3f5f\",\"gridcolor\":\"white\",\"linecolor\":\"white\",\"minorgridcolor\":\"white\",\"startlinecolor\":\"#2a3f5f\"},\"type\":\"carpet\"}],\"choropleth\":[{\"colorbar\":{\"outlinewidth\":0,\"ticks\":\"\"},\"type\":\"choropleth\"}],\"contour\":[{\"colorbar\":{\"outlinewidth\":0,\"ticks\":\"\"},\"colorscale\":[[0.0,\"#0d0887\"],[0.1111111111111111,\"#46039f\"],[0.2222222222222222,\"#7201a8\"],[0.3333333333333333,\"#9c179e\"],[0.4444444444444444,\"#bd3786\"],[0.5555555555555556,\"#d8576b\"],[0.6666666666666666,\"#ed7953\"],[0.7777777777777778,\"#fb9f3a\"],[0.8888888888888888,\"#fdca26\"],[1.0,\"#f0f921\"]],\"type\":\"contour\"}],\"contourcarpet\":[{\"colorbar\":{\"outlinewidth\":0,\"ticks\":\"\"},\"type\":\"contourcarpet\"}],\"heatmap\":[{\"colorbar\":{\"outlinewidth\":0,\"ticks\":\"\"},\"colorscale\":[[0.0,\"#0d0887\"],[0.1111111111111111,\"#46039f\"],[0.2222222222222222,\"#7201a8\"],[0.3333333333333333,\"#9c179e\"],[0.4444444444444444,\"#bd3786\"],[0.5555555555555556,\"#d8576b\"],[0.6666666666666666,\"#ed7953\"],[0.7777777777777778,\"#fb9f3a\"],[0.8888888888888888,\"#fdca26\"],[1.0,\"#f0f921\"]],\"type\":\"heatmap\"}],\"heatmapgl\":[{\"colorbar\":{\"outlinewidth\":0,\"ticks\":\"\"},\"colorscale\":[[0.0,\"#0d0887\"],[0.1111111111111111,\"#46039f\"],[0.2222222222222222,\"#7201a8\"],[0.3333333333333333,\"#9c179e\"],[0.4444444444444444,\"#bd3786\"],[0.5555555555555556,\"#d8576b\"],[0.6666666666666666,\"#ed7953\"],[0.7777777777777778,\"#fb9f3a\"],[0.8888888888888888,\"#fdca26\"],[1.0,\"#f0f921\"]],\"type\":\"heatmapgl\"}],\"histogram\":[{\"marker\":{\"pattern\":{\"fillmode\":\"overlay\",\"size\":10,\"solidity\":0.2}},\"type\":\"histogram\"}],\"histogram2d\":[{\"colorbar\":{\"outlinewidth\":0,\"ticks\":\"\"},\"colorscale\":[[0.0,\"#0d0887\"],[0.1111111111111111,\"#46039f\"],[0.2222222222222222,\"#7201a8\"],[0.3333333333333333,\"#9c179e\"],[0.4444444444444444,\"#bd3786\"],[0.5555555555555556,\"#d8576b\"],[0.6666666666666666,\"#ed7953\"],[0.7777777777777778,\"#fb9f3a\"],[0.8888888888888888,\"#fdca26\"],[1.0,\"#f0f921\"]],\"type\":\"histogram2d\"}],\"histogram2dcontour\":[{\"colorbar\":{\"outlinewidth\":0,\"ticks\":\"\"},\"colorscale\":[[0.0,\"#0d0887\"],[0.1111111111111111,\"#46039f\"],[0.2222222222222222,\"#7201a8\"],[0.3333333333333333,\"#9c179e\"],[0.4444444444444444,\"#bd3786\"],[0.5555555555555556,\"#d8576b\"],[0.6666666666666666,\"#ed7953\"],[0.7777777777777778,\"#fb9f3a\"],[0.8888888888888888,\"#fdca26\"],[1.0,\"#f0f921\"]],\"type\":\"histogram2dcontour\"}],\"mesh3d\":[{\"colorbar\":{\"outlinewidth\":0,\"ticks\":\"\"},\"type\":\"mesh3d\"}],\"parcoords\":[{\"line\":{\"colorbar\":{\"outlinewidth\":0,\"ticks\":\"\"}},\"type\":\"parcoords\"}],\"pie\":[{\"automargin\":true,\"type\":\"pie\"}],\"scatter\":[{\"marker\":{\"colorbar\":{\"outlinewidth\":0,\"ticks\":\"\"}},\"type\":\"scatter\"}],\"scatter3d\":[{\"line\":{\"colorbar\":{\"outlinewidth\":0,\"ticks\":\"\"}},\"marker\":{\"colorbar\":{\"outlinewidth\":0,\"ticks\":\"\"}},\"type\":\"scatter3d\"}],\"scattercarpet\":[{\"marker\":{\"colorbar\":{\"outlinewidth\":0,\"ticks\":\"\"}},\"type\":\"scattercarpet\"}],\"scattergeo\":[{\"marker\":{\"colorbar\":{\"outlinewidth\":0,\"ticks\":\"\"}},\"type\":\"scattergeo\"}],\"scattergl\":[{\"marker\":{\"colorbar\":{\"outlinewidth\":0,\"ticks\":\"\"}},\"type\":\"scattergl\"}],\"scattermapbox\":[{\"marker\":{\"colorbar\":{\"outlinewidth\":0,\"ticks\":\"\"}},\"type\":\"scattermapbox\"}],\"scatterpolar\":[{\"marker\":{\"colorbar\":{\"outlinewidth\":0,\"ticks\":\"\"}},\"type\":\"scatterpolar\"}],\"scatterpolargl\":[{\"marker\":{\"colorbar\":{\"outlinewidth\":0,\"ticks\":\"\"}},\"type\":\"scatterpolargl\"}],\"scatterternary\":[{\"marker\":{\"colorbar\":{\"outlinewidth\":0,\"ticks\":\"\"}},\"type\":\"scatterternary\"}],\"surface\":[{\"colorbar\":{\"outlinewidth\":0,\"ticks\":\"\"},\"colorscale\":[[0.0,\"#0d0887\"],[0.1111111111111111,\"#46039f\"],[0.2222222222222222,\"#7201a8\"],[0.3333333333333333,\"#9c179e\"],[0.4444444444444444,\"#bd3786\"],[0.5555555555555556,\"#d8576b\"],[0.6666666666666666,\"#ed7953\"],[0.7777777777777778,\"#fb9f3a\"],[0.8888888888888888,\"#fdca26\"],[1.0,\"#f0f921\"]],\"type\":\"surface\"}],\"table\":[{\"cells\":{\"fill\":{\"color\":\"#EBF0F8\"},\"line\":{\"color\":\"white\"}},\"header\":{\"fill\":{\"color\":\"#C8D4E3\"},\"line\":{\"color\":\"white\"}},\"type\":\"table\"}]},\"layout\":{\"annotationdefaults\":{\"arrowcolor\":\"#2a3f5f\",\"arrowhead\":0,\"arrowwidth\":1},\"autotypenumbers\":\"strict\",\"coloraxis\":{\"colorbar\":{\"outlinewidth\":0,\"ticks\":\"\"}},\"colorscale\":{\"diverging\":[[0,\"#8e0152\"],[0.1,\"#c51b7d\"],[0.2,\"#de77ae\"],[0.3,\"#f1b6da\"],[0.4,\"#fde0ef\"],[0.5,\"#f7f7f7\"],[0.6,\"#e6f5d0\"],[0.7,\"#b8e186\"],[0.8,\"#7fbc41\"],[0.9,\"#4d9221\"],[1,\"#276419\"]],\"sequential\":[[0.0,\"#0d0887\"],[0.1111111111111111,\"#46039f\"],[0.2222222222222222,\"#7201a8\"],[0.3333333333333333,\"#9c179e\"],[0.4444444444444444,\"#bd3786\"],[0.5555555555555556,\"#d8576b\"],[0.6666666666666666,\"#ed7953\"],[0.7777777777777778,\"#fb9f3a\"],[0.8888888888888888,\"#fdca26\"],[1.0,\"#f0f921\"]],\"sequentialminus\":[[0.0,\"#0d0887\"],[0.1111111111111111,\"#46039f\"],[0.2222222222222222,\"#7201a8\"],[0.3333333333333333,\"#9c179e\"],[0.4444444444444444,\"#bd3786\"],[0.5555555555555556,\"#d8576b\"],[0.6666666666666666,\"#ed7953\"],[0.7777777777777778,\"#fb9f3a\"],[0.8888888888888888,\"#fdca26\"],[1.0,\"#f0f921\"]]},\"colorway\":[\"#636efa\",\"#EF553B\",\"#00cc96\",\"#ab63fa\",\"#FFA15A\",\"#19d3f3\",\"#FF6692\",\"#B6E880\",\"#FF97FF\",\"#FECB52\"],\"font\":{\"color\":\"#2a3f5f\"},\"geo\":{\"bgcolor\":\"white\",\"lakecolor\":\"white\",\"landcolor\":\"#E5ECF6\",\"showlakes\":true,\"showland\":true,\"subunitcolor\":\"white\"},\"hoverlabel\":{\"align\":\"left\"},\"hovermode\":\"closest\",\"mapbox\":{\"style\":\"light\"},\"paper_bgcolor\":\"white\",\"plot_bgcolor\":\"#E5ECF6\",\"polar\":{\"angularaxis\":{\"gridcolor\":\"white\",\"linecolor\":\"white\",\"ticks\":\"\"},\"bgcolor\":\"#E5ECF6\",\"radialaxis\":{\"gridcolor\":\"white\",\"linecolor\":\"white\",\"ticks\":\"\"}},\"scene\":{\"xaxis\":{\"backgroundcolor\":\"#E5ECF6\",\"gridcolor\":\"white\",\"gridwidth\":2,\"linecolor\":\"white\",\"showbackground\":true,\"ticks\":\"\",\"zerolinecolor\":\"white\"},\"yaxis\":{\"backgroundcolor\":\"#E5ECF6\",\"gridcolor\":\"white\",\"gridwidth\":2,\"linecolor\":\"white\",\"showbackground\":true,\"ticks\":\"\",\"zerolinecolor\":\"white\"},\"zaxis\":{\"backgroundcolor\":\"#E5ECF6\",\"gridcolor\":\"white\",\"gridwidth\":2,\"linecolor\":\"white\",\"showbackground\":true,\"ticks\":\"\",\"zerolinecolor\":\"white\"}},\"shapedefaults\":{\"line\":{\"color\":\"#2a3f5f\"}},\"ternary\":{\"aaxis\":{\"gridcolor\":\"white\",\"linecolor\":\"white\",\"ticks\":\"\"},\"baxis\":{\"gridcolor\":\"white\",\"linecolor\":\"white\",\"ticks\":\"\"},\"bgcolor\":\"#E5ECF6\",\"caxis\":{\"gridcolor\":\"white\",\"linecolor\":\"white\",\"ticks\":\"\"}},\"title\":{\"x\":0.05},\"xaxis\":{\"automargin\":true,\"gridcolor\":\"white\",\"linecolor\":\"white\",\"ticks\":\"\",\"title\":{\"standoff\":15},\"zerolinecolor\":\"white\",\"zerolinewidth\":2},\"yaxis\":{\"automargin\":true,\"gridcolor\":\"white\",\"linecolor\":\"white\",\"ticks\":\"\",\"title\":{\"standoff\":15},\"zerolinecolor\":\"white\",\"zerolinewidth\":2}}},\"xaxis\":{\"anchor\":\"y\",\"domain\":[0.0,1.0],\"title\":{\"text\":\"Trimestres\"}},\"yaxis\":{\"anchor\":\"x\",\"domain\":[0.0,1.0],\"title\":{\"text\":\"M\\u00e9dia da CAPTC_DIA\"}},\"legend\":{\"tracegroupgap\":0},\"title\":{\"text\":\"M\\u00e9dias trimestrais da CAPTC_DIA entre 2000 e 2023\",\"x\":0.5}},                        {\"responsive\": true}                    ).then(function(){\n",
              "                            \n",
              "var gd = document.getElementById('abe38d41-abd2-4480-a246-c180b611423c');\n",
              "var x = new MutationObserver(function (mutations, observer) {{\n",
              "        var display = window.getComputedStyle(gd).display;\n",
              "        if (!display || display === 'none') {{\n",
              "            console.log([gd, 'removed!']);\n",
              "            Plotly.purge(gd);\n",
              "            observer.disconnect();\n",
              "        }}\n",
              "}});\n",
              "\n",
              "// Listen for the removal of the full notebook cells\n",
              "var notebookContainer = gd.closest('#notebook-container');\n",
              "if (notebookContainer) {{\n",
              "    x.observe(notebookContainer, {childList: true});\n",
              "}}\n",
              "\n",
              "// Listen for the clearing of the current output cell\n",
              "var outputEl = gd.closest('.output');\n",
              "if (outputEl) {{\n",
              "    x.observe(outputEl, {childList: true});\n",
              "}}\n",
              "\n",
              "                        })                };                            </script>        </div>\n",
              "</body>\n",
              "</html>"
            ]
          },
          "metadata": {}
        }
      ],
      "source": [
        "fig = px.line(\n",
        "    data_frame= avg_captc_per_quarter,\n",
        "    x= 'QUARTER_OF_YEAR',\n",
        "    y= 'avg(CAPTC_DIA)',\n",
        "    markers= True,\n",
        "    title= 'Médias trimestrais da CAPTC_DIA entre 2000 e 2023'\n",
        ")\n",
        "fig.update_layout(title= {'x': 0.5}, xaxis_title= 'Trimestres', yaxis_title= 'Média da CAPTC_DIA')\n",
        "fig.show()"
      ]
    },
    {
      "cell_type": "markdown",
      "metadata": {
        "id": "2OnyvwhJ8KZ_"
      },
      "source": [
        "### Análise das médias anuais (`YEAR`)"
      ]
    },
    {
      "cell_type": "code",
      "execution_count": 39,
      "metadata": {
        "id": "w5-46Ll98RPC"
      },
      "outputs": [],
      "source": [
        "avg_captc_per_year = df.groupBy('YEAR').agg(f.avg('CAPTC_DIA')).orderBy('YEAR').toPandas()"
      ]
    },
    {
      "cell_type": "code",
      "execution_count": 40,
      "metadata": {
        "id": "q5GJmzfG9YAh",
        "colab": {
          "base_uri": "https://localhost:8080/",
          "height": 542
        },
        "outputId": "3e6e6bac-6d18-4465-f0ad-4ab5d2a942a3"
      },
      "outputs": [
        {
          "output_type": "display_data",
          "data": {
            "text/html": [
              "<html>\n",
              "<head><meta charset=\"utf-8\" /></head>\n",
              "<body>\n",
              "    <div>            <script src=\"https://cdnjs.cloudflare.com/ajax/libs/mathjax/2.7.5/MathJax.js?config=TeX-AMS-MML_SVG\"></script><script type=\"text/javascript\">if (window.MathJax) {MathJax.Hub.Config({SVG: {font: \"STIX-Web\"}});}</script>                <script type=\"text/javascript\">window.PlotlyConfig = {MathJaxConfig: 'local'};</script>\n",
              "        <script src=\"https://cdn.plot.ly/plotly-2.8.3.min.js\"></script>                <div id=\"1d3ae024-b487-47f0-ae7f-ed45b2fc386b\" class=\"plotly-graph-div\" style=\"height:525px; width:100%;\"></div>            <script type=\"text/javascript\">                                    window.PLOTLYENV=window.PLOTLYENV || {};                                    if (document.getElementById(\"1d3ae024-b487-47f0-ae7f-ed45b2fc386b\")) {                    Plotly.newPlot(                        \"1d3ae024-b487-47f0-ae7f-ed45b2fc386b\",                        [{\"hovertemplate\":\"YEAR=%{x}<br>avg(CAPTC_DIA)=%{y}<extra></extra>\",\"legendgroup\":\"\",\"line\":{\"color\":\"red\",\"dash\":\"solid\"},\"marker\":{\"symbol\":\"circle\"},\"mode\":\"lines+markers\",\"name\":\"\",\"orientation\":\"v\",\"showlegend\":false,\"x\":[2001,2002,2003,2004,2005,2006,2007,2008,2009,2010,2011,2012,2013,2014,2015,2016,2017,2018,2019,2020,2021,2022,2023],\"xaxis\":\"x\",\"y\":[0.0,5487.264260355029,86219.30199029126,183762.06555976064,189879.73343361323,217592.300375311,229690.16267169587,171589.64591940911,197724.36844190938,194157.57120187813,174986.9030246413,186730.47017225498,171056.79413808006,150187.77825926026,154857.03454303596,172068.3175466713,196335.21759443142,196912.3685862064,242039.85584019282,218838.1299095438,206705.0155434789,152236.8242590732,136936.66185206862],\"yaxis\":\"y\",\"type\":\"scatter\"}],                        {\"template\":{\"data\":{\"bar\":[{\"error_x\":{\"color\":\"#2a3f5f\"},\"error_y\":{\"color\":\"#2a3f5f\"},\"marker\":{\"line\":{\"color\":\"#E5ECF6\",\"width\":0.5},\"pattern\":{\"fillmode\":\"overlay\",\"size\":10,\"solidity\":0.2}},\"type\":\"bar\"}],\"barpolar\":[{\"marker\":{\"line\":{\"color\":\"#E5ECF6\",\"width\":0.5},\"pattern\":{\"fillmode\":\"overlay\",\"size\":10,\"solidity\":0.2}},\"type\":\"barpolar\"}],\"carpet\":[{\"aaxis\":{\"endlinecolor\":\"#2a3f5f\",\"gridcolor\":\"white\",\"linecolor\":\"white\",\"minorgridcolor\":\"white\",\"startlinecolor\":\"#2a3f5f\"},\"baxis\":{\"endlinecolor\":\"#2a3f5f\",\"gridcolor\":\"white\",\"linecolor\":\"white\",\"minorgridcolor\":\"white\",\"startlinecolor\":\"#2a3f5f\"},\"type\":\"carpet\"}],\"choropleth\":[{\"colorbar\":{\"outlinewidth\":0,\"ticks\":\"\"},\"type\":\"choropleth\"}],\"contour\":[{\"colorbar\":{\"outlinewidth\":0,\"ticks\":\"\"},\"colorscale\":[[0.0,\"#0d0887\"],[0.1111111111111111,\"#46039f\"],[0.2222222222222222,\"#7201a8\"],[0.3333333333333333,\"#9c179e\"],[0.4444444444444444,\"#bd3786\"],[0.5555555555555556,\"#d8576b\"],[0.6666666666666666,\"#ed7953\"],[0.7777777777777778,\"#fb9f3a\"],[0.8888888888888888,\"#fdca26\"],[1.0,\"#f0f921\"]],\"type\":\"contour\"}],\"contourcarpet\":[{\"colorbar\":{\"outlinewidth\":0,\"ticks\":\"\"},\"type\":\"contourcarpet\"}],\"heatmap\":[{\"colorbar\":{\"outlinewidth\":0,\"ticks\":\"\"},\"colorscale\":[[0.0,\"#0d0887\"],[0.1111111111111111,\"#46039f\"],[0.2222222222222222,\"#7201a8\"],[0.3333333333333333,\"#9c179e\"],[0.4444444444444444,\"#bd3786\"],[0.5555555555555556,\"#d8576b\"],[0.6666666666666666,\"#ed7953\"],[0.7777777777777778,\"#fb9f3a\"],[0.8888888888888888,\"#fdca26\"],[1.0,\"#f0f921\"]],\"type\":\"heatmap\"}],\"heatmapgl\":[{\"colorbar\":{\"outlinewidth\":0,\"ticks\":\"\"},\"colorscale\":[[0.0,\"#0d0887\"],[0.1111111111111111,\"#46039f\"],[0.2222222222222222,\"#7201a8\"],[0.3333333333333333,\"#9c179e\"],[0.4444444444444444,\"#bd3786\"],[0.5555555555555556,\"#d8576b\"],[0.6666666666666666,\"#ed7953\"],[0.7777777777777778,\"#fb9f3a\"],[0.8888888888888888,\"#fdca26\"],[1.0,\"#f0f921\"]],\"type\":\"heatmapgl\"}],\"histogram\":[{\"marker\":{\"pattern\":{\"fillmode\":\"overlay\",\"size\":10,\"solidity\":0.2}},\"type\":\"histogram\"}],\"histogram2d\":[{\"colorbar\":{\"outlinewidth\":0,\"ticks\":\"\"},\"colorscale\":[[0.0,\"#0d0887\"],[0.1111111111111111,\"#46039f\"],[0.2222222222222222,\"#7201a8\"],[0.3333333333333333,\"#9c179e\"],[0.4444444444444444,\"#bd3786\"],[0.5555555555555556,\"#d8576b\"],[0.6666666666666666,\"#ed7953\"],[0.7777777777777778,\"#fb9f3a\"],[0.8888888888888888,\"#fdca26\"],[1.0,\"#f0f921\"]],\"type\":\"histogram2d\"}],\"histogram2dcontour\":[{\"colorbar\":{\"outlinewidth\":0,\"ticks\":\"\"},\"colorscale\":[[0.0,\"#0d0887\"],[0.1111111111111111,\"#46039f\"],[0.2222222222222222,\"#7201a8\"],[0.3333333333333333,\"#9c179e\"],[0.4444444444444444,\"#bd3786\"],[0.5555555555555556,\"#d8576b\"],[0.6666666666666666,\"#ed7953\"],[0.7777777777777778,\"#fb9f3a\"],[0.8888888888888888,\"#fdca26\"],[1.0,\"#f0f921\"]],\"type\":\"histogram2dcontour\"}],\"mesh3d\":[{\"colorbar\":{\"outlinewidth\":0,\"ticks\":\"\"},\"type\":\"mesh3d\"}],\"parcoords\":[{\"line\":{\"colorbar\":{\"outlinewidth\":0,\"ticks\":\"\"}},\"type\":\"parcoords\"}],\"pie\":[{\"automargin\":true,\"type\":\"pie\"}],\"scatter\":[{\"marker\":{\"colorbar\":{\"outlinewidth\":0,\"ticks\":\"\"}},\"type\":\"scatter\"}],\"scatter3d\":[{\"line\":{\"colorbar\":{\"outlinewidth\":0,\"ticks\":\"\"}},\"marker\":{\"colorbar\":{\"outlinewidth\":0,\"ticks\":\"\"}},\"type\":\"scatter3d\"}],\"scattercarpet\":[{\"marker\":{\"colorbar\":{\"outlinewidth\":0,\"ticks\":\"\"}},\"type\":\"scattercarpet\"}],\"scattergeo\":[{\"marker\":{\"colorbar\":{\"outlinewidth\":0,\"ticks\":\"\"}},\"type\":\"scattergeo\"}],\"scattergl\":[{\"marker\":{\"colorbar\":{\"outlinewidth\":0,\"ticks\":\"\"}},\"type\":\"scattergl\"}],\"scattermapbox\":[{\"marker\":{\"colorbar\":{\"outlinewidth\":0,\"ticks\":\"\"}},\"type\":\"scattermapbox\"}],\"scatterpolar\":[{\"marker\":{\"colorbar\":{\"outlinewidth\":0,\"ticks\":\"\"}},\"type\":\"scatterpolar\"}],\"scatterpolargl\":[{\"marker\":{\"colorbar\":{\"outlinewidth\":0,\"ticks\":\"\"}},\"type\":\"scatterpolargl\"}],\"scatterternary\":[{\"marker\":{\"colorbar\":{\"outlinewidth\":0,\"ticks\":\"\"}},\"type\":\"scatterternary\"}],\"surface\":[{\"colorbar\":{\"outlinewidth\":0,\"ticks\":\"\"},\"colorscale\":[[0.0,\"#0d0887\"],[0.1111111111111111,\"#46039f\"],[0.2222222222222222,\"#7201a8\"],[0.3333333333333333,\"#9c179e\"],[0.4444444444444444,\"#bd3786\"],[0.5555555555555556,\"#d8576b\"],[0.6666666666666666,\"#ed7953\"],[0.7777777777777778,\"#fb9f3a\"],[0.8888888888888888,\"#fdca26\"],[1.0,\"#f0f921\"]],\"type\":\"surface\"}],\"table\":[{\"cells\":{\"fill\":{\"color\":\"#EBF0F8\"},\"line\":{\"color\":\"white\"}},\"header\":{\"fill\":{\"color\":\"#C8D4E3\"},\"line\":{\"color\":\"white\"}},\"type\":\"table\"}]},\"layout\":{\"annotationdefaults\":{\"arrowcolor\":\"#2a3f5f\",\"arrowhead\":0,\"arrowwidth\":1},\"autotypenumbers\":\"strict\",\"coloraxis\":{\"colorbar\":{\"outlinewidth\":0,\"ticks\":\"\"}},\"colorscale\":{\"diverging\":[[0,\"#8e0152\"],[0.1,\"#c51b7d\"],[0.2,\"#de77ae\"],[0.3,\"#f1b6da\"],[0.4,\"#fde0ef\"],[0.5,\"#f7f7f7\"],[0.6,\"#e6f5d0\"],[0.7,\"#b8e186\"],[0.8,\"#7fbc41\"],[0.9,\"#4d9221\"],[1,\"#276419\"]],\"sequential\":[[0.0,\"#0d0887\"],[0.1111111111111111,\"#46039f\"],[0.2222222222222222,\"#7201a8\"],[0.3333333333333333,\"#9c179e\"],[0.4444444444444444,\"#bd3786\"],[0.5555555555555556,\"#d8576b\"],[0.6666666666666666,\"#ed7953\"],[0.7777777777777778,\"#fb9f3a\"],[0.8888888888888888,\"#fdca26\"],[1.0,\"#f0f921\"]],\"sequentialminus\":[[0.0,\"#0d0887\"],[0.1111111111111111,\"#46039f\"],[0.2222222222222222,\"#7201a8\"],[0.3333333333333333,\"#9c179e\"],[0.4444444444444444,\"#bd3786\"],[0.5555555555555556,\"#d8576b\"],[0.6666666666666666,\"#ed7953\"],[0.7777777777777778,\"#fb9f3a\"],[0.8888888888888888,\"#fdca26\"],[1.0,\"#f0f921\"]]},\"colorway\":[\"#636efa\",\"#EF553B\",\"#00cc96\",\"#ab63fa\",\"#FFA15A\",\"#19d3f3\",\"#FF6692\",\"#B6E880\",\"#FF97FF\",\"#FECB52\"],\"font\":{\"color\":\"#2a3f5f\"},\"geo\":{\"bgcolor\":\"white\",\"lakecolor\":\"white\",\"landcolor\":\"#E5ECF6\",\"showlakes\":true,\"showland\":true,\"subunitcolor\":\"white\"},\"hoverlabel\":{\"align\":\"left\"},\"hovermode\":\"closest\",\"mapbox\":{\"style\":\"light\"},\"paper_bgcolor\":\"white\",\"plot_bgcolor\":\"#E5ECF6\",\"polar\":{\"angularaxis\":{\"gridcolor\":\"white\",\"linecolor\":\"white\",\"ticks\":\"\"},\"bgcolor\":\"#E5ECF6\",\"radialaxis\":{\"gridcolor\":\"white\",\"linecolor\":\"white\",\"ticks\":\"\"}},\"scene\":{\"xaxis\":{\"backgroundcolor\":\"#E5ECF6\",\"gridcolor\":\"white\",\"gridwidth\":2,\"linecolor\":\"white\",\"showbackground\":true,\"ticks\":\"\",\"zerolinecolor\":\"white\"},\"yaxis\":{\"backgroundcolor\":\"#E5ECF6\",\"gridcolor\":\"white\",\"gridwidth\":2,\"linecolor\":\"white\",\"showbackground\":true,\"ticks\":\"\",\"zerolinecolor\":\"white\"},\"zaxis\":{\"backgroundcolor\":\"#E5ECF6\",\"gridcolor\":\"white\",\"gridwidth\":2,\"linecolor\":\"white\",\"showbackground\":true,\"ticks\":\"\",\"zerolinecolor\":\"white\"}},\"shapedefaults\":{\"line\":{\"color\":\"#2a3f5f\"}},\"ternary\":{\"aaxis\":{\"gridcolor\":\"white\",\"linecolor\":\"white\",\"ticks\":\"\"},\"baxis\":{\"gridcolor\":\"white\",\"linecolor\":\"white\",\"ticks\":\"\"},\"bgcolor\":\"#E5ECF6\",\"caxis\":{\"gridcolor\":\"white\",\"linecolor\":\"white\",\"ticks\":\"\"}},\"title\":{\"x\":0.05},\"xaxis\":{\"automargin\":true,\"gridcolor\":\"white\",\"linecolor\":\"white\",\"ticks\":\"\",\"title\":{\"standoff\":15},\"zerolinecolor\":\"white\",\"zerolinewidth\":2},\"yaxis\":{\"automargin\":true,\"gridcolor\":\"white\",\"linecolor\":\"white\",\"ticks\":\"\",\"title\":{\"standoff\":15},\"zerolinecolor\":\"white\",\"zerolinewidth\":2}}},\"xaxis\":{\"anchor\":\"y\",\"domain\":[0.0,1.0],\"title\":{\"text\":\"Anos\"}},\"yaxis\":{\"anchor\":\"x\",\"domain\":[0.0,1.0],\"title\":{\"text\":\"M\\u00e9dia da CAPTC_DIA\"}},\"legend\":{\"tracegroupgap\":0},\"title\":{\"text\":\"M\\u00e9dias anuais da CAPTC_DIA entre 2000 e 2023\",\"x\":0.5}},                        {\"responsive\": true}                    ).then(function(){\n",
              "                            \n",
              "var gd = document.getElementById('1d3ae024-b487-47f0-ae7f-ed45b2fc386b');\n",
              "var x = new MutationObserver(function (mutations, observer) {{\n",
              "        var display = window.getComputedStyle(gd).display;\n",
              "        if (!display || display === 'none') {{\n",
              "            console.log([gd, 'removed!']);\n",
              "            Plotly.purge(gd);\n",
              "            observer.disconnect();\n",
              "        }}\n",
              "}});\n",
              "\n",
              "// Listen for the removal of the full notebook cells\n",
              "var notebookContainer = gd.closest('#notebook-container');\n",
              "if (notebookContainer) {{\n",
              "    x.observe(notebookContainer, {childList: true});\n",
              "}}\n",
              "\n",
              "// Listen for the clearing of the current output cell\n",
              "var outputEl = gd.closest('.output');\n",
              "if (outputEl) {{\n",
              "    x.observe(outputEl, {childList: true});\n",
              "}}\n",
              "\n",
              "                        })                };                            </script>        </div>\n",
              "</body>\n",
              "</html>"
            ]
          },
          "metadata": {}
        }
      ],
      "source": [
        "fig = px.line(\n",
        "    data_frame= avg_captc_per_year,\n",
        "    x= 'YEAR',\n",
        "    y= 'avg(CAPTC_DIA)',\n",
        "    markers= True,\n",
        "    title= 'Médias anuais da CAPTC_DIA entre 2000 e 2023'\n",
        ")\n",
        "fig.update_traces(line_color= 'red')\n",
        "fig.update_layout(title= {'x': 0.5}, xaxis_title= 'Anos', yaxis_title= 'Média da CAPTC_DIA')"
      ]
    },
    {
      "cell_type": "markdown",
      "metadata": {
        "id": "LExT4g3D-Fv1"
      },
      "source": [
        "## Coluna `RESG_DIA`"
      ]
    },
    {
      "cell_type": "markdown",
      "metadata": {
        "id": "n_MZf5_t-IT1"
      },
      "source": [
        "### Estatísticas descritivas"
      ]
    },
    {
      "cell_type": "code",
      "execution_count": 41,
      "metadata": {
        "id": "w9x4vd_E90Ut",
        "colab": {
          "base_uri": "https://localhost:8080/"
        },
        "outputId": "e77bcf60-e8f0-4993-ed38-69bfe8242dbf"
      },
      "outputs": [
        {
          "output_type": "stream",
          "name": "stdout",
          "text": [
            "+-------+------------------+\n",
            "|summary|RESG_DIA          |\n",
            "+-------+------------------+\n",
            "|count  |53533044          |\n",
            "|mean   |145915.57700765674|\n",
            "|stddev |699782.3732787843 |\n",
            "|min    |0.0               |\n",
            "|max    |9000000.0         |\n",
            "+-------+------------------+\n",
            "\n"
          ]
        }
      ],
      "source": [
        "df.describe('RESG_DIA').show(truncate= False)"
      ]
    },
    {
      "cell_type": "markdown",
      "metadata": {
        "id": "tjFfHVQY-Q3S"
      },
      "source": [
        "### Análise das médias trimestrais (`QUARTER_OF_YEAR`)"
      ]
    },
    {
      "cell_type": "code",
      "execution_count": 42,
      "metadata": {
        "id": "0H47SEwD-QiH"
      },
      "outputs": [],
      "source": [
        "avg_resg_per_quarter = df.groupBy('QUARTER_OF_YEAR').agg(f.avg('RESG_DIA')).orderBy('QUARTER_OF_YEAR').toPandas()"
      ]
    },
    {
      "cell_type": "code",
      "execution_count": 43,
      "metadata": {
        "id": "-NH66xYM-sw5",
        "colab": {
          "base_uri": "https://localhost:8080/",
          "height": 542
        },
        "outputId": "719947f9-77f7-4ce5-af40-4474490cb364"
      },
      "outputs": [
        {
          "output_type": "display_data",
          "data": {
            "text/html": [
              "<html>\n",
              "<head><meta charset=\"utf-8\" /></head>\n",
              "<body>\n",
              "    <div>            <script src=\"https://cdnjs.cloudflare.com/ajax/libs/mathjax/2.7.5/MathJax.js?config=TeX-AMS-MML_SVG\"></script><script type=\"text/javascript\">if (window.MathJax) {MathJax.Hub.Config({SVG: {font: \"STIX-Web\"}});}</script>                <script type=\"text/javascript\">window.PlotlyConfig = {MathJaxConfig: 'local'};</script>\n",
              "        <script src=\"https://cdn.plot.ly/plotly-2.8.3.min.js\"></script>                <div id=\"7e1003f9-b429-42a7-bdf1-70f3ecdbc54d\" class=\"plotly-graph-div\" style=\"height:525px; width:100%;\"></div>            <script type=\"text/javascript\">                                    window.PLOTLYENV=window.PLOTLYENV || {};                                    if (document.getElementById(\"7e1003f9-b429-42a7-bdf1-70f3ecdbc54d\")) {                    Plotly.newPlot(                        \"7e1003f9-b429-42a7-bdf1-70f3ecdbc54d\",                        [{\"hovertemplate\":\"QUARTER_OF_YEAR=%{x}<br>avg(RESG_DIA)=%{y}<extra></extra>\",\"legendgroup\":\"\",\"line\":{\"color\":\"#636efa\",\"dash\":\"solid\"},\"marker\":{\"symbol\":\"circle\"},\"mode\":\"lines+markers\",\"name\":\"\",\"orientation\":\"v\",\"showlegend\":false,\"x\":[\"2001Q1\",\"2002Q1\",\"2002Q2\",\"2002Q3\",\"2002Q4\",\"2003Q1\",\"2003Q2\",\"2003Q3\",\"2003Q4\",\"2004Q1\",\"2004Q2\",\"2004Q3\",\"2004Q4\",\"2005Q1\",\"2005Q2\",\"2005Q3\",\"2005Q4\",\"2006Q1\",\"2006Q2\",\"2006Q3\",\"2006Q4\",\"2007Q1\",\"2007Q2\",\"2007Q3\",\"2007Q4\",\"2008Q1\",\"2008Q2\",\"2008Q3\",\"2008Q4\",\"2009Q1\",\"2009Q2\",\"2009Q3\",\"2009Q4\",\"2010Q1\",\"2010Q2\",\"2010Q3\",\"2010Q4\",\"2011Q1\",\"2011Q2\",\"2011Q3\",\"2011Q4\",\"2012Q1\",\"2012Q2\",\"2012Q3\",\"2012Q4\",\"2013Q1\",\"2013Q2\",\"2013Q3\",\"2013Q4\",\"2014Q1\",\"2014Q2\",\"2014Q3\",\"2014Q4\",\"2015Q1\",\"2015Q2\",\"2015Q3\",\"2015Q4\",\"2016Q1\",\"2016Q2\",\"2016Q3\",\"2016Q4\",\"2017Q1\",\"2017Q2\",\"2017Q3\",\"2017Q4\",\"2018Q1\",\"2018Q2\",\"2018Q3\",\"2018Q4\",\"2019Q1\",\"2019Q2\",\"2019Q3\",\"2019Q4\",\"2020Q1\",\"2020Q2\",\"2020Q3\",\"2020Q4\",\"2021Q1\",\"2021Q2\",\"2021Q3\",\"2021Q4\",\"2022Q1\",\"2022Q2\",\"2022Q3\",\"2022Q4\",\"2023Q1\"],\"xaxis\":\"x\",\"y\":[3272.39,893.512340425532,771.2615277777778,3548.070277777778,166.57928571428573,49230.75901639344,32849.10173913044,30437.729595959594,11290.536521739132,60362.55881690141,168600.94417970654,148771.0758998274,159412.47547920892,154939.89979203636,157981.38364948845,147637.69519798274,156013.87310691888,147002.00614845057,163331.61554632423,144913.78928021036,176525.05427891898,164998.17583106938,170033.33091936473,171839.92594610582,174967.63853535661,183205.29553641056,190712.79619637041,183836.4292940864,201415.1146689718,143501.5928799689,146752.61184349292,142663.6083619307,148627.5180924282,139167.62536382052,152451.05146769708,142959.05498555675,145246.45592955046,140872.22196032281,150799.01952804503,146963.83063267366,136678.42540402495,128732.80448451718,136765.07802263697,129219.64524226845,133679.13548544698,130323.4391852797,140711.56940257136,142287.39002357566,142992.62013910574,146029.97430127783,138677.5785330826,125544.76087509,130135.0553805325,129813.3872794294,129925.0194195877,128912.14344985856,132347.0405683722,124481.76355719836,131022.54127139597,123066.46034671397,129388.18778800959,114746.08122558596,123831.56854516228,121599.2511772604,130372.35490476892,128337.40392545244,144915.09953768266,139938.77448892238,141686.68012683757,137753.8843911962,140700.81893312576,143872.12499388636,153368.35241680397,168059.02163935587,146938.57688699954,140299.9440359515,146501.34812906123,147942.27101020014,156858.1165538062,161010.29935458404,172370.0656497737,177918.11614358475,165297.74409496397,146433.24359730637,136651.02793672332,134884.64979713512],\"yaxis\":\"y\",\"type\":\"scatter\"}],                        {\"template\":{\"data\":{\"bar\":[{\"error_x\":{\"color\":\"#2a3f5f\"},\"error_y\":{\"color\":\"#2a3f5f\"},\"marker\":{\"line\":{\"color\":\"#E5ECF6\",\"width\":0.5},\"pattern\":{\"fillmode\":\"overlay\",\"size\":10,\"solidity\":0.2}},\"type\":\"bar\"}],\"barpolar\":[{\"marker\":{\"line\":{\"color\":\"#E5ECF6\",\"width\":0.5},\"pattern\":{\"fillmode\":\"overlay\",\"size\":10,\"solidity\":0.2}},\"type\":\"barpolar\"}],\"carpet\":[{\"aaxis\":{\"endlinecolor\":\"#2a3f5f\",\"gridcolor\":\"white\",\"linecolor\":\"white\",\"minorgridcolor\":\"white\",\"startlinecolor\":\"#2a3f5f\"},\"baxis\":{\"endlinecolor\":\"#2a3f5f\",\"gridcolor\":\"white\",\"linecolor\":\"white\",\"minorgridcolor\":\"white\",\"startlinecolor\":\"#2a3f5f\"},\"type\":\"carpet\"}],\"choropleth\":[{\"colorbar\":{\"outlinewidth\":0,\"ticks\":\"\"},\"type\":\"choropleth\"}],\"contour\":[{\"colorbar\":{\"outlinewidth\":0,\"ticks\":\"\"},\"colorscale\":[[0.0,\"#0d0887\"],[0.1111111111111111,\"#46039f\"],[0.2222222222222222,\"#7201a8\"],[0.3333333333333333,\"#9c179e\"],[0.4444444444444444,\"#bd3786\"],[0.5555555555555556,\"#d8576b\"],[0.6666666666666666,\"#ed7953\"],[0.7777777777777778,\"#fb9f3a\"],[0.8888888888888888,\"#fdca26\"],[1.0,\"#f0f921\"]],\"type\":\"contour\"}],\"contourcarpet\":[{\"colorbar\":{\"outlinewidth\":0,\"ticks\":\"\"},\"type\":\"contourcarpet\"}],\"heatmap\":[{\"colorbar\":{\"outlinewidth\":0,\"ticks\":\"\"},\"colorscale\":[[0.0,\"#0d0887\"],[0.1111111111111111,\"#46039f\"],[0.2222222222222222,\"#7201a8\"],[0.3333333333333333,\"#9c179e\"],[0.4444444444444444,\"#bd3786\"],[0.5555555555555556,\"#d8576b\"],[0.6666666666666666,\"#ed7953\"],[0.7777777777777778,\"#fb9f3a\"],[0.8888888888888888,\"#fdca26\"],[1.0,\"#f0f921\"]],\"type\":\"heatmap\"}],\"heatmapgl\":[{\"colorbar\":{\"outlinewidth\":0,\"ticks\":\"\"},\"colorscale\":[[0.0,\"#0d0887\"],[0.1111111111111111,\"#46039f\"],[0.2222222222222222,\"#7201a8\"],[0.3333333333333333,\"#9c179e\"],[0.4444444444444444,\"#bd3786\"],[0.5555555555555556,\"#d8576b\"],[0.6666666666666666,\"#ed7953\"],[0.7777777777777778,\"#fb9f3a\"],[0.8888888888888888,\"#fdca26\"],[1.0,\"#f0f921\"]],\"type\":\"heatmapgl\"}],\"histogram\":[{\"marker\":{\"pattern\":{\"fillmode\":\"overlay\",\"size\":10,\"solidity\":0.2}},\"type\":\"histogram\"}],\"histogram2d\":[{\"colorbar\":{\"outlinewidth\":0,\"ticks\":\"\"},\"colorscale\":[[0.0,\"#0d0887\"],[0.1111111111111111,\"#46039f\"],[0.2222222222222222,\"#7201a8\"],[0.3333333333333333,\"#9c179e\"],[0.4444444444444444,\"#bd3786\"],[0.5555555555555556,\"#d8576b\"],[0.6666666666666666,\"#ed7953\"],[0.7777777777777778,\"#fb9f3a\"],[0.8888888888888888,\"#fdca26\"],[1.0,\"#f0f921\"]],\"type\":\"histogram2d\"}],\"histogram2dcontour\":[{\"colorbar\":{\"outlinewidth\":0,\"ticks\":\"\"},\"colorscale\":[[0.0,\"#0d0887\"],[0.1111111111111111,\"#46039f\"],[0.2222222222222222,\"#7201a8\"],[0.3333333333333333,\"#9c179e\"],[0.4444444444444444,\"#bd3786\"],[0.5555555555555556,\"#d8576b\"],[0.6666666666666666,\"#ed7953\"],[0.7777777777777778,\"#fb9f3a\"],[0.8888888888888888,\"#fdca26\"],[1.0,\"#f0f921\"]],\"type\":\"histogram2dcontour\"}],\"mesh3d\":[{\"colorbar\":{\"outlinewidth\":0,\"ticks\":\"\"},\"type\":\"mesh3d\"}],\"parcoords\":[{\"line\":{\"colorbar\":{\"outlinewidth\":0,\"ticks\":\"\"}},\"type\":\"parcoords\"}],\"pie\":[{\"automargin\":true,\"type\":\"pie\"}],\"scatter\":[{\"marker\":{\"colorbar\":{\"outlinewidth\":0,\"ticks\":\"\"}},\"type\":\"scatter\"}],\"scatter3d\":[{\"line\":{\"colorbar\":{\"outlinewidth\":0,\"ticks\":\"\"}},\"marker\":{\"colorbar\":{\"outlinewidth\":0,\"ticks\":\"\"}},\"type\":\"scatter3d\"}],\"scattercarpet\":[{\"marker\":{\"colorbar\":{\"outlinewidth\":0,\"ticks\":\"\"}},\"type\":\"scattercarpet\"}],\"scattergeo\":[{\"marker\":{\"colorbar\":{\"outlinewidth\":0,\"ticks\":\"\"}},\"type\":\"scattergeo\"}],\"scattergl\":[{\"marker\":{\"colorbar\":{\"outlinewidth\":0,\"ticks\":\"\"}},\"type\":\"scattergl\"}],\"scattermapbox\":[{\"marker\":{\"colorbar\":{\"outlinewidth\":0,\"ticks\":\"\"}},\"type\":\"scattermapbox\"}],\"scatterpolar\":[{\"marker\":{\"colorbar\":{\"outlinewidth\":0,\"ticks\":\"\"}},\"type\":\"scatterpolar\"}],\"scatterpolargl\":[{\"marker\":{\"colorbar\":{\"outlinewidth\":0,\"ticks\":\"\"}},\"type\":\"scatterpolargl\"}],\"scatterternary\":[{\"marker\":{\"colorbar\":{\"outlinewidth\":0,\"ticks\":\"\"}},\"type\":\"scatterternary\"}],\"surface\":[{\"colorbar\":{\"outlinewidth\":0,\"ticks\":\"\"},\"colorscale\":[[0.0,\"#0d0887\"],[0.1111111111111111,\"#46039f\"],[0.2222222222222222,\"#7201a8\"],[0.3333333333333333,\"#9c179e\"],[0.4444444444444444,\"#bd3786\"],[0.5555555555555556,\"#d8576b\"],[0.6666666666666666,\"#ed7953\"],[0.7777777777777778,\"#fb9f3a\"],[0.8888888888888888,\"#fdca26\"],[1.0,\"#f0f921\"]],\"type\":\"surface\"}],\"table\":[{\"cells\":{\"fill\":{\"color\":\"#EBF0F8\"},\"line\":{\"color\":\"white\"}},\"header\":{\"fill\":{\"color\":\"#C8D4E3\"},\"line\":{\"color\":\"white\"}},\"type\":\"table\"}]},\"layout\":{\"annotationdefaults\":{\"arrowcolor\":\"#2a3f5f\",\"arrowhead\":0,\"arrowwidth\":1},\"autotypenumbers\":\"strict\",\"coloraxis\":{\"colorbar\":{\"outlinewidth\":0,\"ticks\":\"\"}},\"colorscale\":{\"diverging\":[[0,\"#8e0152\"],[0.1,\"#c51b7d\"],[0.2,\"#de77ae\"],[0.3,\"#f1b6da\"],[0.4,\"#fde0ef\"],[0.5,\"#f7f7f7\"],[0.6,\"#e6f5d0\"],[0.7,\"#b8e186\"],[0.8,\"#7fbc41\"],[0.9,\"#4d9221\"],[1,\"#276419\"]],\"sequential\":[[0.0,\"#0d0887\"],[0.1111111111111111,\"#46039f\"],[0.2222222222222222,\"#7201a8\"],[0.3333333333333333,\"#9c179e\"],[0.4444444444444444,\"#bd3786\"],[0.5555555555555556,\"#d8576b\"],[0.6666666666666666,\"#ed7953\"],[0.7777777777777778,\"#fb9f3a\"],[0.8888888888888888,\"#fdca26\"],[1.0,\"#f0f921\"]],\"sequentialminus\":[[0.0,\"#0d0887\"],[0.1111111111111111,\"#46039f\"],[0.2222222222222222,\"#7201a8\"],[0.3333333333333333,\"#9c179e\"],[0.4444444444444444,\"#bd3786\"],[0.5555555555555556,\"#d8576b\"],[0.6666666666666666,\"#ed7953\"],[0.7777777777777778,\"#fb9f3a\"],[0.8888888888888888,\"#fdca26\"],[1.0,\"#f0f921\"]]},\"colorway\":[\"#636efa\",\"#EF553B\",\"#00cc96\",\"#ab63fa\",\"#FFA15A\",\"#19d3f3\",\"#FF6692\",\"#B6E880\",\"#FF97FF\",\"#FECB52\"],\"font\":{\"color\":\"#2a3f5f\"},\"geo\":{\"bgcolor\":\"white\",\"lakecolor\":\"white\",\"landcolor\":\"#E5ECF6\",\"showlakes\":true,\"showland\":true,\"subunitcolor\":\"white\"},\"hoverlabel\":{\"align\":\"left\"},\"hovermode\":\"closest\",\"mapbox\":{\"style\":\"light\"},\"paper_bgcolor\":\"white\",\"plot_bgcolor\":\"#E5ECF6\",\"polar\":{\"angularaxis\":{\"gridcolor\":\"white\",\"linecolor\":\"white\",\"ticks\":\"\"},\"bgcolor\":\"#E5ECF6\",\"radialaxis\":{\"gridcolor\":\"white\",\"linecolor\":\"white\",\"ticks\":\"\"}},\"scene\":{\"xaxis\":{\"backgroundcolor\":\"#E5ECF6\",\"gridcolor\":\"white\",\"gridwidth\":2,\"linecolor\":\"white\",\"showbackground\":true,\"ticks\":\"\",\"zerolinecolor\":\"white\"},\"yaxis\":{\"backgroundcolor\":\"#E5ECF6\",\"gridcolor\":\"white\",\"gridwidth\":2,\"linecolor\":\"white\",\"showbackground\":true,\"ticks\":\"\",\"zerolinecolor\":\"white\"},\"zaxis\":{\"backgroundcolor\":\"#E5ECF6\",\"gridcolor\":\"white\",\"gridwidth\":2,\"linecolor\":\"white\",\"showbackground\":true,\"ticks\":\"\",\"zerolinecolor\":\"white\"}},\"shapedefaults\":{\"line\":{\"color\":\"#2a3f5f\"}},\"ternary\":{\"aaxis\":{\"gridcolor\":\"white\",\"linecolor\":\"white\",\"ticks\":\"\"},\"baxis\":{\"gridcolor\":\"white\",\"linecolor\":\"white\",\"ticks\":\"\"},\"bgcolor\":\"#E5ECF6\",\"caxis\":{\"gridcolor\":\"white\",\"linecolor\":\"white\",\"ticks\":\"\"}},\"title\":{\"x\":0.05},\"xaxis\":{\"automargin\":true,\"gridcolor\":\"white\",\"linecolor\":\"white\",\"ticks\":\"\",\"title\":{\"standoff\":15},\"zerolinecolor\":\"white\",\"zerolinewidth\":2},\"yaxis\":{\"automargin\":true,\"gridcolor\":\"white\",\"linecolor\":\"white\",\"ticks\":\"\",\"title\":{\"standoff\":15},\"zerolinecolor\":\"white\",\"zerolinewidth\":2}}},\"xaxis\":{\"anchor\":\"y\",\"domain\":[0.0,1.0],\"title\":{\"text\":\"Trimestres\"}},\"yaxis\":{\"anchor\":\"x\",\"domain\":[0.0,1.0],\"title\":{\"text\":\"M\\u00e9dia de RESG_DIA\"}},\"legend\":{\"tracegroupgap\":0},\"title\":{\"text\":\"M\\u00e9dias trimestrais do RESG_DIA entre 2000 e 2023\",\"x\":0.5}},                        {\"responsive\": true}                    ).then(function(){\n",
              "                            \n",
              "var gd = document.getElementById('7e1003f9-b429-42a7-bdf1-70f3ecdbc54d');\n",
              "var x = new MutationObserver(function (mutations, observer) {{\n",
              "        var display = window.getComputedStyle(gd).display;\n",
              "        if (!display || display === 'none') {{\n",
              "            console.log([gd, 'removed!']);\n",
              "            Plotly.purge(gd);\n",
              "            observer.disconnect();\n",
              "        }}\n",
              "}});\n",
              "\n",
              "// Listen for the removal of the full notebook cells\n",
              "var notebookContainer = gd.closest('#notebook-container');\n",
              "if (notebookContainer) {{\n",
              "    x.observe(notebookContainer, {childList: true});\n",
              "}}\n",
              "\n",
              "// Listen for the clearing of the current output cell\n",
              "var outputEl = gd.closest('.output');\n",
              "if (outputEl) {{\n",
              "    x.observe(outputEl, {childList: true});\n",
              "}}\n",
              "\n",
              "                        })                };                            </script>        </div>\n",
              "</body>\n",
              "</html>"
            ]
          },
          "metadata": {}
        }
      ],
      "source": [
        "fig = px.line(\n",
        "    data_frame= avg_resg_per_quarter,\n",
        "    x= 'QUARTER_OF_YEAR',\n",
        "    y= 'avg(RESG_DIA)',\n",
        "    markers= True,\n",
        "    title= 'Médias trimestrais do RESG_DIA entre 2000 e 2023'\n",
        ")\n",
        "fig.update_layout(title= {'x': 0.5}, xaxis_title= 'Trimestres', yaxis_title= 'Média de RESG_DIA')\n",
        "fig.show()"
      ]
    },
    {
      "cell_type": "markdown",
      "metadata": {
        "id": "VZLcZCgR_gye"
      },
      "source": [
        "### Análise das médias anuais (`YEAR`)"
      ]
    },
    {
      "cell_type": "code",
      "execution_count": 44,
      "metadata": {
        "id": "nEKE-EvW_NTe"
      },
      "outputs": [],
      "source": [
        "avg_resg_per_year = df.groupBy('YEAR').agg(f.avg('RESG_DIA')).orderBy('YEAR').toPandas()"
      ]
    },
    {
      "cell_type": "code",
      "execution_count": 45,
      "metadata": {
        "id": "Nze64jvX_vv4",
        "colab": {
          "base_uri": "https://localhost:8080/",
          "height": 542
        },
        "outputId": "5a02d423-7404-46ed-b06b-2d85c6a9fd9f"
      },
      "outputs": [
        {
          "output_type": "display_data",
          "data": {
            "text/html": [
              "<html>\n",
              "<head><meta charset=\"utf-8\" /></head>\n",
              "<body>\n",
              "    <div>            <script src=\"https://cdnjs.cloudflare.com/ajax/libs/mathjax/2.7.5/MathJax.js?config=TeX-AMS-MML_SVG\"></script><script type=\"text/javascript\">if (window.MathJax) {MathJax.Hub.Config({SVG: {font: \"STIX-Web\"}});}</script>                <script type=\"text/javascript\">window.PlotlyConfig = {MathJaxConfig: 'local'};</script>\n",
              "        <script src=\"https://cdn.plot.ly/plotly-2.8.3.min.js\"></script>                <div id=\"f0e4f3c9-8afc-4910-875b-62f59ca7826b\" class=\"plotly-graph-div\" style=\"height:525px; width:100%;\"></div>            <script type=\"text/javascript\">                                    window.PLOTLYENV=window.PLOTLYENV || {};                                    if (document.getElementById(\"f0e4f3c9-8afc-4910-875b-62f59ca7826b\")) {                    Plotly.newPlot(                        \"f0e4f3c9-8afc-4910-875b-62f59ca7826b\",                        [{\"hovertemplate\":\"YEAR=%{x}<br>avg(RESG_DIA)=%{y}<extra></extra>\",\"legendgroup\":\"\",\"line\":{\"color\":\"red\",\"dash\":\"solid\"},\"marker\":{\"symbol\":\"circle\"},\"mode\":\"lines+markers\",\"name\":\"\",\"orientation\":\"v\",\"showlegend\":false,\"x\":[2001,2002,2003,2004,2005,2006,2007,2008,2009,2010,2011,2012,2013,2014,2015,2016,2017,2018,2019,2020,2021,2022,2023],\"xaxis\":\"x\",\"y\":[3272.39,1346.6778106508877,34134.093252427185,158663.48417782612,154078.8030467981,157821.83660333624,170733.59670258107,189805.69041867557,145402.79841539692,144991.36619830233,143825.12817397935,132076.02184062725,139352.92939290006,134781.64592469676,130245.4594692931,126974.07894676774,122650.39383708179,138859.79153280347,144193.40820384005,149994.28039038778,160064.2364048402,156113.69664874068,134884.64979713512],\"yaxis\":\"y\",\"type\":\"scatter\"}],                        {\"template\":{\"data\":{\"bar\":[{\"error_x\":{\"color\":\"#2a3f5f\"},\"error_y\":{\"color\":\"#2a3f5f\"},\"marker\":{\"line\":{\"color\":\"#E5ECF6\",\"width\":0.5},\"pattern\":{\"fillmode\":\"overlay\",\"size\":10,\"solidity\":0.2}},\"type\":\"bar\"}],\"barpolar\":[{\"marker\":{\"line\":{\"color\":\"#E5ECF6\",\"width\":0.5},\"pattern\":{\"fillmode\":\"overlay\",\"size\":10,\"solidity\":0.2}},\"type\":\"barpolar\"}],\"carpet\":[{\"aaxis\":{\"endlinecolor\":\"#2a3f5f\",\"gridcolor\":\"white\",\"linecolor\":\"white\",\"minorgridcolor\":\"white\",\"startlinecolor\":\"#2a3f5f\"},\"baxis\":{\"endlinecolor\":\"#2a3f5f\",\"gridcolor\":\"white\",\"linecolor\":\"white\",\"minorgridcolor\":\"white\",\"startlinecolor\":\"#2a3f5f\"},\"type\":\"carpet\"}],\"choropleth\":[{\"colorbar\":{\"outlinewidth\":0,\"ticks\":\"\"},\"type\":\"choropleth\"}],\"contour\":[{\"colorbar\":{\"outlinewidth\":0,\"ticks\":\"\"},\"colorscale\":[[0.0,\"#0d0887\"],[0.1111111111111111,\"#46039f\"],[0.2222222222222222,\"#7201a8\"],[0.3333333333333333,\"#9c179e\"],[0.4444444444444444,\"#bd3786\"],[0.5555555555555556,\"#d8576b\"],[0.6666666666666666,\"#ed7953\"],[0.7777777777777778,\"#fb9f3a\"],[0.8888888888888888,\"#fdca26\"],[1.0,\"#f0f921\"]],\"type\":\"contour\"}],\"contourcarpet\":[{\"colorbar\":{\"outlinewidth\":0,\"ticks\":\"\"},\"type\":\"contourcarpet\"}],\"heatmap\":[{\"colorbar\":{\"outlinewidth\":0,\"ticks\":\"\"},\"colorscale\":[[0.0,\"#0d0887\"],[0.1111111111111111,\"#46039f\"],[0.2222222222222222,\"#7201a8\"],[0.3333333333333333,\"#9c179e\"],[0.4444444444444444,\"#bd3786\"],[0.5555555555555556,\"#d8576b\"],[0.6666666666666666,\"#ed7953\"],[0.7777777777777778,\"#fb9f3a\"],[0.8888888888888888,\"#fdca26\"],[1.0,\"#f0f921\"]],\"type\":\"heatmap\"}],\"heatmapgl\":[{\"colorbar\":{\"outlinewidth\":0,\"ticks\":\"\"},\"colorscale\":[[0.0,\"#0d0887\"],[0.1111111111111111,\"#46039f\"],[0.2222222222222222,\"#7201a8\"],[0.3333333333333333,\"#9c179e\"],[0.4444444444444444,\"#bd3786\"],[0.5555555555555556,\"#d8576b\"],[0.6666666666666666,\"#ed7953\"],[0.7777777777777778,\"#fb9f3a\"],[0.8888888888888888,\"#fdca26\"],[1.0,\"#f0f921\"]],\"type\":\"heatmapgl\"}],\"histogram\":[{\"marker\":{\"pattern\":{\"fillmode\":\"overlay\",\"size\":10,\"solidity\":0.2}},\"type\":\"histogram\"}],\"histogram2d\":[{\"colorbar\":{\"outlinewidth\":0,\"ticks\":\"\"},\"colorscale\":[[0.0,\"#0d0887\"],[0.1111111111111111,\"#46039f\"],[0.2222222222222222,\"#7201a8\"],[0.3333333333333333,\"#9c179e\"],[0.4444444444444444,\"#bd3786\"],[0.5555555555555556,\"#d8576b\"],[0.6666666666666666,\"#ed7953\"],[0.7777777777777778,\"#fb9f3a\"],[0.8888888888888888,\"#fdca26\"],[1.0,\"#f0f921\"]],\"type\":\"histogram2d\"}],\"histogram2dcontour\":[{\"colorbar\":{\"outlinewidth\":0,\"ticks\":\"\"},\"colorscale\":[[0.0,\"#0d0887\"],[0.1111111111111111,\"#46039f\"],[0.2222222222222222,\"#7201a8\"],[0.3333333333333333,\"#9c179e\"],[0.4444444444444444,\"#bd3786\"],[0.5555555555555556,\"#d8576b\"],[0.6666666666666666,\"#ed7953\"],[0.7777777777777778,\"#fb9f3a\"],[0.8888888888888888,\"#fdca26\"],[1.0,\"#f0f921\"]],\"type\":\"histogram2dcontour\"}],\"mesh3d\":[{\"colorbar\":{\"outlinewidth\":0,\"ticks\":\"\"},\"type\":\"mesh3d\"}],\"parcoords\":[{\"line\":{\"colorbar\":{\"outlinewidth\":0,\"ticks\":\"\"}},\"type\":\"parcoords\"}],\"pie\":[{\"automargin\":true,\"type\":\"pie\"}],\"scatter\":[{\"marker\":{\"colorbar\":{\"outlinewidth\":0,\"ticks\":\"\"}},\"type\":\"scatter\"}],\"scatter3d\":[{\"line\":{\"colorbar\":{\"outlinewidth\":0,\"ticks\":\"\"}},\"marker\":{\"colorbar\":{\"outlinewidth\":0,\"ticks\":\"\"}},\"type\":\"scatter3d\"}],\"scattercarpet\":[{\"marker\":{\"colorbar\":{\"outlinewidth\":0,\"ticks\":\"\"}},\"type\":\"scattercarpet\"}],\"scattergeo\":[{\"marker\":{\"colorbar\":{\"outlinewidth\":0,\"ticks\":\"\"}},\"type\":\"scattergeo\"}],\"scattergl\":[{\"marker\":{\"colorbar\":{\"outlinewidth\":0,\"ticks\":\"\"}},\"type\":\"scattergl\"}],\"scattermapbox\":[{\"marker\":{\"colorbar\":{\"outlinewidth\":0,\"ticks\":\"\"}},\"type\":\"scattermapbox\"}],\"scatterpolar\":[{\"marker\":{\"colorbar\":{\"outlinewidth\":0,\"ticks\":\"\"}},\"type\":\"scatterpolar\"}],\"scatterpolargl\":[{\"marker\":{\"colorbar\":{\"outlinewidth\":0,\"ticks\":\"\"}},\"type\":\"scatterpolargl\"}],\"scatterternary\":[{\"marker\":{\"colorbar\":{\"outlinewidth\":0,\"ticks\":\"\"}},\"type\":\"scatterternary\"}],\"surface\":[{\"colorbar\":{\"outlinewidth\":0,\"ticks\":\"\"},\"colorscale\":[[0.0,\"#0d0887\"],[0.1111111111111111,\"#46039f\"],[0.2222222222222222,\"#7201a8\"],[0.3333333333333333,\"#9c179e\"],[0.4444444444444444,\"#bd3786\"],[0.5555555555555556,\"#d8576b\"],[0.6666666666666666,\"#ed7953\"],[0.7777777777777778,\"#fb9f3a\"],[0.8888888888888888,\"#fdca26\"],[1.0,\"#f0f921\"]],\"type\":\"surface\"}],\"table\":[{\"cells\":{\"fill\":{\"color\":\"#EBF0F8\"},\"line\":{\"color\":\"white\"}},\"header\":{\"fill\":{\"color\":\"#C8D4E3\"},\"line\":{\"color\":\"white\"}},\"type\":\"table\"}]},\"layout\":{\"annotationdefaults\":{\"arrowcolor\":\"#2a3f5f\",\"arrowhead\":0,\"arrowwidth\":1},\"autotypenumbers\":\"strict\",\"coloraxis\":{\"colorbar\":{\"outlinewidth\":0,\"ticks\":\"\"}},\"colorscale\":{\"diverging\":[[0,\"#8e0152\"],[0.1,\"#c51b7d\"],[0.2,\"#de77ae\"],[0.3,\"#f1b6da\"],[0.4,\"#fde0ef\"],[0.5,\"#f7f7f7\"],[0.6,\"#e6f5d0\"],[0.7,\"#b8e186\"],[0.8,\"#7fbc41\"],[0.9,\"#4d9221\"],[1,\"#276419\"]],\"sequential\":[[0.0,\"#0d0887\"],[0.1111111111111111,\"#46039f\"],[0.2222222222222222,\"#7201a8\"],[0.3333333333333333,\"#9c179e\"],[0.4444444444444444,\"#bd3786\"],[0.5555555555555556,\"#d8576b\"],[0.6666666666666666,\"#ed7953\"],[0.7777777777777778,\"#fb9f3a\"],[0.8888888888888888,\"#fdca26\"],[1.0,\"#f0f921\"]],\"sequentialminus\":[[0.0,\"#0d0887\"],[0.1111111111111111,\"#46039f\"],[0.2222222222222222,\"#7201a8\"],[0.3333333333333333,\"#9c179e\"],[0.4444444444444444,\"#bd3786\"],[0.5555555555555556,\"#d8576b\"],[0.6666666666666666,\"#ed7953\"],[0.7777777777777778,\"#fb9f3a\"],[0.8888888888888888,\"#fdca26\"],[1.0,\"#f0f921\"]]},\"colorway\":[\"#636efa\",\"#EF553B\",\"#00cc96\",\"#ab63fa\",\"#FFA15A\",\"#19d3f3\",\"#FF6692\",\"#B6E880\",\"#FF97FF\",\"#FECB52\"],\"font\":{\"color\":\"#2a3f5f\"},\"geo\":{\"bgcolor\":\"white\",\"lakecolor\":\"white\",\"landcolor\":\"#E5ECF6\",\"showlakes\":true,\"showland\":true,\"subunitcolor\":\"white\"},\"hoverlabel\":{\"align\":\"left\"},\"hovermode\":\"closest\",\"mapbox\":{\"style\":\"light\"},\"paper_bgcolor\":\"white\",\"plot_bgcolor\":\"#E5ECF6\",\"polar\":{\"angularaxis\":{\"gridcolor\":\"white\",\"linecolor\":\"white\",\"ticks\":\"\"},\"bgcolor\":\"#E5ECF6\",\"radialaxis\":{\"gridcolor\":\"white\",\"linecolor\":\"white\",\"ticks\":\"\"}},\"scene\":{\"xaxis\":{\"backgroundcolor\":\"#E5ECF6\",\"gridcolor\":\"white\",\"gridwidth\":2,\"linecolor\":\"white\",\"showbackground\":true,\"ticks\":\"\",\"zerolinecolor\":\"white\"},\"yaxis\":{\"backgroundcolor\":\"#E5ECF6\",\"gridcolor\":\"white\",\"gridwidth\":2,\"linecolor\":\"white\",\"showbackground\":true,\"ticks\":\"\",\"zerolinecolor\":\"white\"},\"zaxis\":{\"backgroundcolor\":\"#E5ECF6\",\"gridcolor\":\"white\",\"gridwidth\":2,\"linecolor\":\"white\",\"showbackground\":true,\"ticks\":\"\",\"zerolinecolor\":\"white\"}},\"shapedefaults\":{\"line\":{\"color\":\"#2a3f5f\"}},\"ternary\":{\"aaxis\":{\"gridcolor\":\"white\",\"linecolor\":\"white\",\"ticks\":\"\"},\"baxis\":{\"gridcolor\":\"white\",\"linecolor\":\"white\",\"ticks\":\"\"},\"bgcolor\":\"#E5ECF6\",\"caxis\":{\"gridcolor\":\"white\",\"linecolor\":\"white\",\"ticks\":\"\"}},\"title\":{\"x\":0.05},\"xaxis\":{\"automargin\":true,\"gridcolor\":\"white\",\"linecolor\":\"white\",\"ticks\":\"\",\"title\":{\"standoff\":15},\"zerolinecolor\":\"white\",\"zerolinewidth\":2},\"yaxis\":{\"automargin\":true,\"gridcolor\":\"white\",\"linecolor\":\"white\",\"ticks\":\"\",\"title\":{\"standoff\":15},\"zerolinecolor\":\"white\",\"zerolinewidth\":2}}},\"xaxis\":{\"anchor\":\"y\",\"domain\":[0.0,1.0],\"title\":{\"text\":\"Anos\"}},\"yaxis\":{\"anchor\":\"x\",\"domain\":[0.0,1.0],\"title\":{\"text\":\"M\\u00e9dia de RESG_DIA\"}},\"legend\":{\"tracegroupgap\":0},\"title\":{\"text\":\"M\\u00e9dias anuais de RESG_DIA entre 2000 e 2023\",\"x\":0.5}},                        {\"responsive\": true}                    ).then(function(){\n",
              "                            \n",
              "var gd = document.getElementById('f0e4f3c9-8afc-4910-875b-62f59ca7826b');\n",
              "var x = new MutationObserver(function (mutations, observer) {{\n",
              "        var display = window.getComputedStyle(gd).display;\n",
              "        if (!display || display === 'none') {{\n",
              "            console.log([gd, 'removed!']);\n",
              "            Plotly.purge(gd);\n",
              "            observer.disconnect();\n",
              "        }}\n",
              "}});\n",
              "\n",
              "// Listen for the removal of the full notebook cells\n",
              "var notebookContainer = gd.closest('#notebook-container');\n",
              "if (notebookContainer) {{\n",
              "    x.observe(notebookContainer, {childList: true});\n",
              "}}\n",
              "\n",
              "// Listen for the clearing of the current output cell\n",
              "var outputEl = gd.closest('.output');\n",
              "if (outputEl) {{\n",
              "    x.observe(outputEl, {childList: true});\n",
              "}}\n",
              "\n",
              "                        })                };                            </script>        </div>\n",
              "</body>\n",
              "</html>"
            ]
          },
          "metadata": {}
        }
      ],
      "source": [
        "fig = px.line(\n",
        "    data_frame= avg_resg_per_year,\n",
        "    x= 'YEAR',\n",
        "    y= 'avg(RESG_DIA)',\n",
        "    markers= True,\n",
        "    title= 'Médias anuais de RESG_DIA entre 2000 e 2023'\n",
        ")\n",
        "fig.update_traces(line_color= 'red')\n",
        "fig.update_layout(title= {'x': 0.5}, xaxis_title= 'Anos', yaxis_title= 'Média de RESG_DIA')\n",
        "fig.show()"
      ]
    },
    {
      "cell_type": "markdown",
      "metadata": {
        "id": "KJ2t2c_5A-GG"
      },
      "source": [
        "## Coluna `NR_COTST`"
      ]
    },
    {
      "cell_type": "markdown",
      "metadata": {
        "id": "GMKoKbNvBIeA"
      },
      "source": [
        "### Estatísticas descritivas"
      ]
    },
    {
      "cell_type": "code",
      "execution_count": 46,
      "metadata": {
        "id": "ktdL-NUrA9vU",
        "colab": {
          "base_uri": "https://localhost:8080/"
        },
        "outputId": "65234740-ffdc-4db4-acf6-a807ccbe513b"
      },
      "outputs": [
        {
          "output_type": "stream",
          "name": "stdout",
          "text": [
            "+-------+-----------------+\n",
            "|summary|NR_COTST         |\n",
            "+-------+-----------------+\n",
            "|count  |53533044         |\n",
            "|mean   |202.9699501489211|\n",
            "|stddev |952.0314955899174|\n",
            "|min    |1.0              |\n",
            "|max    |12095.0          |\n",
            "+-------+-----------------+\n",
            "\n"
          ]
        }
      ],
      "source": [
        "df.describe('NR_COTST').show(truncate= False)"
      ]
    },
    {
      "cell_type": "markdown",
      "metadata": {
        "id": "uHJ308wjBbhO"
      },
      "source": [
        "### Análise das médias trimestrais (`QUARTER_OF_YEAR`)"
      ]
    },
    {
      "cell_type": "code",
      "execution_count": 47,
      "metadata": {
        "id": "2YUwj3DPBPdM"
      },
      "outputs": [],
      "source": [
        "avg_cotst_per_quarter = df.groupBy('QUARTER_OF_YEAR').agg(f.avg('NR_COTST')).orderBy('QUARTER_OF_YEAR').toPandas()"
      ]
    },
    {
      "cell_type": "code",
      "execution_count": 48,
      "metadata": {
        "id": "T8h9IPJaBsf_",
        "colab": {
          "base_uri": "https://localhost:8080/",
          "height": 542
        },
        "outputId": "6de5e70d-a37d-4de3-8ab7-9e9e7d6e77c2"
      },
      "outputs": [
        {
          "output_type": "display_data",
          "data": {
            "text/html": [
              "<html>\n",
              "<head><meta charset=\"utf-8\" /></head>\n",
              "<body>\n",
              "    <div>            <script src=\"https://cdnjs.cloudflare.com/ajax/libs/mathjax/2.7.5/MathJax.js?config=TeX-AMS-MML_SVG\"></script><script type=\"text/javascript\">if (window.MathJax) {MathJax.Hub.Config({SVG: {font: \"STIX-Web\"}});}</script>                <script type=\"text/javascript\">window.PlotlyConfig = {MathJaxConfig: 'local'};</script>\n",
              "        <script src=\"https://cdn.plot.ly/plotly-2.8.3.min.js\"></script>                <div id=\"505e421c-1c66-4c59-9ed7-d31bc7122f00\" class=\"plotly-graph-div\" style=\"height:525px; width:100%;\"></div>            <script type=\"text/javascript\">                                    window.PLOTLYENV=window.PLOTLYENV || {};                                    if (document.getElementById(\"505e421c-1c66-4c59-9ed7-d31bc7122f00\")) {                    Plotly.newPlot(                        \"505e421c-1c66-4c59-9ed7-d31bc7122f00\",                        [{\"hovertemplate\":\"QUARTER_OF_YEAR=%{x}<br>avg(NR_COTST)=%{y}<extra></extra>\",\"legendgroup\":\"\",\"line\":{\"color\":\"#636efa\",\"dash\":\"solid\"},\"marker\":{\"symbol\":\"circle\"},\"mode\":\"lines+markers\",\"name\":\"\",\"orientation\":\"v\",\"showlegend\":false,\"x\":[\"2001Q1\",\"2002Q1\",\"2002Q2\",\"2002Q3\",\"2002Q4\",\"2003Q1\",\"2003Q2\",\"2003Q3\",\"2003Q4\",\"2004Q1\",\"2004Q2\",\"2004Q3\",\"2004Q4\",\"2005Q1\",\"2005Q2\",\"2005Q3\",\"2005Q4\",\"2006Q1\",\"2006Q2\",\"2006Q3\",\"2006Q4\",\"2007Q1\",\"2007Q2\",\"2007Q3\",\"2007Q4\",\"2008Q1\",\"2008Q2\",\"2008Q3\",\"2008Q4\",\"2009Q1\",\"2009Q2\",\"2009Q3\",\"2009Q4\",\"2010Q1\",\"2010Q2\",\"2010Q3\",\"2010Q4\",\"2011Q1\",\"2011Q2\",\"2011Q3\",\"2011Q4\",\"2012Q1\",\"2012Q2\",\"2012Q3\",\"2012Q4\",\"2013Q1\",\"2013Q2\",\"2013Q3\",\"2013Q4\",\"2014Q1\",\"2014Q2\",\"2014Q3\",\"2014Q4\",\"2015Q1\",\"2015Q2\",\"2015Q3\",\"2015Q4\",\"2016Q1\",\"2016Q2\",\"2016Q3\",\"2016Q4\",\"2017Q1\",\"2017Q2\",\"2017Q3\",\"2017Q4\",\"2018Q1\",\"2018Q2\",\"2018Q3\",\"2018Q4\",\"2019Q1\",\"2019Q2\",\"2019Q3\",\"2019Q4\",\"2020Q1\",\"2020Q2\",\"2020Q3\",\"2020Q4\",\"2021Q1\",\"2021Q2\",\"2021Q3\",\"2021Q4\",\"2022Q1\",\"2022Q2\",\"2022Q3\",\"2022Q4\",\"2023Q1\"],\"xaxis\":\"x\",\"y\":[90.0,64.82978723404256,327.31944444444446,74.08333333333333,103.78571428571429,166.45901639344262,176.69565217391303,175.8989898989899,910.2608695652174,194.0056338028169,266.97276176626934,261.35829937029536,260.32311887865814,261.90143155199684,259.34411274692116,266.0172277112296,270.5852429005855,281.13348394992,291.33643939891067,292.1327310301124,290.19342826995023,289.2718334169704,275.32942043808504,272.4814691066701,268.8411821484196,259.5786976744186,249.57889486691036,240.1806049926349,230.02663693677295,229.66448014654478,225.48788197188236,228.62632445676186,224.61355852345832,224.36563671258756,221.6342540676538,215.52340266344808,211.71567661680146,209.51043296365546,209.01260242651836,205.64501041550042,199.31350186158633,193.22018791260598,187.78124550667343,185.02867363161482,180.95724559646362,179.806320504816,172.4036058000228,167.43756740288416,158.54486183142748,151.31228050478595,147.49277105979644,144.10751585403693,141.5578415505567,139.59092068384325,135.92020223633443,135.64867286384407,134.12726519596094,133.47890381608116,136.47031868714157,139.08405565635786,141.57578810619384,144.0934957945127,144.19389547593272,146.55766345253585,154.94345416068154,168.50160546244692,174.84229963653183,178.36761153248494,179.97360181652786,193.10494938765748,202.81787592150604,209.93578259346916,214.70243910482338,222.81880485567646,223.705732250705,234.0174239922556,236.3445611966192,240.27574209615855,247.21839449006447,249.06396389091188,242.12474004159336,234.50373945775243,224.5778592977343,218.91221226413475,213.3227119766563,215.83692333206514],\"yaxis\":\"y\",\"type\":\"scatter\"}],                        {\"template\":{\"data\":{\"bar\":[{\"error_x\":{\"color\":\"#2a3f5f\"},\"error_y\":{\"color\":\"#2a3f5f\"},\"marker\":{\"line\":{\"color\":\"#E5ECF6\",\"width\":0.5},\"pattern\":{\"fillmode\":\"overlay\",\"size\":10,\"solidity\":0.2}},\"type\":\"bar\"}],\"barpolar\":[{\"marker\":{\"line\":{\"color\":\"#E5ECF6\",\"width\":0.5},\"pattern\":{\"fillmode\":\"overlay\",\"size\":10,\"solidity\":0.2}},\"type\":\"barpolar\"}],\"carpet\":[{\"aaxis\":{\"endlinecolor\":\"#2a3f5f\",\"gridcolor\":\"white\",\"linecolor\":\"white\",\"minorgridcolor\":\"white\",\"startlinecolor\":\"#2a3f5f\"},\"baxis\":{\"endlinecolor\":\"#2a3f5f\",\"gridcolor\":\"white\",\"linecolor\":\"white\",\"minorgridcolor\":\"white\",\"startlinecolor\":\"#2a3f5f\"},\"type\":\"carpet\"}],\"choropleth\":[{\"colorbar\":{\"outlinewidth\":0,\"ticks\":\"\"},\"type\":\"choropleth\"}],\"contour\":[{\"colorbar\":{\"outlinewidth\":0,\"ticks\":\"\"},\"colorscale\":[[0.0,\"#0d0887\"],[0.1111111111111111,\"#46039f\"],[0.2222222222222222,\"#7201a8\"],[0.3333333333333333,\"#9c179e\"],[0.4444444444444444,\"#bd3786\"],[0.5555555555555556,\"#d8576b\"],[0.6666666666666666,\"#ed7953\"],[0.7777777777777778,\"#fb9f3a\"],[0.8888888888888888,\"#fdca26\"],[1.0,\"#f0f921\"]],\"type\":\"contour\"}],\"contourcarpet\":[{\"colorbar\":{\"outlinewidth\":0,\"ticks\":\"\"},\"type\":\"contourcarpet\"}],\"heatmap\":[{\"colorbar\":{\"outlinewidth\":0,\"ticks\":\"\"},\"colorscale\":[[0.0,\"#0d0887\"],[0.1111111111111111,\"#46039f\"],[0.2222222222222222,\"#7201a8\"],[0.3333333333333333,\"#9c179e\"],[0.4444444444444444,\"#bd3786\"],[0.5555555555555556,\"#d8576b\"],[0.6666666666666666,\"#ed7953\"],[0.7777777777777778,\"#fb9f3a\"],[0.8888888888888888,\"#fdca26\"],[1.0,\"#f0f921\"]],\"type\":\"heatmap\"}],\"heatmapgl\":[{\"colorbar\":{\"outlinewidth\":0,\"ticks\":\"\"},\"colorscale\":[[0.0,\"#0d0887\"],[0.1111111111111111,\"#46039f\"],[0.2222222222222222,\"#7201a8\"],[0.3333333333333333,\"#9c179e\"],[0.4444444444444444,\"#bd3786\"],[0.5555555555555556,\"#d8576b\"],[0.6666666666666666,\"#ed7953\"],[0.7777777777777778,\"#fb9f3a\"],[0.8888888888888888,\"#fdca26\"],[1.0,\"#f0f921\"]],\"type\":\"heatmapgl\"}],\"histogram\":[{\"marker\":{\"pattern\":{\"fillmode\":\"overlay\",\"size\":10,\"solidity\":0.2}},\"type\":\"histogram\"}],\"histogram2d\":[{\"colorbar\":{\"outlinewidth\":0,\"ticks\":\"\"},\"colorscale\":[[0.0,\"#0d0887\"],[0.1111111111111111,\"#46039f\"],[0.2222222222222222,\"#7201a8\"],[0.3333333333333333,\"#9c179e\"],[0.4444444444444444,\"#bd3786\"],[0.5555555555555556,\"#d8576b\"],[0.6666666666666666,\"#ed7953\"],[0.7777777777777778,\"#fb9f3a\"],[0.8888888888888888,\"#fdca26\"],[1.0,\"#f0f921\"]],\"type\":\"histogram2d\"}],\"histogram2dcontour\":[{\"colorbar\":{\"outlinewidth\":0,\"ticks\":\"\"},\"colorscale\":[[0.0,\"#0d0887\"],[0.1111111111111111,\"#46039f\"],[0.2222222222222222,\"#7201a8\"],[0.3333333333333333,\"#9c179e\"],[0.4444444444444444,\"#bd3786\"],[0.5555555555555556,\"#d8576b\"],[0.6666666666666666,\"#ed7953\"],[0.7777777777777778,\"#fb9f3a\"],[0.8888888888888888,\"#fdca26\"],[1.0,\"#f0f921\"]],\"type\":\"histogram2dcontour\"}],\"mesh3d\":[{\"colorbar\":{\"outlinewidth\":0,\"ticks\":\"\"},\"type\":\"mesh3d\"}],\"parcoords\":[{\"line\":{\"colorbar\":{\"outlinewidth\":0,\"ticks\":\"\"}},\"type\":\"parcoords\"}],\"pie\":[{\"automargin\":true,\"type\":\"pie\"}],\"scatter\":[{\"marker\":{\"colorbar\":{\"outlinewidth\":0,\"ticks\":\"\"}},\"type\":\"scatter\"}],\"scatter3d\":[{\"line\":{\"colorbar\":{\"outlinewidth\":0,\"ticks\":\"\"}},\"marker\":{\"colorbar\":{\"outlinewidth\":0,\"ticks\":\"\"}},\"type\":\"scatter3d\"}],\"scattercarpet\":[{\"marker\":{\"colorbar\":{\"outlinewidth\":0,\"ticks\":\"\"}},\"type\":\"scattercarpet\"}],\"scattergeo\":[{\"marker\":{\"colorbar\":{\"outlinewidth\":0,\"ticks\":\"\"}},\"type\":\"scattergeo\"}],\"scattergl\":[{\"marker\":{\"colorbar\":{\"outlinewidth\":0,\"ticks\":\"\"}},\"type\":\"scattergl\"}],\"scattermapbox\":[{\"marker\":{\"colorbar\":{\"outlinewidth\":0,\"ticks\":\"\"}},\"type\":\"scattermapbox\"}],\"scatterpolar\":[{\"marker\":{\"colorbar\":{\"outlinewidth\":0,\"ticks\":\"\"}},\"type\":\"scatterpolar\"}],\"scatterpolargl\":[{\"marker\":{\"colorbar\":{\"outlinewidth\":0,\"ticks\":\"\"}},\"type\":\"scatterpolargl\"}],\"scatterternary\":[{\"marker\":{\"colorbar\":{\"outlinewidth\":0,\"ticks\":\"\"}},\"type\":\"scatterternary\"}],\"surface\":[{\"colorbar\":{\"outlinewidth\":0,\"ticks\":\"\"},\"colorscale\":[[0.0,\"#0d0887\"],[0.1111111111111111,\"#46039f\"],[0.2222222222222222,\"#7201a8\"],[0.3333333333333333,\"#9c179e\"],[0.4444444444444444,\"#bd3786\"],[0.5555555555555556,\"#d8576b\"],[0.6666666666666666,\"#ed7953\"],[0.7777777777777778,\"#fb9f3a\"],[0.8888888888888888,\"#fdca26\"],[1.0,\"#f0f921\"]],\"type\":\"surface\"}],\"table\":[{\"cells\":{\"fill\":{\"color\":\"#EBF0F8\"},\"line\":{\"color\":\"white\"}},\"header\":{\"fill\":{\"color\":\"#C8D4E3\"},\"line\":{\"color\":\"white\"}},\"type\":\"table\"}]},\"layout\":{\"annotationdefaults\":{\"arrowcolor\":\"#2a3f5f\",\"arrowhead\":0,\"arrowwidth\":1},\"autotypenumbers\":\"strict\",\"coloraxis\":{\"colorbar\":{\"outlinewidth\":0,\"ticks\":\"\"}},\"colorscale\":{\"diverging\":[[0,\"#8e0152\"],[0.1,\"#c51b7d\"],[0.2,\"#de77ae\"],[0.3,\"#f1b6da\"],[0.4,\"#fde0ef\"],[0.5,\"#f7f7f7\"],[0.6,\"#e6f5d0\"],[0.7,\"#b8e186\"],[0.8,\"#7fbc41\"],[0.9,\"#4d9221\"],[1,\"#276419\"]],\"sequential\":[[0.0,\"#0d0887\"],[0.1111111111111111,\"#46039f\"],[0.2222222222222222,\"#7201a8\"],[0.3333333333333333,\"#9c179e\"],[0.4444444444444444,\"#bd3786\"],[0.5555555555555556,\"#d8576b\"],[0.6666666666666666,\"#ed7953\"],[0.7777777777777778,\"#fb9f3a\"],[0.8888888888888888,\"#fdca26\"],[1.0,\"#f0f921\"]],\"sequentialminus\":[[0.0,\"#0d0887\"],[0.1111111111111111,\"#46039f\"],[0.2222222222222222,\"#7201a8\"],[0.3333333333333333,\"#9c179e\"],[0.4444444444444444,\"#bd3786\"],[0.5555555555555556,\"#d8576b\"],[0.6666666666666666,\"#ed7953\"],[0.7777777777777778,\"#fb9f3a\"],[0.8888888888888888,\"#fdca26\"],[1.0,\"#f0f921\"]]},\"colorway\":[\"#636efa\",\"#EF553B\",\"#00cc96\",\"#ab63fa\",\"#FFA15A\",\"#19d3f3\",\"#FF6692\",\"#B6E880\",\"#FF97FF\",\"#FECB52\"],\"font\":{\"color\":\"#2a3f5f\"},\"geo\":{\"bgcolor\":\"white\",\"lakecolor\":\"white\",\"landcolor\":\"#E5ECF6\",\"showlakes\":true,\"showland\":true,\"subunitcolor\":\"white\"},\"hoverlabel\":{\"align\":\"left\"},\"hovermode\":\"closest\",\"mapbox\":{\"style\":\"light\"},\"paper_bgcolor\":\"white\",\"plot_bgcolor\":\"#E5ECF6\",\"polar\":{\"angularaxis\":{\"gridcolor\":\"white\",\"linecolor\":\"white\",\"ticks\":\"\"},\"bgcolor\":\"#E5ECF6\",\"radialaxis\":{\"gridcolor\":\"white\",\"linecolor\":\"white\",\"ticks\":\"\"}},\"scene\":{\"xaxis\":{\"backgroundcolor\":\"#E5ECF6\",\"gridcolor\":\"white\",\"gridwidth\":2,\"linecolor\":\"white\",\"showbackground\":true,\"ticks\":\"\",\"zerolinecolor\":\"white\"},\"yaxis\":{\"backgroundcolor\":\"#E5ECF6\",\"gridcolor\":\"white\",\"gridwidth\":2,\"linecolor\":\"white\",\"showbackground\":true,\"ticks\":\"\",\"zerolinecolor\":\"white\"},\"zaxis\":{\"backgroundcolor\":\"#E5ECF6\",\"gridcolor\":\"white\",\"gridwidth\":2,\"linecolor\":\"white\",\"showbackground\":true,\"ticks\":\"\",\"zerolinecolor\":\"white\"}},\"shapedefaults\":{\"line\":{\"color\":\"#2a3f5f\"}},\"ternary\":{\"aaxis\":{\"gridcolor\":\"white\",\"linecolor\":\"white\",\"ticks\":\"\"},\"baxis\":{\"gridcolor\":\"white\",\"linecolor\":\"white\",\"ticks\":\"\"},\"bgcolor\":\"#E5ECF6\",\"caxis\":{\"gridcolor\":\"white\",\"linecolor\":\"white\",\"ticks\":\"\"}},\"title\":{\"x\":0.05},\"xaxis\":{\"automargin\":true,\"gridcolor\":\"white\",\"linecolor\":\"white\",\"ticks\":\"\",\"title\":{\"standoff\":15},\"zerolinecolor\":\"white\",\"zerolinewidth\":2},\"yaxis\":{\"automargin\":true,\"gridcolor\":\"white\",\"linecolor\":\"white\",\"ticks\":\"\",\"title\":{\"standoff\":15},\"zerolinecolor\":\"white\",\"zerolinewidth\":2}}},\"xaxis\":{\"anchor\":\"y\",\"domain\":[0.0,1.0],\"title\":{\"text\":\"Trimestres\"}},\"yaxis\":{\"anchor\":\"x\",\"domain\":[0.0,1.0],\"title\":{\"text\":\"M\\u00e9dia do NR_COTST\"}},\"legend\":{\"tracegroupgap\":0},\"title\":{\"text\":\"M\\u00e9dias trimestrais do NR_COTST entre 2000 e 2023\",\"x\":0.5}},                        {\"responsive\": true}                    ).then(function(){\n",
              "                            \n",
              "var gd = document.getElementById('505e421c-1c66-4c59-9ed7-d31bc7122f00');\n",
              "var x = new MutationObserver(function (mutations, observer) {{\n",
              "        var display = window.getComputedStyle(gd).display;\n",
              "        if (!display || display === 'none') {{\n",
              "            console.log([gd, 'removed!']);\n",
              "            Plotly.purge(gd);\n",
              "            observer.disconnect();\n",
              "        }}\n",
              "}});\n",
              "\n",
              "// Listen for the removal of the full notebook cells\n",
              "var notebookContainer = gd.closest('#notebook-container');\n",
              "if (notebookContainer) {{\n",
              "    x.observe(notebookContainer, {childList: true});\n",
              "}}\n",
              "\n",
              "// Listen for the clearing of the current output cell\n",
              "var outputEl = gd.closest('.output');\n",
              "if (outputEl) {{\n",
              "    x.observe(outputEl, {childList: true});\n",
              "}}\n",
              "\n",
              "                        })                };                            </script>        </div>\n",
              "</body>\n",
              "</html>"
            ]
          },
          "metadata": {}
        }
      ],
      "source": [
        "fig = px.line(\n",
        "    data_frame= avg_cotst_per_quarter,\n",
        "    x= 'QUARTER_OF_YEAR',\n",
        "    y= 'avg(NR_COTST)',\n",
        "    markers= True,\n",
        "    title= 'Médias trimestrais do NR_COTST entre 2000 e 2023'\n",
        ")\n",
        "fig.update_layout(title= {'x': 0.5}, xaxis_title= 'Trimestres', yaxis_title= 'Média do NR_COTST')\n",
        "fig.show()"
      ]
    },
    {
      "cell_type": "markdown",
      "metadata": {
        "id": "qtaZutYNDDPf"
      },
      "source": [
        "### Análise das médias anuais (`YEAR`)"
      ]
    },
    {
      "cell_type": "code",
      "execution_count": 49,
      "metadata": {
        "id": "dfi0moddDCm0"
      },
      "outputs": [],
      "source": [
        "avg_cotst_per_year = df.groupBy('YEAR').agg(f.avg('NR_COTST')).orderBy('YEAR').toPandas()"
      ]
    },
    {
      "cell_type": "code",
      "execution_count": 50,
      "metadata": {
        "id": "eNlafXKgDdkn",
        "colab": {
          "base_uri": "https://localhost:8080/",
          "height": 542
        },
        "outputId": "fb4af442-6535-4125-a712-3ba5b87b53fa"
      },
      "outputs": [
        {
          "output_type": "display_data",
          "data": {
            "text/html": [
              "<html>\n",
              "<head><meta charset=\"utf-8\" /></head>\n",
              "<body>\n",
              "    <div>            <script src=\"https://cdnjs.cloudflare.com/ajax/libs/mathjax/2.7.5/MathJax.js?config=TeX-AMS-MML_SVG\"></script><script type=\"text/javascript\">if (window.MathJax) {MathJax.Hub.Config({SVG: {font: \"STIX-Web\"}});}</script>                <script type=\"text/javascript\">window.PlotlyConfig = {MathJaxConfig: 'local'};</script>\n",
              "        <script src=\"https://cdn.plot.ly/plotly-2.8.3.min.js\"></script>                <div id=\"fc212310-4c57-4006-960d-254557f13741\" class=\"plotly-graph-div\" style=\"height:525px; width:100%;\"></div>            <script type=\"text/javascript\">                                    window.PLOTLYENV=window.PLOTLYENV || {};                                    if (document.getElementById(\"fc212310-4c57-4006-960d-254557f13741\")) {                    Plotly.newPlot(                        \"fc212310-4c57-4006-960d-254557f13741\",                        [{\"hovertemplate\":\"YEAR=%{x}<br>avg(NR_COTST)=%{y}<extra></extra>\",\"legendgroup\":\"\",\"line\":{\"color\":\"red\",\"dash\":\"solid\"},\"marker\":{\"symbol\":\"circle\"},\"mode\":\"lines+markers\",\"name\":\"\",\"orientation\":\"v\",\"showlegend\":false,\"x\":[2001,2002,2003,2004,2005,2006,2007,2008,2009,2010,2011,2012,2013,2014,2015,2016,2017,2018,2019,2020,2021,2022,2023],\"xaxis\":\"x\",\"y\":[90.0,181.85798816568047,255.18446601941747,262.7907760735655,264.4864972014925,288.73615395350055,275.9208814850635,244.48287131663,227.06943769383426,218.04651994732802,205.7759321517537,186.65697903146722,169.15433927949837,145.98367070519282,136.29115133232781,137.69192836513105,147.4793705178528,175.54096573445477,205.57364200321362,229.57376813710417,244.77376907193707,222.61991677625204,215.83692333206514],\"yaxis\":\"y\",\"type\":\"scatter\"}],                        {\"template\":{\"data\":{\"bar\":[{\"error_x\":{\"color\":\"#2a3f5f\"},\"error_y\":{\"color\":\"#2a3f5f\"},\"marker\":{\"line\":{\"color\":\"#E5ECF6\",\"width\":0.5},\"pattern\":{\"fillmode\":\"overlay\",\"size\":10,\"solidity\":0.2}},\"type\":\"bar\"}],\"barpolar\":[{\"marker\":{\"line\":{\"color\":\"#E5ECF6\",\"width\":0.5},\"pattern\":{\"fillmode\":\"overlay\",\"size\":10,\"solidity\":0.2}},\"type\":\"barpolar\"}],\"carpet\":[{\"aaxis\":{\"endlinecolor\":\"#2a3f5f\",\"gridcolor\":\"white\",\"linecolor\":\"white\",\"minorgridcolor\":\"white\",\"startlinecolor\":\"#2a3f5f\"},\"baxis\":{\"endlinecolor\":\"#2a3f5f\",\"gridcolor\":\"white\",\"linecolor\":\"white\",\"minorgridcolor\":\"white\",\"startlinecolor\":\"#2a3f5f\"},\"type\":\"carpet\"}],\"choropleth\":[{\"colorbar\":{\"outlinewidth\":0,\"ticks\":\"\"},\"type\":\"choropleth\"}],\"contour\":[{\"colorbar\":{\"outlinewidth\":0,\"ticks\":\"\"},\"colorscale\":[[0.0,\"#0d0887\"],[0.1111111111111111,\"#46039f\"],[0.2222222222222222,\"#7201a8\"],[0.3333333333333333,\"#9c179e\"],[0.4444444444444444,\"#bd3786\"],[0.5555555555555556,\"#d8576b\"],[0.6666666666666666,\"#ed7953\"],[0.7777777777777778,\"#fb9f3a\"],[0.8888888888888888,\"#fdca26\"],[1.0,\"#f0f921\"]],\"type\":\"contour\"}],\"contourcarpet\":[{\"colorbar\":{\"outlinewidth\":0,\"ticks\":\"\"},\"type\":\"contourcarpet\"}],\"heatmap\":[{\"colorbar\":{\"outlinewidth\":0,\"ticks\":\"\"},\"colorscale\":[[0.0,\"#0d0887\"],[0.1111111111111111,\"#46039f\"],[0.2222222222222222,\"#7201a8\"],[0.3333333333333333,\"#9c179e\"],[0.4444444444444444,\"#bd3786\"],[0.5555555555555556,\"#d8576b\"],[0.6666666666666666,\"#ed7953\"],[0.7777777777777778,\"#fb9f3a\"],[0.8888888888888888,\"#fdca26\"],[1.0,\"#f0f921\"]],\"type\":\"heatmap\"}],\"heatmapgl\":[{\"colorbar\":{\"outlinewidth\":0,\"ticks\":\"\"},\"colorscale\":[[0.0,\"#0d0887\"],[0.1111111111111111,\"#46039f\"],[0.2222222222222222,\"#7201a8\"],[0.3333333333333333,\"#9c179e\"],[0.4444444444444444,\"#bd3786\"],[0.5555555555555556,\"#d8576b\"],[0.6666666666666666,\"#ed7953\"],[0.7777777777777778,\"#fb9f3a\"],[0.8888888888888888,\"#fdca26\"],[1.0,\"#f0f921\"]],\"type\":\"heatmapgl\"}],\"histogram\":[{\"marker\":{\"pattern\":{\"fillmode\":\"overlay\",\"size\":10,\"solidity\":0.2}},\"type\":\"histogram\"}],\"histogram2d\":[{\"colorbar\":{\"outlinewidth\":0,\"ticks\":\"\"},\"colorscale\":[[0.0,\"#0d0887\"],[0.1111111111111111,\"#46039f\"],[0.2222222222222222,\"#7201a8\"],[0.3333333333333333,\"#9c179e\"],[0.4444444444444444,\"#bd3786\"],[0.5555555555555556,\"#d8576b\"],[0.6666666666666666,\"#ed7953\"],[0.7777777777777778,\"#fb9f3a\"],[0.8888888888888888,\"#fdca26\"],[1.0,\"#f0f921\"]],\"type\":\"histogram2d\"}],\"histogram2dcontour\":[{\"colorbar\":{\"outlinewidth\":0,\"ticks\":\"\"},\"colorscale\":[[0.0,\"#0d0887\"],[0.1111111111111111,\"#46039f\"],[0.2222222222222222,\"#7201a8\"],[0.3333333333333333,\"#9c179e\"],[0.4444444444444444,\"#bd3786\"],[0.5555555555555556,\"#d8576b\"],[0.6666666666666666,\"#ed7953\"],[0.7777777777777778,\"#fb9f3a\"],[0.8888888888888888,\"#fdca26\"],[1.0,\"#f0f921\"]],\"type\":\"histogram2dcontour\"}],\"mesh3d\":[{\"colorbar\":{\"outlinewidth\":0,\"ticks\":\"\"},\"type\":\"mesh3d\"}],\"parcoords\":[{\"line\":{\"colorbar\":{\"outlinewidth\":0,\"ticks\":\"\"}},\"type\":\"parcoords\"}],\"pie\":[{\"automargin\":true,\"type\":\"pie\"}],\"scatter\":[{\"marker\":{\"colorbar\":{\"outlinewidth\":0,\"ticks\":\"\"}},\"type\":\"scatter\"}],\"scatter3d\":[{\"line\":{\"colorbar\":{\"outlinewidth\":0,\"ticks\":\"\"}},\"marker\":{\"colorbar\":{\"outlinewidth\":0,\"ticks\":\"\"}},\"type\":\"scatter3d\"}],\"scattercarpet\":[{\"marker\":{\"colorbar\":{\"outlinewidth\":0,\"ticks\":\"\"}},\"type\":\"scattercarpet\"}],\"scattergeo\":[{\"marker\":{\"colorbar\":{\"outlinewidth\":0,\"ticks\":\"\"}},\"type\":\"scattergeo\"}],\"scattergl\":[{\"marker\":{\"colorbar\":{\"outlinewidth\":0,\"ticks\":\"\"}},\"type\":\"scattergl\"}],\"scattermapbox\":[{\"marker\":{\"colorbar\":{\"outlinewidth\":0,\"ticks\":\"\"}},\"type\":\"scattermapbox\"}],\"scatterpolar\":[{\"marker\":{\"colorbar\":{\"outlinewidth\":0,\"ticks\":\"\"}},\"type\":\"scatterpolar\"}],\"scatterpolargl\":[{\"marker\":{\"colorbar\":{\"outlinewidth\":0,\"ticks\":\"\"}},\"type\":\"scatterpolargl\"}],\"scatterternary\":[{\"marker\":{\"colorbar\":{\"outlinewidth\":0,\"ticks\":\"\"}},\"type\":\"scatterternary\"}],\"surface\":[{\"colorbar\":{\"outlinewidth\":0,\"ticks\":\"\"},\"colorscale\":[[0.0,\"#0d0887\"],[0.1111111111111111,\"#46039f\"],[0.2222222222222222,\"#7201a8\"],[0.3333333333333333,\"#9c179e\"],[0.4444444444444444,\"#bd3786\"],[0.5555555555555556,\"#d8576b\"],[0.6666666666666666,\"#ed7953\"],[0.7777777777777778,\"#fb9f3a\"],[0.8888888888888888,\"#fdca26\"],[1.0,\"#f0f921\"]],\"type\":\"surface\"}],\"table\":[{\"cells\":{\"fill\":{\"color\":\"#EBF0F8\"},\"line\":{\"color\":\"white\"}},\"header\":{\"fill\":{\"color\":\"#C8D4E3\"},\"line\":{\"color\":\"white\"}},\"type\":\"table\"}]},\"layout\":{\"annotationdefaults\":{\"arrowcolor\":\"#2a3f5f\",\"arrowhead\":0,\"arrowwidth\":1},\"autotypenumbers\":\"strict\",\"coloraxis\":{\"colorbar\":{\"outlinewidth\":0,\"ticks\":\"\"}},\"colorscale\":{\"diverging\":[[0,\"#8e0152\"],[0.1,\"#c51b7d\"],[0.2,\"#de77ae\"],[0.3,\"#f1b6da\"],[0.4,\"#fde0ef\"],[0.5,\"#f7f7f7\"],[0.6,\"#e6f5d0\"],[0.7,\"#b8e186\"],[0.8,\"#7fbc41\"],[0.9,\"#4d9221\"],[1,\"#276419\"]],\"sequential\":[[0.0,\"#0d0887\"],[0.1111111111111111,\"#46039f\"],[0.2222222222222222,\"#7201a8\"],[0.3333333333333333,\"#9c179e\"],[0.4444444444444444,\"#bd3786\"],[0.5555555555555556,\"#d8576b\"],[0.6666666666666666,\"#ed7953\"],[0.7777777777777778,\"#fb9f3a\"],[0.8888888888888888,\"#fdca26\"],[1.0,\"#f0f921\"]],\"sequentialminus\":[[0.0,\"#0d0887\"],[0.1111111111111111,\"#46039f\"],[0.2222222222222222,\"#7201a8\"],[0.3333333333333333,\"#9c179e\"],[0.4444444444444444,\"#bd3786\"],[0.5555555555555556,\"#d8576b\"],[0.6666666666666666,\"#ed7953\"],[0.7777777777777778,\"#fb9f3a\"],[0.8888888888888888,\"#fdca26\"],[1.0,\"#f0f921\"]]},\"colorway\":[\"#636efa\",\"#EF553B\",\"#00cc96\",\"#ab63fa\",\"#FFA15A\",\"#19d3f3\",\"#FF6692\",\"#B6E880\",\"#FF97FF\",\"#FECB52\"],\"font\":{\"color\":\"#2a3f5f\"},\"geo\":{\"bgcolor\":\"white\",\"lakecolor\":\"white\",\"landcolor\":\"#E5ECF6\",\"showlakes\":true,\"showland\":true,\"subunitcolor\":\"white\"},\"hoverlabel\":{\"align\":\"left\"},\"hovermode\":\"closest\",\"mapbox\":{\"style\":\"light\"},\"paper_bgcolor\":\"white\",\"plot_bgcolor\":\"#E5ECF6\",\"polar\":{\"angularaxis\":{\"gridcolor\":\"white\",\"linecolor\":\"white\",\"ticks\":\"\"},\"bgcolor\":\"#E5ECF6\",\"radialaxis\":{\"gridcolor\":\"white\",\"linecolor\":\"white\",\"ticks\":\"\"}},\"scene\":{\"xaxis\":{\"backgroundcolor\":\"#E5ECF6\",\"gridcolor\":\"white\",\"gridwidth\":2,\"linecolor\":\"white\",\"showbackground\":true,\"ticks\":\"\",\"zerolinecolor\":\"white\"},\"yaxis\":{\"backgroundcolor\":\"#E5ECF6\",\"gridcolor\":\"white\",\"gridwidth\":2,\"linecolor\":\"white\",\"showbackground\":true,\"ticks\":\"\",\"zerolinecolor\":\"white\"},\"zaxis\":{\"backgroundcolor\":\"#E5ECF6\",\"gridcolor\":\"white\",\"gridwidth\":2,\"linecolor\":\"white\",\"showbackground\":true,\"ticks\":\"\",\"zerolinecolor\":\"white\"}},\"shapedefaults\":{\"line\":{\"color\":\"#2a3f5f\"}},\"ternary\":{\"aaxis\":{\"gridcolor\":\"white\",\"linecolor\":\"white\",\"ticks\":\"\"},\"baxis\":{\"gridcolor\":\"white\",\"linecolor\":\"white\",\"ticks\":\"\"},\"bgcolor\":\"#E5ECF6\",\"caxis\":{\"gridcolor\":\"white\",\"linecolor\":\"white\",\"ticks\":\"\"}},\"title\":{\"x\":0.05},\"xaxis\":{\"automargin\":true,\"gridcolor\":\"white\",\"linecolor\":\"white\",\"ticks\":\"\",\"title\":{\"standoff\":15},\"zerolinecolor\":\"white\",\"zerolinewidth\":2},\"yaxis\":{\"automargin\":true,\"gridcolor\":\"white\",\"linecolor\":\"white\",\"ticks\":\"\",\"title\":{\"standoff\":15},\"zerolinecolor\":\"white\",\"zerolinewidth\":2}}},\"xaxis\":{\"anchor\":\"y\",\"domain\":[0.0,1.0],\"title\":{\"text\":\"Anos\"}},\"yaxis\":{\"anchor\":\"x\",\"domain\":[0.0,1.0],\"title\":{\"text\":\"M\\u00e9dia do NR_COTST\"}},\"legend\":{\"tracegroupgap\":0},\"title\":{\"text\":\"M\\u00e9dias anuais do NR_COTST entre 2000 e 2023\",\"x\":0.5}},                        {\"responsive\": true}                    ).then(function(){\n",
              "                            \n",
              "var gd = document.getElementById('fc212310-4c57-4006-960d-254557f13741');\n",
              "var x = new MutationObserver(function (mutations, observer) {{\n",
              "        var display = window.getComputedStyle(gd).display;\n",
              "        if (!display || display === 'none') {{\n",
              "            console.log([gd, 'removed!']);\n",
              "            Plotly.purge(gd);\n",
              "            observer.disconnect();\n",
              "        }}\n",
              "}});\n",
              "\n",
              "// Listen for the removal of the full notebook cells\n",
              "var notebookContainer = gd.closest('#notebook-container');\n",
              "if (notebookContainer) {{\n",
              "    x.observe(notebookContainer, {childList: true});\n",
              "}}\n",
              "\n",
              "// Listen for the clearing of the current output cell\n",
              "var outputEl = gd.closest('.output');\n",
              "if (outputEl) {{\n",
              "    x.observe(outputEl, {childList: true});\n",
              "}}\n",
              "\n",
              "                        })                };                            </script>        </div>\n",
              "</body>\n",
              "</html>"
            ]
          },
          "metadata": {}
        }
      ],
      "source": [
        "fig = px.line(\n",
        "    data_frame= avg_cotst_per_year,\n",
        "    x= 'YEAR',\n",
        "    y= 'avg(NR_COTST)',\n",
        "    markers= True,\n",
        "    title= 'Médias anuais do NR_COTST entre 2000 e 2023'\n",
        ")\n",
        "fig.update_traces(line_color= 'red')\n",
        "fig.update_layout(title= {'x': 0.5}, xaxis_title= 'Anos', yaxis_title= 'Média do NR_COTST')\n",
        "fig.show()"
      ]
    },
    {
      "cell_type": "markdown",
      "source": [
        "# Análise gráfica com informações cruzadas"
      ],
      "metadata": {
        "id": "HhUbNpBJBvnZ"
      }
    },
    {
      "cell_type": "code",
      "execution_count": 55,
      "metadata": {
        "id": "KxyMbWu1GGF0"
      },
      "outputs": [],
      "source": [
        "from plotly.subplots import make_subplots"
      ]
    },
    {
      "cell_type": "markdown",
      "source": [
        "## `VL_TOTAL` e `VL_PATRIM_LIQ`"
      ],
      "metadata": {
        "id": "dQDS_Q-sCauo"
      }
    },
    {
      "cell_type": "code",
      "execution_count": 58,
      "metadata": {
        "id": "4O5HXR6kNO3s",
        "colab": {
          "base_uri": "https://localhost:8080/",
          "height": 542
        },
        "outputId": "0a99847e-3317-46d2-f77b-fa7135388d20"
      },
      "outputs": [
        {
          "output_type": "display_data",
          "data": {
            "text/html": [
              "<html>\n",
              "<head><meta charset=\"utf-8\" /></head>\n",
              "<body>\n",
              "    <div>            <script src=\"https://cdnjs.cloudflare.com/ajax/libs/mathjax/2.7.5/MathJax.js?config=TeX-AMS-MML_SVG\"></script><script type=\"text/javascript\">if (window.MathJax) {MathJax.Hub.Config({SVG: {font: \"STIX-Web\"}});}</script>                <script type=\"text/javascript\">window.PlotlyConfig = {MathJaxConfig: 'local'};</script>\n",
              "        <script src=\"https://cdn.plot.ly/plotly-2.8.3.min.js\"></script>                <div id=\"7ed9036c-764c-43e7-80d8-221d11a5d0a2\" class=\"plotly-graph-div\" style=\"height:525px; width:100%;\"></div>            <script type=\"text/javascript\">                                    window.PLOTLYENV=window.PLOTLYENV || {};                                    if (document.getElementById(\"7ed9036c-764c-43e7-80d8-221d11a5d0a2\")) {                    Plotly.newPlot(                        \"7ed9036c-764c-43e7-80d8-221d11a5d0a2\",                        [{\"name\":\"VL_TOTAL\",\"x\":[\"2001Q1\",\"2002Q1\",\"2002Q2\",\"2002Q3\",\"2002Q4\",\"2003Q1\",\"2003Q2\",\"2003Q3\",\"2003Q4\",\"2004Q1\",\"2004Q2\",\"2004Q3\",\"2004Q4\",\"2005Q1\",\"2005Q2\",\"2005Q3\",\"2005Q4\",\"2006Q1\",\"2006Q2\",\"2006Q3\",\"2006Q4\",\"2007Q1\",\"2007Q2\",\"2007Q3\",\"2007Q4\",\"2008Q1\",\"2008Q2\",\"2008Q3\",\"2008Q4\",\"2009Q1\",\"2009Q2\",\"2009Q3\",\"2009Q4\",\"2010Q1\",\"2010Q2\",\"2010Q3\",\"2010Q4\",\"2011Q1\",\"2011Q2\",\"2011Q3\",\"2011Q4\",\"2012Q1\",\"2012Q2\",\"2012Q3\",\"2012Q4\",\"2013Q1\",\"2013Q2\",\"2013Q3\",\"2013Q4\",\"2014Q1\",\"2014Q2\",\"2014Q3\",\"2014Q4\",\"2015Q1\",\"2015Q2\",\"2015Q3\",\"2015Q4\",\"2016Q1\",\"2016Q2\",\"2016Q3\",\"2016Q4\",\"2017Q1\",\"2017Q2\",\"2017Q3\",\"2017Q4\",\"2018Q1\",\"2018Q2\",\"2018Q3\",\"2018Q4\",\"2019Q1\",\"2019Q2\",\"2019Q3\",\"2019Q4\",\"2020Q1\",\"2020Q2\",\"2020Q3\",\"2020Q4\",\"2021Q1\",\"2021Q2\",\"2021Q3\",\"2021Q4\",\"2022Q1\",\"2022Q2\",\"2022Q3\",\"2022Q4\",\"2023Q1\"],\"y\":[4996961.25,6762960.011063831,87382270.32736112,20150066.299722217,13014745.242142856,7737951.007049181,31721908.431739133,328665714.83171713,15629799.520434782,43444721.30808449,93545286.31392868,95674217.14837518,97272902.46191472,101849567.79677303,105939402.62518454,111061884.42091514,117161018.17206249,123325892.95955601,128649814.49490075,132177954.01326784,132385156.94422944,136445018.1086005,135028622.5814089,131149357.13582192,127850127.38822825,124582874.12204768,119890945.98719518,114471551.21355785,106640332.70817724,112475373.77966613,116266528.3370253,122253713.27477488,125436622.80156891,125868282.4181006,125345136.70791882,125743280.37928006,127405983.50344793,130351022.52959462,128817255.23780955,127537757.05141574,129330421.57553017,132533009.19379857,131530193.76686645,134750555.59619498,135193511.6398961,137786394.25855303,138883726.6592024,137245581.16094983,134274893.3388821,132334445.3400478,133039516.87210692,133949960.77859357,132536524.78162576,133662561.86940993,135930637.42699343,136958822.3916063,137394317.4318148,138375169.26050484,143015156.83424786,146053705.39881638,147424223.52211604,153946068.4707203,158173985.11144832,162691966.5840997,166619648.26594555,173213781.16695485,174225276.06665075,174715449.8069334,176645475.73530245,178812044.5345508,180192739.05287948,185189789.52586088,185676855.47054246,184237582.51784933,180421344.39341694,188123165.966538,188539190.78136945,189734425.58231735,188717479.54082248,185221178.25693226,176297612.290068,171130173.48265517,167982838.58195475,166097005.54141667,168067691.52925804,165893339.59652668],\"type\":\"scatter\",\"xaxis\":\"x\",\"yaxis\":\"y\"},{\"line\":{\"dash\":\"dot\"},\"name\":\"VL_PATRIM_LIQ\",\"x\":[\"2001Q1\",\"2002Q1\",\"2002Q2\",\"2002Q3\",\"2002Q4\",\"2003Q1\",\"2003Q2\",\"2003Q3\",\"2003Q4\",\"2004Q1\",\"2004Q2\",\"2004Q3\",\"2004Q4\",\"2005Q1\",\"2005Q2\",\"2005Q3\",\"2005Q4\",\"2006Q1\",\"2006Q2\",\"2006Q3\",\"2006Q4\",\"2007Q1\",\"2007Q2\",\"2007Q3\",\"2007Q4\",\"2008Q1\",\"2008Q2\",\"2008Q3\",\"2008Q4\",\"2009Q1\",\"2009Q2\",\"2009Q3\",\"2009Q4\",\"2010Q1\",\"2010Q2\",\"2010Q3\",\"2010Q4\",\"2011Q1\",\"2011Q2\",\"2011Q3\",\"2011Q4\",\"2012Q1\",\"2012Q2\",\"2012Q3\",\"2012Q4\",\"2013Q1\",\"2013Q2\",\"2013Q3\",\"2013Q4\",\"2014Q1\",\"2014Q2\",\"2014Q3\",\"2014Q4\",\"2015Q1\",\"2015Q2\",\"2015Q3\",\"2015Q4\",\"2016Q1\",\"2016Q2\",\"2016Q3\",\"2016Q4\",\"2017Q1\",\"2017Q2\",\"2017Q3\",\"2017Q4\",\"2018Q1\",\"2018Q2\",\"2018Q3\",\"2018Q4\",\"2019Q1\",\"2019Q2\",\"2019Q3\",\"2019Q4\",\"2020Q1\",\"2020Q2\",\"2020Q3\",\"2020Q4\",\"2021Q1\",\"2021Q2\",\"2021Q3\",\"2021Q4\",\"2022Q1\",\"2022Q2\",\"2022Q3\",\"2022Q4\",\"2023Q1\"],\"y\":[4918122.13,6739520.627021277,87761170.8506944,20223341.798055552,13109070.922857145,7706107.731639344,32429673.44086957,328697185.19343424,15689669.316956526,41893654.17011263,93534953.1319491,95690814.56082097,97084252.20679963,102071541.44766183,105581809.7567495,110766381.267658,116634300.95704424,122907153.80859163,128096686.29470764,131876222.43503399,132035402.91789939,136131188.55343583,133996714.8823532,130678510.66026019,128007898.68296361,124662738.48220672,119893584.35276927,114458696.5242532,106601684.15489264,112222948.58887322,115766796.87629664,121778310.02278161,124777514.98646045,124633646.69317925,124740934.25422539,125712754.02666202,127249863.19899824,129679852.11341664,128199093.6734898,126965322.51814269,128361599.47223237,131473678.69645694,130903439.4434541,133100222.80769579,133954939.32413194,136649962.38170114,137398655.0009424,135965474.82614872,133758719.47485156,132046671.9616348,132777054.45538905,133682557.09373707,132360294.90996951,133578209.59526092,135639616.3400324,136699539.4400559,137172314.99026144,138193674.74705198,142793309.2364038,145845976.52804548,147202289.35534978,153748113.45647788,157849446.90092957,162216507.04909074,166015542.871187,172647297.9231998,173795556.0242374,174470581.87907138,176265609.17483833,178497008.58735391,179855347.5620433,184781554.57054788,185166941.40751934,183802924.74044296,180152220.80348697,187537262.14818758,187977796.36770913,189257780.14402938,188317518.74990195,184955215.29434574,176124685.17177045,171044041.7764055,167866788.70731646,165975438.60050586,167975314.34024674,165986420.21640506],\"type\":\"scatter\",\"xaxis\":\"x\",\"yaxis\":\"y2\"}],                        {\"template\":{\"data\":{\"bar\":[{\"error_x\":{\"color\":\"#2a3f5f\"},\"error_y\":{\"color\":\"#2a3f5f\"},\"marker\":{\"line\":{\"color\":\"#E5ECF6\",\"width\":0.5},\"pattern\":{\"fillmode\":\"overlay\",\"size\":10,\"solidity\":0.2}},\"type\":\"bar\"}],\"barpolar\":[{\"marker\":{\"line\":{\"color\":\"#E5ECF6\",\"width\":0.5},\"pattern\":{\"fillmode\":\"overlay\",\"size\":10,\"solidity\":0.2}},\"type\":\"barpolar\"}],\"carpet\":[{\"aaxis\":{\"endlinecolor\":\"#2a3f5f\",\"gridcolor\":\"white\",\"linecolor\":\"white\",\"minorgridcolor\":\"white\",\"startlinecolor\":\"#2a3f5f\"},\"baxis\":{\"endlinecolor\":\"#2a3f5f\",\"gridcolor\":\"white\",\"linecolor\":\"white\",\"minorgridcolor\":\"white\",\"startlinecolor\":\"#2a3f5f\"},\"type\":\"carpet\"}],\"choropleth\":[{\"colorbar\":{\"outlinewidth\":0,\"ticks\":\"\"},\"type\":\"choropleth\"}],\"contour\":[{\"colorbar\":{\"outlinewidth\":0,\"ticks\":\"\"},\"colorscale\":[[0.0,\"#0d0887\"],[0.1111111111111111,\"#46039f\"],[0.2222222222222222,\"#7201a8\"],[0.3333333333333333,\"#9c179e\"],[0.4444444444444444,\"#bd3786\"],[0.5555555555555556,\"#d8576b\"],[0.6666666666666666,\"#ed7953\"],[0.7777777777777778,\"#fb9f3a\"],[0.8888888888888888,\"#fdca26\"],[1.0,\"#f0f921\"]],\"type\":\"contour\"}],\"contourcarpet\":[{\"colorbar\":{\"outlinewidth\":0,\"ticks\":\"\"},\"type\":\"contourcarpet\"}],\"heatmap\":[{\"colorbar\":{\"outlinewidth\":0,\"ticks\":\"\"},\"colorscale\":[[0.0,\"#0d0887\"],[0.1111111111111111,\"#46039f\"],[0.2222222222222222,\"#7201a8\"],[0.3333333333333333,\"#9c179e\"],[0.4444444444444444,\"#bd3786\"],[0.5555555555555556,\"#d8576b\"],[0.6666666666666666,\"#ed7953\"],[0.7777777777777778,\"#fb9f3a\"],[0.8888888888888888,\"#fdca26\"],[1.0,\"#f0f921\"]],\"type\":\"heatmap\"}],\"heatmapgl\":[{\"colorbar\":{\"outlinewidth\":0,\"ticks\":\"\"},\"colorscale\":[[0.0,\"#0d0887\"],[0.1111111111111111,\"#46039f\"],[0.2222222222222222,\"#7201a8\"],[0.3333333333333333,\"#9c179e\"],[0.4444444444444444,\"#bd3786\"],[0.5555555555555556,\"#d8576b\"],[0.6666666666666666,\"#ed7953\"],[0.7777777777777778,\"#fb9f3a\"],[0.8888888888888888,\"#fdca26\"],[1.0,\"#f0f921\"]],\"type\":\"heatmapgl\"}],\"histogram\":[{\"marker\":{\"pattern\":{\"fillmode\":\"overlay\",\"size\":10,\"solidity\":0.2}},\"type\":\"histogram\"}],\"histogram2d\":[{\"colorbar\":{\"outlinewidth\":0,\"ticks\":\"\"},\"colorscale\":[[0.0,\"#0d0887\"],[0.1111111111111111,\"#46039f\"],[0.2222222222222222,\"#7201a8\"],[0.3333333333333333,\"#9c179e\"],[0.4444444444444444,\"#bd3786\"],[0.5555555555555556,\"#d8576b\"],[0.6666666666666666,\"#ed7953\"],[0.7777777777777778,\"#fb9f3a\"],[0.8888888888888888,\"#fdca26\"],[1.0,\"#f0f921\"]],\"type\":\"histogram2d\"}],\"histogram2dcontour\":[{\"colorbar\":{\"outlinewidth\":0,\"ticks\":\"\"},\"colorscale\":[[0.0,\"#0d0887\"],[0.1111111111111111,\"#46039f\"],[0.2222222222222222,\"#7201a8\"],[0.3333333333333333,\"#9c179e\"],[0.4444444444444444,\"#bd3786\"],[0.5555555555555556,\"#d8576b\"],[0.6666666666666666,\"#ed7953\"],[0.7777777777777778,\"#fb9f3a\"],[0.8888888888888888,\"#fdca26\"],[1.0,\"#f0f921\"]],\"type\":\"histogram2dcontour\"}],\"mesh3d\":[{\"colorbar\":{\"outlinewidth\":0,\"ticks\":\"\"},\"type\":\"mesh3d\"}],\"parcoords\":[{\"line\":{\"colorbar\":{\"outlinewidth\":0,\"ticks\":\"\"}},\"type\":\"parcoords\"}],\"pie\":[{\"automargin\":true,\"type\":\"pie\"}],\"scatter\":[{\"marker\":{\"colorbar\":{\"outlinewidth\":0,\"ticks\":\"\"}},\"type\":\"scatter\"}],\"scatter3d\":[{\"line\":{\"colorbar\":{\"outlinewidth\":0,\"ticks\":\"\"}},\"marker\":{\"colorbar\":{\"outlinewidth\":0,\"ticks\":\"\"}},\"type\":\"scatter3d\"}],\"scattercarpet\":[{\"marker\":{\"colorbar\":{\"outlinewidth\":0,\"ticks\":\"\"}},\"type\":\"scattercarpet\"}],\"scattergeo\":[{\"marker\":{\"colorbar\":{\"outlinewidth\":0,\"ticks\":\"\"}},\"type\":\"scattergeo\"}],\"scattergl\":[{\"marker\":{\"colorbar\":{\"outlinewidth\":0,\"ticks\":\"\"}},\"type\":\"scattergl\"}],\"scattermapbox\":[{\"marker\":{\"colorbar\":{\"outlinewidth\":0,\"ticks\":\"\"}},\"type\":\"scattermapbox\"}],\"scatterpolar\":[{\"marker\":{\"colorbar\":{\"outlinewidth\":0,\"ticks\":\"\"}},\"type\":\"scatterpolar\"}],\"scatterpolargl\":[{\"marker\":{\"colorbar\":{\"outlinewidth\":0,\"ticks\":\"\"}},\"type\":\"scatterpolargl\"}],\"scatterternary\":[{\"marker\":{\"colorbar\":{\"outlinewidth\":0,\"ticks\":\"\"}},\"type\":\"scatterternary\"}],\"surface\":[{\"colorbar\":{\"outlinewidth\":0,\"ticks\":\"\"},\"colorscale\":[[0.0,\"#0d0887\"],[0.1111111111111111,\"#46039f\"],[0.2222222222222222,\"#7201a8\"],[0.3333333333333333,\"#9c179e\"],[0.4444444444444444,\"#bd3786\"],[0.5555555555555556,\"#d8576b\"],[0.6666666666666666,\"#ed7953\"],[0.7777777777777778,\"#fb9f3a\"],[0.8888888888888888,\"#fdca26\"],[1.0,\"#f0f921\"]],\"type\":\"surface\"}],\"table\":[{\"cells\":{\"fill\":{\"color\":\"#EBF0F8\"},\"line\":{\"color\":\"white\"}},\"header\":{\"fill\":{\"color\":\"#C8D4E3\"},\"line\":{\"color\":\"white\"}},\"type\":\"table\"}]},\"layout\":{\"annotationdefaults\":{\"arrowcolor\":\"#2a3f5f\",\"arrowhead\":0,\"arrowwidth\":1},\"autotypenumbers\":\"strict\",\"coloraxis\":{\"colorbar\":{\"outlinewidth\":0,\"ticks\":\"\"}},\"colorscale\":{\"diverging\":[[0,\"#8e0152\"],[0.1,\"#c51b7d\"],[0.2,\"#de77ae\"],[0.3,\"#f1b6da\"],[0.4,\"#fde0ef\"],[0.5,\"#f7f7f7\"],[0.6,\"#e6f5d0\"],[0.7,\"#b8e186\"],[0.8,\"#7fbc41\"],[0.9,\"#4d9221\"],[1,\"#276419\"]],\"sequential\":[[0.0,\"#0d0887\"],[0.1111111111111111,\"#46039f\"],[0.2222222222222222,\"#7201a8\"],[0.3333333333333333,\"#9c179e\"],[0.4444444444444444,\"#bd3786\"],[0.5555555555555556,\"#d8576b\"],[0.6666666666666666,\"#ed7953\"],[0.7777777777777778,\"#fb9f3a\"],[0.8888888888888888,\"#fdca26\"],[1.0,\"#f0f921\"]],\"sequentialminus\":[[0.0,\"#0d0887\"],[0.1111111111111111,\"#46039f\"],[0.2222222222222222,\"#7201a8\"],[0.3333333333333333,\"#9c179e\"],[0.4444444444444444,\"#bd3786\"],[0.5555555555555556,\"#d8576b\"],[0.6666666666666666,\"#ed7953\"],[0.7777777777777778,\"#fb9f3a\"],[0.8888888888888888,\"#fdca26\"],[1.0,\"#f0f921\"]]},\"colorway\":[\"#636efa\",\"#EF553B\",\"#00cc96\",\"#ab63fa\",\"#FFA15A\",\"#19d3f3\",\"#FF6692\",\"#B6E880\",\"#FF97FF\",\"#FECB52\"],\"font\":{\"color\":\"#2a3f5f\"},\"geo\":{\"bgcolor\":\"white\",\"lakecolor\":\"white\",\"landcolor\":\"#E5ECF6\",\"showlakes\":true,\"showland\":true,\"subunitcolor\":\"white\"},\"hoverlabel\":{\"align\":\"left\"},\"hovermode\":\"closest\",\"mapbox\":{\"style\":\"light\"},\"paper_bgcolor\":\"white\",\"plot_bgcolor\":\"#E5ECF6\",\"polar\":{\"angularaxis\":{\"gridcolor\":\"white\",\"linecolor\":\"white\",\"ticks\":\"\"},\"bgcolor\":\"#E5ECF6\",\"radialaxis\":{\"gridcolor\":\"white\",\"linecolor\":\"white\",\"ticks\":\"\"}},\"scene\":{\"xaxis\":{\"backgroundcolor\":\"#E5ECF6\",\"gridcolor\":\"white\",\"gridwidth\":2,\"linecolor\":\"white\",\"showbackground\":true,\"ticks\":\"\",\"zerolinecolor\":\"white\"},\"yaxis\":{\"backgroundcolor\":\"#E5ECF6\",\"gridcolor\":\"white\",\"gridwidth\":2,\"linecolor\":\"white\",\"showbackground\":true,\"ticks\":\"\",\"zerolinecolor\":\"white\"},\"zaxis\":{\"backgroundcolor\":\"#E5ECF6\",\"gridcolor\":\"white\",\"gridwidth\":2,\"linecolor\":\"white\",\"showbackground\":true,\"ticks\":\"\",\"zerolinecolor\":\"white\"}},\"shapedefaults\":{\"line\":{\"color\":\"#2a3f5f\"}},\"ternary\":{\"aaxis\":{\"gridcolor\":\"white\",\"linecolor\":\"white\",\"ticks\":\"\"},\"baxis\":{\"gridcolor\":\"white\",\"linecolor\":\"white\",\"ticks\":\"\"},\"bgcolor\":\"#E5ECF6\",\"caxis\":{\"gridcolor\":\"white\",\"linecolor\":\"white\",\"ticks\":\"\"}},\"title\":{\"x\":0.05},\"xaxis\":{\"automargin\":true,\"gridcolor\":\"white\",\"linecolor\":\"white\",\"ticks\":\"\",\"title\":{\"standoff\":15},\"zerolinecolor\":\"white\",\"zerolinewidth\":2},\"yaxis\":{\"automargin\":true,\"gridcolor\":\"white\",\"linecolor\":\"white\",\"ticks\":\"\",\"title\":{\"standoff\":15},\"zerolinecolor\":\"white\",\"zerolinewidth\":2}}},\"xaxis\":{\"anchor\":\"y\",\"domain\":[0.0,0.94],\"title\":{\"text\":\"Trimestres\"}},\"yaxis\":{\"anchor\":\"x\",\"domain\":[0.0,1.0],\"title\":{\"text\":\"M\\u00e9dias da VL_TOTAL\"}},\"yaxis2\":{\"anchor\":\"x\",\"overlaying\":\"y\",\"side\":\"right\",\"title\":{\"text\":\"M\\u00e9dias do VL_PATRIM_LIQ\"}},\"title\":{\"text\":\"Time series das vari\\u00e1veis VL_TOTAL e VL_PATRIM_LIQ entre 2000 e 2023\",\"x\":0.5}},                        {\"responsive\": true}                    ).then(function(){\n",
              "                            \n",
              "var gd = document.getElementById('7ed9036c-764c-43e7-80d8-221d11a5d0a2');\n",
              "var x = new MutationObserver(function (mutations, observer) {{\n",
              "        var display = window.getComputedStyle(gd).display;\n",
              "        if (!display || display === 'none') {{\n",
              "            console.log([gd, 'removed!']);\n",
              "            Plotly.purge(gd);\n",
              "            observer.disconnect();\n",
              "        }}\n",
              "}});\n",
              "\n",
              "// Listen for the removal of the full notebook cells\n",
              "var notebookContainer = gd.closest('#notebook-container');\n",
              "if (notebookContainer) {{\n",
              "    x.observe(notebookContainer, {childList: true});\n",
              "}}\n",
              "\n",
              "// Listen for the clearing of the current output cell\n",
              "var outputEl = gd.closest('.output');\n",
              "if (outputEl) {{\n",
              "    x.observe(outputEl, {childList: true});\n",
              "}}\n",
              "\n",
              "                        })                };                            </script>        </div>\n",
              "</body>\n",
              "</html>"
            ]
          },
          "metadata": {}
        }
      ],
      "source": [
        "fig = make_subplots(specs= [[{'secondary_y': True}]])\n",
        "\n",
        "fig.add_trace(\n",
        "    go.Scatter(x= avg_total_per_quarter['QUARTER_OF_YEAR'], y= avg_total_per_quarter['avg(VL_TOTAL)'], name= 'VL_TOTAL'), secondary_y= False\n",
        ")\n",
        "fig.add_trace(\n",
        "    go.Scatter(x= avg_patrim_per_quarter['QUARTER_OF_YEAR'], y= avg_patrim_per_quarter['avg(VL_PATRIM_LIQ)'], name= 'VL_PATRIM_LIQ', \n",
        "               line= dict(dash= 'dot')), secondary_y= True\n",
        ")\n",
        "fig.update_layout(title_text= 'Time series das variáveis VL_TOTAL e VL_PATRIM_LIQ entre 2000 e 2023', title= {'x': 0.5})\n",
        "fig.update_xaxes(title= 'Trimestres')\n",
        "fig.update_yaxes(title= 'Médias da VL_TOTAL', secondary_y= False)\n",
        "fig.update_yaxes(title= 'Médias do VL_PATRIM_LIQ', secondary_y= True)\n",
        "fig.show()"
      ]
    },
    {
      "cell_type": "markdown",
      "source": [
        "## `CAPTC_DIA` e `RESG_DIA`"
      ],
      "metadata": {
        "id": "nQVGzuaGCKib"
      }
    },
    {
      "cell_type": "code",
      "execution_count": 62,
      "metadata": {
        "id": "YkZWoQzUEtEs",
        "colab": {
          "base_uri": "https://localhost:8080/",
          "height": 542
        },
        "outputId": "a8f049c6-a1ad-48f3-98ff-a2a5789f5955"
      },
      "outputs": [
        {
          "output_type": "display_data",
          "data": {
            "text/html": [
              "<html>\n",
              "<head><meta charset=\"utf-8\" /></head>\n",
              "<body>\n",
              "    <div>            <script src=\"https://cdnjs.cloudflare.com/ajax/libs/mathjax/2.7.5/MathJax.js?config=TeX-AMS-MML_SVG\"></script><script type=\"text/javascript\">if (window.MathJax) {MathJax.Hub.Config({SVG: {font: \"STIX-Web\"}});}</script>                <script type=\"text/javascript\">window.PlotlyConfig = {MathJaxConfig: 'local'};</script>\n",
              "        <script src=\"https://cdn.plot.ly/plotly-2.8.3.min.js\"></script>                <div id=\"b215dc7d-72fc-48ef-b618-4cc3e09518e8\" class=\"plotly-graph-div\" style=\"height:525px; width:100%;\"></div>            <script type=\"text/javascript\">                                    window.PLOTLYENV=window.PLOTLYENV || {};                                    if (document.getElementById(\"b215dc7d-72fc-48ef-b618-4cc3e09518e8\")) {                    Plotly.newPlot(                        \"b215dc7d-72fc-48ef-b618-4cc3e09518e8\",                        [{\"name\":\"CAPTC_DIA\",\"x\":[\"2001Q1\",\"2002Q1\",\"2002Q2\",\"2002Q3\",\"2002Q4\",\"2003Q1\",\"2003Q2\",\"2003Q3\",\"2003Q4\",\"2004Q1\",\"2004Q2\",\"2004Q3\",\"2004Q4\",\"2005Q1\",\"2005Q2\",\"2005Q3\",\"2005Q4\",\"2006Q1\",\"2006Q2\",\"2006Q3\",\"2006Q4\",\"2007Q1\",\"2007Q2\",\"2007Q3\",\"2007Q4\",\"2008Q1\",\"2008Q2\",\"2008Q3\",\"2008Q4\",\"2009Q1\",\"2009Q2\",\"2009Q3\",\"2009Q4\",\"2010Q1\",\"2010Q2\",\"2010Q3\",\"2010Q4\",\"2011Q1\",\"2011Q2\",\"2011Q3\",\"2011Q4\",\"2012Q1\",\"2012Q2\",\"2012Q3\",\"2012Q4\",\"2013Q1\",\"2013Q2\",\"2013Q3\",\"2013Q4\",\"2014Q1\",\"2014Q2\",\"2014Q3\",\"2014Q4\",\"2015Q1\",\"2015Q2\",\"2015Q3\",\"2015Q4\",\"2016Q1\",\"2016Q2\",\"2016Q3\",\"2016Q4\",\"2017Q1\",\"2017Q2\",\"2017Q3\",\"2017Q4\",\"2018Q1\",\"2018Q2\",\"2018Q3\",\"2018Q4\",\"2019Q1\",\"2019Q2\",\"2019Q3\",\"2019Q4\",\"2020Q1\",\"2020Q2\",\"2020Q3\",\"2020Q4\",\"2021Q1\",\"2021Q2\",\"2021Q3\",\"2021Q4\",\"2022Q1\",\"2022Q2\",\"2022Q3\",\"2022Q4\",\"2023Q1\"],\"y\":[0.0,16496.72319148936,0.0,3390.1019444444446,2139.8571428571427,10762.178196721312,168545.5452173913,99623.4798989899,146322.23,104470.48126760563,187864.88714844774,174625.05846828877,189313.9804898255,201493.65101147303,181965.57273313566,182888.47540065995,193638.0995594377,225607.83454879964,204157.79865378403,191869.23698971985,249430.35981861595,246467.43800920073,261304.59150404364,220330.8120166477,197524.22167256376,189891.4844120471,182222.3482790384,158391.41091341048,158219.6696557957,167243.13064126743,196332.24637835732,212304.67157693673,212139.09491073125,212205.46872591157,190084.2117613028,182991.75693458336,193240.26122492875,178815.31587539843,177237.65791993754,174287.14302409044,169966.71586391967,179421.64414913533,189632.78065099014,187458.32443467045,190211.9414203387,204990.24139001957,180020.08967331593,158559.90510369852,145650.17986600666,152941.2155360662,152212.92961735016,152371.6544204762,143538.30300582768,150929.79656340275,160255.82528512768,156627.5478746111,151597.20827942865,162231.92395089808,170129.32630519968,179160.5517977255,176223.05364098083,208435.61169321224,184827.11455947452,193484.7457098278,198515.88578395144,224491.57120108907,200145.09894653733,170754.86886006146,194401.1748677565,223472.17850419844,223389.2864150813,251639.3270973958,265841.2038867255,256347.1649457724,176242.8622558283,237153.93488684995,205956.19410262452,229694.8315463584,238230.68308667073,198834.59543071743,166361.57246824677,151414.770986957,160044.6605946451,155291.10898904107,142373.34119017748,136936.66185206862],\"type\":\"scatter\",\"xaxis\":\"x\",\"yaxis\":\"y\"},{\"line\":{\"dash\":\"dash\"},\"name\":\"RESG_DIA\",\"x\":[\"2001Q1\",\"2002Q1\",\"2002Q2\",\"2002Q3\",\"2002Q4\",\"2003Q1\",\"2003Q2\",\"2003Q3\",\"2003Q4\",\"2004Q1\",\"2004Q2\",\"2004Q3\",\"2004Q4\",\"2005Q1\",\"2005Q2\",\"2005Q3\",\"2005Q4\",\"2006Q1\",\"2006Q2\",\"2006Q3\",\"2006Q4\",\"2007Q1\",\"2007Q2\",\"2007Q3\",\"2007Q4\",\"2008Q1\",\"2008Q2\",\"2008Q3\",\"2008Q4\",\"2009Q1\",\"2009Q2\",\"2009Q3\",\"2009Q4\",\"2010Q1\",\"2010Q2\",\"2010Q3\",\"2010Q4\",\"2011Q1\",\"2011Q2\",\"2011Q3\",\"2011Q4\",\"2012Q1\",\"2012Q2\",\"2012Q3\",\"2012Q4\",\"2013Q1\",\"2013Q2\",\"2013Q3\",\"2013Q4\",\"2014Q1\",\"2014Q2\",\"2014Q3\",\"2014Q4\",\"2015Q1\",\"2015Q2\",\"2015Q3\",\"2015Q4\",\"2016Q1\",\"2016Q2\",\"2016Q3\",\"2016Q4\",\"2017Q1\",\"2017Q2\",\"2017Q3\",\"2017Q4\",\"2018Q1\",\"2018Q2\",\"2018Q3\",\"2018Q4\",\"2019Q1\",\"2019Q2\",\"2019Q3\",\"2019Q4\",\"2020Q1\",\"2020Q2\",\"2020Q3\",\"2020Q4\",\"2021Q1\",\"2021Q2\",\"2021Q3\",\"2021Q4\",\"2022Q1\",\"2022Q2\",\"2022Q3\",\"2022Q4\",\"2023Q1\"],\"y\":[3272.39,893.512340425532,771.2615277777778,3548.070277777778,166.57928571428573,49230.75901639344,32849.10173913044,30437.729595959594,11290.536521739132,60362.55881690141,168600.94417970654,148771.0758998274,159412.47547920892,154939.89979203636,157981.38364948845,147637.69519798274,156013.87310691888,147002.00614845057,163331.61554632423,144913.78928021036,176525.05427891898,164998.17583106938,170033.33091936473,171839.92594610582,174967.63853535661,183205.29553641056,190712.79619637041,183836.4292940864,201415.1146689718,143501.5928799689,146752.61184349292,142663.6083619307,148627.5180924282,139167.62536382052,152451.05146769708,142959.05498555675,145246.45592955046,140872.22196032281,150799.01952804503,146963.83063267366,136678.42540402495,128732.80448451718,136765.07802263697,129219.64524226845,133679.13548544698,130323.4391852797,140711.56940257136,142287.39002357566,142992.62013910574,146029.97430127783,138677.5785330826,125544.76087509,130135.0553805325,129813.3872794294,129925.0194195877,128912.14344985856,132347.0405683722,124481.76355719836,131022.54127139597,123066.46034671397,129388.18778800959,114746.08122558596,123831.56854516228,121599.2511772604,130372.35490476892,128337.40392545244,144915.09953768266,139938.77448892238,141686.68012683757,137753.8843911962,140700.81893312576,143872.12499388636,153368.35241680397,168059.02163935587,146938.57688699954,140299.9440359515,146501.34812906123,147942.27101020014,156858.1165538062,161010.29935458404,172370.0656497737,177918.11614358475,165297.74409496397,146433.24359730637,136651.02793672332,134884.64979713512],\"type\":\"scatter\",\"xaxis\":\"x\",\"yaxis\":\"y2\"}],                        {\"template\":{\"data\":{\"bar\":[{\"error_x\":{\"color\":\"#2a3f5f\"},\"error_y\":{\"color\":\"#2a3f5f\"},\"marker\":{\"line\":{\"color\":\"#E5ECF6\",\"width\":0.5},\"pattern\":{\"fillmode\":\"overlay\",\"size\":10,\"solidity\":0.2}},\"type\":\"bar\"}],\"barpolar\":[{\"marker\":{\"line\":{\"color\":\"#E5ECF6\",\"width\":0.5},\"pattern\":{\"fillmode\":\"overlay\",\"size\":10,\"solidity\":0.2}},\"type\":\"barpolar\"}],\"carpet\":[{\"aaxis\":{\"endlinecolor\":\"#2a3f5f\",\"gridcolor\":\"white\",\"linecolor\":\"white\",\"minorgridcolor\":\"white\",\"startlinecolor\":\"#2a3f5f\"},\"baxis\":{\"endlinecolor\":\"#2a3f5f\",\"gridcolor\":\"white\",\"linecolor\":\"white\",\"minorgridcolor\":\"white\",\"startlinecolor\":\"#2a3f5f\"},\"type\":\"carpet\"}],\"choropleth\":[{\"colorbar\":{\"outlinewidth\":0,\"ticks\":\"\"},\"type\":\"choropleth\"}],\"contour\":[{\"colorbar\":{\"outlinewidth\":0,\"ticks\":\"\"},\"colorscale\":[[0.0,\"#0d0887\"],[0.1111111111111111,\"#46039f\"],[0.2222222222222222,\"#7201a8\"],[0.3333333333333333,\"#9c179e\"],[0.4444444444444444,\"#bd3786\"],[0.5555555555555556,\"#d8576b\"],[0.6666666666666666,\"#ed7953\"],[0.7777777777777778,\"#fb9f3a\"],[0.8888888888888888,\"#fdca26\"],[1.0,\"#f0f921\"]],\"type\":\"contour\"}],\"contourcarpet\":[{\"colorbar\":{\"outlinewidth\":0,\"ticks\":\"\"},\"type\":\"contourcarpet\"}],\"heatmap\":[{\"colorbar\":{\"outlinewidth\":0,\"ticks\":\"\"},\"colorscale\":[[0.0,\"#0d0887\"],[0.1111111111111111,\"#46039f\"],[0.2222222222222222,\"#7201a8\"],[0.3333333333333333,\"#9c179e\"],[0.4444444444444444,\"#bd3786\"],[0.5555555555555556,\"#d8576b\"],[0.6666666666666666,\"#ed7953\"],[0.7777777777777778,\"#fb9f3a\"],[0.8888888888888888,\"#fdca26\"],[1.0,\"#f0f921\"]],\"type\":\"heatmap\"}],\"heatmapgl\":[{\"colorbar\":{\"outlinewidth\":0,\"ticks\":\"\"},\"colorscale\":[[0.0,\"#0d0887\"],[0.1111111111111111,\"#46039f\"],[0.2222222222222222,\"#7201a8\"],[0.3333333333333333,\"#9c179e\"],[0.4444444444444444,\"#bd3786\"],[0.5555555555555556,\"#d8576b\"],[0.6666666666666666,\"#ed7953\"],[0.7777777777777778,\"#fb9f3a\"],[0.8888888888888888,\"#fdca26\"],[1.0,\"#f0f921\"]],\"type\":\"heatmapgl\"}],\"histogram\":[{\"marker\":{\"pattern\":{\"fillmode\":\"overlay\",\"size\":10,\"solidity\":0.2}},\"type\":\"histogram\"}],\"histogram2d\":[{\"colorbar\":{\"outlinewidth\":0,\"ticks\":\"\"},\"colorscale\":[[0.0,\"#0d0887\"],[0.1111111111111111,\"#46039f\"],[0.2222222222222222,\"#7201a8\"],[0.3333333333333333,\"#9c179e\"],[0.4444444444444444,\"#bd3786\"],[0.5555555555555556,\"#d8576b\"],[0.6666666666666666,\"#ed7953\"],[0.7777777777777778,\"#fb9f3a\"],[0.8888888888888888,\"#fdca26\"],[1.0,\"#f0f921\"]],\"type\":\"histogram2d\"}],\"histogram2dcontour\":[{\"colorbar\":{\"outlinewidth\":0,\"ticks\":\"\"},\"colorscale\":[[0.0,\"#0d0887\"],[0.1111111111111111,\"#46039f\"],[0.2222222222222222,\"#7201a8\"],[0.3333333333333333,\"#9c179e\"],[0.4444444444444444,\"#bd3786\"],[0.5555555555555556,\"#d8576b\"],[0.6666666666666666,\"#ed7953\"],[0.7777777777777778,\"#fb9f3a\"],[0.8888888888888888,\"#fdca26\"],[1.0,\"#f0f921\"]],\"type\":\"histogram2dcontour\"}],\"mesh3d\":[{\"colorbar\":{\"outlinewidth\":0,\"ticks\":\"\"},\"type\":\"mesh3d\"}],\"parcoords\":[{\"line\":{\"colorbar\":{\"outlinewidth\":0,\"ticks\":\"\"}},\"type\":\"parcoords\"}],\"pie\":[{\"automargin\":true,\"type\":\"pie\"}],\"scatter\":[{\"marker\":{\"colorbar\":{\"outlinewidth\":0,\"ticks\":\"\"}},\"type\":\"scatter\"}],\"scatter3d\":[{\"line\":{\"colorbar\":{\"outlinewidth\":0,\"ticks\":\"\"}},\"marker\":{\"colorbar\":{\"outlinewidth\":0,\"ticks\":\"\"}},\"type\":\"scatter3d\"}],\"scattercarpet\":[{\"marker\":{\"colorbar\":{\"outlinewidth\":0,\"ticks\":\"\"}},\"type\":\"scattercarpet\"}],\"scattergeo\":[{\"marker\":{\"colorbar\":{\"outlinewidth\":0,\"ticks\":\"\"}},\"type\":\"scattergeo\"}],\"scattergl\":[{\"marker\":{\"colorbar\":{\"outlinewidth\":0,\"ticks\":\"\"}},\"type\":\"scattergl\"}],\"scattermapbox\":[{\"marker\":{\"colorbar\":{\"outlinewidth\":0,\"ticks\":\"\"}},\"type\":\"scattermapbox\"}],\"scatterpolar\":[{\"marker\":{\"colorbar\":{\"outlinewidth\":0,\"ticks\":\"\"}},\"type\":\"scatterpolar\"}],\"scatterpolargl\":[{\"marker\":{\"colorbar\":{\"outlinewidth\":0,\"ticks\":\"\"}},\"type\":\"scatterpolargl\"}],\"scatterternary\":[{\"marker\":{\"colorbar\":{\"outlinewidth\":0,\"ticks\":\"\"}},\"type\":\"scatterternary\"}],\"surface\":[{\"colorbar\":{\"outlinewidth\":0,\"ticks\":\"\"},\"colorscale\":[[0.0,\"#0d0887\"],[0.1111111111111111,\"#46039f\"],[0.2222222222222222,\"#7201a8\"],[0.3333333333333333,\"#9c179e\"],[0.4444444444444444,\"#bd3786\"],[0.5555555555555556,\"#d8576b\"],[0.6666666666666666,\"#ed7953\"],[0.7777777777777778,\"#fb9f3a\"],[0.8888888888888888,\"#fdca26\"],[1.0,\"#f0f921\"]],\"type\":\"surface\"}],\"table\":[{\"cells\":{\"fill\":{\"color\":\"#EBF0F8\"},\"line\":{\"color\":\"white\"}},\"header\":{\"fill\":{\"color\":\"#C8D4E3\"},\"line\":{\"color\":\"white\"}},\"type\":\"table\"}]},\"layout\":{\"annotationdefaults\":{\"arrowcolor\":\"#2a3f5f\",\"arrowhead\":0,\"arrowwidth\":1},\"autotypenumbers\":\"strict\",\"coloraxis\":{\"colorbar\":{\"outlinewidth\":0,\"ticks\":\"\"}},\"colorscale\":{\"diverging\":[[0,\"#8e0152\"],[0.1,\"#c51b7d\"],[0.2,\"#de77ae\"],[0.3,\"#f1b6da\"],[0.4,\"#fde0ef\"],[0.5,\"#f7f7f7\"],[0.6,\"#e6f5d0\"],[0.7,\"#b8e186\"],[0.8,\"#7fbc41\"],[0.9,\"#4d9221\"],[1,\"#276419\"]],\"sequential\":[[0.0,\"#0d0887\"],[0.1111111111111111,\"#46039f\"],[0.2222222222222222,\"#7201a8\"],[0.3333333333333333,\"#9c179e\"],[0.4444444444444444,\"#bd3786\"],[0.5555555555555556,\"#d8576b\"],[0.6666666666666666,\"#ed7953\"],[0.7777777777777778,\"#fb9f3a\"],[0.8888888888888888,\"#fdca26\"],[1.0,\"#f0f921\"]],\"sequentialminus\":[[0.0,\"#0d0887\"],[0.1111111111111111,\"#46039f\"],[0.2222222222222222,\"#7201a8\"],[0.3333333333333333,\"#9c179e\"],[0.4444444444444444,\"#bd3786\"],[0.5555555555555556,\"#d8576b\"],[0.6666666666666666,\"#ed7953\"],[0.7777777777777778,\"#fb9f3a\"],[0.8888888888888888,\"#fdca26\"],[1.0,\"#f0f921\"]]},\"colorway\":[\"#636efa\",\"#EF553B\",\"#00cc96\",\"#ab63fa\",\"#FFA15A\",\"#19d3f3\",\"#FF6692\",\"#B6E880\",\"#FF97FF\",\"#FECB52\"],\"font\":{\"color\":\"#2a3f5f\"},\"geo\":{\"bgcolor\":\"white\",\"lakecolor\":\"white\",\"landcolor\":\"#E5ECF6\",\"showlakes\":true,\"showland\":true,\"subunitcolor\":\"white\"},\"hoverlabel\":{\"align\":\"left\"},\"hovermode\":\"closest\",\"mapbox\":{\"style\":\"light\"},\"paper_bgcolor\":\"white\",\"plot_bgcolor\":\"#E5ECF6\",\"polar\":{\"angularaxis\":{\"gridcolor\":\"white\",\"linecolor\":\"white\",\"ticks\":\"\"},\"bgcolor\":\"#E5ECF6\",\"radialaxis\":{\"gridcolor\":\"white\",\"linecolor\":\"white\",\"ticks\":\"\"}},\"scene\":{\"xaxis\":{\"backgroundcolor\":\"#E5ECF6\",\"gridcolor\":\"white\",\"gridwidth\":2,\"linecolor\":\"white\",\"showbackground\":true,\"ticks\":\"\",\"zerolinecolor\":\"white\"},\"yaxis\":{\"backgroundcolor\":\"#E5ECF6\",\"gridcolor\":\"white\",\"gridwidth\":2,\"linecolor\":\"white\",\"showbackground\":true,\"ticks\":\"\",\"zerolinecolor\":\"white\"},\"zaxis\":{\"backgroundcolor\":\"#E5ECF6\",\"gridcolor\":\"white\",\"gridwidth\":2,\"linecolor\":\"white\",\"showbackground\":true,\"ticks\":\"\",\"zerolinecolor\":\"white\"}},\"shapedefaults\":{\"line\":{\"color\":\"#2a3f5f\"}},\"ternary\":{\"aaxis\":{\"gridcolor\":\"white\",\"linecolor\":\"white\",\"ticks\":\"\"},\"baxis\":{\"gridcolor\":\"white\",\"linecolor\":\"white\",\"ticks\":\"\"},\"bgcolor\":\"#E5ECF6\",\"caxis\":{\"gridcolor\":\"white\",\"linecolor\":\"white\",\"ticks\":\"\"}},\"title\":{\"x\":0.05},\"xaxis\":{\"automargin\":true,\"gridcolor\":\"white\",\"linecolor\":\"white\",\"ticks\":\"\",\"title\":{\"standoff\":15},\"zerolinecolor\":\"white\",\"zerolinewidth\":2},\"yaxis\":{\"automargin\":true,\"gridcolor\":\"white\",\"linecolor\":\"white\",\"ticks\":\"\",\"title\":{\"standoff\":15},\"zerolinecolor\":\"white\",\"zerolinewidth\":2}}},\"xaxis\":{\"anchor\":\"y\",\"domain\":[0.0,0.94],\"title\":{\"text\":\"Trimestres\"}},\"yaxis\":{\"anchor\":\"x\",\"domain\":[0.0,1.0],\"title\":{\"text\":\"M\\u00e9dias da CAPTC_DIA\"}},\"yaxis2\":{\"anchor\":\"x\",\"overlaying\":\"y\",\"side\":\"right\",\"title\":{\"text\":\"M\\u00e9dias do RESG_DIA\"}},\"title\":{\"text\":\"Time series das vari\\u00e1veis CAPTC_DIA e RESG_DIA entre 2000 e 2023\",\"x\":0.5}},                        {\"responsive\": true}                    ).then(function(){\n",
              "                            \n",
              "var gd = document.getElementById('b215dc7d-72fc-48ef-b618-4cc3e09518e8');\n",
              "var x = new MutationObserver(function (mutations, observer) {{\n",
              "        var display = window.getComputedStyle(gd).display;\n",
              "        if (!display || display === 'none') {{\n",
              "            console.log([gd, 'removed!']);\n",
              "            Plotly.purge(gd);\n",
              "            observer.disconnect();\n",
              "        }}\n",
              "}});\n",
              "\n",
              "// Listen for the removal of the full notebook cells\n",
              "var notebookContainer = gd.closest('#notebook-container');\n",
              "if (notebookContainer) {{\n",
              "    x.observe(notebookContainer, {childList: true});\n",
              "}}\n",
              "\n",
              "// Listen for the clearing of the current output cell\n",
              "var outputEl = gd.closest('.output');\n",
              "if (outputEl) {{\n",
              "    x.observe(outputEl, {childList: true});\n",
              "}}\n",
              "\n",
              "                        })                };                            </script>        </div>\n",
              "</body>\n",
              "</html>"
            ]
          },
          "metadata": {}
        }
      ],
      "source": [
        "fig = make_subplots(specs= [[{'secondary_y': True}]])\n",
        "\n",
        "fig.add_trace(\n",
        "    go.Scatter(x= avg_captc_per_quarter['QUARTER_OF_YEAR'], y= avg_captc_per_quarter['avg(CAPTC_DIA)'], name= 'CAPTC_DIA'), secondary_y= False\n",
        ")\n",
        "fig.add_trace(\n",
        "    go.Scatter(x= avg_resg_per_quarter['QUARTER_OF_YEAR'], y= avg_resg_per_quarter['avg(RESG_DIA)'], name= 'RESG_DIA', line=  \n",
        "               dict(dash= 'dash')), secondary_y= True\n",
        ")\n",
        "fig.update_layout(title_text= 'Time series das variáveis CAPTC_DIA e RESG_DIA entre 2000 e 2023', title= {'x': 0.5})\n",
        "fig.update_xaxes(title= 'Trimestres')\n",
        "fig.update_yaxes(title= 'Médias da CAPTC_DIA', secondary_y= False)\n",
        "fig.update_yaxes(title= 'Médias do RESG_DIA', secondary_y= True)\n",
        "fig.show()"
      ]
    },
    {
      "cell_type": "markdown",
      "source": [
        "## `VL_QUOTA` e `NR_COTST`"
      ],
      "metadata": {
        "id": "YjvWvlUMCPal"
      }
    },
    {
      "cell_type": "code",
      "execution_count": 64,
      "metadata": {
        "id": "67JeIRS6KrNv",
        "colab": {
          "base_uri": "https://localhost:8080/",
          "height": 542
        },
        "outputId": "36cd7777-39d4-4cde-ab3a-b4c9166c4165"
      },
      "outputs": [
        {
          "output_type": "display_data",
          "data": {
            "text/html": [
              "<html>\n",
              "<head><meta charset=\"utf-8\" /></head>\n",
              "<body>\n",
              "    <div>            <script src=\"https://cdnjs.cloudflare.com/ajax/libs/mathjax/2.7.5/MathJax.js?config=TeX-AMS-MML_SVG\"></script><script type=\"text/javascript\">if (window.MathJax) {MathJax.Hub.Config({SVG: {font: \"STIX-Web\"}});}</script>                <script type=\"text/javascript\">window.PlotlyConfig = {MathJaxConfig: 'local'};</script>\n",
              "        <script src=\"https://cdn.plot.ly/plotly-2.8.3.min.js\"></script>                <div id=\"70a3963b-5e70-46ab-8c81-f8cfe42f000e\" class=\"plotly-graph-div\" style=\"height:525px; width:100%;\"></div>            <script type=\"text/javascript\">                                    window.PLOTLYENV=window.PLOTLYENV || {};                                    if (document.getElementById(\"70a3963b-5e70-46ab-8c81-f8cfe42f000e\")) {                    Plotly.newPlot(                        \"70a3963b-5e70-46ab-8c81-f8cfe42f000e\",                        [{\"line\":{\"color\":\"red\"},\"name\":\"VL_QUOTA\",\"x\":[\"2001Q1\",\"2002Q1\",\"2002Q2\",\"2002Q3\",\"2002Q4\",\"2003Q1\",\"2003Q2\",\"2003Q3\",\"2003Q4\",\"2004Q1\",\"2004Q2\",\"2004Q3\",\"2004Q4\",\"2005Q1\",\"2005Q2\",\"2005Q3\",\"2005Q4\",\"2006Q1\",\"2006Q2\",\"2006Q3\",\"2006Q4\",\"2007Q1\",\"2007Q2\",\"2007Q3\",\"2007Q4\",\"2008Q1\",\"2008Q2\",\"2008Q3\",\"2008Q4\",\"2009Q1\",\"2009Q2\",\"2009Q3\",\"2009Q4\",\"2010Q1\",\"2010Q2\",\"2010Q3\",\"2010Q4\",\"2011Q1\",\"2011Q2\",\"2011Q3\",\"2011Q4\",\"2012Q1\",\"2012Q2\",\"2012Q3\",\"2012Q4\",\"2013Q1\",\"2013Q2\",\"2013Q3\",\"2013Q4\",\"2014Q1\",\"2014Q2\",\"2014Q3\",\"2014Q4\",\"2015Q1\",\"2015Q2\",\"2015Q3\",\"2015Q4\",\"2016Q1\",\"2016Q2\",\"2016Q3\",\"2016Q4\",\"2017Q1\",\"2017Q2\",\"2017Q3\",\"2017Q4\",\"2018Q1\",\"2018Q2\",\"2018Q3\",\"2018Q4\",\"2019Q1\",\"2019Q2\",\"2019Q3\",\"2019Q4\",\"2020Q1\",\"2020Q2\",\"2020Q3\",\"2020Q4\",\"2021Q1\",\"2021Q2\",\"2021Q3\",\"2021Q4\",\"2022Q1\",\"2022Q2\",\"2022Q3\",\"2022Q4\",\"2023Q1\"],\"y\":[20.67480514,18.895415968085103,80.85720813925003,20.597406715694447,230.36304665357147,48.590664440409824,194.35577128230437,154.72544741423724,1083.0804559738258,599.6716346759215,16345.690862015932,3461.4272908181806,938.1119657996909,713.1934851249804,531.189976540612,559.8078658120901,595.2894569970692,638.3130804520174,716.8553290465571,633.7601692317248,643.2728877617733,670.8546262446183,700.2084031731027,681.5062049319151,661.9087809515316,853.2261313202781,881.6099355657462,818.298565602764,14460.767019464969,1019.4771568777579,1106.1110237674825,1362.7961329909813,6724.451810882986,15550.283640639234,4961.702529069536,1462.0202274430828,1481.4642271452906,1517.7772134351183,1572.874971757591,1594.5080262169586,1703.521262159081,1860.164038221942,1804.1189174226427,1829.2804023909143,1950.8053253014407,2165.1596775233706,2426.0653372178663,2573.3890371453845,2695.1518280387513,2677.3468138031844,2741.1710942902655,3730.377149217566,4136.527474771531,4512.781585165157,4525.242958678868,5510.5017191490215,4391.73302174368,4097.719648187455,4478.262855548086,4955.290527579284,5247.766054447025,5606.020944317565,6534.534731548685,6706.841547268667,7241.805915653909,6627.333682018797,4916.762631031495,4812.813620919649,4483.174927557742,10444.189105147905,11800.726976868085,11174.753017380395,10964.921955287768,10803.398798479162,11826.41733118249,11413.536462369839,11286.230646977423,11662.997748407157,14624.909513655204,14663.141772798639,14480.261212292342,14261.25057839978,14175.113014187502,13825.290519785502,14172.933628163166,11831.360983982735],\"type\":\"scatter\",\"xaxis\":\"x\",\"yaxis\":\"y\"},{\"line\":{\"color\":\"green\",\"dash\":\"dash\"},\"name\":\"NR_COTST\",\"x\":[\"2001Q1\",\"2002Q1\",\"2002Q2\",\"2002Q3\",\"2002Q4\",\"2003Q1\",\"2003Q2\",\"2003Q3\",\"2003Q4\",\"2004Q1\",\"2004Q2\",\"2004Q3\",\"2004Q4\",\"2005Q1\",\"2005Q2\",\"2005Q3\",\"2005Q4\",\"2006Q1\",\"2006Q2\",\"2006Q3\",\"2006Q4\",\"2007Q1\",\"2007Q2\",\"2007Q3\",\"2007Q4\",\"2008Q1\",\"2008Q2\",\"2008Q3\",\"2008Q4\",\"2009Q1\",\"2009Q2\",\"2009Q3\",\"2009Q4\",\"2010Q1\",\"2010Q2\",\"2010Q3\",\"2010Q4\",\"2011Q1\",\"2011Q2\",\"2011Q3\",\"2011Q4\",\"2012Q1\",\"2012Q2\",\"2012Q3\",\"2012Q4\",\"2013Q1\",\"2013Q2\",\"2013Q3\",\"2013Q4\",\"2014Q1\",\"2014Q2\",\"2014Q3\",\"2014Q4\",\"2015Q1\",\"2015Q2\",\"2015Q3\",\"2015Q4\",\"2016Q1\",\"2016Q2\",\"2016Q3\",\"2016Q4\",\"2017Q1\",\"2017Q2\",\"2017Q3\",\"2017Q4\",\"2018Q1\",\"2018Q2\",\"2018Q3\",\"2018Q4\",\"2019Q1\",\"2019Q2\",\"2019Q3\",\"2019Q4\",\"2020Q1\",\"2020Q2\",\"2020Q3\",\"2020Q4\",\"2021Q1\",\"2021Q2\",\"2021Q3\",\"2021Q4\",\"2022Q1\",\"2022Q2\",\"2022Q3\",\"2022Q4\",\"2023Q1\"],\"y\":[90.0,64.82978723404256,327.31944444444446,74.08333333333333,103.78571428571429,166.45901639344262,176.69565217391303,175.8989898989899,910.2608695652174,194.0056338028169,266.97276176626934,261.35829937029536,260.32311887865814,261.90143155199684,259.34411274692116,266.0172277112296,270.5852429005855,281.13348394992,291.33643939891067,292.1327310301124,290.19342826995023,289.2718334169704,275.32942043808504,272.4814691066701,268.8411821484196,259.5786976744186,249.57889486691036,240.1806049926349,230.02663693677295,229.66448014654478,225.48788197188236,228.62632445676186,224.61355852345832,224.36563671258756,221.6342540676538,215.52340266344808,211.71567661680146,209.51043296365546,209.01260242651836,205.64501041550042,199.31350186158633,193.22018791260598,187.78124550667343,185.02867363161482,180.95724559646362,179.806320504816,172.4036058000228,167.43756740288416,158.54486183142748,151.31228050478595,147.49277105979644,144.10751585403693,141.5578415505567,139.59092068384325,135.92020223633443,135.64867286384407,134.12726519596094,133.47890381608116,136.47031868714157,139.08405565635786,141.57578810619384,144.0934957945127,144.19389547593272,146.55766345253585,154.94345416068154,168.50160546244692,174.84229963653183,178.36761153248494,179.97360181652786,193.10494938765748,202.81787592150604,209.93578259346916,214.70243910482338,222.81880485567646,223.705732250705,234.0174239922556,236.3445611966192,240.27574209615855,247.21839449006447,249.06396389091188,242.12474004159336,234.50373945775243,224.5778592977343,218.91221226413475,213.3227119766563,215.83692333206514],\"type\":\"scatter\",\"xaxis\":\"x\",\"yaxis\":\"y2\"}],                        {\"template\":{\"data\":{\"bar\":[{\"error_x\":{\"color\":\"#2a3f5f\"},\"error_y\":{\"color\":\"#2a3f5f\"},\"marker\":{\"line\":{\"color\":\"#E5ECF6\",\"width\":0.5},\"pattern\":{\"fillmode\":\"overlay\",\"size\":10,\"solidity\":0.2}},\"type\":\"bar\"}],\"barpolar\":[{\"marker\":{\"line\":{\"color\":\"#E5ECF6\",\"width\":0.5},\"pattern\":{\"fillmode\":\"overlay\",\"size\":10,\"solidity\":0.2}},\"type\":\"barpolar\"}],\"carpet\":[{\"aaxis\":{\"endlinecolor\":\"#2a3f5f\",\"gridcolor\":\"white\",\"linecolor\":\"white\",\"minorgridcolor\":\"white\",\"startlinecolor\":\"#2a3f5f\"},\"baxis\":{\"endlinecolor\":\"#2a3f5f\",\"gridcolor\":\"white\",\"linecolor\":\"white\",\"minorgridcolor\":\"white\",\"startlinecolor\":\"#2a3f5f\"},\"type\":\"carpet\"}],\"choropleth\":[{\"colorbar\":{\"outlinewidth\":0,\"ticks\":\"\"},\"type\":\"choropleth\"}],\"contour\":[{\"colorbar\":{\"outlinewidth\":0,\"ticks\":\"\"},\"colorscale\":[[0.0,\"#0d0887\"],[0.1111111111111111,\"#46039f\"],[0.2222222222222222,\"#7201a8\"],[0.3333333333333333,\"#9c179e\"],[0.4444444444444444,\"#bd3786\"],[0.5555555555555556,\"#d8576b\"],[0.6666666666666666,\"#ed7953\"],[0.7777777777777778,\"#fb9f3a\"],[0.8888888888888888,\"#fdca26\"],[1.0,\"#f0f921\"]],\"type\":\"contour\"}],\"contourcarpet\":[{\"colorbar\":{\"outlinewidth\":0,\"ticks\":\"\"},\"type\":\"contourcarpet\"}],\"heatmap\":[{\"colorbar\":{\"outlinewidth\":0,\"ticks\":\"\"},\"colorscale\":[[0.0,\"#0d0887\"],[0.1111111111111111,\"#46039f\"],[0.2222222222222222,\"#7201a8\"],[0.3333333333333333,\"#9c179e\"],[0.4444444444444444,\"#bd3786\"],[0.5555555555555556,\"#d8576b\"],[0.6666666666666666,\"#ed7953\"],[0.7777777777777778,\"#fb9f3a\"],[0.8888888888888888,\"#fdca26\"],[1.0,\"#f0f921\"]],\"type\":\"heatmap\"}],\"heatmapgl\":[{\"colorbar\":{\"outlinewidth\":0,\"ticks\":\"\"},\"colorscale\":[[0.0,\"#0d0887\"],[0.1111111111111111,\"#46039f\"],[0.2222222222222222,\"#7201a8\"],[0.3333333333333333,\"#9c179e\"],[0.4444444444444444,\"#bd3786\"],[0.5555555555555556,\"#d8576b\"],[0.6666666666666666,\"#ed7953\"],[0.7777777777777778,\"#fb9f3a\"],[0.8888888888888888,\"#fdca26\"],[1.0,\"#f0f921\"]],\"type\":\"heatmapgl\"}],\"histogram\":[{\"marker\":{\"pattern\":{\"fillmode\":\"overlay\",\"size\":10,\"solidity\":0.2}},\"type\":\"histogram\"}],\"histogram2d\":[{\"colorbar\":{\"outlinewidth\":0,\"ticks\":\"\"},\"colorscale\":[[0.0,\"#0d0887\"],[0.1111111111111111,\"#46039f\"],[0.2222222222222222,\"#7201a8\"],[0.3333333333333333,\"#9c179e\"],[0.4444444444444444,\"#bd3786\"],[0.5555555555555556,\"#d8576b\"],[0.6666666666666666,\"#ed7953\"],[0.7777777777777778,\"#fb9f3a\"],[0.8888888888888888,\"#fdca26\"],[1.0,\"#f0f921\"]],\"type\":\"histogram2d\"}],\"histogram2dcontour\":[{\"colorbar\":{\"outlinewidth\":0,\"ticks\":\"\"},\"colorscale\":[[0.0,\"#0d0887\"],[0.1111111111111111,\"#46039f\"],[0.2222222222222222,\"#7201a8\"],[0.3333333333333333,\"#9c179e\"],[0.4444444444444444,\"#bd3786\"],[0.5555555555555556,\"#d8576b\"],[0.6666666666666666,\"#ed7953\"],[0.7777777777777778,\"#fb9f3a\"],[0.8888888888888888,\"#fdca26\"],[1.0,\"#f0f921\"]],\"type\":\"histogram2dcontour\"}],\"mesh3d\":[{\"colorbar\":{\"outlinewidth\":0,\"ticks\":\"\"},\"type\":\"mesh3d\"}],\"parcoords\":[{\"line\":{\"colorbar\":{\"outlinewidth\":0,\"ticks\":\"\"}},\"type\":\"parcoords\"}],\"pie\":[{\"automargin\":true,\"type\":\"pie\"}],\"scatter\":[{\"marker\":{\"colorbar\":{\"outlinewidth\":0,\"ticks\":\"\"}},\"type\":\"scatter\"}],\"scatter3d\":[{\"line\":{\"colorbar\":{\"outlinewidth\":0,\"ticks\":\"\"}},\"marker\":{\"colorbar\":{\"outlinewidth\":0,\"ticks\":\"\"}},\"type\":\"scatter3d\"}],\"scattercarpet\":[{\"marker\":{\"colorbar\":{\"outlinewidth\":0,\"ticks\":\"\"}},\"type\":\"scattercarpet\"}],\"scattergeo\":[{\"marker\":{\"colorbar\":{\"outlinewidth\":0,\"ticks\":\"\"}},\"type\":\"scattergeo\"}],\"scattergl\":[{\"marker\":{\"colorbar\":{\"outlinewidth\":0,\"ticks\":\"\"}},\"type\":\"scattergl\"}],\"scattermapbox\":[{\"marker\":{\"colorbar\":{\"outlinewidth\":0,\"ticks\":\"\"}},\"type\":\"scattermapbox\"}],\"scatterpolar\":[{\"marker\":{\"colorbar\":{\"outlinewidth\":0,\"ticks\":\"\"}},\"type\":\"scatterpolar\"}],\"scatterpolargl\":[{\"marker\":{\"colorbar\":{\"outlinewidth\":0,\"ticks\":\"\"}},\"type\":\"scatterpolargl\"}],\"scatterternary\":[{\"marker\":{\"colorbar\":{\"outlinewidth\":0,\"ticks\":\"\"}},\"type\":\"scatterternary\"}],\"surface\":[{\"colorbar\":{\"outlinewidth\":0,\"ticks\":\"\"},\"colorscale\":[[0.0,\"#0d0887\"],[0.1111111111111111,\"#46039f\"],[0.2222222222222222,\"#7201a8\"],[0.3333333333333333,\"#9c179e\"],[0.4444444444444444,\"#bd3786\"],[0.5555555555555556,\"#d8576b\"],[0.6666666666666666,\"#ed7953\"],[0.7777777777777778,\"#fb9f3a\"],[0.8888888888888888,\"#fdca26\"],[1.0,\"#f0f921\"]],\"type\":\"surface\"}],\"table\":[{\"cells\":{\"fill\":{\"color\":\"#EBF0F8\"},\"line\":{\"color\":\"white\"}},\"header\":{\"fill\":{\"color\":\"#C8D4E3\"},\"line\":{\"color\":\"white\"}},\"type\":\"table\"}]},\"layout\":{\"annotationdefaults\":{\"arrowcolor\":\"#2a3f5f\",\"arrowhead\":0,\"arrowwidth\":1},\"autotypenumbers\":\"strict\",\"coloraxis\":{\"colorbar\":{\"outlinewidth\":0,\"ticks\":\"\"}},\"colorscale\":{\"diverging\":[[0,\"#8e0152\"],[0.1,\"#c51b7d\"],[0.2,\"#de77ae\"],[0.3,\"#f1b6da\"],[0.4,\"#fde0ef\"],[0.5,\"#f7f7f7\"],[0.6,\"#e6f5d0\"],[0.7,\"#b8e186\"],[0.8,\"#7fbc41\"],[0.9,\"#4d9221\"],[1,\"#276419\"]],\"sequential\":[[0.0,\"#0d0887\"],[0.1111111111111111,\"#46039f\"],[0.2222222222222222,\"#7201a8\"],[0.3333333333333333,\"#9c179e\"],[0.4444444444444444,\"#bd3786\"],[0.5555555555555556,\"#d8576b\"],[0.6666666666666666,\"#ed7953\"],[0.7777777777777778,\"#fb9f3a\"],[0.8888888888888888,\"#fdca26\"],[1.0,\"#f0f921\"]],\"sequentialminus\":[[0.0,\"#0d0887\"],[0.1111111111111111,\"#46039f\"],[0.2222222222222222,\"#7201a8\"],[0.3333333333333333,\"#9c179e\"],[0.4444444444444444,\"#bd3786\"],[0.5555555555555556,\"#d8576b\"],[0.6666666666666666,\"#ed7953\"],[0.7777777777777778,\"#fb9f3a\"],[0.8888888888888888,\"#fdca26\"],[1.0,\"#f0f921\"]]},\"colorway\":[\"#636efa\",\"#EF553B\",\"#00cc96\",\"#ab63fa\",\"#FFA15A\",\"#19d3f3\",\"#FF6692\",\"#B6E880\",\"#FF97FF\",\"#FECB52\"],\"font\":{\"color\":\"#2a3f5f\"},\"geo\":{\"bgcolor\":\"white\",\"lakecolor\":\"white\",\"landcolor\":\"#E5ECF6\",\"showlakes\":true,\"showland\":true,\"subunitcolor\":\"white\"},\"hoverlabel\":{\"align\":\"left\"},\"hovermode\":\"closest\",\"mapbox\":{\"style\":\"light\"},\"paper_bgcolor\":\"white\",\"plot_bgcolor\":\"#E5ECF6\",\"polar\":{\"angularaxis\":{\"gridcolor\":\"white\",\"linecolor\":\"white\",\"ticks\":\"\"},\"bgcolor\":\"#E5ECF6\",\"radialaxis\":{\"gridcolor\":\"white\",\"linecolor\":\"white\",\"ticks\":\"\"}},\"scene\":{\"xaxis\":{\"backgroundcolor\":\"#E5ECF6\",\"gridcolor\":\"white\",\"gridwidth\":2,\"linecolor\":\"white\",\"showbackground\":true,\"ticks\":\"\",\"zerolinecolor\":\"white\"},\"yaxis\":{\"backgroundcolor\":\"#E5ECF6\",\"gridcolor\":\"white\",\"gridwidth\":2,\"linecolor\":\"white\",\"showbackground\":true,\"ticks\":\"\",\"zerolinecolor\":\"white\"},\"zaxis\":{\"backgroundcolor\":\"#E5ECF6\",\"gridcolor\":\"white\",\"gridwidth\":2,\"linecolor\":\"white\",\"showbackground\":true,\"ticks\":\"\",\"zerolinecolor\":\"white\"}},\"shapedefaults\":{\"line\":{\"color\":\"#2a3f5f\"}},\"ternary\":{\"aaxis\":{\"gridcolor\":\"white\",\"linecolor\":\"white\",\"ticks\":\"\"},\"baxis\":{\"gridcolor\":\"white\",\"linecolor\":\"white\",\"ticks\":\"\"},\"bgcolor\":\"#E5ECF6\",\"caxis\":{\"gridcolor\":\"white\",\"linecolor\":\"white\",\"ticks\":\"\"}},\"title\":{\"x\":0.05},\"xaxis\":{\"automargin\":true,\"gridcolor\":\"white\",\"linecolor\":\"white\",\"ticks\":\"\",\"title\":{\"standoff\":15},\"zerolinecolor\":\"white\",\"zerolinewidth\":2},\"yaxis\":{\"automargin\":true,\"gridcolor\":\"white\",\"linecolor\":\"white\",\"ticks\":\"\",\"title\":{\"standoff\":15},\"zerolinecolor\":\"white\",\"zerolinewidth\":2}}},\"xaxis\":{\"anchor\":\"y\",\"domain\":[0.0,0.94],\"title\":{\"text\":\"Trimestres\"}},\"yaxis\":{\"anchor\":\"x\",\"domain\":[0.0,1.0],\"title\":{\"text\":\"M\\u00e9dias do VL_QUOTA\"}},\"yaxis2\":{\"anchor\":\"x\",\"overlaying\":\"y\",\"side\":\"right\",\"title\":{\"text\":\"M\\u00e9dias do NR_COTST\"}},\"title\":{\"text\":\"Time series das vari\\u00e1veis VL_QUOTA e NR_COTST entre 2000 e 2023\",\"x\":0.5}},                        {\"responsive\": true}                    ).then(function(){\n",
              "                            \n",
              "var gd = document.getElementById('70a3963b-5e70-46ab-8c81-f8cfe42f000e');\n",
              "var x = new MutationObserver(function (mutations, observer) {{\n",
              "        var display = window.getComputedStyle(gd).display;\n",
              "        if (!display || display === 'none') {{\n",
              "            console.log([gd, 'removed!']);\n",
              "            Plotly.purge(gd);\n",
              "            observer.disconnect();\n",
              "        }}\n",
              "}});\n",
              "\n",
              "// Listen for the removal of the full notebook cells\n",
              "var notebookContainer = gd.closest('#notebook-container');\n",
              "if (notebookContainer) {{\n",
              "    x.observe(notebookContainer, {childList: true});\n",
              "}}\n",
              "\n",
              "// Listen for the clearing of the current output cell\n",
              "var outputEl = gd.closest('.output');\n",
              "if (outputEl) {{\n",
              "    x.observe(outputEl, {childList: true});\n",
              "}}\n",
              "\n",
              "                        })                };                            </script>        </div>\n",
              "</body>\n",
              "</html>"
            ]
          },
          "metadata": {}
        }
      ],
      "source": [
        "fig = make_subplots(specs= [[{'secondary_y': True}]])\n",
        "\n",
        "fig.add_trace(\n",
        "    go.Scatter(x= avg_quota_per_quarter['QUARTER_OF_YEAR'], y= avg_quota_per_quarter['avg(VL_QUOTA)'], name= 'VL_QUOTA',\n",
        "               line= dict(color= 'red')), secondary_y= False\n",
        ")\n",
        "fig.add_trace(\n",
        "    go.Scatter(x= avg_cotst_per_quarter['QUARTER_OF_YEAR'], y= avg_cotst_per_quarter['avg(NR_COTST)'], name= 'NR_COTST', \n",
        "               line= dict(color= 'green', dash='dash')), secondary_y= True\n",
        ")\n",
        "fig.update_layout(title_text= 'Time series das variáveis VL_QUOTA e NR_COTST entre 2000 e 2023', title= {'x': 0.5})\n",
        "fig.update_xaxes(title= 'Trimestres')\n",
        "fig.update_yaxes(title= 'Médias do VL_QUOTA', secondary_y= False)\n",
        "fig.update_yaxes(title= 'Médias do NR_COTST', secondary_y= True)\n",
        "fig.show()"
      ]
    },
    {
      "cell_type": "markdown",
      "source": [
        "## `VL_PATRIM LIQ` e `CAPTC_DIA`"
      ],
      "metadata": {
        "id": "ss1NvC3kC2Ay"
      }
    },
    {
      "cell_type": "code",
      "source": [
        "fig = make_subplots(specs= [[{'secondary_y': True}]])\n",
        "\n",
        "fig.add_trace(\n",
        "    go.Scatter(x= avg_patrim_per_quarter['QUARTER_OF_YEAR'], y= avg_patrim_per_quarter['avg(VL_PATRIM_LIQ)'], name= 'VL_PATRIM_LIQ'), secondary_y= False\n",
        ")\n",
        "fig.add_trace(\n",
        "    go.Scatter(x= avg_captc_per_quarter['QUARTER_OF_YEAR'], y= avg_captc_per_quarter['avg(CAPTC_DIA)'], name= 'CAPTC_DIA', \n",
        "               line= dict(dash= 'dot')), secondary_y= True\n",
        ")\n",
        "fig.update_layout(title_text= 'Time series das variáveis VL_PATRIM_LIQ e CAPTC_DIA entre 2000 e 2023', title= {'x': 0.5})\n",
        "fig.update_xaxes(title= 'Trimestres')\n",
        "fig.update_yaxes(title= 'Médias da VL_PATRIM_LIQ', secondary_y= False)\n",
        "fig.update_yaxes(title= 'Médias do CAPTC_DIA', secondary_y= True)\n",
        "fig.show()"
      ],
      "metadata": {
        "colab": {
          "base_uri": "https://localhost:8080/",
          "height": 542
        },
        "id": "_hPh4cdfC_go",
        "outputId": "314f46fe-d2e1-4ff4-e590-00c694104989"
      },
      "execution_count": 66,
      "outputs": [
        {
          "output_type": "display_data",
          "data": {
            "text/html": [
              "<html>\n",
              "<head><meta charset=\"utf-8\" /></head>\n",
              "<body>\n",
              "    <div>            <script src=\"https://cdnjs.cloudflare.com/ajax/libs/mathjax/2.7.5/MathJax.js?config=TeX-AMS-MML_SVG\"></script><script type=\"text/javascript\">if (window.MathJax) {MathJax.Hub.Config({SVG: {font: \"STIX-Web\"}});}</script>                <script type=\"text/javascript\">window.PlotlyConfig = {MathJaxConfig: 'local'};</script>\n",
              "        <script src=\"https://cdn.plot.ly/plotly-2.8.3.min.js\"></script>                <div id=\"71aae634-7df6-4067-8c4b-def679fbcea2\" class=\"plotly-graph-div\" style=\"height:525px; width:100%;\"></div>            <script type=\"text/javascript\">                                    window.PLOTLYENV=window.PLOTLYENV || {};                                    if (document.getElementById(\"71aae634-7df6-4067-8c4b-def679fbcea2\")) {                    Plotly.newPlot(                        \"71aae634-7df6-4067-8c4b-def679fbcea2\",                        [{\"name\":\"VL_PATRIM_LIQ\",\"x\":[\"2001Q1\",\"2002Q1\",\"2002Q2\",\"2002Q3\",\"2002Q4\",\"2003Q1\",\"2003Q2\",\"2003Q3\",\"2003Q4\",\"2004Q1\",\"2004Q2\",\"2004Q3\",\"2004Q4\",\"2005Q1\",\"2005Q2\",\"2005Q3\",\"2005Q4\",\"2006Q1\",\"2006Q2\",\"2006Q3\",\"2006Q4\",\"2007Q1\",\"2007Q2\",\"2007Q3\",\"2007Q4\",\"2008Q1\",\"2008Q2\",\"2008Q3\",\"2008Q4\",\"2009Q1\",\"2009Q2\",\"2009Q3\",\"2009Q4\",\"2010Q1\",\"2010Q2\",\"2010Q3\",\"2010Q4\",\"2011Q1\",\"2011Q2\",\"2011Q3\",\"2011Q4\",\"2012Q1\",\"2012Q2\",\"2012Q3\",\"2012Q4\",\"2013Q1\",\"2013Q2\",\"2013Q3\",\"2013Q4\",\"2014Q1\",\"2014Q2\",\"2014Q3\",\"2014Q4\",\"2015Q1\",\"2015Q2\",\"2015Q3\",\"2015Q4\",\"2016Q1\",\"2016Q2\",\"2016Q3\",\"2016Q4\",\"2017Q1\",\"2017Q2\",\"2017Q3\",\"2017Q4\",\"2018Q1\",\"2018Q2\",\"2018Q3\",\"2018Q4\",\"2019Q1\",\"2019Q2\",\"2019Q3\",\"2019Q4\",\"2020Q1\",\"2020Q2\",\"2020Q3\",\"2020Q4\",\"2021Q1\",\"2021Q2\",\"2021Q3\",\"2021Q4\",\"2022Q1\",\"2022Q2\",\"2022Q3\",\"2022Q4\",\"2023Q1\"],\"y\":[4918122.13,6739520.627021277,87761170.8506944,20223341.798055552,13109070.922857145,7706107.731639344,32429673.44086957,328697185.19343424,15689669.316956526,41893654.17011263,93534953.1319491,95690814.56082097,97084252.20679963,102071541.44766183,105581809.7567495,110766381.267658,116634300.95704424,122907153.80859163,128096686.29470764,131876222.43503399,132035402.91789939,136131188.55343583,133996714.8823532,130678510.66026019,128007898.68296361,124662738.48220672,119893584.35276927,114458696.5242532,106601684.15489264,112222948.58887322,115766796.87629664,121778310.02278161,124777514.98646045,124633646.69317925,124740934.25422539,125712754.02666202,127249863.19899824,129679852.11341664,128199093.6734898,126965322.51814269,128361599.47223237,131473678.69645694,130903439.4434541,133100222.80769579,133954939.32413194,136649962.38170114,137398655.0009424,135965474.82614872,133758719.47485156,132046671.9616348,132777054.45538905,133682557.09373707,132360294.90996951,133578209.59526092,135639616.3400324,136699539.4400559,137172314.99026144,138193674.74705198,142793309.2364038,145845976.52804548,147202289.35534978,153748113.45647788,157849446.90092957,162216507.04909074,166015542.871187,172647297.9231998,173795556.0242374,174470581.87907138,176265609.17483833,178497008.58735391,179855347.5620433,184781554.57054788,185166941.40751934,183802924.74044296,180152220.80348697,187537262.14818758,187977796.36770913,189257780.14402938,188317518.74990195,184955215.29434574,176124685.17177045,171044041.7764055,167866788.70731646,165975438.60050586,167975314.34024674,165986420.21640506],\"type\":\"scatter\",\"xaxis\":\"x\",\"yaxis\":\"y\"},{\"line\":{\"dash\":\"dot\"},\"name\":\"CAPTC_DIA\",\"x\":[\"2001Q1\",\"2002Q1\",\"2002Q2\",\"2002Q3\",\"2002Q4\",\"2003Q1\",\"2003Q2\",\"2003Q3\",\"2003Q4\",\"2004Q1\",\"2004Q2\",\"2004Q3\",\"2004Q4\",\"2005Q1\",\"2005Q2\",\"2005Q3\",\"2005Q4\",\"2006Q1\",\"2006Q2\",\"2006Q3\",\"2006Q4\",\"2007Q1\",\"2007Q2\",\"2007Q3\",\"2007Q4\",\"2008Q1\",\"2008Q2\",\"2008Q3\",\"2008Q4\",\"2009Q1\",\"2009Q2\",\"2009Q3\",\"2009Q4\",\"2010Q1\",\"2010Q2\",\"2010Q3\",\"2010Q4\",\"2011Q1\",\"2011Q2\",\"2011Q3\",\"2011Q4\",\"2012Q1\",\"2012Q2\",\"2012Q3\",\"2012Q4\",\"2013Q1\",\"2013Q2\",\"2013Q3\",\"2013Q4\",\"2014Q1\",\"2014Q2\",\"2014Q3\",\"2014Q4\",\"2015Q1\",\"2015Q2\",\"2015Q3\",\"2015Q4\",\"2016Q1\",\"2016Q2\",\"2016Q3\",\"2016Q4\",\"2017Q1\",\"2017Q2\",\"2017Q3\",\"2017Q4\",\"2018Q1\",\"2018Q2\",\"2018Q3\",\"2018Q4\",\"2019Q1\",\"2019Q2\",\"2019Q3\",\"2019Q4\",\"2020Q1\",\"2020Q2\",\"2020Q3\",\"2020Q4\",\"2021Q1\",\"2021Q2\",\"2021Q3\",\"2021Q4\",\"2022Q1\",\"2022Q2\",\"2022Q3\",\"2022Q4\",\"2023Q1\"],\"y\":[0.0,16496.72319148936,0.0,3390.1019444444446,2139.8571428571427,10762.178196721312,168545.5452173913,99623.4798989899,146322.23,104470.48126760563,187864.88714844774,174625.05846828877,189313.9804898255,201493.65101147303,181965.57273313566,182888.47540065995,193638.0995594377,225607.83454879964,204157.79865378403,191869.23698971985,249430.35981861595,246467.43800920073,261304.59150404364,220330.8120166477,197524.22167256376,189891.4844120471,182222.3482790384,158391.41091341048,158219.6696557957,167243.13064126743,196332.24637835732,212304.67157693673,212139.09491073125,212205.46872591157,190084.2117613028,182991.75693458336,193240.26122492875,178815.31587539843,177237.65791993754,174287.14302409044,169966.71586391967,179421.64414913533,189632.78065099014,187458.32443467045,190211.9414203387,204990.24139001957,180020.08967331593,158559.90510369852,145650.17986600666,152941.2155360662,152212.92961735016,152371.6544204762,143538.30300582768,150929.79656340275,160255.82528512768,156627.5478746111,151597.20827942865,162231.92395089808,170129.32630519968,179160.5517977255,176223.05364098083,208435.61169321224,184827.11455947452,193484.7457098278,198515.88578395144,224491.57120108907,200145.09894653733,170754.86886006146,194401.1748677565,223472.17850419844,223389.2864150813,251639.3270973958,265841.2038867255,256347.1649457724,176242.8622558283,237153.93488684995,205956.19410262452,229694.8315463584,238230.68308667073,198834.59543071743,166361.57246824677,151414.770986957,160044.6605946451,155291.10898904107,142373.34119017748,136936.66185206862],\"type\":\"scatter\",\"xaxis\":\"x\",\"yaxis\":\"y2\"}],                        {\"template\":{\"data\":{\"bar\":[{\"error_x\":{\"color\":\"#2a3f5f\"},\"error_y\":{\"color\":\"#2a3f5f\"},\"marker\":{\"line\":{\"color\":\"#E5ECF6\",\"width\":0.5},\"pattern\":{\"fillmode\":\"overlay\",\"size\":10,\"solidity\":0.2}},\"type\":\"bar\"}],\"barpolar\":[{\"marker\":{\"line\":{\"color\":\"#E5ECF6\",\"width\":0.5},\"pattern\":{\"fillmode\":\"overlay\",\"size\":10,\"solidity\":0.2}},\"type\":\"barpolar\"}],\"carpet\":[{\"aaxis\":{\"endlinecolor\":\"#2a3f5f\",\"gridcolor\":\"white\",\"linecolor\":\"white\",\"minorgridcolor\":\"white\",\"startlinecolor\":\"#2a3f5f\"},\"baxis\":{\"endlinecolor\":\"#2a3f5f\",\"gridcolor\":\"white\",\"linecolor\":\"white\",\"minorgridcolor\":\"white\",\"startlinecolor\":\"#2a3f5f\"},\"type\":\"carpet\"}],\"choropleth\":[{\"colorbar\":{\"outlinewidth\":0,\"ticks\":\"\"},\"type\":\"choropleth\"}],\"contour\":[{\"colorbar\":{\"outlinewidth\":0,\"ticks\":\"\"},\"colorscale\":[[0.0,\"#0d0887\"],[0.1111111111111111,\"#46039f\"],[0.2222222222222222,\"#7201a8\"],[0.3333333333333333,\"#9c179e\"],[0.4444444444444444,\"#bd3786\"],[0.5555555555555556,\"#d8576b\"],[0.6666666666666666,\"#ed7953\"],[0.7777777777777778,\"#fb9f3a\"],[0.8888888888888888,\"#fdca26\"],[1.0,\"#f0f921\"]],\"type\":\"contour\"}],\"contourcarpet\":[{\"colorbar\":{\"outlinewidth\":0,\"ticks\":\"\"},\"type\":\"contourcarpet\"}],\"heatmap\":[{\"colorbar\":{\"outlinewidth\":0,\"ticks\":\"\"},\"colorscale\":[[0.0,\"#0d0887\"],[0.1111111111111111,\"#46039f\"],[0.2222222222222222,\"#7201a8\"],[0.3333333333333333,\"#9c179e\"],[0.4444444444444444,\"#bd3786\"],[0.5555555555555556,\"#d8576b\"],[0.6666666666666666,\"#ed7953\"],[0.7777777777777778,\"#fb9f3a\"],[0.8888888888888888,\"#fdca26\"],[1.0,\"#f0f921\"]],\"type\":\"heatmap\"}],\"heatmapgl\":[{\"colorbar\":{\"outlinewidth\":0,\"ticks\":\"\"},\"colorscale\":[[0.0,\"#0d0887\"],[0.1111111111111111,\"#46039f\"],[0.2222222222222222,\"#7201a8\"],[0.3333333333333333,\"#9c179e\"],[0.4444444444444444,\"#bd3786\"],[0.5555555555555556,\"#d8576b\"],[0.6666666666666666,\"#ed7953\"],[0.7777777777777778,\"#fb9f3a\"],[0.8888888888888888,\"#fdca26\"],[1.0,\"#f0f921\"]],\"type\":\"heatmapgl\"}],\"histogram\":[{\"marker\":{\"pattern\":{\"fillmode\":\"overlay\",\"size\":10,\"solidity\":0.2}},\"type\":\"histogram\"}],\"histogram2d\":[{\"colorbar\":{\"outlinewidth\":0,\"ticks\":\"\"},\"colorscale\":[[0.0,\"#0d0887\"],[0.1111111111111111,\"#46039f\"],[0.2222222222222222,\"#7201a8\"],[0.3333333333333333,\"#9c179e\"],[0.4444444444444444,\"#bd3786\"],[0.5555555555555556,\"#d8576b\"],[0.6666666666666666,\"#ed7953\"],[0.7777777777777778,\"#fb9f3a\"],[0.8888888888888888,\"#fdca26\"],[1.0,\"#f0f921\"]],\"type\":\"histogram2d\"}],\"histogram2dcontour\":[{\"colorbar\":{\"outlinewidth\":0,\"ticks\":\"\"},\"colorscale\":[[0.0,\"#0d0887\"],[0.1111111111111111,\"#46039f\"],[0.2222222222222222,\"#7201a8\"],[0.3333333333333333,\"#9c179e\"],[0.4444444444444444,\"#bd3786\"],[0.5555555555555556,\"#d8576b\"],[0.6666666666666666,\"#ed7953\"],[0.7777777777777778,\"#fb9f3a\"],[0.8888888888888888,\"#fdca26\"],[1.0,\"#f0f921\"]],\"type\":\"histogram2dcontour\"}],\"mesh3d\":[{\"colorbar\":{\"outlinewidth\":0,\"ticks\":\"\"},\"type\":\"mesh3d\"}],\"parcoords\":[{\"line\":{\"colorbar\":{\"outlinewidth\":0,\"ticks\":\"\"}},\"type\":\"parcoords\"}],\"pie\":[{\"automargin\":true,\"type\":\"pie\"}],\"scatter\":[{\"marker\":{\"colorbar\":{\"outlinewidth\":0,\"ticks\":\"\"}},\"type\":\"scatter\"}],\"scatter3d\":[{\"line\":{\"colorbar\":{\"outlinewidth\":0,\"ticks\":\"\"}},\"marker\":{\"colorbar\":{\"outlinewidth\":0,\"ticks\":\"\"}},\"type\":\"scatter3d\"}],\"scattercarpet\":[{\"marker\":{\"colorbar\":{\"outlinewidth\":0,\"ticks\":\"\"}},\"type\":\"scattercarpet\"}],\"scattergeo\":[{\"marker\":{\"colorbar\":{\"outlinewidth\":0,\"ticks\":\"\"}},\"type\":\"scattergeo\"}],\"scattergl\":[{\"marker\":{\"colorbar\":{\"outlinewidth\":0,\"ticks\":\"\"}},\"type\":\"scattergl\"}],\"scattermapbox\":[{\"marker\":{\"colorbar\":{\"outlinewidth\":0,\"ticks\":\"\"}},\"type\":\"scattermapbox\"}],\"scatterpolar\":[{\"marker\":{\"colorbar\":{\"outlinewidth\":0,\"ticks\":\"\"}},\"type\":\"scatterpolar\"}],\"scatterpolargl\":[{\"marker\":{\"colorbar\":{\"outlinewidth\":0,\"ticks\":\"\"}},\"type\":\"scatterpolargl\"}],\"scatterternary\":[{\"marker\":{\"colorbar\":{\"outlinewidth\":0,\"ticks\":\"\"}},\"type\":\"scatterternary\"}],\"surface\":[{\"colorbar\":{\"outlinewidth\":0,\"ticks\":\"\"},\"colorscale\":[[0.0,\"#0d0887\"],[0.1111111111111111,\"#46039f\"],[0.2222222222222222,\"#7201a8\"],[0.3333333333333333,\"#9c179e\"],[0.4444444444444444,\"#bd3786\"],[0.5555555555555556,\"#d8576b\"],[0.6666666666666666,\"#ed7953\"],[0.7777777777777778,\"#fb9f3a\"],[0.8888888888888888,\"#fdca26\"],[1.0,\"#f0f921\"]],\"type\":\"surface\"}],\"table\":[{\"cells\":{\"fill\":{\"color\":\"#EBF0F8\"},\"line\":{\"color\":\"white\"}},\"header\":{\"fill\":{\"color\":\"#C8D4E3\"},\"line\":{\"color\":\"white\"}},\"type\":\"table\"}]},\"layout\":{\"annotationdefaults\":{\"arrowcolor\":\"#2a3f5f\",\"arrowhead\":0,\"arrowwidth\":1},\"autotypenumbers\":\"strict\",\"coloraxis\":{\"colorbar\":{\"outlinewidth\":0,\"ticks\":\"\"}},\"colorscale\":{\"diverging\":[[0,\"#8e0152\"],[0.1,\"#c51b7d\"],[0.2,\"#de77ae\"],[0.3,\"#f1b6da\"],[0.4,\"#fde0ef\"],[0.5,\"#f7f7f7\"],[0.6,\"#e6f5d0\"],[0.7,\"#b8e186\"],[0.8,\"#7fbc41\"],[0.9,\"#4d9221\"],[1,\"#276419\"]],\"sequential\":[[0.0,\"#0d0887\"],[0.1111111111111111,\"#46039f\"],[0.2222222222222222,\"#7201a8\"],[0.3333333333333333,\"#9c179e\"],[0.4444444444444444,\"#bd3786\"],[0.5555555555555556,\"#d8576b\"],[0.6666666666666666,\"#ed7953\"],[0.7777777777777778,\"#fb9f3a\"],[0.8888888888888888,\"#fdca26\"],[1.0,\"#f0f921\"]],\"sequentialminus\":[[0.0,\"#0d0887\"],[0.1111111111111111,\"#46039f\"],[0.2222222222222222,\"#7201a8\"],[0.3333333333333333,\"#9c179e\"],[0.4444444444444444,\"#bd3786\"],[0.5555555555555556,\"#d8576b\"],[0.6666666666666666,\"#ed7953\"],[0.7777777777777778,\"#fb9f3a\"],[0.8888888888888888,\"#fdca26\"],[1.0,\"#f0f921\"]]},\"colorway\":[\"#636efa\",\"#EF553B\",\"#00cc96\",\"#ab63fa\",\"#FFA15A\",\"#19d3f3\",\"#FF6692\",\"#B6E880\",\"#FF97FF\",\"#FECB52\"],\"font\":{\"color\":\"#2a3f5f\"},\"geo\":{\"bgcolor\":\"white\",\"lakecolor\":\"white\",\"landcolor\":\"#E5ECF6\",\"showlakes\":true,\"showland\":true,\"subunitcolor\":\"white\"},\"hoverlabel\":{\"align\":\"left\"},\"hovermode\":\"closest\",\"mapbox\":{\"style\":\"light\"},\"paper_bgcolor\":\"white\",\"plot_bgcolor\":\"#E5ECF6\",\"polar\":{\"angularaxis\":{\"gridcolor\":\"white\",\"linecolor\":\"white\",\"ticks\":\"\"},\"bgcolor\":\"#E5ECF6\",\"radialaxis\":{\"gridcolor\":\"white\",\"linecolor\":\"white\",\"ticks\":\"\"}},\"scene\":{\"xaxis\":{\"backgroundcolor\":\"#E5ECF6\",\"gridcolor\":\"white\",\"gridwidth\":2,\"linecolor\":\"white\",\"showbackground\":true,\"ticks\":\"\",\"zerolinecolor\":\"white\"},\"yaxis\":{\"backgroundcolor\":\"#E5ECF6\",\"gridcolor\":\"white\",\"gridwidth\":2,\"linecolor\":\"white\",\"showbackground\":true,\"ticks\":\"\",\"zerolinecolor\":\"white\"},\"zaxis\":{\"backgroundcolor\":\"#E5ECF6\",\"gridcolor\":\"white\",\"gridwidth\":2,\"linecolor\":\"white\",\"showbackground\":true,\"ticks\":\"\",\"zerolinecolor\":\"white\"}},\"shapedefaults\":{\"line\":{\"color\":\"#2a3f5f\"}},\"ternary\":{\"aaxis\":{\"gridcolor\":\"white\",\"linecolor\":\"white\",\"ticks\":\"\"},\"baxis\":{\"gridcolor\":\"white\",\"linecolor\":\"white\",\"ticks\":\"\"},\"bgcolor\":\"#E5ECF6\",\"caxis\":{\"gridcolor\":\"white\",\"linecolor\":\"white\",\"ticks\":\"\"}},\"title\":{\"x\":0.05},\"xaxis\":{\"automargin\":true,\"gridcolor\":\"white\",\"linecolor\":\"white\",\"ticks\":\"\",\"title\":{\"standoff\":15},\"zerolinecolor\":\"white\",\"zerolinewidth\":2},\"yaxis\":{\"automargin\":true,\"gridcolor\":\"white\",\"linecolor\":\"white\",\"ticks\":\"\",\"title\":{\"standoff\":15},\"zerolinecolor\":\"white\",\"zerolinewidth\":2}}},\"xaxis\":{\"anchor\":\"y\",\"domain\":[0.0,0.94],\"title\":{\"text\":\"Trimestres\"}},\"yaxis\":{\"anchor\":\"x\",\"domain\":[0.0,1.0],\"title\":{\"text\":\"M\\u00e9dias da VL_PATRIM_LIQ\"}},\"yaxis2\":{\"anchor\":\"x\",\"overlaying\":\"y\",\"side\":\"right\",\"title\":{\"text\":\"M\\u00e9dias do CAPTC_DIA\"}},\"title\":{\"text\":\"Time series das vari\\u00e1veis VL_PATRIM_LIQ e CAPTC_DIA entre 2000 e 2023\",\"x\":0.5}},                        {\"responsive\": true}                    ).then(function(){\n",
              "                            \n",
              "var gd = document.getElementById('71aae634-7df6-4067-8c4b-def679fbcea2');\n",
              "var x = new MutationObserver(function (mutations, observer) {{\n",
              "        var display = window.getComputedStyle(gd).display;\n",
              "        if (!display || display === 'none') {{\n",
              "            console.log([gd, 'removed!']);\n",
              "            Plotly.purge(gd);\n",
              "            observer.disconnect();\n",
              "        }}\n",
              "}});\n",
              "\n",
              "// Listen for the removal of the full notebook cells\n",
              "var notebookContainer = gd.closest('#notebook-container');\n",
              "if (notebookContainer) {{\n",
              "    x.observe(notebookContainer, {childList: true});\n",
              "}}\n",
              "\n",
              "// Listen for the clearing of the current output cell\n",
              "var outputEl = gd.closest('.output');\n",
              "if (outputEl) {{\n",
              "    x.observe(outputEl, {childList: true});\n",
              "}}\n",
              "\n",
              "                        })                };                            </script>        </div>\n",
              "</body>\n",
              "</html>"
            ]
          },
          "metadata": {}
        }
      ]
    },
    {
      "cell_type": "markdown",
      "source": [
        "## `VL_PATRIM_LIQ` e `RESG_DIA`"
      ],
      "metadata": {
        "id": "fMLhXZdBEEAE"
      }
    },
    {
      "cell_type": "code",
      "source": [
        "fig = make_subplots(specs= [[{'secondary_y': True}]])\n",
        "\n",
        "fig.add_trace(\n",
        "    go.Scatter(x= avg_patrim_per_quarter['QUARTER_OF_YEAR'], y= avg_patrim_per_quarter['avg(VL_PATRIM_LIQ)'], name= 'VL_PATRIM_LIQ'), secondary_y= False\n",
        ")\n",
        "fig.add_trace(\n",
        "    go.Scatter(x= avg_resg_per_quarter['QUARTER_OF_YEAR'], y= avg_resg_per_quarter['avg(RESG_DIA)'], name= 'RESG_DIA', \n",
        "               line= dict(dash= 'dot')), secondary_y= True\n",
        ")\n",
        "fig.update_layout(title_text= 'Time series das variáveis VL_PATRIM_LIQ e RESG_DIA entre 2000 e 2023', title= {'x': 0.5})\n",
        "fig.update_xaxes(title= 'Trimestres')\n",
        "fig.update_yaxes(title= 'Médias da VL_PATRIM_LIQ', secondary_y= False)\n",
        "fig.update_yaxes(title= 'Médias do RESG_DIA', secondary_y= True)\n",
        "fig.show()"
      ],
      "metadata": {
        "colab": {
          "base_uri": "https://localhost:8080/",
          "height": 542
        },
        "id": "CiaMlUDxDnYi",
        "outputId": "e7d75363-c62f-4d73-9f27-007eaf479f3a"
      },
      "execution_count": 67,
      "outputs": [
        {
          "output_type": "display_data",
          "data": {
            "text/html": [
              "<html>\n",
              "<head><meta charset=\"utf-8\" /></head>\n",
              "<body>\n",
              "    <div>            <script src=\"https://cdnjs.cloudflare.com/ajax/libs/mathjax/2.7.5/MathJax.js?config=TeX-AMS-MML_SVG\"></script><script type=\"text/javascript\">if (window.MathJax) {MathJax.Hub.Config({SVG: {font: \"STIX-Web\"}});}</script>                <script type=\"text/javascript\">window.PlotlyConfig = {MathJaxConfig: 'local'};</script>\n",
              "        <script src=\"https://cdn.plot.ly/plotly-2.8.3.min.js\"></script>                <div id=\"6d8a0eb5-eb6c-4fe2-a66a-7bcf23353cbc\" class=\"plotly-graph-div\" style=\"height:525px; width:100%;\"></div>            <script type=\"text/javascript\">                                    window.PLOTLYENV=window.PLOTLYENV || {};                                    if (document.getElementById(\"6d8a0eb5-eb6c-4fe2-a66a-7bcf23353cbc\")) {                    Plotly.newPlot(                        \"6d8a0eb5-eb6c-4fe2-a66a-7bcf23353cbc\",                        [{\"name\":\"VL_PATRIM_LIQ\",\"x\":[\"2001Q1\",\"2002Q1\",\"2002Q2\",\"2002Q3\",\"2002Q4\",\"2003Q1\",\"2003Q2\",\"2003Q3\",\"2003Q4\",\"2004Q1\",\"2004Q2\",\"2004Q3\",\"2004Q4\",\"2005Q1\",\"2005Q2\",\"2005Q3\",\"2005Q4\",\"2006Q1\",\"2006Q2\",\"2006Q3\",\"2006Q4\",\"2007Q1\",\"2007Q2\",\"2007Q3\",\"2007Q4\",\"2008Q1\",\"2008Q2\",\"2008Q3\",\"2008Q4\",\"2009Q1\",\"2009Q2\",\"2009Q3\",\"2009Q4\",\"2010Q1\",\"2010Q2\",\"2010Q3\",\"2010Q4\",\"2011Q1\",\"2011Q2\",\"2011Q3\",\"2011Q4\",\"2012Q1\",\"2012Q2\",\"2012Q3\",\"2012Q4\",\"2013Q1\",\"2013Q2\",\"2013Q3\",\"2013Q4\",\"2014Q1\",\"2014Q2\",\"2014Q3\",\"2014Q4\",\"2015Q1\",\"2015Q2\",\"2015Q3\",\"2015Q4\",\"2016Q1\",\"2016Q2\",\"2016Q3\",\"2016Q4\",\"2017Q1\",\"2017Q2\",\"2017Q3\",\"2017Q4\",\"2018Q1\",\"2018Q2\",\"2018Q3\",\"2018Q4\",\"2019Q1\",\"2019Q2\",\"2019Q3\",\"2019Q4\",\"2020Q1\",\"2020Q2\",\"2020Q3\",\"2020Q4\",\"2021Q1\",\"2021Q2\",\"2021Q3\",\"2021Q4\",\"2022Q1\",\"2022Q2\",\"2022Q3\",\"2022Q4\",\"2023Q1\"],\"y\":[4918122.13,6739520.627021277,87761170.8506944,20223341.798055552,13109070.922857145,7706107.731639344,32429673.44086957,328697185.19343424,15689669.316956526,41893654.17011263,93534953.1319491,95690814.56082097,97084252.20679963,102071541.44766183,105581809.7567495,110766381.267658,116634300.95704424,122907153.80859163,128096686.29470764,131876222.43503399,132035402.91789939,136131188.55343583,133996714.8823532,130678510.66026019,128007898.68296361,124662738.48220672,119893584.35276927,114458696.5242532,106601684.15489264,112222948.58887322,115766796.87629664,121778310.02278161,124777514.98646045,124633646.69317925,124740934.25422539,125712754.02666202,127249863.19899824,129679852.11341664,128199093.6734898,126965322.51814269,128361599.47223237,131473678.69645694,130903439.4434541,133100222.80769579,133954939.32413194,136649962.38170114,137398655.0009424,135965474.82614872,133758719.47485156,132046671.9616348,132777054.45538905,133682557.09373707,132360294.90996951,133578209.59526092,135639616.3400324,136699539.4400559,137172314.99026144,138193674.74705198,142793309.2364038,145845976.52804548,147202289.35534978,153748113.45647788,157849446.90092957,162216507.04909074,166015542.871187,172647297.9231998,173795556.0242374,174470581.87907138,176265609.17483833,178497008.58735391,179855347.5620433,184781554.57054788,185166941.40751934,183802924.74044296,180152220.80348697,187537262.14818758,187977796.36770913,189257780.14402938,188317518.74990195,184955215.29434574,176124685.17177045,171044041.7764055,167866788.70731646,165975438.60050586,167975314.34024674,165986420.21640506],\"type\":\"scatter\",\"xaxis\":\"x\",\"yaxis\":\"y\"},{\"line\":{\"dash\":\"dot\"},\"name\":\"RESG_DIA\",\"x\":[\"2001Q1\",\"2002Q1\",\"2002Q2\",\"2002Q3\",\"2002Q4\",\"2003Q1\",\"2003Q2\",\"2003Q3\",\"2003Q4\",\"2004Q1\",\"2004Q2\",\"2004Q3\",\"2004Q4\",\"2005Q1\",\"2005Q2\",\"2005Q3\",\"2005Q4\",\"2006Q1\",\"2006Q2\",\"2006Q3\",\"2006Q4\",\"2007Q1\",\"2007Q2\",\"2007Q3\",\"2007Q4\",\"2008Q1\",\"2008Q2\",\"2008Q3\",\"2008Q4\",\"2009Q1\",\"2009Q2\",\"2009Q3\",\"2009Q4\",\"2010Q1\",\"2010Q2\",\"2010Q3\",\"2010Q4\",\"2011Q1\",\"2011Q2\",\"2011Q3\",\"2011Q4\",\"2012Q1\",\"2012Q2\",\"2012Q3\",\"2012Q4\",\"2013Q1\",\"2013Q2\",\"2013Q3\",\"2013Q4\",\"2014Q1\",\"2014Q2\",\"2014Q3\",\"2014Q4\",\"2015Q1\",\"2015Q2\",\"2015Q3\",\"2015Q4\",\"2016Q1\",\"2016Q2\",\"2016Q3\",\"2016Q4\",\"2017Q1\",\"2017Q2\",\"2017Q3\",\"2017Q4\",\"2018Q1\",\"2018Q2\",\"2018Q3\",\"2018Q4\",\"2019Q1\",\"2019Q2\",\"2019Q3\",\"2019Q4\",\"2020Q1\",\"2020Q2\",\"2020Q3\",\"2020Q4\",\"2021Q1\",\"2021Q2\",\"2021Q3\",\"2021Q4\",\"2022Q1\",\"2022Q2\",\"2022Q3\",\"2022Q4\",\"2023Q1\"],\"y\":[3272.39,893.512340425532,771.2615277777778,3548.070277777778,166.57928571428573,49230.75901639344,32849.10173913044,30437.729595959594,11290.536521739132,60362.55881690141,168600.94417970654,148771.0758998274,159412.47547920892,154939.89979203636,157981.38364948845,147637.69519798274,156013.87310691888,147002.00614845057,163331.61554632423,144913.78928021036,176525.05427891898,164998.17583106938,170033.33091936473,171839.92594610582,174967.63853535661,183205.29553641056,190712.79619637041,183836.4292940864,201415.1146689718,143501.5928799689,146752.61184349292,142663.6083619307,148627.5180924282,139167.62536382052,152451.05146769708,142959.05498555675,145246.45592955046,140872.22196032281,150799.01952804503,146963.83063267366,136678.42540402495,128732.80448451718,136765.07802263697,129219.64524226845,133679.13548544698,130323.4391852797,140711.56940257136,142287.39002357566,142992.62013910574,146029.97430127783,138677.5785330826,125544.76087509,130135.0553805325,129813.3872794294,129925.0194195877,128912.14344985856,132347.0405683722,124481.76355719836,131022.54127139597,123066.46034671397,129388.18778800959,114746.08122558596,123831.56854516228,121599.2511772604,130372.35490476892,128337.40392545244,144915.09953768266,139938.77448892238,141686.68012683757,137753.8843911962,140700.81893312576,143872.12499388636,153368.35241680397,168059.02163935587,146938.57688699954,140299.9440359515,146501.34812906123,147942.27101020014,156858.1165538062,161010.29935458404,172370.0656497737,177918.11614358475,165297.74409496397,146433.24359730637,136651.02793672332,134884.64979713512],\"type\":\"scatter\",\"xaxis\":\"x\",\"yaxis\":\"y2\"}],                        {\"template\":{\"data\":{\"bar\":[{\"error_x\":{\"color\":\"#2a3f5f\"},\"error_y\":{\"color\":\"#2a3f5f\"},\"marker\":{\"line\":{\"color\":\"#E5ECF6\",\"width\":0.5},\"pattern\":{\"fillmode\":\"overlay\",\"size\":10,\"solidity\":0.2}},\"type\":\"bar\"}],\"barpolar\":[{\"marker\":{\"line\":{\"color\":\"#E5ECF6\",\"width\":0.5},\"pattern\":{\"fillmode\":\"overlay\",\"size\":10,\"solidity\":0.2}},\"type\":\"barpolar\"}],\"carpet\":[{\"aaxis\":{\"endlinecolor\":\"#2a3f5f\",\"gridcolor\":\"white\",\"linecolor\":\"white\",\"minorgridcolor\":\"white\",\"startlinecolor\":\"#2a3f5f\"},\"baxis\":{\"endlinecolor\":\"#2a3f5f\",\"gridcolor\":\"white\",\"linecolor\":\"white\",\"minorgridcolor\":\"white\",\"startlinecolor\":\"#2a3f5f\"},\"type\":\"carpet\"}],\"choropleth\":[{\"colorbar\":{\"outlinewidth\":0,\"ticks\":\"\"},\"type\":\"choropleth\"}],\"contour\":[{\"colorbar\":{\"outlinewidth\":0,\"ticks\":\"\"},\"colorscale\":[[0.0,\"#0d0887\"],[0.1111111111111111,\"#46039f\"],[0.2222222222222222,\"#7201a8\"],[0.3333333333333333,\"#9c179e\"],[0.4444444444444444,\"#bd3786\"],[0.5555555555555556,\"#d8576b\"],[0.6666666666666666,\"#ed7953\"],[0.7777777777777778,\"#fb9f3a\"],[0.8888888888888888,\"#fdca26\"],[1.0,\"#f0f921\"]],\"type\":\"contour\"}],\"contourcarpet\":[{\"colorbar\":{\"outlinewidth\":0,\"ticks\":\"\"},\"type\":\"contourcarpet\"}],\"heatmap\":[{\"colorbar\":{\"outlinewidth\":0,\"ticks\":\"\"},\"colorscale\":[[0.0,\"#0d0887\"],[0.1111111111111111,\"#46039f\"],[0.2222222222222222,\"#7201a8\"],[0.3333333333333333,\"#9c179e\"],[0.4444444444444444,\"#bd3786\"],[0.5555555555555556,\"#d8576b\"],[0.6666666666666666,\"#ed7953\"],[0.7777777777777778,\"#fb9f3a\"],[0.8888888888888888,\"#fdca26\"],[1.0,\"#f0f921\"]],\"type\":\"heatmap\"}],\"heatmapgl\":[{\"colorbar\":{\"outlinewidth\":0,\"ticks\":\"\"},\"colorscale\":[[0.0,\"#0d0887\"],[0.1111111111111111,\"#46039f\"],[0.2222222222222222,\"#7201a8\"],[0.3333333333333333,\"#9c179e\"],[0.4444444444444444,\"#bd3786\"],[0.5555555555555556,\"#d8576b\"],[0.6666666666666666,\"#ed7953\"],[0.7777777777777778,\"#fb9f3a\"],[0.8888888888888888,\"#fdca26\"],[1.0,\"#f0f921\"]],\"type\":\"heatmapgl\"}],\"histogram\":[{\"marker\":{\"pattern\":{\"fillmode\":\"overlay\",\"size\":10,\"solidity\":0.2}},\"type\":\"histogram\"}],\"histogram2d\":[{\"colorbar\":{\"outlinewidth\":0,\"ticks\":\"\"},\"colorscale\":[[0.0,\"#0d0887\"],[0.1111111111111111,\"#46039f\"],[0.2222222222222222,\"#7201a8\"],[0.3333333333333333,\"#9c179e\"],[0.4444444444444444,\"#bd3786\"],[0.5555555555555556,\"#d8576b\"],[0.6666666666666666,\"#ed7953\"],[0.7777777777777778,\"#fb9f3a\"],[0.8888888888888888,\"#fdca26\"],[1.0,\"#f0f921\"]],\"type\":\"histogram2d\"}],\"histogram2dcontour\":[{\"colorbar\":{\"outlinewidth\":0,\"ticks\":\"\"},\"colorscale\":[[0.0,\"#0d0887\"],[0.1111111111111111,\"#46039f\"],[0.2222222222222222,\"#7201a8\"],[0.3333333333333333,\"#9c179e\"],[0.4444444444444444,\"#bd3786\"],[0.5555555555555556,\"#d8576b\"],[0.6666666666666666,\"#ed7953\"],[0.7777777777777778,\"#fb9f3a\"],[0.8888888888888888,\"#fdca26\"],[1.0,\"#f0f921\"]],\"type\":\"histogram2dcontour\"}],\"mesh3d\":[{\"colorbar\":{\"outlinewidth\":0,\"ticks\":\"\"},\"type\":\"mesh3d\"}],\"parcoords\":[{\"line\":{\"colorbar\":{\"outlinewidth\":0,\"ticks\":\"\"}},\"type\":\"parcoords\"}],\"pie\":[{\"automargin\":true,\"type\":\"pie\"}],\"scatter\":[{\"marker\":{\"colorbar\":{\"outlinewidth\":0,\"ticks\":\"\"}},\"type\":\"scatter\"}],\"scatter3d\":[{\"line\":{\"colorbar\":{\"outlinewidth\":0,\"ticks\":\"\"}},\"marker\":{\"colorbar\":{\"outlinewidth\":0,\"ticks\":\"\"}},\"type\":\"scatter3d\"}],\"scattercarpet\":[{\"marker\":{\"colorbar\":{\"outlinewidth\":0,\"ticks\":\"\"}},\"type\":\"scattercarpet\"}],\"scattergeo\":[{\"marker\":{\"colorbar\":{\"outlinewidth\":0,\"ticks\":\"\"}},\"type\":\"scattergeo\"}],\"scattergl\":[{\"marker\":{\"colorbar\":{\"outlinewidth\":0,\"ticks\":\"\"}},\"type\":\"scattergl\"}],\"scattermapbox\":[{\"marker\":{\"colorbar\":{\"outlinewidth\":0,\"ticks\":\"\"}},\"type\":\"scattermapbox\"}],\"scatterpolar\":[{\"marker\":{\"colorbar\":{\"outlinewidth\":0,\"ticks\":\"\"}},\"type\":\"scatterpolar\"}],\"scatterpolargl\":[{\"marker\":{\"colorbar\":{\"outlinewidth\":0,\"ticks\":\"\"}},\"type\":\"scatterpolargl\"}],\"scatterternary\":[{\"marker\":{\"colorbar\":{\"outlinewidth\":0,\"ticks\":\"\"}},\"type\":\"scatterternary\"}],\"surface\":[{\"colorbar\":{\"outlinewidth\":0,\"ticks\":\"\"},\"colorscale\":[[0.0,\"#0d0887\"],[0.1111111111111111,\"#46039f\"],[0.2222222222222222,\"#7201a8\"],[0.3333333333333333,\"#9c179e\"],[0.4444444444444444,\"#bd3786\"],[0.5555555555555556,\"#d8576b\"],[0.6666666666666666,\"#ed7953\"],[0.7777777777777778,\"#fb9f3a\"],[0.8888888888888888,\"#fdca26\"],[1.0,\"#f0f921\"]],\"type\":\"surface\"}],\"table\":[{\"cells\":{\"fill\":{\"color\":\"#EBF0F8\"},\"line\":{\"color\":\"white\"}},\"header\":{\"fill\":{\"color\":\"#C8D4E3\"},\"line\":{\"color\":\"white\"}},\"type\":\"table\"}]},\"layout\":{\"annotationdefaults\":{\"arrowcolor\":\"#2a3f5f\",\"arrowhead\":0,\"arrowwidth\":1},\"autotypenumbers\":\"strict\",\"coloraxis\":{\"colorbar\":{\"outlinewidth\":0,\"ticks\":\"\"}},\"colorscale\":{\"diverging\":[[0,\"#8e0152\"],[0.1,\"#c51b7d\"],[0.2,\"#de77ae\"],[0.3,\"#f1b6da\"],[0.4,\"#fde0ef\"],[0.5,\"#f7f7f7\"],[0.6,\"#e6f5d0\"],[0.7,\"#b8e186\"],[0.8,\"#7fbc41\"],[0.9,\"#4d9221\"],[1,\"#276419\"]],\"sequential\":[[0.0,\"#0d0887\"],[0.1111111111111111,\"#46039f\"],[0.2222222222222222,\"#7201a8\"],[0.3333333333333333,\"#9c179e\"],[0.4444444444444444,\"#bd3786\"],[0.5555555555555556,\"#d8576b\"],[0.6666666666666666,\"#ed7953\"],[0.7777777777777778,\"#fb9f3a\"],[0.8888888888888888,\"#fdca26\"],[1.0,\"#f0f921\"]],\"sequentialminus\":[[0.0,\"#0d0887\"],[0.1111111111111111,\"#46039f\"],[0.2222222222222222,\"#7201a8\"],[0.3333333333333333,\"#9c179e\"],[0.4444444444444444,\"#bd3786\"],[0.5555555555555556,\"#d8576b\"],[0.6666666666666666,\"#ed7953\"],[0.7777777777777778,\"#fb9f3a\"],[0.8888888888888888,\"#fdca26\"],[1.0,\"#f0f921\"]]},\"colorway\":[\"#636efa\",\"#EF553B\",\"#00cc96\",\"#ab63fa\",\"#FFA15A\",\"#19d3f3\",\"#FF6692\",\"#B6E880\",\"#FF97FF\",\"#FECB52\"],\"font\":{\"color\":\"#2a3f5f\"},\"geo\":{\"bgcolor\":\"white\",\"lakecolor\":\"white\",\"landcolor\":\"#E5ECF6\",\"showlakes\":true,\"showland\":true,\"subunitcolor\":\"white\"},\"hoverlabel\":{\"align\":\"left\"},\"hovermode\":\"closest\",\"mapbox\":{\"style\":\"light\"},\"paper_bgcolor\":\"white\",\"plot_bgcolor\":\"#E5ECF6\",\"polar\":{\"angularaxis\":{\"gridcolor\":\"white\",\"linecolor\":\"white\",\"ticks\":\"\"},\"bgcolor\":\"#E5ECF6\",\"radialaxis\":{\"gridcolor\":\"white\",\"linecolor\":\"white\",\"ticks\":\"\"}},\"scene\":{\"xaxis\":{\"backgroundcolor\":\"#E5ECF6\",\"gridcolor\":\"white\",\"gridwidth\":2,\"linecolor\":\"white\",\"showbackground\":true,\"ticks\":\"\",\"zerolinecolor\":\"white\"},\"yaxis\":{\"backgroundcolor\":\"#E5ECF6\",\"gridcolor\":\"white\",\"gridwidth\":2,\"linecolor\":\"white\",\"showbackground\":true,\"ticks\":\"\",\"zerolinecolor\":\"white\"},\"zaxis\":{\"backgroundcolor\":\"#E5ECF6\",\"gridcolor\":\"white\",\"gridwidth\":2,\"linecolor\":\"white\",\"showbackground\":true,\"ticks\":\"\",\"zerolinecolor\":\"white\"}},\"shapedefaults\":{\"line\":{\"color\":\"#2a3f5f\"}},\"ternary\":{\"aaxis\":{\"gridcolor\":\"white\",\"linecolor\":\"white\",\"ticks\":\"\"},\"baxis\":{\"gridcolor\":\"white\",\"linecolor\":\"white\",\"ticks\":\"\"},\"bgcolor\":\"#E5ECF6\",\"caxis\":{\"gridcolor\":\"white\",\"linecolor\":\"white\",\"ticks\":\"\"}},\"title\":{\"x\":0.05},\"xaxis\":{\"automargin\":true,\"gridcolor\":\"white\",\"linecolor\":\"white\",\"ticks\":\"\",\"title\":{\"standoff\":15},\"zerolinecolor\":\"white\",\"zerolinewidth\":2},\"yaxis\":{\"automargin\":true,\"gridcolor\":\"white\",\"linecolor\":\"white\",\"ticks\":\"\",\"title\":{\"standoff\":15},\"zerolinecolor\":\"white\",\"zerolinewidth\":2}}},\"xaxis\":{\"anchor\":\"y\",\"domain\":[0.0,0.94],\"title\":{\"text\":\"Trimestres\"}},\"yaxis\":{\"anchor\":\"x\",\"domain\":[0.0,1.0],\"title\":{\"text\":\"M\\u00e9dias da VL_PATRIM_LIQ\"}},\"yaxis2\":{\"anchor\":\"x\",\"overlaying\":\"y\",\"side\":\"right\",\"title\":{\"text\":\"M\\u00e9dias do RESG_DIA\"}},\"title\":{\"text\":\"Time series das vari\\u00e1veis VL_PATRIM_LIQ e RESG_DIA entre 2000 e 2023\",\"x\":0.5}},                        {\"responsive\": true}                    ).then(function(){\n",
              "                            \n",
              "var gd = document.getElementById('6d8a0eb5-eb6c-4fe2-a66a-7bcf23353cbc');\n",
              "var x = new MutationObserver(function (mutations, observer) {{\n",
              "        var display = window.getComputedStyle(gd).display;\n",
              "        if (!display || display === 'none') {{\n",
              "            console.log([gd, 'removed!']);\n",
              "            Plotly.purge(gd);\n",
              "            observer.disconnect();\n",
              "        }}\n",
              "}});\n",
              "\n",
              "// Listen for the removal of the full notebook cells\n",
              "var notebookContainer = gd.closest('#notebook-container');\n",
              "if (notebookContainer) {{\n",
              "    x.observe(notebookContainer, {childList: true});\n",
              "}}\n",
              "\n",
              "// Listen for the clearing of the current output cell\n",
              "var outputEl = gd.closest('.output');\n",
              "if (outputEl) {{\n",
              "    x.observe(outputEl, {childList: true});\n",
              "}}\n",
              "\n",
              "                        })                };                            </script>        </div>\n",
              "</body>\n",
              "</html>"
            ]
          },
          "metadata": {}
        }
      ]
    }
  ],
  "metadata": {
    "colab": {
      "provenance": [],
      "mount_file_id": "1IdSiFgThpHTyxhhI2sY9AOMK29aT6fmI",
      "authorship_tag": "ABX9TyPKWGY6pQXv3iJ99yxjHA2z",
      "include_colab_link": true
    },
    "gpuClass": "standard",
    "kernelspec": {
      "display_name": "Python 3",
      "name": "python3"
    },
    "language_info": {
      "name": "python"
    }
  },
  "nbformat": 4,
  "nbformat_minor": 0
}