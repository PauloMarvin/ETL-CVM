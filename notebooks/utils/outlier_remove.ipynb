{
 "cells": [
  {
   "cell_type": "code",
   "execution_count": 1,
   "metadata": {
    "collapsed": true
   },
   "outputs": [],
   "source": [
    "import pandas as pd\n",
    "from pyod.models.ecod import ECOD"
   ]
  },
  {
   "cell_type": "code",
   "execution_count": 2,
   "outputs": [
    {
     "data": {
      "text/plain": "(57626454, 9)"
     },
     "execution_count": 2,
     "metadata": {},
     "output_type": "execute_result"
    }
   ],
   "source": [
    "data_raw = pd.read_csv(r\"C:\\Users\\paulo\\PycharmProjects\\ETL-CVM\\data\\cvm_fi_2000_2022.csv\", index_col=0,\n",
    "                       low_memory=False)\n",
    "data_raw.shape"
   ],
   "metadata": {
    "collapsed": false
   }
  },
  {
   "cell_type": "code",
   "execution_count": 3,
   "outputs": [
    {
     "data": {
      "text/plain": "(56860405, 9)"
     },
     "execution_count": 3,
     "metadata": {},
     "output_type": "execute_result"
    }
   ],
   "source": [
    "data_raw = data_raw.query(\n",
    "    \"VL_TOTAL >= 0 and VL_QUOTA >= 0 and VL_PATRIM_LIQ >= 0 and NR_COTST > 0 and CAPTC_DIA >= 0 and RESG_DIA >= 0\")\n",
    "data_raw.shape"
   ],
   "metadata": {
    "collapsed": false
   }
  },
  {
   "cell_type": "code",
   "execution_count": 4,
   "outputs": [],
   "source": [
    "data_raw_filter = data_raw.copy()"
   ],
   "metadata": {
    "collapsed": false
   }
  },
  {
   "cell_type": "code",
   "execution_count": 5,
   "outputs": [
    {
     "data": {
      "text/plain": "           VL_TOTAL      VL_QUOTA  VL_PATRIM_LIQ     CAPTC_DIA      RESG_DIA  \\\ncount  5.686040e+07  5.686040e+07   5.686040e+07  5.686040e+07  5.686040e+07   \nmean   3.553549e+08  2.088758e+05   3.476160e+08  2.178688e+06  2.124899e+06   \nstd    3.000138e+10  1.486288e+09   2.333124e+09  6.024432e+07  5.837907e+07   \nmin    0.000000e+00  0.000000e+00   0.000000e+00  0.000000e+00  0.000000e+00   \n25%    1.265851e+07  1.277843e+00   1.267111e+07  0.000000e+00  0.000000e+00   \n50%    3.720329e+07  2.702882e+00   3.721313e+07  0.000000e+00  0.000000e+00   \n75%    1.369151e+08  2.515030e+01   1.366828e+08  0.000000e+00  0.000000e+00   \nmax    2.157003e+14  1.120662e+13   3.439999e+12  1.111448e+11  4.597324e+10   \n\n           NR_COTST  \ncount  5.686040e+07  \nmean   1.151052e+03  \nstd    1.663780e+05  \nmin    1.000000e+00  \n25%    1.000000e+00  \n50%    2.000000e+00  \n75%    1.700000e+01  \nmax    1.246559e+09  ",
      "text/html": "<div>\n<style scoped>\n    .dataframe tbody tr th:only-of-type {\n        vertical-align: middle;\n    }\n\n    .dataframe tbody tr th {\n        vertical-align: top;\n    }\n\n    .dataframe thead th {\n        text-align: right;\n    }\n</style>\n<table border=\"1\" class=\"dataframe\">\n  <thead>\n    <tr style=\"text-align: right;\">\n      <th></th>\n      <th>VL_TOTAL</th>\n      <th>VL_QUOTA</th>\n      <th>VL_PATRIM_LIQ</th>\n      <th>CAPTC_DIA</th>\n      <th>RESG_DIA</th>\n      <th>NR_COTST</th>\n    </tr>\n  </thead>\n  <tbody>\n    <tr>\n      <th>count</th>\n      <td>5.686040e+07</td>\n      <td>5.686040e+07</td>\n      <td>5.686040e+07</td>\n      <td>5.686040e+07</td>\n      <td>5.686040e+07</td>\n      <td>5.686040e+07</td>\n    </tr>\n    <tr>\n      <th>mean</th>\n      <td>3.553549e+08</td>\n      <td>2.088758e+05</td>\n      <td>3.476160e+08</td>\n      <td>2.178688e+06</td>\n      <td>2.124899e+06</td>\n      <td>1.151052e+03</td>\n    </tr>\n    <tr>\n      <th>std</th>\n      <td>3.000138e+10</td>\n      <td>1.486288e+09</td>\n      <td>2.333124e+09</td>\n      <td>6.024432e+07</td>\n      <td>5.837907e+07</td>\n      <td>1.663780e+05</td>\n    </tr>\n    <tr>\n      <th>min</th>\n      <td>0.000000e+00</td>\n      <td>0.000000e+00</td>\n      <td>0.000000e+00</td>\n      <td>0.000000e+00</td>\n      <td>0.000000e+00</td>\n      <td>1.000000e+00</td>\n    </tr>\n    <tr>\n      <th>25%</th>\n      <td>1.265851e+07</td>\n      <td>1.277843e+00</td>\n      <td>1.267111e+07</td>\n      <td>0.000000e+00</td>\n      <td>0.000000e+00</td>\n      <td>1.000000e+00</td>\n    </tr>\n    <tr>\n      <th>50%</th>\n      <td>3.720329e+07</td>\n      <td>2.702882e+00</td>\n      <td>3.721313e+07</td>\n      <td>0.000000e+00</td>\n      <td>0.000000e+00</td>\n      <td>2.000000e+00</td>\n    </tr>\n    <tr>\n      <th>75%</th>\n      <td>1.369151e+08</td>\n      <td>2.515030e+01</td>\n      <td>1.366828e+08</td>\n      <td>0.000000e+00</td>\n      <td>0.000000e+00</td>\n      <td>1.700000e+01</td>\n    </tr>\n    <tr>\n      <th>max</th>\n      <td>2.157003e+14</td>\n      <td>1.120662e+13</td>\n      <td>3.439999e+12</td>\n      <td>1.111448e+11</td>\n      <td>4.597324e+10</td>\n      <td>1.246559e+09</td>\n    </tr>\n  </tbody>\n</table>\n</div>"
     },
     "execution_count": 5,
     "metadata": {},
     "output_type": "execute_result"
    }
   ],
   "source": [
    "data_raw_filter.describe()"
   ],
   "metadata": {
    "collapsed": false
   }
  },
  {
   "cell_type": "code",
   "execution_count": 6,
   "outputs": [],
   "source": [
    "data_train_base = data_raw.drop(columns=[\"TP_FUNDO\", \"CNPJ_FUNDO\", \"DT_COMPTC\"]).dropna()"
   ],
   "metadata": {
    "collapsed": false
   }
  },
  {
   "cell_type": "code",
   "execution_count": 7,
   "outputs": [
    {
     "data": {
      "text/plain": "(56860405, 6)"
     },
     "execution_count": 7,
     "metadata": {},
     "output_type": "execute_result"
    }
   ],
   "source": [
    "data_train_base.shape"
   ],
   "metadata": {
    "collapsed": false
   }
  },
  {
   "cell_type": "code",
   "execution_count": 8,
   "outputs": [],
   "source": [
    "classifiers = {\n",
    "    \"ECOD_0.5%\": ECOD(contamination=0.005),\n",
    "}"
   ],
   "metadata": {
    "collapsed": false
   }
  },
  {
   "cell_type": "code",
   "execution_count": 9,
   "outputs": [
    {
     "name": "stdout",
     "output_type": "stream",
     "text": [
      "Initial data shape (56860405, 6)\n",
      "Removing outliers from: VL_TOTAL\n",
      "removed 284302 rows\n",
      "Data shape after VL_TOTAL (56576103, 6)\n",
      "Removing outliers from: VL_QUOTA\n",
      "removed 282881 rows\n",
      "Data shape after VL_QUOTA (56293222, 6)\n",
      "Removing outliers from: VL_PATRIM_LIQ\n",
      "removed 281467 rows\n",
      "Data shape after VL_PATRIM_LIQ (56011755, 6)\n",
      "Removing outliers from: CAPTC_DIA\n",
      "removed 280059 rows\n",
      "Data shape after CAPTC_DIA (55731696, 6)\n",
      "Removing outliers from: RESG_DIA\n",
      "removed 278659 rows\n",
      "Data shape after RESG_DIA (55453037, 6)\n",
      "Removing outliers from: NR_COTST\n",
      "removed 277255 rows\n",
      "Data shape after NR_COTST (55175782, 6)\n"
     ]
    }
   ],
   "source": [
    "for clf_name, clf in classifiers.items():\n",
    "    data_train = data_train_base.copy()\n",
    "    print(f\"Initial data shape {data_train.shape}\")\n",
    "    for column in data_train.columns:\n",
    "        print(f\"Removing outliers from: {column}\")\n",
    "        x_train = data_train[column].values.reshape(-1, 1)\n",
    "        clf.fit(x_train)\n",
    "        y_pred = clf.labels_\n",
    "        data_raw_filter.drop(data_train[y_pred == 1].index, inplace=True)\n",
    "        data_train.drop(data_train[y_pred == 1].index, inplace=True)\n",
    "        print(f\"removed {y_pred.sum()} rows\")\n",
    "        print(f\"Data shape after {column} {data_train.shape}\")\n"
   ],
   "metadata": {
    "collapsed": false
   }
  },
  {
   "cell_type": "code",
   "execution_count": 10,
   "outputs": [
    {
     "data": {
      "text/plain": "(56860405, 9)"
     },
     "execution_count": 10,
     "metadata": {},
     "output_type": "execute_result"
    }
   ],
   "source": [
    "data_raw.shape"
   ],
   "metadata": {
    "collapsed": false
   }
  },
  {
   "cell_type": "code",
   "execution_count": 11,
   "outputs": [
    {
     "data": {
      "text/plain": "(55175782, 9)"
     },
     "execution_count": 11,
     "metadata": {},
     "output_type": "execute_result"
    }
   ],
   "source": [
    "data_raw_filter.shape"
   ],
   "metadata": {
    "collapsed": false
   }
  },
  {
   "cell_type": "code",
   "execution_count": 12,
   "outputs": [
    {
     "data": {
      "text/plain": "           VL_TOTAL      VL_QUOTA  VL_PATRIM_LIQ     CAPTC_DIA      RESG_DIA  \\\ncount  5.686040e+07  5.686040e+07   5.686040e+07  5.686040e+07  5.686040e+07   \nmean   3.553549e+08  2.088758e+05   3.476160e+08  2.178688e+06  2.124899e+06   \nstd    3.000138e+10  1.486288e+09   2.333124e+09  6.024432e+07  5.837907e+07   \nmin    0.000000e+00  0.000000e+00   0.000000e+00  0.000000e+00  0.000000e+00   \n25%    1.265851e+07  1.277843e+00   1.267111e+07  0.000000e+00  0.000000e+00   \n50%    3.720329e+07  2.702882e+00   3.721313e+07  0.000000e+00  0.000000e+00   \n75%    1.369151e+08  2.515030e+01   1.366828e+08  0.000000e+00  0.000000e+00   \nmax    2.157003e+14  1.120662e+13   3.439999e+12  1.111448e+11  4.597324e+10   \n\n           NR_COTST  \ncount  5.686040e+07  \nmean   1.151052e+03  \nstd    1.663780e+05  \nmin    1.000000e+00  \n25%    1.000000e+00  \n50%    2.000000e+00  \n75%    1.700000e+01  \nmax    1.246559e+09  ",
      "text/html": "<div>\n<style scoped>\n    .dataframe tbody tr th:only-of-type {\n        vertical-align: middle;\n    }\n\n    .dataframe tbody tr th {\n        vertical-align: top;\n    }\n\n    .dataframe thead th {\n        text-align: right;\n    }\n</style>\n<table border=\"1\" class=\"dataframe\">\n  <thead>\n    <tr style=\"text-align: right;\">\n      <th></th>\n      <th>VL_TOTAL</th>\n      <th>VL_QUOTA</th>\n      <th>VL_PATRIM_LIQ</th>\n      <th>CAPTC_DIA</th>\n      <th>RESG_DIA</th>\n      <th>NR_COTST</th>\n    </tr>\n  </thead>\n  <tbody>\n    <tr>\n      <th>count</th>\n      <td>5.686040e+07</td>\n      <td>5.686040e+07</td>\n      <td>5.686040e+07</td>\n      <td>5.686040e+07</td>\n      <td>5.686040e+07</td>\n      <td>5.686040e+07</td>\n    </tr>\n    <tr>\n      <th>mean</th>\n      <td>3.553549e+08</td>\n      <td>2.088758e+05</td>\n      <td>3.476160e+08</td>\n      <td>2.178688e+06</td>\n      <td>2.124899e+06</td>\n      <td>1.151052e+03</td>\n    </tr>\n    <tr>\n      <th>std</th>\n      <td>3.000138e+10</td>\n      <td>1.486288e+09</td>\n      <td>2.333124e+09</td>\n      <td>6.024432e+07</td>\n      <td>5.837907e+07</td>\n      <td>1.663780e+05</td>\n    </tr>\n    <tr>\n      <th>min</th>\n      <td>0.000000e+00</td>\n      <td>0.000000e+00</td>\n      <td>0.000000e+00</td>\n      <td>0.000000e+00</td>\n      <td>0.000000e+00</td>\n      <td>1.000000e+00</td>\n    </tr>\n    <tr>\n      <th>25%</th>\n      <td>1.265851e+07</td>\n      <td>1.277843e+00</td>\n      <td>1.267111e+07</td>\n      <td>0.000000e+00</td>\n      <td>0.000000e+00</td>\n      <td>1.000000e+00</td>\n    </tr>\n    <tr>\n      <th>50%</th>\n      <td>3.720329e+07</td>\n      <td>2.702882e+00</td>\n      <td>3.721313e+07</td>\n      <td>0.000000e+00</td>\n      <td>0.000000e+00</td>\n      <td>2.000000e+00</td>\n    </tr>\n    <tr>\n      <th>75%</th>\n      <td>1.369151e+08</td>\n      <td>2.515030e+01</td>\n      <td>1.366828e+08</td>\n      <td>0.000000e+00</td>\n      <td>0.000000e+00</td>\n      <td>1.700000e+01</td>\n    </tr>\n    <tr>\n      <th>max</th>\n      <td>2.157003e+14</td>\n      <td>1.120662e+13</td>\n      <td>3.439999e+12</td>\n      <td>1.111448e+11</td>\n      <td>4.597324e+10</td>\n      <td>1.246559e+09</td>\n    </tr>\n  </tbody>\n</table>\n</div>"
     },
     "execution_count": 12,
     "metadata": {},
     "output_type": "execute_result"
    }
   ],
   "source": [
    "data_raw.describe()"
   ],
   "metadata": {
    "collapsed": false
   }
  },
  {
   "cell_type": "code",
   "execution_count": 13,
   "outputs": [
    {
     "data": {
      "text/plain": "           VL_TOTAL      VL_QUOTA  VL_PATRIM_LIQ     CAPTC_DIA      RESG_DIA  \\\ncount  5.517578e+07  5.517578e+07   5.517578e+07  5.517578e+07  5.517578e+07   \nmean   1.895581e+08  6.985081e+03   1.891017e+08  3.588669e+05  2.928558e+05   \nstd    5.342637e+08  1.100524e+06   5.324119e+08  2.208511e+06  1.607225e+06   \nmin    5.383012e+04  3.639899e-01   4.200000e-01  0.000000e+00  0.000000e+00   \n25%    1.256201e+07  1.279173e+00   1.257093e+07  0.000000e+00  0.000000e+00   \n50%    3.587136e+07  2.684378e+00   3.587692e+07  0.000000e+00  0.000000e+00   \n75%    1.252478e+08  2.606957e+01   1.250441e+08  0.000000e+00  0.000000e+00   \nmax    1.637710e+10  6.377437e+09   7.252777e+09  4.292778e+07  2.506324e+07   \n\n           NR_COTST  \ncount  5.517578e+07  \nmean   3.259201e+02  \nstd    1.751831e+03  \nmin    1.000000e+00  \n25%    1.000000e+00  \n50%    2.000000e+00  \n75%    1.400000e+01  \nmax    2.608400e+04  ",
      "text/html": "<div>\n<style scoped>\n    .dataframe tbody tr th:only-of-type {\n        vertical-align: middle;\n    }\n\n    .dataframe tbody tr th {\n        vertical-align: top;\n    }\n\n    .dataframe thead th {\n        text-align: right;\n    }\n</style>\n<table border=\"1\" class=\"dataframe\">\n  <thead>\n    <tr style=\"text-align: right;\">\n      <th></th>\n      <th>VL_TOTAL</th>\n      <th>VL_QUOTA</th>\n      <th>VL_PATRIM_LIQ</th>\n      <th>CAPTC_DIA</th>\n      <th>RESG_DIA</th>\n      <th>NR_COTST</th>\n    </tr>\n  </thead>\n  <tbody>\n    <tr>\n      <th>count</th>\n      <td>5.517578e+07</td>\n      <td>5.517578e+07</td>\n      <td>5.517578e+07</td>\n      <td>5.517578e+07</td>\n      <td>5.517578e+07</td>\n      <td>5.517578e+07</td>\n    </tr>\n    <tr>\n      <th>mean</th>\n      <td>1.895581e+08</td>\n      <td>6.985081e+03</td>\n      <td>1.891017e+08</td>\n      <td>3.588669e+05</td>\n      <td>2.928558e+05</td>\n      <td>3.259201e+02</td>\n    </tr>\n    <tr>\n      <th>std</th>\n      <td>5.342637e+08</td>\n      <td>1.100524e+06</td>\n      <td>5.324119e+08</td>\n      <td>2.208511e+06</td>\n      <td>1.607225e+06</td>\n      <td>1.751831e+03</td>\n    </tr>\n    <tr>\n      <th>min</th>\n      <td>5.383012e+04</td>\n      <td>3.639899e-01</td>\n      <td>4.200000e-01</td>\n      <td>0.000000e+00</td>\n      <td>0.000000e+00</td>\n      <td>1.000000e+00</td>\n    </tr>\n    <tr>\n      <th>25%</th>\n      <td>1.256201e+07</td>\n      <td>1.279173e+00</td>\n      <td>1.257093e+07</td>\n      <td>0.000000e+00</td>\n      <td>0.000000e+00</td>\n      <td>1.000000e+00</td>\n    </tr>\n    <tr>\n      <th>50%</th>\n      <td>3.587136e+07</td>\n      <td>2.684378e+00</td>\n      <td>3.587692e+07</td>\n      <td>0.000000e+00</td>\n      <td>0.000000e+00</td>\n      <td>2.000000e+00</td>\n    </tr>\n    <tr>\n      <th>75%</th>\n      <td>1.252478e+08</td>\n      <td>2.606957e+01</td>\n      <td>1.250441e+08</td>\n      <td>0.000000e+00</td>\n      <td>0.000000e+00</td>\n      <td>1.400000e+01</td>\n    </tr>\n    <tr>\n      <th>max</th>\n      <td>1.637710e+10</td>\n      <td>6.377437e+09</td>\n      <td>7.252777e+09</td>\n      <td>4.292778e+07</td>\n      <td>2.506324e+07</td>\n      <td>2.608400e+04</td>\n    </tr>\n  </tbody>\n</table>\n</div>"
     },
     "execution_count": 13,
     "metadata": {},
     "output_type": "execute_result"
    }
   ],
   "source": [
    "data_raw_filter.describe()"
   ],
   "metadata": {
    "collapsed": false
   }
  },
  {
   "cell_type": "code",
   "execution_count": 15,
   "outputs": [],
   "source": [
    "path_to_save = fr\"C:\\Users\\paulo\\PycharmProjects\\ETL-CVM\\data\\cvm_fi_2000_2022_(ECOD_0.5%)_without_outliers_all_columns.parquet\"\n",
    "\n",
    "data_raw_filter.to_parquet(path_to_save)"
   ],
   "metadata": {
    "collapsed": false
   }
  },
  {
   "cell_type": "code",
   "execution_count": 14,
   "outputs": [],
   "source": [],
   "metadata": {
    "collapsed": false
   }
  }
 ],
 "metadata": {
  "kernelspec": {
   "display_name": "Python 3",
   "language": "python",
   "name": "python3"
  },
  "language_info": {
   "codemirror_mode": {
    "name": "ipython",
    "version": 2
   },
   "file_extension": ".py",
   "mimetype": "text/x-python",
   "name": "python",
   "nbconvert_exporter": "python",
   "pygments_lexer": "ipython2",
   "version": "2.7.6"
  }
 },
 "nbformat": 4,
 "nbformat_minor": 0
}
